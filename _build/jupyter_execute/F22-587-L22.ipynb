{
 "cells": [
  {
   "cell_type": "markdown",
   "metadata": {},
   "source": [
    "# Lecture 22\n",
    "\n",
    "This lecture introduces reactor design for systems involving multiple reactions."
   ]
  },
  {
   "cell_type": "code",
   "execution_count": 1,
   "metadata": {
    "executionInfo": {
     "elapsed": 126,
     "status": "ok",
     "timestamp": 1633700692097,
     "user": {
      "displayName": "Bowei Liu",
      "photoUrl": "https://lh3.googleusercontent.com/a/default-user=s64",
      "userId": "09481582047933696573"
     },
     "user_tz": 240
    },
    "id": "h9UTaC1vBEif"
   },
   "outputs": [],
   "source": [
    "import numpy as np\n",
    "import matplotlib.pyplot as plt\n",
    "import scipy.optimize as opt\n",
    "from scipy.integrate import solve_ivp\n",
    "from scipy.interpolate import interp1d"
   ]
  },
  {
   "cell_type": "markdown",
   "metadata": {},
   "source": [
    "## Example Problem 01\n",
    "\n",
    "**Rawlings, Example 4.5**:\n",
    "\n",
    "You are carrying out Benzene Pyrolysis in a Plug Flow Reactor operating at 1033K and 1.0 atm.  The two reactions occurring in this system are benzene coupling to form diphenyl and hydrogen followed by a secondary reaction between benzene and diphenyl to form triphenyl and hydrogen:\n",
    "\n",
    "\\begin{align*}\n",
    "&2B \\longleftrightarrow D + H_2\\\\\n",
    "&B + D \\longleftrightarrow T + H_2\n",
    "\\end{align*}\n",
    "\n",
    "Both reactions are reversible and ***follow elementary rate laws***.  Rate constants and equilibrium concentration ratios ($K_C$) are given below.\n",
    "\n",
    "\\begin{align*}\n",
    "&k_1 = 7.0 \\ \\times 10^5 \\ \\textrm{L} \\ \\textrm{mol}^{-1} \\ \\textrm{h}^{-1}\\\\\n",
    "&k_2 = 4.0 \\ \\times 10^5 \\ \\textrm{L} \\ \\textrm{mol}^{-1} \\ \\textrm{h}^{-1}\\\\\n",
    "&K_{C_1} = 0.31\\\\\n",
    "&K_{C_2} = 0.48\n",
    "\\end{align*}\n",
    "\n",
    "If pure benzene is fed into the reactor at 60,000 moles per hour, find the PFR volume required to achieve 50\\% conversion of Benzene.  Also, plot the mole fraction of each species as a function of PFR volume.\n",
    "\n",
    "**Answer**: 403.3 L"
   ]
  },
  {
   "cell_type": "markdown",
   "metadata": {},
   "source": [
    "### Solution to Example Problem 01\n",
    "\n",
    "Even though there are multiple reactions, we approach this problem the same way as usual: we write a material balance on Benzene.\n",
    "\n",
    "$$\\frac{dF_B}{dV} = R_B$$\n",
    "\n",
    "We generally know that $R_B$ is going to be a complex function of concentrations of all of the species present in this system.  That means we can't solve the above balance on Benzene without also solving balances on Diphenyl, Hydrogen, and Triphenyl *at the same time*, i.e., we have to solve the coupled system of differential equations below:\n",
    "\n",
    "\\begin{align}\n",
    "    \\frac{dF_B}{dV} &= R_B \\\\\n",
    "    \\frac{dF_D}{dV} &= R_D \\\\\n",
    "    \\frac{dF_H}{dV} &= R_H \\\\\n",
    "    \\frac{dF_T}{dV} &= R_T \\\\\n",
    "\\end{align}\n",
    "\n",
    "So, we've got 4 differential equations that tell us how 4 dependent variables ($F_B$, $F_D$, $F_H$, $F_T$) change as a function of the one independent variable, V.  We can solve this system *if* we can define everything on the right hand sides of the above equations ($R_B$, $R_D$, $R_H$, and $R_T$) in terms of $F_B$, $F_D$, $F_H$, $F_T$, and/or $V$.\n",
    "\n",
    "We know how to do this!!\n",
    "\n",
    "Generally:\n",
    "\n",
    "$$R_j = \\sum_i \\nu_{i,j} r_i$$\n",
    "\n",
    "So:\n",
    "\n",
    "\\begin{align}\n",
    "    R_B &= -2r1 - r2 \\\\\n",
    "    R_D &=  r1 - r2 \\\\\n",
    "    R_H &=  r2 + r2 \\\\\n",
    "    R_T &=  r2 \\\\\n",
    "\\end{align}\n",
    "\n",
    "We next define reaction rates:\n",
    "\n",
    "\\begin{align}\n",
    "    r_1 &= k_{1,f}C_B^2 - k_{1,r}C_HC_D \\\\\n",
    "    r_2 &= k_{2,f}C_BC_D - k_{2,r}C_HC_T \\\\\n",
    "\\end{align}\n",
    "\n",
    "We define concentrations in terms of molar flowrates:\n",
    "\n",
    "$$F_j = \\frac{F_j}{Q}$$\n",
    "\n",
    "Which throws a volumetric flowrate, Q, into the mix.  Fortunately, this is a gas phase reaction at low pressure, so we know we can define Q in terms of the total molar flowrate:\n",
    "\n",
    "$$Q = \\frac{F_{tot}RT}{P}$$\n",
    "\n",
    "Where\n",
    "\n",
    "$$F_{tot} = \\sum_j F_j$$\n",
    "\n",
    "With that, we've defined out system of ODES fully as a function of molar flowrates and reactor volume.  We can solve this numerically using solve_ivp.  See below\n"
   ]
  },
  {
   "cell_type": "code",
   "execution_count": 2,
   "metadata": {},
   "outputs": [],
   "source": [
    "def MR01(vol, var):\n",
    "    \n",
    "    #Dependent variables are all in var\n",
    "    FB = var[0]\n",
    "    FD = var[1]\n",
    "    FH = var[2]\n",
    "    FT = var[3]\n",
    "    \n",
    "    #Constants from problem statement\n",
    "    T   = 1033    #K\n",
    "    P   = 1.0     #atm\n",
    "    R   = 0.08206 #L*atm/mol/K\n",
    "    k1f = 7.0e5   #L/mol/h\n",
    "    k2f = 4.0e5   #L/mol/h\n",
    "    KC1 = 0.31\n",
    "    KC2 = 0.48\n",
    "    k1r = k1f/KC1 #L/mol/h\n",
    "    k2r = k2f/KC2 #L/mol/h=\n",
    "    \n",
    "    #total molar flowrate, function of individual molar flowrates\n",
    "    FTOT = FB + FD + FH + FT\n",
    "    \n",
    "    #volumetric flowrate\n",
    "    Q    = FTOT*R*T/P\n",
    "    \n",
    "    #Define concentrations\n",
    "    CB   = FB/Q\n",
    "    CD   = FD/Q\n",
    "    CH   = FH/Q\n",
    "    CT   = FT/Q\n",
    "    \n",
    "    #now that we have concentrations, we define reaction rates\n",
    "    r1   = k1f*CB**2 - k1r*CD*CH\n",
    "    r2   = k2f*CB*CD - k2r*CT*CH\n",
    "    \n",
    "    #With reaction rates, you can define production rates\n",
    "    RB   = -2*r1 - r2\n",
    "    RD   =    r1 - r2\n",
    "    RH   =    r1 + r2\n",
    "    RT   =         r2\n",
    "    \n",
    "    #For a PFR, dFj/dV = Rj, so these are our derivatives of FB, FD, FH, FT\n",
    "    D1   = RB\n",
    "    D2   = RD\n",
    "    D3   = RH\n",
    "    D4   = RT\n",
    "    \n",
    "    #return derivatives of each dependent variable w.r.t. volume\n",
    "    return [D1, D2, D3, D4]"
   ]
  },
  {
   "cell_type": "code",
   "execution_count": 3,
   "metadata": {},
   "outputs": [
    {
     "data": {
      "image/png": "[encoded data removed]",
      "text/plain": [
       "<Figure size 432x288 with 1 Axes>"
      ]
     },
     "metadata": {
      "filenames": {
       "image/png": "C:\\Users\\jqbond\\Documents\\GitHub\\WebContent\\2022CEN587\\_build\\jupyter_execute\\F22-587-L22_5_0.png"
      },
      "needs_background": "light"
     },
     "output_type": "display_data"
    },
    {
     "name": "stdout",
     "output_type": "stream",
     "text": [
      "The Volume required to achive 50% Benzene conversion is 403.3L\n"
     ]
    }
   ],
   "source": [
    "#This cell solves the ODE system (an initial value problem) using solve_ivp\n",
    "FBf     = 60000 #mol/h\n",
    "FDf     = 0\n",
    "FHf     = 0\n",
    "FTf     = 0\n",
    "\n",
    "#Solve the problem\n",
    "vspan   = (0, 600)\n",
    "var0    = [FBf, FDf, FHf, FTf]\n",
    "solMR01 = solve_ivp(MR01, vspan, var0, atol = 1e-12, rtol = 1e-12)\n",
    "\n",
    "#Extract data from the solution structure.\n",
    "Vout    = solMR01.t\n",
    "FBout   = solMR01.y[0]\n",
    "\n",
    "#Calculate conversion\n",
    "XBout   = (FBf - FBout)/FBf\n",
    "\n",
    "#Plot conversion vs. reactor volume.\n",
    "plt.plot(Vout, XBout)\n",
    "plt.xlim(0, max(vspan))\n",
    "plt.ylim(0, 0.6)\n",
    "plt.hlines(0.5, 0, max(vspan), linestyle = 'dashed', color = 'black', linewidth = 1)\n",
    "plt.xlabel('Volume (L)')\n",
    "plt.ylabel('Benzene Conversion')\n",
    "plt.show()\n",
    "\n",
    "#Create an interpolating polynomial f(XB) = V\n",
    "itp01   = interp1d(XBout, Vout, kind = 'cubic')\n",
    "print(f'The Volume required to achive 50% Benzene conversion is {itp01(0.5):3.1f}L')"
   ]
  },
  {
   "cell_type": "markdown",
   "metadata": {},
   "source": [
    "Now we extract all of the molar flowrates so we can calculate mole fractions as a function of reactor volume."
   ]
  },
  {
   "cell_type": "code",
   "execution_count": 4,
   "metadata": {},
   "outputs": [
    {
     "data": {
      "image/png": "[encoded data removed]",
      "text/plain": [
       "<Figure size 432x288 with 1 Axes>"
      ]
     },
     "metadata": {
      "filenames": {
       "image/png": "C:\\Users\\jqbond\\Documents\\GitHub\\WebContent\\2022CEN587\\_build\\jupyter_execute\\F22-587-L22_7_0.png"
      },
      "needs_background": "light"
     },
     "output_type": "display_data"
    }
   ],
   "source": [
    "#Molar flowrates as a function of volume.\n",
    "FBout   = solMR01.y[0]\n",
    "FDout   = solMR01.y[1]\n",
    "FHout   = solMR01.y[2]\n",
    "FTout   = solMR01.y[3]\n",
    "\n",
    "#Sum things up to get the total molar flowrate as a function of volume.\n",
    "FTot_o  = FBout + FDout + FHout + FTout\n",
    "\n",
    "#Calculate mole fractions as a function of volume.\n",
    "yBout   = FBout/FTot_o\n",
    "yDout   = FDout/FTot_o\n",
    "yHout   = FHout/FTot_o\n",
    "yTout   = FTout/FTot_o\n",
    "\n",
    "#Plot mole fractions vs. volume\n",
    "plt.plot(Vout, yBout, label = 'yB')\n",
    "plt.plot(Vout, yDout, label = 'yD')\n",
    "plt.plot(Vout, yHout, label = 'yH')\n",
    "plt.plot(Vout, yTout, label = 'yT')\n",
    "plt.xlim(0, max(vspan))\n",
    "plt.ylim(0, 1)\n",
    "plt.xlabel('Volume (L)')\n",
    "plt.ylabel('mole fraction')\n",
    "plt.legend()\n",
    "plt.show()"
   ]
  },
  {
   "cell_type": "markdown",
   "metadata": {},
   "source": [
    "## Example Problem 02\n",
    "\n",
    "**Rawlings, Example 4.5 in a CSTR**:\n",
    "\n",
    "You are carrying out Benzene Pyrolysis in a CSTR operating at 1033K and 1.0 atm.  The two reactions occurring in this system are benzene coupling to form diphenyl and hydrogen followed by a secondary reaction between benzene and diphenyl to form triphenyl and hydrogen:\n",
    "\n",
    "\\begin{align*}\n",
    "&2B \\longleftrightarrow D + H_2\\\\\n",
    "&B + D \\longleftrightarrow T + H_2\n",
    "\\end{align*}\n",
    "\n",
    "Both reactions are reversible and follow elementary rate laws.  Rate constants and equilibrium concentration ratios ($K_C$) are given below.\n",
    "\n",
    "\\begin{align*}\n",
    "&k_1 = 7.0 \\ \\times 10^5 \\ \\textrm{L} \\ \\textrm{mol}^{-1} \\ \\textrm{h}^{-1}\\\\\n",
    "&k_2 = 4.0 \\ \\times 10^5 \\ \\textrm{L} \\ \\textrm{mol}^{-1} \\ \\textrm{h}^{-1}\\\\\n",
    "&K_{C_1} = 0.31\\\\\n",
    "&K_{C_2} = 0.48\n",
    "\\end{align*}\n",
    "\n",
    "If pure benzene is fed into the reactor at 60,000 moles per hour, find the CSTR volume required to achieve 50\\% conversion of Benzene.  Also, plot the mole fraction of each species as a function of CSTR volume.\n",
    "\n",
    "**Answer**: 1315.6 L; see graphs for mole fraction plots\t"
   ]
  },
  {
   "cell_type": "markdown",
   "metadata": {},
   "source": [
    "### Solution to Example Problem 02\n",
    "\n",
    "If we consider a material balance on Benzene in a CSTR at steady state:\n",
    "\n",
    "$$0 = F_{B,f} - F_B + R_BV$$\n",
    "\n",
    "I can see that the term $R_B$ actually will depend on the concentrations of diphenyl, triphenyl, and hydrogen (see the PFR discussion above).  So I won't be able to solve this equation by itself.  I'll need to somehow determine the concentrations of all species...\n",
    "\n",
    "The easiest way to do this is to recognize that we can write a single, independent balance for each component:\n",
    "\n",
    "\\begin{align}\n",
    "    0 = F_{B,f} - F_B + R_BV \\\\\n",
    "    0 = F_{D,f} - F_D + R_DV \\\\\n",
    "    0 = F_{H,f} - F_H + R_HV \\\\\n",
    "    0 = F_{T,f} - F_T + R_TV \\\\\n",
    "\\end{align}\n",
    "\n",
    "The way I view this is that I have four equations written in terms of five unknowns ($F_B$, $F_D$, $F_H$, $F_T$, and $V$).  I say this because although I don't \"know\" the production rates for each species, $R_j$, I can express all of those production rates in terms of species flow rates.\n",
    "\n",
    "I need to do two things.  First, I need to add another equation to this system since I have an additional unknown (Volume).  I'll do that from the conversion specification.\n",
    "\n",
    "\\begin{align}\n",
    "    0 &= F_{B,f} - F_B + R_BV \\\\\n",
    "    0 &= F_{D,f} - F_D + R_DV \\\\\n",
    "    0 &= F_{H,f} - F_H + R_HV \\\\\n",
    "    0 &= F_{T,f} - F_T + R_TV \\\\\n",
    "    0 &= X_B - 0.5 \\\\\n",
    "\\end{align}\n",
    "\n",
    "Now, I just have to make sure everything on the right hand side of those equations is expressed as functions of my five unknowns ($F_B$, $F_D$, $F_H$, $F_T$, and $V$).  We do this pretty much the same was as we do in the PFR case.  Starting with species production rates:\n",
    "\n",
    "$$R_j = \\sum_i \\nu_{i,j} r_i$$\n",
    "\n",
    "So:\n",
    "\n",
    "\\begin{align}\n",
    "    R_B &= -2r1 - r2 \\\\\n",
    "    R_D &=  r1 - r2 \\\\\n",
    "    R_H &=  r2 + r2 \\\\\n",
    "    R_T &=  r2 \\\\\n",
    "\\end{align}\n",
    "\n",
    "We next define reaction rates:\n",
    "\n",
    "\\begin{align}\n",
    "    r_1 &= k_{1,f}C_B^2 - k_{1,r}C_HC_D \\\\\n",
    "    r_2 &= k_{2,f}C_BC_D - k_{2,r}C_HC_T \\\\\n",
    "\\end{align}\n",
    "\n",
    "We define concentrations in terms of molar flowrates:\n",
    "\n",
    "$$F_j = \\frac{F_j}{Q}$$\n",
    "\n",
    "Which throws a volumetric flowrate, Q, into the mix.  Fortunately, this is a gas phase reaction at low pressure, so we know we can define Q in terms of the total molar flowrate:\n",
    "\n",
    "$$Q = \\frac{F_{tot}RT}{P}$$\n",
    "\n",
    "Where\n",
    "\n",
    "$$F_{tot} = \\sum_j F_j$$\n",
    "\n",
    "We set this up below for solution with opt.root--five equations and five unknowns."
   ]
  },
  {
   "cell_type": "code",
   "execution_count": 5,
   "metadata": {},
   "outputs": [],
   "source": [
    "def MR02(var):\n",
    "    \n",
    "    #unknowns in the array var\n",
    "    FB = var[0]\n",
    "    FD = var[1]\n",
    "    FH = var[2]\n",
    "    FT = var[3]\n",
    "    V  = var[4]\n",
    "    \n",
    "    #Parameters from problem statement\n",
    "    T   = 1033    #K\n",
    "    P   = 1.0     #atm\n",
    "    R   = 0.08206 #L*atm/mol/K\n",
    "    k1f = 7.0e5   #L/mol/h\n",
    "    k2f = 4.0e5   #L/mol/h\n",
    "    KC1 = 0.31\n",
    "    KC2 = 0.48\n",
    "    k1r = k1f/KC1 #L/mol/h\n",
    "    k2r = k2f/KC2 #L/mol/h\n",
    "    FBf = 60000   #mol/h\n",
    "    FDf = 0\n",
    "    FHf = 0\n",
    "    FTf = 0\n",
    "                \n",
    "    #Total molar flowrate\n",
    "    FTOT = FB + FD + FH + FT\n",
    "    \n",
    "    #Volumetric flowrate\n",
    "    Q    = FTOT*R*T/P\n",
    "    \n",
    "    #Define species concentrations\n",
    "    CB   = FB/Q\n",
    "    CD   = FD/Q\n",
    "    CH   = FH/Q\n",
    "    CT   = FT/Q\n",
    "    \n",
    "    #Define reaction rates\n",
    "    r1   = k1f*CB**2 - k1r*CD*CH\n",
    "    r2   = k2f*CB*CD - k2r*CT*CH\n",
    "    \n",
    "    #Define species production rates\n",
    "    RB   = -2*r1 - r2\n",
    "    RD   =    r1 - r2\n",
    "    RH   =    r1 + r2\n",
    "    RT   =         r2\n",
    "    \n",
    "    #Define fractional conversion\n",
    "    XB   = (FBf - FB)/FBf\n",
    "    \n",
    "    #Write the five equations to be solved.\n",
    "    F1   = FBf - FB + RB*V\n",
    "    F2   = FDf - FD + RD*V\n",
    "    F3   = FHf - FH + RH*V\n",
    "    F4   = FTf - FT + RT*V\n",
    "    F5   = 0.5 - XB\n",
    "\n",
    "    #Return the left hand side of each of the five constraint equations\n",
    "    #When the problem is solved, these should all be zero.\n",
    "    return [F1, F2, F3, F4, F5]"
   ]
  },
  {
   "cell_type": "code",
   "execution_count": 6,
   "metadata": {},
   "outputs": [
    {
     "name": "stdout",
     "output_type": "stream",
     "text": [
      "[30000.          9769.00421991 16743.66526003  3487.33052006\n",
      "  1315.62036749]\n"
     ]
    },
    {
     "data": {
      "text/plain": [
       "1315.620367487792"
      ]
     },
     "execution_count": 6,
     "metadata": {},
     "output_type": "execute_result"
    }
   ],
   "source": [
    "#Solve the system of equations using opt.root\n",
    "\n",
    "#We need to provide initial guesses for each of our unknowns (FB, FD, FH, FT, V)\n",
    "var0    = (FBf/2, FBf/2, FBf/2, FBf/2, 1000)\n",
    "solMR02 = opt.root(MR02, var0)\n",
    "print(solMR02.x)\n",
    "\n",
    "#Where volume is given by\n",
    "solMR02.x[4]"
   ]
  },
  {
   "cell_type": "markdown",
   "metadata": {},
   "source": [
    "### Alternate Solution to Example Problem 02 \n",
    "\n",
    "Fundamentally, there is nothing wrong with the approach above, where we wrote a material balance on each species to solve the problem.\n",
    "\n",
    "Sometimes, when solving algebraic problems with numerical methods (like opt.root), it is very difficult for the solver to converge.  This is because a) solving algebraic equations numerically is challenging; b) solving the system gets more challenging when we write more equations; and c) we need to provide a good initial guess as to *what the correct solution is*.  Otherwise, the problem will not usually converge.\n",
    "\n",
    "It can be useful to reduce the number of equations and unknowns that we're tying to solve.  We can do this by taking an alternate approach.  Specifically, instead of describing the system in terms of molar flowrates for all species (and volume), which gives us five unkowns, we can decide to instead express the system in terms of one extent of reaction for each reaction occuring and the system volume.  If we do this, we get to write one extent per chemical reaction, and we get to write one material balance for each reaction.\n",
    "\n",
    "So, above we wrote the following five equations:\n",
    "\n",
    "\\begin{align}\n",
    "    0 &= F_{B,f} - F_B + R_BV \\\\\n",
    "    0 &= F_{D,f} - F_D + R_DV \\\\\n",
    "    0 &= F_{H,f} - F_H + R_HV \\\\\n",
    "    0 &= F_{T,f} - F_T + R_TV \\\\\n",
    "    0 &= X_B - 0.5 \\\\\n",
    "\\end{align}\n",
    "\n",
    "And we are able to express all of the production rates in terms of molar flowrates.  Here, we'll express each exit flowrate in terms of extents of reaction (as we would do in a mole table):\n",
    "\n",
    "\\begin{align}\n",
    "    F_B &= F_{B,f} - 2\\varepsilon_1 - \\varepsilon_2 \\\\\n",
    "    F_D &= F_{D,f} + \\varepsilon_1 - \\varepsilon_2 \\\\\n",
    "    F_H &= F_{H,f} + \\varepsilon_1 + \\varepsilon_2 \\\\\n",
    "    F_T &= F_{T,f} + \\varepsilon_2 \\\\\n",
    "\\end{align}\n",
    "\n",
    "By doing this, we reduce the system to 3 unknowns ($\\varepsilon_1$, $\\varepsilon_2$, and $V$).  Therefore, we only get to write 3 equations.  When we express the system in terms of extents, we get to write one balance per reaction instead of one balance per species.  I can arbitrarily pick two independent balance equations.  I will keep the specification that fractional conversion is 50% as my third equation.  That gives me:\n",
    "\n",
    "\\begin{align}\n",
    "    0 &= F_{B,f} - F_B + R_BV \\\\\n",
    "    0 &= F_{D,f} - F_D + R_DV \\\\\n",
    "    0 &= X_B - 0.5 \\\\\n",
    "\\end{align}\n",
    "\n",
    "Where, in this case, I just have to make sure to express everything on the right hand side of these equations in terms of ($\\varepsilon_1$, $\\varepsilon_2$, and $V$). We do this as usual:\n",
    "\n",
    "$$R_j = \\sum_i \\nu_{i,j} r_i$$\n",
    "\n",
    "So:\n",
    "\n",
    "\\begin{align}\n",
    "    R_B &= -2r1 - r2 \\\\\n",
    "    R_D &=  r1 - r2 \\\\\n",
    "    R_H &=  r2 + r2 \\\\\n",
    "    R_T &=  r2 \\\\\n",
    "\\end{align}\n",
    "\n",
    "We next define reaction rates:\n",
    "\n",
    "\\begin{align}\n",
    "    r_1 &= k_{1,f}C_B^2 - k_{1,r}C_HC_D \\\\\n",
    "    r_2 &= k_{2,f}C_BC_D - k_{2,r}C_HC_T \\\\\n",
    "\\end{align}\n",
    "\n",
    "We define concentrations in terms of molar flowrates:\n",
    "\n",
    "$$F_j = \\frac{F_j}{Q}$$\n",
    "\n",
    "Which throws a volumetric flowrate, Q, into the mix.  Fortunately, this is a gas phase reaction at low pressure, so we know we can define Q in terms of the total molar flowrate:\n",
    "\n",
    "$$Q = \\frac{F_{tot}RT}{P}$$\n",
    "\n",
    "Where\n",
    "\n",
    "$$F_{tot} = \\sum_j F_j$$\n",
    "\n",
    "If you go back and trace through all of these definitions, you'll see that everything on the right hand side of our three equations is expressed in terms of either constants or our three unknowns. "
   ]
  },
  {
   "cell_type": "code",
   "execution_count": 7,
   "metadata": {},
   "outputs": [],
   "source": [
    "def MR03(var):\n",
    "    #Unknowns\n",
    "    e1  = var[0]\n",
    "    e2  = var[1]\n",
    "    V   = var[2]\n",
    "    \n",
    "    #Unknowns\n",
    "    T   = 1033    #K\n",
    "    P   = 1.0     #atm\n",
    "    R   = 0.08206 #L*atm/mol/K\n",
    "    k1f = 7.0e5   #L/mol/h\n",
    "    k2f = 4.0e5   #L/mol/h\n",
    "    KC1 = 0.31\n",
    "    KC2 = 0.48\n",
    "    k1r = k1f/KC1 #L/mol/h\n",
    "    k2r = k2f/KC2 #L/mol/h\n",
    "    FBf = 60000   #mol/h\n",
    "    FDf = 0\n",
    "    FHf = 0\n",
    "    FTf = 0\n",
    "    \n",
    "    FB   = FBf - 2*e1 - 1*e2\n",
    "    FD   = FDf + 1*e1 - 1*e2\n",
    "    FH   = FHf + 1*e1 + 1*e2\n",
    "    FT   = FTf + 0*e1 + 1*e2\n",
    "    \n",
    "    FTOT = FB + FD + FH + FT\n",
    "    Q    = FTOT*R*T/P\n",
    "    \n",
    "    CB   = FB/Q\n",
    "    CD   = FD/Q\n",
    "    CH   = FH/Q\n",
    "    CT   = FT/Q\n",
    "    \n",
    "    r1   = k1f*CB**2 - k1r*CD*CH\n",
    "    r2   = k2f*CB*CD - k2r*CT*CH\n",
    "    \n",
    "    RB   = -2*r1 - r2\n",
    "    RD   =    r1 - r2\n",
    "    RH   =    r1 + r2\n",
    "    RT   =         r2\n",
    "    \n",
    "    XB   = (FBf - FB)/FBf\n",
    "    \n",
    "    F1   = FBf - FB + RB*V\n",
    "    F2   = FDf - FD + RD*V\n",
    "    F3   = 0.5 - XB\n",
    "    \n",
    "    return [F1, F2, F3]"
   ]
  },
  {
   "cell_type": "code",
   "execution_count": 8,
   "metadata": {},
   "outputs": [
    {
     "data": {
      "text/plain": [
       "    fjac: array([[-8.41636059e-01,  5.40045132e-01,  2.51344552e-06],\n",
       "       [-5.40045132e-01, -8.41636059e-01,  4.46730782e-06],\n",
       "       [-4.52795422e-06, -2.40247333e-06, -1.00000000e+00]])\n",
       "     fun: array([-6.31771400e-08,  8.97707650e-08, -1.11022302e-16])\n",
       " message: 'The solution converged.'\n",
       "    nfev: 17\n",
       "     qtf: array([-2.40952836e-04,  9.79760003e-05, -1.67932875e-10])\n",
       "       r: array([-1.32620072e+01, -1.28304668e+00,  2.52908371e+01, -3.00892595e+00,\n",
       "        5.21408349e+00,  8.68600570e-05])\n",
       "  status: 1\n",
       " success: True\n",
       "       x: array([13256.33473996,  3487.33052008,  1315.62036749])"
      ]
     },
     "execution_count": 8,
     "metadata": {},
     "output_type": "execute_result"
    }
   ],
   "source": [
    "#Now we solve the system of 3 equations/3 unknowns\n",
    "\n",
    "var0    = (20000, 10000, 1000)\n",
    "solMR03 = opt.root(MR03, var0)\n",
    "solMR03"
   ]
  },
  {
   "cell_type": "markdown",
   "metadata": {},
   "source": [
    "### Obtaining Mole Fractions as a function of CSTR Volume\n",
    "\n",
    "As a final point, we still want to plot the mole fraction of products as a function of reactor volume.  For a CSTR, we solve one fractional conversion at one volume in the set of algebraic equations above.  If we want to solve for many volumes, we'll have to solve the set of algebraic equations for every volume we're interested in.  I do this below by passing a \"current\" volume into the system of equations, and solving it for many volumes using a for loop.  The key thing to note is that I will specify volume and solve for the two extents at that volume, so I'm down to two unknowns."
   ]
  },
  {
   "cell_type": "code",
   "execution_count": 9,
   "metadata": {},
   "outputs": [],
   "source": [
    "def MR04(var, V):\n",
    "    #Unknowns\n",
    "    e1  = var[0]\n",
    "    e2  = var[1]\n",
    "    \n",
    "    #Parameters and constants from problem statement.\n",
    "    T   = 1033    #K\n",
    "    P   = 1.0     #atm\n",
    "    R   = 0.08206 #L*atm/mol/K\n",
    "    k1f = 7.0e5   #L/mol/h\n",
    "    k2f = 4.0e5   #L/mol/h\n",
    "    KC1 = 0.31\n",
    "    KC2 = 0.48\n",
    "    k1r = k1f/KC1 #L/mol/h\n",
    "    k2r = k2f/KC2 #L/mol/h\n",
    "    FBf = 60000   #mol/h\n",
    "    FDf = 0\n",
    "    FHf = 0\n",
    "    FTf = 0\n",
    "    \n",
    "    FB   = FBf - 2*e1 - 1*e2\n",
    "    FD   = FDf + 1*e1 - 1*e2\n",
    "    FH   = FHf + 1*e1 + 1*e2\n",
    "    FT   = FTf + 0*e1 + 1*e2\n",
    "    \n",
    "    FTOT = FB + FD + FH + FT\n",
    "    Q    = FTOT*R*T/P\n",
    "    \n",
    "    CB   = FB/Q\n",
    "    CD   = FD/Q\n",
    "    CH   = FH/Q\n",
    "    CT   = FT/Q\n",
    "    \n",
    "    r1   = k1f*CB**2 - k1r*CD*CH\n",
    "    r2   = k2f*CB*CD - k2r*CT*CH\n",
    "    \n",
    "    RB   = -2*r1 - r2\n",
    "    RD   =    r1 - r2\n",
    "    RH   =    r1 + r2\n",
    "    RT   =         r2\n",
    "    \n",
    "    XB   = (FBf - FB)/FBf\n",
    "    \n",
    "    #Constraint equations\n",
    "    F1   = FBf - FB + RB*V\n",
    "    F2   = FDf - FD + RD*V\n",
    "    \n",
    "    return [F1, F2]"
   ]
  },
  {
   "cell_type": "markdown",
   "metadata": {},
   "source": [
    "So, with the above function defined, I can pass it a value of volume, and I can solve for the two extents of reaction at that volume.  I do this by passing the volume as an extra parameter with a lambda function. See below where I solve the above for 1000L.  Although it looks complicated, this is effectively the same as writing:\n",
    "\n",
    "    V = 1000\n",
    "\n",
    "in the middle of my MR04 function."
   ]
  },
  {
   "cell_type": "code",
   "execution_count": 10,
   "metadata": {},
   "outputs": [
    {
     "data": {
      "text/plain": [
       "array([12836.64907302,  3104.40964972])"
      ]
     },
     "execution_count": 10,
     "metadata": {},
     "output_type": "execute_result"
    }
   ],
   "source": [
    "vol     = 1000\n",
    "var0    = [1000, 1000] #initial guess for solution of e1 and e2\n",
    "objtemp = lambda var: MR04(var, vol)\n",
    "tempsol = opt.root(objtemp, var0)\n",
    "tempsol.x #This is the extent of reactions (e1 and e2) for V = 1000L"
   ]
  },
  {
   "cell_type": "markdown",
   "metadata": {},
   "source": [
    "Well, if we can do that for one volume, we can do it for 100 volumes.  We'll set up a loop for this."
   ]
  },
  {
   "cell_type": "code",
   "execution_count": 11,
   "metadata": {},
   "outputs": [
    {
     "data": {
      "image/png": "[encoded data removed]",
      "text/plain": [
       "<Figure size 432x288 with 1 Axes>"
      ]
     },
     "metadata": {
      "filenames": {
       "image/png": "C:\\Users\\jqbond\\Documents\\GitHub\\WebContent\\2022CEN587\\_build\\jupyter_execute\\F22-587-L22_20_0.png"
      },
      "needs_background": "light"
     },
     "output_type": "display_data"
    }
   ],
   "source": [
    "#Create a list of volumes we're interested in solving, we'll just go from 1 to 25000L\n",
    "#We'll do this in 100 elements.  Basically, we're going to have to solve the above system for 100 different volumes.\n",
    "V       = np.linspace(1, 25000, 100)\n",
    "extent  = np.zeros((len(V), 2))\n",
    "\n",
    "for i, vol in enumerate(V): \n",
    "    obj02   = lambda var: MR04(var, vol)\n",
    "    var0    = (10000, 10000)\n",
    "    solMR04 = opt.root(obj02, var0)\n",
    "    extent[i,:]  = solMR04.x\n",
    "extent\n",
    "\n",
    "FB = FBf - 2*extent[:,0] - 1*extent[:,1]\n",
    "FD = FDf + 1*extent[:,0] - 1*extent[:,1]\n",
    "FH = FHf + 1*extent[:,0] + 1*extent[:,1]\n",
    "FT = FTf + 0*extent[:,0] + 1*extent[:,1]\n",
    "FTot = FB + FD + FH + FT\n",
    "yB   = FB/FTot\n",
    "yD   = FD/FTot\n",
    "yH   = FH/FTot\n",
    "yT   = FT/FTot\n",
    "\n",
    "plt.plot(V, yB, label = 'yB')\n",
    "plt.plot(V, yD, label = 'yD')\n",
    "plt.plot(V, yH, label = 'yH')\n",
    "plt.plot(V, yT, label = 'yT')\n",
    "plt.xlim(0, max(V))\n",
    "plt.ylim(0, 1)\n",
    "plt.xlabel('Volume (L)')\n",
    "plt.ylabel('mole fraction')\n",
    "plt.legend()\n",
    "plt.show()"
   ]
  },
  {
   "cell_type": "markdown",
   "metadata": {},
   "source": [
    "As a reminder of the significance of chemical equilibrium in these systems, we see that the composition stops changing after a certain reactor size.  At this point, we've reached equilibrium.  You can see this by comparing the value of the reaction quotient to the equilibrium constant.  The system is approaching equilibrium as the reaction reaches 15000L, and if we make the reactor much larger, the extra volume won't be useful for increasing conversion since the system is basically equilibrated and no further conversion is possible."
   ]
  },
  {
   "cell_type": "code",
   "execution_count": 12,
   "metadata": {},
   "outputs": [
    {
     "data": {
      "image/png": "[encoded data removed]",
      "text/plain": [
       "<Figure size 432x288 with 1 Axes>"
      ]
     },
     "metadata": {
      "filenames": {
       "image/png": "C:\\Users\\jqbond\\Documents\\GitHub\\WebContent\\2022CEN587\\_build\\jupyter_execute\\F22-587-L22_22_0.png"
      },
      "needs_background": "light"
     },
     "output_type": "display_data"
    }
   ],
   "source": [
    "T   = 1033    #K\n",
    "P   = 1.0     #atm\n",
    "R   = 0.08206 #L*atm/mol/K\n",
    "CB = yB*P/R/T #This is the ideal gas law, believe it or not.\n",
    "CD = yD*P/R/T\n",
    "CH = yH*P/R/T\n",
    "CT = yT*P/R/T\n",
    "\n",
    "Q1 = CD*CH/CB**2 #This is the right hand side of K_C = product(C_j^\\nu_j) for rxn 1\n",
    "Q2 = CT*CH/CD/CB #This is the right hand side of K_C = product(C_j^\\nu_j) for rxn 2\n",
    "\n",
    "plt.figure(1)\n",
    "plt.plot(V, Q1, label = 'Q1')\n",
    "plt.plot(V, Q2, label = 'Q2')\n",
    "plt.hlines(0.31, 0, max(V), linestyle = 'dashed', linewidth = 1, color = 'red', label = 'K1')\n",
    "plt.hlines(0.48, 0, max(V), linestyle = 'dashed', linewidth = 1, color = 'black', label = 'K2')\n",
    "plt.legend(loc = 'lower right')\n",
    "plt.show()"
   ]
  }
 ],
 "metadata": {
  "colab": {
   "authorship_tag": "ABX9TyP0ZJPj0jWZ7tx7s+T6+2CS",
   "name": "P14.ipynb",
   "provenance": []
  },
  "kernelspec": {
   "display_name": "Python 3 (ipykernel)",
   "language": "python",
   "name": "python3"
  },
  "language_info": {
   "codemirror_mode": {
    "name": "ipython",
    "version": 3
   },
   "file_extension": ".py",
   "mimetype": "text/x-python",
   "name": "python",
   "nbconvert_exporter": "python",
   "pygments_lexer": "ipython3",
   "version": "3.9.13"
  }
 },
 "nbformat": 4,
 "nbformat_minor": 1
}