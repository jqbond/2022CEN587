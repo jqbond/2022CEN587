{
 "cells": [
  {
   "cell_type": "markdown",
   "metadata": {},
   "source": [
    "# Recitation 03\n",
    "\n",
    "These exercises will reinforce solution of general problems in chemical equilibrium for gas phase reactions at any temperature and pressure.  We will also cover how to handle non-ideality at high pressure.  We also introduce gaussian quadrature as a tool for solving definite integrals numerically.\n",
    "\n",
    "**Topics Covered**\n",
    "\n",
    "1. Formulation of gas-phase equilibrium problems at generic T, P, basis conditions.\n",
    "2. Solution of algebraic equations using scipy.optimize\n",
    "3. Building more complex functions to allow more general problem solutions\n",
    "4. Gaussian quadrature in scipy.integrate\n",
    "5. Fugacity coefficients\n",
    "6. Using loops to solve equilibrium equations over a large (T,P) space.\n",
    "7. Passing extra parameters using lambda functions."
   ]
  },
  {
   "cell_type": "code",
   "execution_count": 1,
   "metadata": {},
   "outputs": [],
   "source": [
    "import numpy as np\n",
    "import scipy.optimize as opt\n",
    "from scipy.integrate import quadrature as quadgk\n",
    "import matplotlib.pyplot as plt"
   ]
  },
  {
   "cell_type": "markdown",
   "metadata": {},
   "source": [
    "**Problem 1**\n",
    "\n",
    "In class, we have been considering the gas-phase reaction of molecular nitrogen with molecular hydrogen to produce ammonia:\n",
    "\n",
    "$$N_2 (g) + 3H_2 (g) \\leftrightarrow 2N\\!H_3 (g)$$\n",
    "\t\n",
    "We have specifically been solving for the equilibrium conversion of nitrogen and the equilibrium mixture composition at various temperatures and pressures.  In all examples, we have a stoichiometric (1:3) feed of $N_2$ to $H_2$, and we've assumed a basis of 1 mole of $N_2$, which means we also feed 3 moles of $H_2$ into the process.\n",
    "\n",
    "Today, we're going to look at this problem in a general way and hopefully see that we can set it up using general functions where (T,P) are just parameters that we change.  Once we change them, we can re-solve the problem easily without changing any of our code. Generalizing solutions so that they work in any situation is one of the great things about programming, and it will help you to strengthen your understanding of how functions, root finding algorithms, and loops work in Python.\n",
    "\n",
    "From class, recall that we have really no information about this reaction, and we want to figure out equilibrium compositions.  To do that, we need to learn more about the thermodynamics of the reaction, specifically the Gibbs free energy change of the reaction.  Once we have this, we can start to figure out composition.  As usual, we are basically considering the following equation, which relates the standard state Gibbs Free energy change to the composition at chemical equilibrum.\n",
    "\n",
    "$$\\exp\\left(\\frac{-\\Delta G^\\circ}{RT}\\right) = K = \\prod_{j = 1}^{N_S}a_j^{\\nu_j}$$\n",
    "\n",
    "**Reminder:** Let's specify standard states here.  We are going to be considering a generic reaction temperature, T, and a generic reaction pressure, P. For problems in chemical equilibrium, our standard state Gibbs free energy of reaction, $\\Delta G^\\circ$, is always specified at the reaction temperature, T, a pressure of 1 bar, and for a phase of matter dictated by the reaction as written.  Here, we are looking at a gas phase reaction.  For gases, we always use pure gases at 1 bar as our reference state. So:\n",
    "\n",
    "**Reference State for ammonia synthesis reaction:** Pure gases at $T^\\circ$ = Reaction Temperature, and $P^\\circ$ = 1 bar.\n",
    "\n",
    "Recall from class that we were able to look up the following data for $N_2$, $H_2$, and $N\\!H_3$ as pure gases at 298K and 1 bar.\n",
    "\n",
    "|Species | ${H_j}^\\circ$ (kJ mol$^{-1}$)| ${S_j}^\\circ$ (J mol$^{-1}$ K$^{-1}$) | ${C_{p_j}}^\\circ$ (J mol$^{-1} $K$^{-1}$)|\n",
    "|-------------|:-----------------------:|:-------------------------------------:|:-----------------------------------------|\n",
    "| $N_2$ (g)   | 0                       |191.60                                 |29.12                                     | \n",
    "| $H_2$ (g)   | 0                       |130.68                                 |28.84                                     | \n",
    "| $N\\!H_3$ (g)| -45.9                   |192.77                                 |35.64                                     |\n",
    "\n",
    "This information is all we need to calculate the following:\n",
    "\n",
    "* $\\Delta H$ at any temperature, i.e. $\\Delta H(T)$\n",
    "* $\\Delta S$ at any temperature, i.e. $\\Delta S(T)$\n",
    "* $\\Delta G$ at any temperature, i.e. $\\Delta G(T)$\n",
    "* $K$ at any temperature, i.e. $K(T)$\n",
    "\n",
    "We already did this in class, so I'm just going to copy the code below for K(T).  We then plot to illustrate that this function basically gives us K at any T of interest.  This is important because it gives us the left hand side of that equilibrium equation at any temperature!!\n",
    "\n",
    "**Important:** The equilibrium constant, $K$, is a function only of temperature for a given reaction. It does not depend on pressure or the starting composition of the mixture. We account for these in the definitions of thermodynamic activities. Ultimately, the effect of temperature on a chemical equilibrium problem is fully described by the value of $K$, whereas pressure and composition effects are described by the values of thermodynamic activities, $a_j$."
   ]
  },
  {
   "cell_type": "code",
   "execution_count": 2,
   "metadata": {},
   "outputs": [],
   "source": [
    "def K(T):\n",
    "    T0 = 298   #K\n",
    "    R  = 8.314 #J/mol/K\n",
    "    \n",
    "    #Enthalpies at 298K, 1 bar\n",
    "    HN0 = 0\n",
    "    HH0 = 0\n",
    "    HA0 = -45.9*1000 #J/mol\n",
    "\n",
    "    #Entropies at 298K, 1 bar\n",
    "    SN0 = 191.60 #J/mol/K\n",
    "    SH0 = 130.68 #J/mol/K\n",
    "    SA0 = 192.77 #J/mol/K\n",
    "\n",
    "    #Heat capacities\n",
    "    CPN = 29.12 #J/mol/K\n",
    "    CPH = 28.84 #J/mol/K\n",
    "    CPA = 35.64 #J/mol/K\n",
    "\n",
    "    #Calculate thermodynamic state functions at T not equal to T0 = 298\n",
    "    HN = HN0 + CPN*(T - T0) #J/mol\n",
    "    HH = HH0 + CPH*(T - T0) #J/mol\n",
    "    HA = HA0 + CPA*(T - T0) #J/mol\n",
    "\n",
    "    SN = SN0 + CPN*np.log(T/T0) #J/mol/K\n",
    "    SH = SH0 + CPH*np.log(T/T0) #J/mol/K\n",
    "    SA = SA0 + CPA*np.log(T/T0) #J/mol/K\n",
    "\n",
    "    DH = 2*HA - HN - 3*HH #J/mol\n",
    "    DS = 2*SA - SN - 3*SH #J/mol/K\n",
    "    DG = DH - T*DS        #J/mol\n",
    "\n",
    "    K  = np.exp(-DG/R/T)     #Dimensionless\n",
    "    return K"
   ]
  },
  {
   "cell_type": "code",
   "execution_count": 3,
   "metadata": {},
   "outputs": [
    {
     "data": {
      "text/plain": [
       "<matplotlib.legend.Legend at 0x28f2f10eb80>"
      ]
     },
     "execution_count": 3,
     "metadata": {},
     "output_type": "execute_result"
    },
    {
     "data": {
      "image/png": "[encoded data removed]",
      "text/plain": [
       "<Figure size 432x288 with 1 Axes>"
      ]
     },
     "metadata": {
      "filenames": {
       "image/png": "C:\\Users\\jqbond\\Documents\\GitHub\\WebContent\\2022CEN587\\_build\\jupyter_execute\\F22-587-R03-Solution_4_1.png"
      },
      "needs_background": "light"
     },
     "output_type": "display_data"
    }
   ],
   "source": [
    "Tvals = np.linspace(298, 873, 200)\n",
    "plt.plot(Tvals, K(Tvals), label = 'K(T)')\n",
    "plt.hlines(1, 298, 873, linestyle = 'dashed', color = 'black', label = 'K = 1') #This is a reference line of K = 1\n",
    "plt.yscale('log')\n",
    "plt.ylabel('K')\n",
    "plt.xlabel('T (K)')\n",
    "plt.legend()"
   ]
  },
  {
   "cell_type": "markdown",
   "metadata": {},
   "source": [
    "**Thermodynamic activities are where we describe composition and pressure effects**\n",
    "\n",
    "Now that we have an equilibrum constant at any temperature done, we have to work on the right hand side of that equilbrium equation:\n",
    "\n",
    "$$K = \\prod_{j = 1}^{N_S}a_j^{\\nu_j}$$\n",
    "\n",
    "The thermodynamic activities are where our system/reference pressures and compositions come into play, so we need to specify them somehow. For gas phase reactions, regardless of temperature or operating pressure, we always do this the same way...so let's just imagine a general solution at *any* (T,P).\n",
    "\n",
    "As we illustrated in class, if we expand the product operator, $\\prod$, for ammonia synthesis, we find:\n",
    "\n",
    "$$K = \\frac{{a_{N\\!H_3}}^{2}}{{a_{N_2}}{a_{H_2}}^3}$$\n",
    "\n",
    "Regardless of the reaction temperature or pressure (or even phase of matter), we always define a thermodyanmic activity as:\n",
    "\n",
    "$$a_j = \\frac{\\hat{f}_j}{f_j^\\circ}$$\n",
    "\n",
    "The numerator is the fugacity of species $j$ under reaction conditions $(T, P, \\chi_j)$. \n",
    "\n",
    "The denominator is the fugacity of species $j$ in its reference state. Our reference state for gas-phase species is a pure species at 1 bar and the reaction temperature, T. Our convention for calculating fugacities of gases in a mixture uses the Lewis Randall rule.  As usual, this gives:\n",
    "\n",
    "$$a_j = \\frac{y_j \\phi_j P}{y_j^\\circ \\phi_j^\\circ  P^\\circ}$$\n",
    "\n",
    "Looking at the numerator, we are operating this reactor at an unknown pressure, P, so we aren't yet sure about the fugacity coefficient in the numerator, $\\phi_j$. Looking at the denominator, the reference state is a pure species, so $y_j^\\circ = 1$. Further, that pure species is at 1 bar, so $\\phi_j^\\circ = 1$\n",
    "\n",
    "This gives a very general result for activities of gases in a mixture, where we retain the fugacity coefficient:\n",
    "\n",
    "$$a_j = \\frac{y_j \\phi_j P}{P^\\circ}$$\n",
    "\n",
    "Notice that I'm still retaining $P$ and $P^\\circ$ in my solution.  This helps me to keep it general, and to make sure that I take care to be dimensionally consistent.\n",
    "\n",
    "You *can* make these substitutions.  There is noting wrong with developing the following equations, and they might help with illustrations...I just don't do this when I solve the problem in Python because the equations are messy to write and increase the chances I make mistakes.  \n",
    "\n",
    "But, for completeness sake, just to make clear what shows up in the one \"equation\" we are trying to solve, you would get:\n",
    "\n",
    "$$K = \\frac{\\left(\\frac{y_{N\\!H_3} \\phi_{N\\!H_3} P}{P^\\circ}\\right)^2}{\\left(\\frac{y_{N_2}\\phi_{N_2}P}{P^\\circ}\\right) \\left(\\frac{y_{H_2}\\phi_{H_2}P}{P^\\circ}\\right)^3}$$\n",
    "\n",
    "We see multiple pressures and reference pressures that will cancel, giving:\n",
    "\n",
    "$$K = \\frac{{y_{N\\!H_3}}^2}{y_{N_2}{y_{H_2}}^3} \\frac{{\\phi_{N\\!H_3}}^2}{\\phi_{N_2}{\\phi_{H_2}}^3}\\left(\\frac{P^\\circ}{P}\\right)^2$$\n",
    "\n",
    "This is a completely general equation that will apply at any Temperature or Pressure, so we can always use this result, regardless of the operating conditions.\n",
    "\n",
    "As we discussed in class, $K$ is fully determined by the reaction temperature.  Once we set temperature, K is fixed no matter how much we change pressure or the starting composition.  Those things are important, but they all show up in the right hand side of the equation.  They do not impact the value of K.\n",
    "\n",
    "This equation fully captures pressure effects.  Once we set the pressure, we see it appears in this equation (P).  It also changes the fugacity coefficients of each species.  Pressure dependencies do not appear anywhere else in the problem, so correctly specifiying our thermodynamic activities is how we account for changes in operating pressure."
   ]
  },
  {
   "cell_type": "code",
   "execution_count": null,
   "metadata": {},
   "outputs": [],
   "source": []
  },
  {
   "cell_type": "markdown",
   "metadata": {},
   "source": [
    "**Using Stoichiometry to reduce unknowns**\n",
    "\n",
    "Even after T is set (which gives us K) and pressure is set (which gives us P and all $\\phi_j$ values), we still have 3 unknowns: the equilibrium mole fractions of all species ($y_{N_2}$, $y_{H_2}$, and $y_{N\\!H_3}$). The final step before we can solve this equation is to define the mole fraction of each species as:\n",
    "\n",
    "$$y_j = \\frac{N_j}{N_{tot}} = \\frac{N_j}{\\sum N_j}$$\n",
    "\n",
    "This allows us to define an extent of reaction, $\\varepsilon$, and then specifiy the moles of each species as a function of extent using a \"mole table\" type of approach:\n",
    "\n",
    "$$N_j = N_{j,0} + \\nu_j \\varepsilon$$\n",
    "\n",
    "For simplicity, I will relabel the compounds using N (N$_2$), H (H$_2$), and A (NH$_3$) just for cleaner notation in the table below. \n",
    "\n",
    "$$N (g) + 3H (g) \\leftrightharpoons 2A (g)$$\n",
    "\n",
    "Applying this to each species, we find:\n",
    "\n",
    "|Species   |In   |Change           |End                  |\n",
    "|:---------|:---:|:---------------:|:-------------------:|\n",
    "| N$_2$    |NN0  |-1$\\varepsilon$  |NN0 - 1$\\varepsilon$ | \n",
    "| H$_2$    |NH0  |-3$\\varepsilon$  |NH0 - 3$\\varepsilon$ |\n",
    "| NH$_3$   |NA0  |+2$\\varepsilon$  |NA0 + 2$\\varepsilon$ |\n",
    "| Total    |NT0  |-2$\\varepsilon$  |NT0 - 2$\\varepsilon$ |\n",
    "\n",
    "\n",
    "Now that these are defined, we can substitute back into our mole fraction defintion:\n",
    "\n",
    "$$y_j = \\frac{N_j}{N_{tot}} = \\frac{N_j}{\\sum N_j}$$\n",
    "\n",
    "So that everything back to thermodynamic activities is now defined as a function of only extent of reaction and pressure.  Once we specify pressure and temperature, we have only one unknown (the extent) and can solve the equilibrium problem.\n",
    "\n",
    "For now, we'll make an incorrect assumption just to illustrate the basic problem before getting too fancy:  We will assume fugacity coefficients are always 1 no matter the operating pressure.\n",
    "\n",
    "Notice that solving the problem when we have it formulated this way is just a matter of changing Trxn, Prxn, and maybe our initial guess:"
   ]
  },
  {
   "cell_type": "code",
   "execution_count": 4,
   "metadata": {},
   "outputs": [],
   "source": [
    "def EQ4(ex):\n",
    "    \n",
    "    #Specifications for this problem\n",
    "    T   = 298 #K\n",
    "    P   = 1 #bar\n",
    "    P0  = 1.0 #bar\n",
    "    NN0 = 1.0 #moles\n",
    "    NH0 = 3.0 #moles\n",
    "    NA0 = 0.0 #moles\n",
    "    \n",
    "    #Mole Table, this captures extent of reaction\n",
    "    NN  = NN0 - ex\n",
    "    NH  = NH0 - 3*ex\n",
    "    NA  = NA0 + 2*ex\n",
    "    NT  = NN + NH + NA\n",
    "    \n",
    "    #Mole fractions -- note extent is built into definitions of NA, NB, NC, NT\n",
    "    yN  = NN/NT\n",
    "    yH  = NH/NT\n",
    "    yA  = NA/NT\n",
    "    \n",
    "    #Fugacity coefficients -- generally species specific and a strong function of pressure\n",
    "    phiN = 1\n",
    "    phiH = 1\n",
    "    phiA = 1\n",
    "    \n",
    "    #Activity definitions -- extents embedded in yA, yB, yC; P and P0 also show up.\n",
    "    aN  = yN*phiN*P/P0\n",
    "    aH  = yH*phiH*P/P0\n",
    "    aA  = yA*phiA*P/P0\n",
    "    \n",
    "    #This is our ratio of thermodynamic activities at equiliribum, i.e., Kactivity = Product(a_j^nu_j)\n",
    "    KACTIVITY = aA**2/aN/aH**3\n",
    "    \n",
    "    #And finall, our Thermodynamic equilibrium constant\n",
    "    KTHERMO = K(T)\n",
    "       \n",
    "    return KACTIVITY - KTHERMO  #We want to find the value of extent where KCOMP - Kthermo = 0"
   ]
  },
  {
   "cell_type": "code",
   "execution_count": 5,
   "metadata": {},
   "outputs": [
    {
     "name": "stdout",
     "output_type": "stream",
     "text": [
      "      converged: True\n",
      "           flag: 'converged'\n",
      " function_calls: 10\n",
      "     iterations: 9\n",
      "           root: 0.9678585932069598 \n",
      "\n",
      "Conversion of N2 is 0.9679, yN is 0.0156, yH is 0.0467, and yA is 0.9377\n"
     ]
    }
   ],
   "source": [
    "ans, info = opt.newton(EQ4, 0.98, full_output = True) #This solves for the equilibrium extent\n",
    "\n",
    "print(info, '\\n') #Let's make sure it converged...\n",
    "\n",
    "#Solve for conversion and mole fractions.\n",
    "NN0 = 1.0 #moles\n",
    "NH0 = 3.0 #moles\n",
    "NA0 = 0.0 #moles\n",
    "NN = NN0 - ans\n",
    "NH = NH0 - 3*ans\n",
    "NA = NA0 + 2*ans\n",
    "NT = NN + NH + NA\n",
    "XN = (NN0 - NN)/NN0\n",
    "yN = NN/NT\n",
    "yH = NH/NT\n",
    "yA = NA/NT\n",
    "\n",
    "print(f'Conversion of N2 is {round(XN,4)}, yN is {round(yN, 4)}, yH is {round(yH, 4)}, and yA is {round(yA, 4)}')"
   ]
  },
  {
   "cell_type": "markdown",
   "metadata": {},
   "source": [
    "**Equilibrium Problems 2, 3, or 4 can all be solved with the same function above....**"
   ]
  },
  {
   "cell_type": "markdown",
   "metadata": {},
   "source": [
    "<span style=\"font-family:Times New Roman; font-size:2.0em;\">**Equilibrium Example 5**</span>\n",
    "\n",
    "**But what about nonideal gas behavior?  This is 200 bar after all**\n",
    "\n",
    "True.  We really shouldn't set fugacity coefficients equal to 1, the problem is that they can be difficult to calculate. In general, you can calculate a fugacity coefficient using the following equation:\n",
    "\n",
    "$$\\ln(\\phi_j) = \\int_0^P\\frac{\\left(Z_j-1\\right)}{P}d\\!P$$\n",
    "\n",
    "Or:\n",
    "\n",
    "$$\\phi_j = \\exp\\left(\\int_0^P\\frac{\\left(Z_j-1\\right)}{P}d\\!P\\right)$$\n",
    "\n",
    "In this case, we have the following empirical functions that describe the compressibility factors for all gases at 600K.  These can be used to calculate fugacity coefficients.  Here, Pressures are in units of bar.\n",
    "\n",
    "$$Z_{N_2} = 1 + 2.1735\\times10^{-4}P + 6.2923\\times10^{-7}P^2 - 2.3065\\times10^{-10}P^3 - 3.0835\\times10^{-14}P^4$$\n",
    "\n",
    "$$Z_{H_2} = 1 + 4.3484\\times10^{-4}P + 9.5380\\times10^{-8}P^2 - 5.4028\\times10^{-11}P^3 + 1.5314\\times10^{-14}P^4$$\n",
    "\n",
    "$$Z_{NH_3} = 0.99987 - 9.0961\\times10^{-4}P - 1.0349\\times10^{-6}P^2 + 2.6566\\times10^{-9}P^3 + 4.6925\\times10^{-12}P^4$$\n",
    "\n",
    "Now, we need to use those to calculate fugacity coefficients at 200bar.  This is actually pretty easy to do in a programming language. We have polynomial expressions that give us compressibility factors for N$_2$, H$_2$, and NH$_3$ as a function of pressure, so all we need to do to calculate fugacity coefficients is integrate those gnarly looking polynomials...\n",
    "\n",
    "You *could* do this by hand -- they are polynomials after all.  But I prefer to use gaussian quadrature (similar to what your calculator does to solve definite integrals).\n",
    "\n",
    "**Gaussian Quadrature**\n",
    "\n",
    "Before we deal with a complex looking function to handle fugacity coefficients, let's get a simple introduction to gaussian quadrature.  This is in the Scipy package, specifically as scipy.integrate.quadrature.  I've imported this as quadgk (Gauss-Kronrod quadrature) for simplicity. \n",
    "\n",
    "This basically works very similar to your graphing calculator does for solving a definitite integral. We define an integrand (the function we're integrating), and we specifiy the range of integration. For example, let's use it to solve the following definite integral using GK quadrature:\n",
    "\n",
    "$$\\int_0^{10} x^2 dx$$\n",
    "\n",
    "We know that the solution to that integral is:\n",
    "\n",
    "$$\\frac{x^3}{3}\\bigg |_0^{10} = 333.33$$\n",
    "\n",
    "Now with quadgk (note we have to define the integrand as a function...):"
   ]
  },
  {
   "cell_type": "code",
   "execution_count": 6,
   "metadata": {},
   "outputs": [
    {
     "name": "stdout",
     "output_type": "stream",
     "text": [
      "333.33333333333326\n"
     ]
    }
   ],
   "source": [
    "example = lambda x: x**2\n",
    "ans, error = quadgk(example, 0, 10)\n",
    "print(ans)"
   ]
  },
  {
   "cell_type": "markdown",
   "metadata": {},
   "source": [
    "With that in mind, we can use a similar approach to develop integrands as functions of pressure..."
   ]
  },
  {
   "cell_type": "code",
   "execution_count": 7,
   "metadata": {},
   "outputs": [],
   "source": [
    "N2COEFFS  = [1.0000e+00, 2.1735e-04, 6.2923e-07, -2.3065e-10, -3.0835e-14]\n",
    "H2COEFFS  = [1.0000e+00,  4.3484e-04,  9.5380e-08, -5.4028e-11,  1.5314e-14]\n",
    "NH3COEFFS = [9.9987e-01, -9.0961e-04, -1.0349e-06,  2.6566e-09,  4.6925e-12]"
   ]
  },
  {
   "cell_type": "markdown",
   "metadata": {},
   "source": [
    "**Step 1**: Write compressibility factors as functions of pressure.\n",
    "\n",
    "Let's use lambda functions here. These are just univariate polynomias, so these can be easily written as a one linear."
   ]
  },
  {
   "cell_type": "code",
   "execution_count": 8,
   "metadata": {},
   "outputs": [
    {
     "data": {
      "text/plain": [
       "<matplotlib.legend.Legend at 0x28f2f0a6e80>"
      ]
     },
     "execution_count": 8,
     "metadata": {},
     "output_type": "execute_result"
    },
    {
     "data": {
      "image/png": "[encoded data removed]",
      "text/plain": [
       "<Figure size 432x288 with 1 Axes>"
      ]
     },
     "metadata": {
      "filenames": {
       "image/png": "C:\\Users\\jqbond\\Documents\\GitHub\\WebContent\\2022CEN587\\_build\\jupyter_execute\\F22-587-R03-Solution_16_1.png"
      },
      "needs_background": "light"
     },
     "output_type": "display_data"
    }
   ],
   "source": [
    "ZN  = lambda P: (1 + 2.1735e-4*P + 6.2923e-7*P**2 - 2.3065e-10*P**3 - 3.0835e-14*P**4)\n",
    "ZH  = lambda P: (1 + 4.3484e-4*P + 9.5380e-8*P**2 - 5.4028e-11*P**3 + 1.5314e-14*P**4)\n",
    "ZA  = lambda P: (0.99987 - 9.0961e-4*P - 1.0349e-6*P**2 + 2.6566e-9*P**3 + 4.6925e-12*P**4)\n",
    "pplot = np.linspace(0,400,400) #We'll plot from 0 bar to 400 bar...\n",
    "plt.plot(pplot, ZN(pplot), color = 'black', label = 'ZN2')\n",
    "plt.plot(pplot, ZH(pplot), color = 'blue', label = 'ZH2')\n",
    "plt.plot(pplot, ZA(pplot), color = 'red', label = 'ZNH3')\n",
    "plt.xlabel('Pressure (bar)')\n",
    "plt.ylabel('Z')\n",
    "plt.legend()"
   ]
  },
  {
   "cell_type": "markdown",
   "metadata": {},
   "source": [
    "Now that I have expressions for compressibility factors, I'll use them to define integrands that I can use to solve for the fugacity coefficients.  Again, we are trying to solve:\n",
    "\n",
    "$$\\phi_j = \\exp\\left(\\int_0^P\\frac{\\left(Z_j-1\\right)}{P}d\\!P\\right)$$\n",
    "\n",
    "The integrand is the part I am integrating:\n",
    "\n",
    "$$\\phi_j = \\exp\\left(\\int_0^P \\textrm{integrand} \\ d\\!P\\right)$$\n",
    "\n",
    "So I'm now writing functions that define the integrands that I need to integrate to figure out the fugacity coefficients.\n",
    "\n",
    "**Notice:** I am again using a lambda function since this is a nice, easy one liner.  I'm passing Pressure as a function argument, which then gets passed into Z(P).  Functions are neat this way---you can use a function inside of another function if it is useful to you!!"
   ]
  },
  {
   "cell_type": "code",
   "execution_count": 9,
   "metadata": {},
   "outputs": [],
   "source": [
    "INTN  = lambda P: (ZN(P) - 1)/P\n",
    "INTH  = lambda P: (ZH(P) - 1)/P\n",
    "INTA  = lambda P: (ZA(P) - 1)/P"
   ]
  },
  {
   "cell_type": "markdown",
   "metadata": {},
   "source": [
    "Now that I have the integrands defined, I can use Gaussian Quadrature to integrate them to any pressure I want. This is just integrating the integrand as a function of pressure from 0 to P.  Here, we'll use an upper limit of 200 bar since that is what the problem specifies for industrial synthesis of ammonia."
   ]
  },
  {
   "cell_type": "code",
   "execution_count": 10,
   "metadata": {},
   "outputs": [
    {
     "name": "stdout",
     "output_type": "stream",
     "text": [
      "1.056992064544399 1.0927939252498111 0.8226247909678744\n"
     ]
    }
   ],
   "source": [
    "phiN = np.exp(quadgk(INTN, 0, 200)[0])\n",
    "phiH = np.exp(quadgk(INTH, 0, 200)[0])\n",
    "phiA = np.exp(quadgk(INTA, 0, 200, tol=1e-06, rtol=1e-06, maxiter=500)[0])\n",
    "print(phiN, phiH, phiA)"
   ]
  },
  {
   "cell_type": "markdown",
   "metadata": {},
   "source": [
    "Now, we're in a position to adapt our ammonia objective function to include fugacity coefficients.  "
   ]
  },
  {
   "cell_type": "code",
   "execution_count": 11,
   "metadata": {},
   "outputs": [],
   "source": [
    "def EQ5(ex):\n",
    "    #Specifications for this problem\n",
    "    T   = 600 #K\n",
    "    P   = 200 #bar\n",
    "    P0  = 1.0 #bar\n",
    "    NN0 = 1.0 #moles\n",
    "    NH0 = 3.0 #moles\n",
    "    NA0 = 0.0 #moles\n",
    "\n",
    "    #Mole Table, this captures extent of reaction\n",
    "    NN  = NN0 - ex\n",
    "    NH  = NH0 - 3*ex\n",
    "    NA  = NA0 + 2*ex\n",
    "    NT  = NN + NH + NA\n",
    "    \n",
    "    #Mole fractions -- note extent is built into definitions of NA, NB, NC, NT\n",
    "    yN  = NN/NT\n",
    "    yH  = NH/NT\n",
    "    yA  = NA/NT\n",
    "    \n",
    "    #Fugacity coefficients -- generally species specific and a strong function of pressure\n",
    "    phiN = 1.057\n",
    "    phiH = 1.093\n",
    "    phiA = 0.823\n",
    "    \n",
    "    #Activity definitions -- extents embedded in yA, yB, yC; P and P0 also show up.\n",
    "    aN  = yN*phiN*P/P0\n",
    "    aH  = yH*phiH*P/P0\n",
    "    aA  = yA*phiA*P/P0\n",
    "    \n",
    "    #This is our ratio of thermodynamic activities at equiliribum, i.e., Kactivity = Product(a_j^nu_j)\n",
    "    KACTIVITY = aA**2/aN/aH**3\n",
    "    \n",
    "    #Our thermodynamic equilibrium constant\n",
    "    KTHERMO = K(T)\n",
    "       \n",
    "    return KACTIVITY - KTHERMO  #We want to find the value of extent where KCOMP - Kthermo = 0"
   ]
  },
  {
   "cell_type": "code",
   "execution_count": 12,
   "metadata": {},
   "outputs": [
    {
     "name": "stdout",
     "output_type": "stream",
     "text": [
      "      converged: True\n",
      "           flag: 'converged'\n",
      " function_calls: 24\n",
      "     iterations: 23\n",
      "           root: 0.7466142677957369 \n",
      "\n",
      "Conversion of N2 is 0.7466, yN is 0.1011, yH is 0.3032, and yA is 0.5957\n"
     ]
    }
   ],
   "source": [
    "ans, info = opt.newton(EQ5, 0.98, full_output = True) #This solves for the equilibrium extent\n",
    "\n",
    "print(info, '\\n') #Let's make sure it converged...\n",
    "\n",
    "#Solve for conversion and mole fractions.\n",
    "NN0 = 1.0 #moles\n",
    "NH0 = 3.0 #moles\n",
    "NA0 = 0.0 #moles\n",
    "NN = NN0 - ans\n",
    "NH = NH0 - 3*ans\n",
    "NA = NA0 + 2*ans\n",
    "NT = NN + NH + NA\n",
    "XN = (NN0 - NN)/NN0\n",
    "yN = NN/NT\n",
    "yH = NH/NT\n",
    "yA = NA/NT\n",
    "\n",
    "print(f'Conversion of N2 is {round(XN,4)}, yN is {round(yN, 4)}, yH is {round(yH, 4)}, and yA is {round(yA, 4)}')"
   ]
  },
  {
   "cell_type": "markdown",
   "metadata": {},
   "source": [
    "**Now let's flex a little bit and really see if we can make this problem general**\n",
    "\n",
    "There are a couple of things I don't like about the above approach.  The one we'll talk about now is that it requires me to basically re-write specifications and recalculate fugacity coefficients every time I change the temperature and the pressure.  What I would *like* to do is embed those calculations into my objective function so that I can just pass (T,P) as arguments and have the problem solve at any T,P that I like without me having to, e.g., hard-code values of the equilibrium constant or fugacity coefficients.  Let's start by moving everything inside of the function...and I'm going to give that function 3 arguments:  reaction extent, temperature, and pressure"
   ]
  },
  {
   "cell_type": "code",
   "execution_count": 13,
   "metadata": {},
   "outputs": [],
   "source": [
    "def tempfun(ex, T, P):\n",
    "\n",
    "    #Specifications for this problem\n",
    "    #Trxn = T -- we are passing this into the function as an argument.\n",
    "    #Prxn = P -- we are passing this into the function as an argument\n",
    "\n",
    "    P0  = 1.0 #bar\n",
    "    NN0 = 1.0 #moles\n",
    "    NH0 = 3.0 #moles\n",
    "    NA0 = 0.0 #moles\n",
    "    \n",
    "    #Mole Table, this captures extent of reaction\n",
    "    NN  = NN0 - ex\n",
    "    NH  = NH0 - 3*ex\n",
    "    NA  = NA0 + 2*ex\n",
    "    NT  = NN + NH + NA\n",
    "    \n",
    "    #Mole fractions -- note extent is built into definitions of NA, NB, NC, NT\n",
    "    yN  = NN/NT\n",
    "    yH  = NH/NT\n",
    "    yA  = NA/NT\n",
    "    \n",
    "    #Fugacity coefficients -- generally species specific and a strong function of pressure; reuse integrand functions\n",
    "    phiN = np.exp(quadgk(INTN, 0, P)[0])\n",
    "    phiH = np.exp(quadgk(INTH, 0, P)[0])\n",
    "    phiA = np.exp(quadgk(INTA, 0, P, tol=1e-06, rtol=1e-06, maxiter=500)[0])\n",
    "    \n",
    "    #Activity definitions -- extents embedded in yA, yB, yC; P and P0 also show up.\n",
    "    aN  = yN*phiN*P/P0\n",
    "    aH  = yH*phiH*P/P0\n",
    "    aA  = yA*phiA*P/P0\n",
    "    \n",
    "    #This is our ratio of thermodynamic activities at equiliribum, i.e., Kactivity = Product(a_j^nu_j)\n",
    "    KACTIVITY = aA**2/aN/aH**3\n",
    "    \n",
    "    #Calculate the equilibrium constant at T = Trxn\n",
    "    KTHERMO = K(T) \n",
    "       \n",
    "    return KACTIVITY - KTHERMO  #We want to find the value of extent where KCOMP - Kthermo = 0"
   ]
  },
  {
   "cell_type": "markdown",
   "metadata": {},
   "source": [
    "Now we have a small problem -- we recall that for our equation solvers in scipy.optimize, they only really work on a function that takes one argument (our unknowns, ex in this case)...here, we need to give 3 arguments to our function (ex, T, P).  There are two ways to handle this in Python. I like the first one since it is the same as the way you'd do this in Matlab or in Julia, so it is general.  The second one is, as far as I know, Python-specific.\n",
    "\n",
    "**Use a lambda function to pass extra parameters**"
   ]
  },
  {
   "cell_type": "code",
   "execution_count": 14,
   "metadata": {},
   "outputs": [
    {
     "name": "stdout",
     "output_type": "stream",
     "text": [
      "      converged: True\n",
      "           flag: 'converged'\n",
      " function_calls: 18\n",
      "     iterations: 17\n",
      "           root: 0.746634352937764 \n",
      "\n",
      "Conversion of N2 is 0.7466, yN is 0.1011, yH is 0.3032, and yA is 0.5957\n"
     ]
    }
   ],
   "source": [
    "Trxn = 600 #K\n",
    "Prxn  = 200 #bar\n",
    "objective = lambda ex: tempfun(ex, Trxn, Prxn)\n",
    "ans, info = opt.newton(objective, 0.95, full_output = True) #This solves for the equilibrium extent\n",
    "\n",
    "print(info, '\\n') #Let's make sure it converged...\n",
    "\n",
    "#Solve for conversion and mole fractions.\n",
    "NN0 = 1.0 #moles\n",
    "NH0 = 3.0 #moles\n",
    "NA0 = 0.0 #moles\n",
    "NN = NN0 - ans\n",
    "NH = NH0 - 3*ans\n",
    "NA = NA0 + 2*ans\n",
    "NT = NN + NH + NA\n",
    "XN = (NN0 - NN)/NN0\n",
    "yN = NN/NT\n",
    "yH = NH/NT\n",
    "yA = NA/NT\n",
    "\n",
    "print(f'Conversion of N2 is {round(XN,4)}, yN is {round(yN, 4)}, yH is {round(yH, 4)}, and yA is {round(yA, 4)}')"
   ]
  },
  {
   "cell_type": "markdown",
   "metadata": {},
   "source": [
    "You can also pass them directly to opt.newton using the args keyword.  This is a pretty common option for both algebraic and ODE solvers in Python.  It is honestly pretty convenient, so it is worth knowing about.\n",
    "\n",
    "**Using the args keyword argument**"
   ]
  },
  {
   "cell_type": "code",
   "execution_count": 15,
   "metadata": {},
   "outputs": [
    {
     "name": "stdout",
     "output_type": "stream",
     "text": [
      "      converged: True\n",
      "           flag: 'converged'\n",
      " function_calls: 24\n",
      "     iterations: 23\n",
      "           root: 0.746634352937764 \n",
      "\n",
      "Conversion of N2 is 0.7466, yN is 0.1011, yH is 0.3032, and yA is 0.5957\n"
     ]
    }
   ],
   "source": [
    "Trxn = 600 #K\n",
    "Prxn  = 200 #bar\n",
    "ans, info = opt.newton(tempfun, 0.98, args = (Trxn, Prxn), full_output = True) #This solves for the equilibrium extent\n",
    "\n",
    "print(info, '\\n') #Let's make sure it converged...\n",
    "\n",
    "#Solve for conversion and mole fractions.\n",
    "NN0 = 1.0 #moles\n",
    "NH0 = 3.0 #moles\n",
    "NA0 = 0.0 #moles\n",
    "NN = NN0 - ans\n",
    "NH = NH0 - 3*ans\n",
    "NA = NA0 + 2*ans\n",
    "NT = NN + NH + NA\n",
    "XN = (NN0 - NN)/NN0\n",
    "yN = NN/NT\n",
    "yH = NH/NT\n",
    "yA = NA/NT\n",
    "\n",
    "print(f'Conversion of N2 is {round(XN,4)}, yN is {round(yN, 4)}, yH is {round(yH, 4)}, and yA is {round(yA, 4)}')"
   ]
  },
  {
   "cell_type": "code",
   "execution_count": null,
   "metadata": {},
   "outputs": [],
   "source": []
  },
  {
   "cell_type": "markdown",
   "metadata": {},
   "source": [
    "**How about making this really crazy and solving for a lot of temperatures and pressures with a loop?**\n",
    "\n",
    "Perhaps it would be useful to map the equilibrium conversion in 3D space as a function of reaction temperature and reaction pressure.  We can easily do this!  One option is a for loop that will solve the objective function for a lot of temperatures and pressures."
   ]
  },
  {
   "cell_type": "code",
   "execution_count": 16,
   "metadata": {},
   "outputs": [
    {
     "ename": "KeyboardInterrupt",
     "evalue": "",
     "output_type": "error",
     "traceback": [
      "\u001b[1;31m---------------------------------------------------------------------------\u001b[0m",
      "\u001b[1;31mKeyboardInterrupt\u001b[0m                         Traceback (most recent call last)",
      "\u001b[1;32m~\\AppData\\Local\\Temp\\ipykernel_6864\\2097038709.py\u001b[0m in \u001b[0;36m<cell line: 10>\u001b[1;34m()\u001b[0m\n\u001b[0;32m     11\u001b[0m     \u001b[1;32mfor\u001b[0m \u001b[0mj\u001b[0m \u001b[1;32min\u001b[0m \u001b[0mrange\u001b[0m\u001b[1;33m(\u001b[0m\u001b[1;36m0\u001b[0m\u001b[1;33m,\u001b[0m\u001b[0mlen\u001b[0m\u001b[1;33m(\u001b[0m\u001b[0mPset\u001b[0m\u001b[1;33m)\u001b[0m\u001b[1;33m)\u001b[0m\u001b[1;33m:\u001b[0m\u001b[1;33m\u001b[0m\u001b[1;33m\u001b[0m\u001b[0m\n\u001b[0;32m     12\u001b[0m         \u001b[0mobjective\u001b[0m \u001b[1;33m=\u001b[0m \u001b[1;32mlambda\u001b[0m \u001b[0mex\u001b[0m\u001b[1;33m:\u001b[0m \u001b[0mtempfun\u001b[0m\u001b[1;33m(\u001b[0m\u001b[0mex\u001b[0m\u001b[1;33m,\u001b[0m \u001b[0mTset\u001b[0m\u001b[1;33m[\u001b[0m\u001b[0mi\u001b[0m\u001b[1;33m]\u001b[0m\u001b[1;33m,\u001b[0m \u001b[0mPset\u001b[0m\u001b[1;33m[\u001b[0m\u001b[0mj\u001b[0m\u001b[1;33m]\u001b[0m\u001b[1;33m)\u001b[0m\u001b[1;33m\u001b[0m\u001b[1;33m\u001b[0m\u001b[0m\n\u001b[1;32m---> 13\u001b[1;33m         \u001b[0mans\u001b[0m\u001b[1;33m,\u001b[0m \u001b[0minfo\u001b[0m \u001b[1;33m=\u001b[0m \u001b[0mopt\u001b[0m\u001b[1;33m.\u001b[0m\u001b[0mbrentq\u001b[0m\u001b[1;33m(\u001b[0m\u001b[0mobjective\u001b[0m\u001b[1;33m,\u001b[0m \u001b[1;36m1e-6\u001b[0m\u001b[1;33m,\u001b[0m \u001b[1;36m0.99999\u001b[0m\u001b[1;33m,\u001b[0m \u001b[0mxtol\u001b[0m \u001b[1;33m=\u001b[0m \u001b[1;36m1e-8\u001b[0m\u001b[1;33m,\u001b[0m \u001b[0mrtol\u001b[0m \u001b[1;33m=\u001b[0m \u001b[1;36m1e-8\u001b[0m\u001b[1;33m,\u001b[0m \u001b[0mfull_output\u001b[0m \u001b[1;33m=\u001b[0m \u001b[1;32mTrue\u001b[0m\u001b[1;33m)\u001b[0m\u001b[1;33m\u001b[0m\u001b[1;33m\u001b[0m\u001b[0m\n\u001b[0m\u001b[0;32m     14\u001b[0m         \u001b[1;32mif\u001b[0m \u001b[0minfo\u001b[0m\u001b[1;33m.\u001b[0m\u001b[0mconverged\u001b[0m \u001b[1;33m==\u001b[0m \u001b[1;32mTrue\u001b[0m\u001b[1;33m:\u001b[0m\u001b[1;33m\u001b[0m\u001b[1;33m\u001b[0m\u001b[0m\n\u001b[0;32m     15\u001b[0m             \u001b[0mXout\u001b[0m\u001b[1;33m[\u001b[0m\u001b[0mi\u001b[0m\u001b[1;33m,\u001b[0m\u001b[0mj\u001b[0m\u001b[1;33m]\u001b[0m \u001b[1;33m=\u001b[0m \u001b[0mans\u001b[0m\u001b[1;33m/\u001b[0m\u001b[0mNN0\u001b[0m\u001b[1;33m\u001b[0m\u001b[1;33m\u001b[0m\u001b[0m\n",
      "\u001b[1;32m~\\anaconda3\\lib\\site-packages\\scipy\\optimize\\_zeros_py.py\u001b[0m in \u001b[0;36mbrentq\u001b[1;34m(f, a, b, args, xtol, rtol, maxiter, full_output, disp)\u001b[0m\n\u001b[0;32m    781\u001b[0m     \u001b[1;32mif\u001b[0m \u001b[0mrtol\u001b[0m \u001b[1;33m<\u001b[0m \u001b[0m_rtol\u001b[0m\u001b[1;33m:\u001b[0m\u001b[1;33m\u001b[0m\u001b[1;33m\u001b[0m\u001b[0m\n\u001b[0;32m    782\u001b[0m         \u001b[1;32mraise\u001b[0m \u001b[0mValueError\u001b[0m\u001b[1;33m(\u001b[0m\u001b[1;34m\"rtol too small (%g < %g)\"\u001b[0m \u001b[1;33m%\u001b[0m \u001b[1;33m(\u001b[0m\u001b[0mrtol\u001b[0m\u001b[1;33m,\u001b[0m \u001b[0m_rtol\u001b[0m\u001b[1;33m)\u001b[0m\u001b[1;33m)\u001b[0m\u001b[1;33m\u001b[0m\u001b[1;33m\u001b[0m\u001b[0m\n\u001b[1;32m--> 783\u001b[1;33m     \u001b[0mr\u001b[0m \u001b[1;33m=\u001b[0m \u001b[0m_zeros\u001b[0m\u001b[1;33m.\u001b[0m\u001b[0m_brentq\u001b[0m\u001b[1;33m(\u001b[0m\u001b[0mf\u001b[0m\u001b[1;33m,\u001b[0m \u001b[0ma\u001b[0m\u001b[1;33m,\u001b[0m \u001b[0mb\u001b[0m\u001b[1;33m,\u001b[0m \u001b[0mxtol\u001b[0m\u001b[1;33m,\u001b[0m \u001b[0mrtol\u001b[0m\u001b[1;33m,\u001b[0m \u001b[0mmaxiter\u001b[0m\u001b[1;33m,\u001b[0m \u001b[0margs\u001b[0m\u001b[1;33m,\u001b[0m \u001b[0mfull_output\u001b[0m\u001b[1;33m,\u001b[0m \u001b[0mdisp\u001b[0m\u001b[1;33m)\u001b[0m\u001b[1;33m\u001b[0m\u001b[1;33m\u001b[0m\u001b[0m\n\u001b[0m\u001b[0;32m    784\u001b[0m     \u001b[1;32mreturn\u001b[0m \u001b[0mresults_c\u001b[0m\u001b[1;33m(\u001b[0m\u001b[0mfull_output\u001b[0m\u001b[1;33m,\u001b[0m \u001b[0mr\u001b[0m\u001b[1;33m)\u001b[0m\u001b[1;33m\u001b[0m\u001b[1;33m\u001b[0m\u001b[0m\n\u001b[0;32m    785\u001b[0m \u001b[1;33m\u001b[0m\u001b[0m\n",
      "\u001b[1;32m~\\AppData\\Local\\Temp\\ipykernel_6864\\2097038709.py\u001b[0m in \u001b[0;36m<lambda>\u001b[1;34m(ex)\u001b[0m\n\u001b[0;32m     10\u001b[0m \u001b[1;32mfor\u001b[0m \u001b[0mi\u001b[0m \u001b[1;32min\u001b[0m \u001b[0mrange\u001b[0m\u001b[1;33m(\u001b[0m\u001b[1;36m0\u001b[0m\u001b[1;33m,\u001b[0m \u001b[0mlen\u001b[0m\u001b[1;33m(\u001b[0m\u001b[0mTset\u001b[0m\u001b[1;33m)\u001b[0m\u001b[1;33m)\u001b[0m\u001b[1;33m:\u001b[0m\u001b[1;33m\u001b[0m\u001b[1;33m\u001b[0m\u001b[0m\n\u001b[0;32m     11\u001b[0m     \u001b[1;32mfor\u001b[0m \u001b[0mj\u001b[0m \u001b[1;32min\u001b[0m \u001b[0mrange\u001b[0m\u001b[1;33m(\u001b[0m\u001b[1;36m0\u001b[0m\u001b[1;33m,\u001b[0m\u001b[0mlen\u001b[0m\u001b[1;33m(\u001b[0m\u001b[0mPset\u001b[0m\u001b[1;33m)\u001b[0m\u001b[1;33m)\u001b[0m\u001b[1;33m:\u001b[0m\u001b[1;33m\u001b[0m\u001b[1;33m\u001b[0m\u001b[0m\n\u001b[1;32m---> 12\u001b[1;33m         \u001b[0mobjective\u001b[0m \u001b[1;33m=\u001b[0m \u001b[1;32mlambda\u001b[0m \u001b[0mex\u001b[0m\u001b[1;33m:\u001b[0m \u001b[0mtempfun\u001b[0m\u001b[1;33m(\u001b[0m\u001b[0mex\u001b[0m\u001b[1;33m,\u001b[0m \u001b[0mTset\u001b[0m\u001b[1;33m[\u001b[0m\u001b[0mi\u001b[0m\u001b[1;33m]\u001b[0m\u001b[1;33m,\u001b[0m \u001b[0mPset\u001b[0m\u001b[1;33m[\u001b[0m\u001b[0mj\u001b[0m\u001b[1;33m]\u001b[0m\u001b[1;33m)\u001b[0m\u001b[1;33m\u001b[0m\u001b[1;33m\u001b[0m\u001b[0m\n\u001b[0m\u001b[0;32m     13\u001b[0m         \u001b[0mans\u001b[0m\u001b[1;33m,\u001b[0m \u001b[0minfo\u001b[0m \u001b[1;33m=\u001b[0m \u001b[0mopt\u001b[0m\u001b[1;33m.\u001b[0m\u001b[0mbrentq\u001b[0m\u001b[1;33m(\u001b[0m\u001b[0mobjective\u001b[0m\u001b[1;33m,\u001b[0m \u001b[1;36m1e-6\u001b[0m\u001b[1;33m,\u001b[0m \u001b[1;36m0.99999\u001b[0m\u001b[1;33m,\u001b[0m \u001b[0mxtol\u001b[0m \u001b[1;33m=\u001b[0m \u001b[1;36m1e-8\u001b[0m\u001b[1;33m,\u001b[0m \u001b[0mrtol\u001b[0m \u001b[1;33m=\u001b[0m \u001b[1;36m1e-8\u001b[0m\u001b[1;33m,\u001b[0m \u001b[0mfull_output\u001b[0m \u001b[1;33m=\u001b[0m \u001b[1;32mTrue\u001b[0m\u001b[1;33m)\u001b[0m\u001b[1;33m\u001b[0m\u001b[1;33m\u001b[0m\u001b[0m\n\u001b[0;32m     14\u001b[0m         \u001b[1;32mif\u001b[0m \u001b[0minfo\u001b[0m\u001b[1;33m.\u001b[0m\u001b[0mconverged\u001b[0m \u001b[1;33m==\u001b[0m \u001b[1;32mTrue\u001b[0m\u001b[1;33m:\u001b[0m\u001b[1;33m\u001b[0m\u001b[1;33m\u001b[0m\u001b[0m\n",
      "\u001b[1;32m~\\AppData\\Local\\Temp\\ipykernel_6864\\1295829847.py\u001b[0m in \u001b[0;36mtempfun\u001b[1;34m(ex, T, P)\u001b[0m\n\u001b[0;32m     24\u001b[0m     \u001b[0mphiN\u001b[0m \u001b[1;33m=\u001b[0m \u001b[0mnp\u001b[0m\u001b[1;33m.\u001b[0m\u001b[0mexp\u001b[0m\u001b[1;33m(\u001b[0m\u001b[0mquadgk\u001b[0m\u001b[1;33m(\u001b[0m\u001b[0mINTN\u001b[0m\u001b[1;33m,\u001b[0m \u001b[1;36m0\u001b[0m\u001b[1;33m,\u001b[0m \u001b[0mP\u001b[0m\u001b[1;33m)\u001b[0m\u001b[1;33m[\u001b[0m\u001b[1;36m0\u001b[0m\u001b[1;33m]\u001b[0m\u001b[1;33m)\u001b[0m\u001b[1;33m\u001b[0m\u001b[1;33m\u001b[0m\u001b[0m\n\u001b[0;32m     25\u001b[0m     \u001b[0mphiH\u001b[0m \u001b[1;33m=\u001b[0m \u001b[0mnp\u001b[0m\u001b[1;33m.\u001b[0m\u001b[0mexp\u001b[0m\u001b[1;33m(\u001b[0m\u001b[0mquadgk\u001b[0m\u001b[1;33m(\u001b[0m\u001b[0mINTH\u001b[0m\u001b[1;33m,\u001b[0m \u001b[1;36m0\u001b[0m\u001b[1;33m,\u001b[0m \u001b[0mP\u001b[0m\u001b[1;33m)\u001b[0m\u001b[1;33m[\u001b[0m\u001b[1;36m0\u001b[0m\u001b[1;33m]\u001b[0m\u001b[1;33m)\u001b[0m\u001b[1;33m\u001b[0m\u001b[1;33m\u001b[0m\u001b[0m\n\u001b[1;32m---> 26\u001b[1;33m     \u001b[0mphiA\u001b[0m \u001b[1;33m=\u001b[0m \u001b[0mnp\u001b[0m\u001b[1;33m.\u001b[0m\u001b[0mexp\u001b[0m\u001b[1;33m(\u001b[0m\u001b[0mquadgk\u001b[0m\u001b[1;33m(\u001b[0m\u001b[0mINTA\u001b[0m\u001b[1;33m,\u001b[0m \u001b[1;36m0\u001b[0m\u001b[1;33m,\u001b[0m \u001b[0mP\u001b[0m\u001b[1;33m,\u001b[0m \u001b[0mtol\u001b[0m\u001b[1;33m=\u001b[0m\u001b[1;36m1e-06\u001b[0m\u001b[1;33m,\u001b[0m \u001b[0mrtol\u001b[0m\u001b[1;33m=\u001b[0m\u001b[1;36m1e-06\u001b[0m\u001b[1;33m,\u001b[0m \u001b[0mmaxiter\u001b[0m\u001b[1;33m=\u001b[0m\u001b[1;36m500\u001b[0m\u001b[1;33m)\u001b[0m\u001b[1;33m[\u001b[0m\u001b[1;36m0\u001b[0m\u001b[1;33m]\u001b[0m\u001b[1;33m)\u001b[0m\u001b[1;33m\u001b[0m\u001b[1;33m\u001b[0m\u001b[0m\n\u001b[0m\u001b[0;32m     27\u001b[0m \u001b[1;33m\u001b[0m\u001b[0m\n\u001b[0;32m     28\u001b[0m     \u001b[1;31m#Activity definitions -- extents embedded in yA, yB, yC; P and P0 also show up.\u001b[0m\u001b[1;33m\u001b[0m\u001b[1;33m\u001b[0m\u001b[0m\n",
      "\u001b[1;32m~\\anaconda3\\lib\\site-packages\\scipy\\integrate\\_quadrature.py\u001b[0m in \u001b[0;36mquadrature\u001b[1;34m(func, a, b, args, tol, rtol, maxiter, vec_func, miniter)\u001b[0m\n\u001b[0;32m    267\u001b[0m     \u001b[0mmaxiter\u001b[0m \u001b[1;33m=\u001b[0m \u001b[0mmax\u001b[0m\u001b[1;33m(\u001b[0m\u001b[0mminiter\u001b[0m\u001b[1;33m+\u001b[0m\u001b[1;36m1\u001b[0m\u001b[1;33m,\u001b[0m \u001b[0mmaxiter\u001b[0m\u001b[1;33m)\u001b[0m\u001b[1;33m\u001b[0m\u001b[1;33m\u001b[0m\u001b[0m\n\u001b[0;32m    268\u001b[0m     \u001b[1;32mfor\u001b[0m \u001b[0mn\u001b[0m \u001b[1;32min\u001b[0m \u001b[0mrange\u001b[0m\u001b[1;33m(\u001b[0m\u001b[0mminiter\u001b[0m\u001b[1;33m,\u001b[0m \u001b[0mmaxiter\u001b[0m\u001b[1;33m+\u001b[0m\u001b[1;36m1\u001b[0m\u001b[1;33m)\u001b[0m\u001b[1;33m:\u001b[0m\u001b[1;33m\u001b[0m\u001b[1;33m\u001b[0m\u001b[0m\n\u001b[1;32m--> 269\u001b[1;33m         \u001b[0mnewval\u001b[0m \u001b[1;33m=\u001b[0m \u001b[0mfixed_quad\u001b[0m\u001b[1;33m(\u001b[0m\u001b[0mvfunc\u001b[0m\u001b[1;33m,\u001b[0m \u001b[0ma\u001b[0m\u001b[1;33m,\u001b[0m \u001b[0mb\u001b[0m\u001b[1;33m,\u001b[0m \u001b[1;33m(\u001b[0m\u001b[1;33m)\u001b[0m\u001b[1;33m,\u001b[0m \u001b[0mn\u001b[0m\u001b[1;33m)\u001b[0m\u001b[1;33m[\u001b[0m\u001b[1;36m0\u001b[0m\u001b[1;33m]\u001b[0m\u001b[1;33m\u001b[0m\u001b[1;33m\u001b[0m\u001b[0m\n\u001b[0m\u001b[0;32m    270\u001b[0m         \u001b[0merr\u001b[0m \u001b[1;33m=\u001b[0m \u001b[0mabs\u001b[0m\u001b[1;33m(\u001b[0m\u001b[0mnewval\u001b[0m\u001b[1;33m-\u001b[0m\u001b[0mval\u001b[0m\u001b[1;33m)\u001b[0m\u001b[1;33m\u001b[0m\u001b[1;33m\u001b[0m\u001b[0m\n\u001b[0;32m    271\u001b[0m         \u001b[0mval\u001b[0m \u001b[1;33m=\u001b[0m \u001b[0mnewval\u001b[0m\u001b[1;33m\u001b[0m\u001b[1;33m\u001b[0m\u001b[0m\n",
      "\u001b[1;32m~\\anaconda3\\lib\\site-packages\\scipy\\integrate\\_quadrature.py\u001b[0m in \u001b[0;36mfixed_quad\u001b[1;34m(func, a, b, args, n)\u001b[0m\n\u001b[0;32m    147\u001b[0m         raise ValueError(\"Gaussian quadrature is only available for \"\n\u001b[0;32m    148\u001b[0m                          \"finite limits.\")\n\u001b[1;32m--> 149\u001b[1;33m     \u001b[0my\u001b[0m \u001b[1;33m=\u001b[0m \u001b[1;33m(\u001b[0m\u001b[0mb\u001b[0m\u001b[1;33m-\u001b[0m\u001b[0ma\u001b[0m\u001b[1;33m)\u001b[0m\u001b[1;33m*\u001b[0m\u001b[1;33m(\u001b[0m\u001b[0mx\u001b[0m\u001b[1;33m+\u001b[0m\u001b[1;36m1\u001b[0m\u001b[1;33m)\u001b[0m\u001b[1;33m/\u001b[0m\u001b[1;36m2.0\u001b[0m \u001b[1;33m+\u001b[0m \u001b[0ma\u001b[0m\u001b[1;33m\u001b[0m\u001b[1;33m\u001b[0m\u001b[0m\n\u001b[0m\u001b[0;32m    150\u001b[0m     \u001b[1;32mreturn\u001b[0m \u001b[1;33m(\u001b[0m\u001b[0mb\u001b[0m\u001b[1;33m-\u001b[0m\u001b[0ma\u001b[0m\u001b[1;33m)\u001b[0m\u001b[1;33m/\u001b[0m\u001b[1;36m2.0\u001b[0m \u001b[1;33m*\u001b[0m \u001b[0mnp\u001b[0m\u001b[1;33m.\u001b[0m\u001b[0msum\u001b[0m\u001b[1;33m(\u001b[0m\u001b[0mw\u001b[0m\u001b[1;33m*\u001b[0m\u001b[0mfunc\u001b[0m\u001b[1;33m(\u001b[0m\u001b[0my\u001b[0m\u001b[1;33m,\u001b[0m \u001b[1;33m*\u001b[0m\u001b[0margs\u001b[0m\u001b[1;33m)\u001b[0m\u001b[1;33m,\u001b[0m \u001b[0maxis\u001b[0m\u001b[1;33m=\u001b[0m\u001b[1;33m-\u001b[0m\u001b[1;36m1\u001b[0m\u001b[1;33m)\u001b[0m\u001b[1;33m,\u001b[0m \u001b[1;32mNone\u001b[0m\u001b[1;33m\u001b[0m\u001b[1;33m\u001b[0m\u001b[0m\n\u001b[0;32m    151\u001b[0m \u001b[1;33m\u001b[0m\u001b[0m\n",
      "\u001b[1;31mKeyboardInterrupt\u001b[0m: "
     ]
    }
   ],
   "source": [
    "P0  = 1.0 #bar\n",
    "NN0 = 1.0 #moles\n",
    "NH0 = 3.0 #moles\n",
    "NA0 = 0.0 #moles\n",
    "\n",
    "Tset = np.linspace(298, 873, 25)\n",
    "Pset = np.linspace(1, 200, 30)\n",
    "Xout = np.zeros((len(Tset), len(Pset)))\n",
    "\n",
    "for i in range(0, len(Tset)):\n",
    "    for j in range(0,len(Pset)):\n",
    "        objective = lambda ex: tempfun(ex, Tset[i], Pset[j])\n",
    "        ans, info = opt.brentq(objective, 1e-6, 0.99999, xtol = 1e-8, rtol = 1e-8, full_output = True)\n",
    "        if info.converged == True:\n",
    "            Xout[i,j] = ans/NN0\n",
    "        if info.converged == False:\n",
    "            print(info)"
   ]
  },
  {
   "cell_type": "code",
   "execution_count": 17,
   "metadata": {},
   "outputs": [
    {
     "data": {
      "text/plain": [
       "<matplotlib.colorbar.Colorbar at 0x27c47623dc0>"
      ]
     },
     "execution_count": 17,
     "metadata": {},
     "output_type": "execute_result"
    },
    {
     "data": {
      "image/png": "[encoded data removed]",
      "text/plain": [
       "<Figure size 432x288 with 2 Axes>"
      ]
     },
     "metadata": {
      "filenames": {
       "image/png": "C:\\Users\\jqbond\\Documents\\GitHub\\WebContent\\2022CEN587\\_build\\jupyter_execute\\F22-587-R03-Solution_33_1.png"
      },
      "needs_background": "light"
     },
     "output_type": "display_data"
    }
   ],
   "source": [
    "plt.contourf(Pset, Tset, Xout, levels = np.linspace(0, 1.0, 201), cmap = 'jet')\n",
    "plt.xlabel('Pressure (bar)')\n",
    "plt.ylabel('Temperature (K)')\n",
    "plt.colorbar()"
   ]
  },
  {
   "cell_type": "code",
   "execution_count": null,
   "metadata": {},
   "outputs": [],
   "source": []
  }
 ],
 "metadata": {
  "kernelspec": {
   "display_name": "Python 3 (ipykernel)",
   "language": "python",
   "name": "python3"
  },
  "language_info": {
   "codemirror_mode": {
    "name": "ipython",
    "version": 3
   },
   "file_extension": ".py",
   "mimetype": "text/x-python",
   "name": "python",
   "nbconvert_exporter": "python",
   "pygments_lexer": "ipython3",
   "version": "3.9.13"
  }
 },
 "nbformat": 4,
 "nbformat_minor": 4
}