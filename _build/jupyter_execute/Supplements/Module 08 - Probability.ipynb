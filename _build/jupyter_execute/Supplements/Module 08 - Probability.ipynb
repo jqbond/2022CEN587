{
 "cells": [
  {
   "cell_type": "markdown",
   "metadata": {},
   "source": [
    "# The Probability of the Fall of Acererak\n",
    "\n",
    "Over the past few modules, we've learned the basics of loops and functions.  In the Functions Module (07), we used a function combined with a while loop to gauge how many times we would need to make a dice roll for the average of those rolls to approach the true mean (within our tolerance threshold). We ran that simulation many times, and, on average, it seemed to converge somewhere between 500 and 1000 rolls. Now, that probably gives us a pretty good idea of what the mean is, but I'm not convinced 1000 rolls is enough for us to get good enough statistics to confidently assess how our damage roll will play out  against ***Acererak the Archlich***.\n",
    "\n",
    "To recap the situation you're in, Acererak is down to 28 hit points. You are swinging a magic battle axe named ***Lichslayer III***, and we are still going to assume that you hit Acererak (for now). Your axe does 4d12+5 base damage with 2d4+2 bonus damage to Liches. We know that your mean damage roll is 38, so, assuming you hit 38 or better 50% of the time, you have a pretty solid chance of winning this fight. But you don't have a 100% chance of winning this fight, do you?  It's entirely possible that your roll comes back less than 28, in which case, you are looking at a pretty anti-climactic TPK. We're going to do a monte carlo-type simulation to see if we can better assess your chances.  First, we will figure out the probability distribution on the damage roll. By that I mean, what is the probability that you will make a certain damage roll between 13 (minimum) and 63 (maximum). Figuring out the probability that we'll beat 28 based on the dice and modifiers is much more complicated than determining the average. We'll visualize that probability distribution for the damage roll, and then do some basic analysis to figure out the mean (which we expect should be 38 if we've done everything correctly), the variance, and the percentage chance we have of winning the fight under the terms we've laid out here.\n",
    "\n",
    "This analysis is part of a basic interpretation of probability distributions, which is useful in statistics, data analysis, physical chemistry, reactor design, and many other areas of engineering.  It's worth learning a bit about how we generate a probability distribution for a discrete random variable (i.e., dice rolls on a d6 are either 1,2,3,4,5,6...not a continuous variable that goes from 13 to 63) from a monte carlo simulation, having a look at a probability distribution, and learning how to analyze it just a little.\n",
    "\n",
    "Here, we will abandon the while loop and instead just use the inner for loop to simulate the outcome of each damage roll from 1 to n. For each roll we make, we will do two things.  First, we will record the total and append it to a running list of totals for damage rolls 1 to n.  Second, based on the result of each roll, we will record the binary result of the battle.  We either win or lose.  If our roll is 28 or better, we win.  If it is lower than 28, we lose.  We can easily do this with an if statement to direct the program to take a different course of action for each result.\n",
    "\n",
    "We will start by making 1,000 rolls and see how things look.  One important clarification that may be confusing:  We are making n \"rolls\".  These refer to \"n\" damage rolls, each of which is 4d12+5 + 2d4+2, not \"n\" individual dice.  So for each damage roll, we are rolling 4d12's and 2d4's...then adding some modifiers to calculate the total damage roll.  This total is what gets stored on each pass through the for loop.\n",
    "\n",
    "We'll go through the code together for this example and explain how it works, then we'll have a more complex scenario that you can resolve by adapting the simulation.\n",
    "\n",
    "## Importing Packages\n",
    "\n",
    "To start, we will use both pyplot and random in this example, let's import them."
   ]
  },
  {
   "cell_type": "code",
   "execution_count": 1,
   "metadata": {},
   "outputs": [],
   "source": [
    "import matplotlib.pyplot as plt\n",
    "import random\n",
    "import math"
   ]
  },
  {
   "cell_type": "markdown",
   "metadata": {},
   "source": [
    "## Build your dice roller\n",
    "\n",
    "Next, we need to add our dice roller function from Module 07.  Notice how nice it is to have a function that we can use for many different situations by just adapting the arguments (inputs) to that function."
   ]
  },
  {
   "cell_type": "code",
   "execution_count": 2,
   "metadata": {},
   "outputs": [],
   "source": [
    "def generator(sides, dice):\n",
    "    roll  = [random.randint(1,sides) for i in range(1,dice+1)]\n",
    "    return roll"
   ]
  },
  {
   "cell_type": "markdown",
   "metadata": {},
   "source": [
    "## Construct a rudimentary Monte Carlo simulation\n",
    "\n",
    "We are doing a very basic Monte Carlo simulation, which means we will roll the dice a lot of times, calculate the total for each time, and figure out how many times we won or lost based on those outcomes.  If we do it enough times, we get a reasonable approximation of the probability distribution for our damage roll and the probability that we win or lose this particular combat. Again, a disclaimer -- this is probably not the most efficient way to run an MC simulation, but it is logical and clear, so it has educational value in learning how to structure functions, loops, and flow control.  You can work on optimizing it later if that is within the scope of your interests or your course.\n",
    "\n",
    "To start, we'll use 1000 damage rolls and visualize how well that worked. \n",
    "\n",
    "```python\n",
    "n = 1000\n",
    "```\n",
    "\n",
    "We are going to construct this simulation using a for loop.  Each pass through the for loop represents another damage roll.  Every time we make a roll, we will append its value to a list called **damage** that contains the results of each roll.  To start, we will initialize that list as an empty list.  In addition, we will decide after every roll whether we won or lost, and we'll store that outcome as a string in a list called **result**\n",
    "\n",
    "```python\n",
    "    damage = []  #Initialize list where we will store all damage rolls.\n",
    "    result = []  #Initialize list where we will store binary result of combat (win or lose)\n",
    "```\n",
    "    \n",
    "Now we'll write the for loop to cycle through n total damage rolls.\n",
    "\n",
    "```python\n",
    "for i in range(0,n):         #A for loop to make n damage rolls and store the results\n",
    "    roll1 = generator(12, 4) #This is your 4d12 roll\n",
    "    roll2 = generator(4,  2) #This is your 2d4 roll\n",
    "    base  = sum(roll1) + 5   #Adding modifier to base\n",
    "    bonus = sum(roll2) + 2   #Adding modifer to bonus\n",
    "    total = base + bonus     #Result of the ith damage roll out of n damage rolls.\n",
    "    damage.append(total)     #Append the ith damage total to list called 'total'\n",
    "```\n",
    "        \n",
    "        \n",
    "At this point, we are still in the body of the for loop here, and we've just made the ith roll.  I want to now store the result of that roll as a string that tells us whether we won or lost.  We can do that easily with an if statement:\n",
    "\n",
    "```python\n",
    "    if total >= 28:\n",
    "        result.append('Acererak has Fallen!') #If you roll 28 or better, you win.\n",
    "    else:\n",
    "        result.append('Total Party Kill!')    #If you don't roll 28 or better, you lose.\n",
    "```\n",
    "            \n",
    "            \n",
    "Next, the easy part.  We are now returned flush left, and so we are outside of the for loop.  We've made our n damage rolls, and we are just going to count up the number of times we won and the number of times we lost over 1000 combat simulations. There is a built in list method called **count()** that does this for us.\n",
    "\n",
    "```python\n",
    "Wins = result.count('Acererak has Fallen!')\n",
    "Losses = result.count('Total Party Kill!')\n",
    "```"
   ]
  },
  {
   "cell_type": "code",
   "execution_count": 3,
   "metadata": {},
   "outputs": [],
   "source": [
    "n = 1000000\n",
    "damage = []\n",
    "result = []\n",
    "\n",
    "for i in range(0,n,1):\n",
    "    roll1 = generator(12,4)\n",
    "    roll2 = generator(4,2)\n",
    "    base  = sum(roll1) + 5\n",
    "    bonus = sum(roll2) + 2\n",
    "    total = base + bonus\n",
    "    damage.append(total)\n",
    "    if total >= 28:\n",
    "        result.append('Acererak Has Fallen!')\n",
    "    else:\n",
    "        result.append('Total Party Kill')\n",
    "\n",
    "Wins = result.count('Acererak Has Fallen!')\n",
    "Losses = result.count('Total Party Kill')"
   ]
  },
  {
   "cell_type": "markdown",
   "metadata": {},
   "source": [
    "## Analyze the results of your combat simulation\n",
    "\n",
    "At this point, we've counted the number of times our simulation gave us a win and The probability that we win is given by: "
   ]
  },
  {
   "cell_type": "code",
   "execution_count": 4,
   "metadata": {},
   "outputs": [
    {
     "name": "stdout",
     "output_type": "stream",
     "text": [
      "0.929176\n",
      "1000000\n"
     ]
    }
   ],
   "source": [
    "odds = Wins/(Wins + Losses)\n",
    "print(odds)\n",
    "print(Wins + Losses)"
   ]
  },
  {
   "cell_type": "markdown",
   "metadata": {},
   "source": [
    "This is all we need in order to figure out our chances against Acererak.  But we've also generated enough data to get a full probability distribution out of this Monte Carlo simulation. Learning a bit about probability distributions and how to analyze them is generally useful. Just ask any Reaction Engineering student after they cover residence time distributions for nonideal reactor design."
   ]
  },
  {
   "cell_type": "markdown",
   "metadata": {},
   "source": [
    "## Generating a Probability distribution from the simulation\n",
    "\n",
    "At this point in the script, you have a set of n damage rolls, and you have a list of whether you won or lost each of your n combat attempts. We will process this a just little in order to generate a probability distribution that represents the likelihood of events with this particular damage roll. This might *sound* complicated, but it is actually straightforward to generate a probability distribution for a set of discrete events (i.e., damage rolls of 13, 14, 15, .... 61, 62, 63). \n",
    "\n",
    "What we want to plot to visualize the probability distribution is the *percentage of times we hit each damage roll* on the y axis against the *damage roll* itself on the x-axis. The first step is to just to count the number of times we hit each possible result between 13 and 63 when we made our n damage rolls in the Monte Carlo simulation. Again, we'll use the list method count() to do this, this time in a for loop since we want to count multiple different events in our tally. \n",
    "\n",
    "### Counting the results\n",
    "\n",
    "Let's initialize the list where we tally the number of times we made each roll. We'll also want a list of roll values that correspond to each tally. Then we'll write a for loop to count the number of times we hit each damage total and add it to the tally list."
   ]
  },
  {
   "cell_type": "code",
   "execution_count": 5,
   "metadata": {},
   "outputs": [],
   "source": [
    "tally = []\n",
    "roll  = []\n",
    "\n",
    "for x in range(13, 64, 1):\n",
    "    roll.append(x)\n",
    "    tally.append(damage.count(x))"
   ]
  },
  {
   "cell_type": "markdown",
   "metadata": {},
   "source": [
    "### Visualizing the data\n",
    "\n",
    "At this point, it is helpful to visualize what we are working with: a tally that tells us the raw number of times we scored each result between 13 and 63 on our n damage rolls.  You can plot it as a scatter plot: \n",
    "\n",
    "```python\n",
    "plt.figure(1, figsize = (6, 5))\n",
    "plt.scatter(roll, tally, color = 'none', edgecolor = 'black')\n",
    "plt.xlabel('Total Damage Roll', fontsize = 12)\n",
    "plt.ylabel('Number of Times Rolled', fontsize = 12)\n",
    "plt.title(f'Damage Rolls in {n:d} simulations')\n",
    "plt.show()\n",
    "```\n",
    "    \n",
    "Or, if you prefer, you can create a histogram using a bar chart as shown below:"
   ]
  },
  {
   "cell_type": "code",
   "execution_count": 6,
   "metadata": {},
   "outputs": [
    {
     "data": {
      "image/png": "[encoded data removed]",
      "text/plain": [
       "<Figure size 360x288 with 1 Axes>"
      ]
     },
     "metadata": {
      "filenames": {
       "image/png": "C:\\Users\\jqbond\\Documents\\GitHub\\WebContent\\2022CEN587\\_build\\jupyter_execute\\Supplements\\Module 08 - Probability_12_0.png"
      },
      "needs_background": "light"
     },
     "output_type": "display_data"
    }
   ],
   "source": [
    "plt.figure(1, figsize = (5, 4))\n",
    "plt.bar(roll, tally, color = 'none', edgecolor = 'black')\n",
    "plt.xlabel('Total Damage Roll', fontsize = 12)\n",
    "plt.ylabel('Number of Times Rolled', fontsize = 12)\n",
    "plt.title(f'Histogram of Damage Rolls in {n:d} simulations')\n",
    "plt.show()"
   ]
  },
  {
   "cell_type": "markdown",
   "metadata": {},
   "source": [
    "Each column or data point represents the number of times (in your n total rolls) you scored each result.  Thinking about this visualization helps us to understand the next step, which requires us to estimate the area under the tally vs. roll curve. If you aren't satisfied at this point that your data set is sufficiently Gaussian, now is a good time to re-reun the simulation with more damage rolls."
   ]
  },
  {
   "cell_type": "markdown",
   "metadata": {},
   "source": [
    "### Integrating the histogram\n",
    "\n",
    "The next part is less intuitive unless you've already taken a probability and statistics course. To convert our raw tally into probability, we want to normalize it such that the total area under the probability distribution curve is 1.  We will do that by dividing each result in our **tally column** by the **integral of tally as a function of roll** evaluated from our minimum roll (13) to our maximum roll (63).\n",
    "\n",
    "This is tough because we are dealing with a set of discrete events, so we can't calculate an integral in the way we may be used to with a continuous function.  That said, we have numerical quadrature methods, such as the trapezoidal rule, which basically uses geometry to *approximate* the area under a curve:\n",
    "\n",
    "https://en.wikipedia.org/wiki/Trapezoidal_rule\n",
    "\n",
    "As usual, with base Python and list collections, we'll do this with a for loop and flex some of those increment operators we learned with while loops.  Note that we could also do this by making a list of the area of each trapezoid at each step in the for loop and summing their values external to the for loop, but this illustration shows you another way to use increment operators.  Note the loop includes a calculation involving the j+1 element, so were only going to go up to the second to last element in the set of possible rolls. Once this loop is done, we have the total area under the curve.  For this particular example, it should be roughly equal to the total number of rolls that we made.  You can double check just to make sure; see if you can rationalize why this is so based on the way you are calculating the integral:"
   ]
  },
  {
   "cell_type": "code",
   "execution_count": 7,
   "metadata": {},
   "outputs": [
    {
     "name": "stdout",
     "output_type": "stream",
     "text": [
      "999998.0\n",
      "1000000\n"
     ]
    }
   ],
   "source": [
    "integral = 0\n",
    "for j in range(0,len(roll)-1):\n",
    "    integral += (tally[j] + tally[j+1])/2*(roll[j+1] - roll[j])\n",
    "print(integral)\n",
    "print(n)"
   ]
  },
  {
   "cell_type": "markdown",
   "metadata": {},
   "source": [
    "### Normalizing to unit area\n",
    "\n",
    "Now that we have the normalizing integral, we can convert our raw count into a probability distribution by dividing each count in tally by the normalizing integral. "
   ]
  },
  {
   "cell_type": "code",
   "execution_count": 8,
   "metadata": {},
   "outputs": [],
   "source": [
    "prob = [value/integral for value in tally]"
   ]
  },
  {
   "cell_type": "markdown",
   "metadata": {},
   "source": [
    "Now that we have a probability distribution, we definitely should plot it. The total given by rolling multiple dice and adding them together should have a Gaussian distribution, so plot it and see how much it looks like a Bell-shaped Gaussian distribution (or not):"
   ]
  },
  {
   "cell_type": "code",
   "execution_count": 9,
   "metadata": {},
   "outputs": [
    {
     "data": {
      "image/png": "[encoded data removed]",
      "text/plain": [
       "<Figure size 360x288 with 1 Axes>"
      ]
     },
     "metadata": {
      "filenames": {
       "image/png": "C:\\Users\\jqbond\\Documents\\GitHub\\WebContent\\2022CEN587\\_build\\jupyter_execute\\Supplements\\Module 08 - Probability_19_0.png"
      },
      "needs_background": "light"
     },
     "output_type": "display_data"
    },
    {
     "data": {
      "image/png": "[encoded data removed]",
      "text/plain": [
       "<Figure size 360x288 with 1 Axes>"
      ]
     },
     "metadata": {
      "filenames": {
       "image/png": "C:\\Users\\jqbond\\Documents\\GitHub\\WebContent\\2022CEN587\\_build\\jupyter_execute\\Supplements\\Module 08 - Probability_19_1.png"
      },
      "needs_background": "light"
     },
     "output_type": "display_data"
    }
   ],
   "source": [
    "plt.figure(1, figsize = (5, 4))\n",
    "plt.scatter(roll, prob, color = 'none', edgecolor = 'black')\n",
    "plt.xlabel('Total Damage Roll', fontsize = 12)\n",
    "plt.ylabel('Fraction of the time rolled rolled', fontsize = 12)\n",
    "plt.title(f'Probability distribution from {n:d} simulations')\n",
    "plt.show()\n",
    "\n",
    "plt.figure(1, figsize = (5, 4))\n",
    "plt.bar(roll, prob, color = 'none', edgecolor = 'black')\n",
    "plt.xlabel('Total Damage Roll', fontsize = 12)\n",
    "plt.ylabel('Fraction of the time rolled', fontsize = 12)\n",
    "plt.title(f'Probability distribution from {n:d} simulations')\n",
    "plt.show()"
   ]
  },
  {
   "cell_type": "markdown",
   "metadata": {},
   "source": [
    "### Check your normalization...\n",
    "\n",
    "Before we go any further, let's check our normalization by integrating the probability distribution from the minimum value (13) to the maximum value (63). If we've done everything correctly, it should integrate to 1 since there is a 100% chance we obtain a results between 13 and 63.  We can again approximate that area with the trapezoidal rule. We'll add another plot of the distribution below because we'll talk bout it in the next cell."
   ]
  },
  {
   "cell_type": "code",
   "execution_count": 10,
   "metadata": {},
   "outputs": [
    {
     "name": "stdout",
     "output_type": "stream",
     "text": [
      "The area under the probability distribution is 1.000\n"
     ]
    },
    {
     "data": {
      "image/png": "[encoded data removed]",
      "text/plain": [
       "<Figure size 432x360 with 1 Axes>"
      ]
     },
     "metadata": {
      "filenames": {
       "image/png": "C:\\Users\\jqbond\\Documents\\GitHub\\WebContent\\2022CEN587\\_build\\jupyter_execute\\Supplements\\Module 08 - Probability_21_1.png"
      },
      "needs_background": "light"
     },
     "output_type": "display_data"
    }
   ],
   "source": [
    "norm = 0 \n",
    "for j in range(0,len(roll)-1):\n",
    "        norm += (prob[j] + prob[j+1])/2*(roll[j+1] - roll[j])\n",
    "print(f'The area under the probability distribution is {norm:0.3f}')\n",
    "\n",
    "plt.figure(1, figsize = (6, 5))\n",
    "plt.bar(roll, prob, color = 'none', edgecolor = 'black')\n",
    "plt.xlabel('Total Damage Roll', fontsize = 12)\n",
    "plt.ylabel('Fraction of the time rolled', fontsize = 12)\n",
    "plt.title(f'Probability distribution from {n:d} simulations')\n",
    "plt.show()"
   ]
  },
  {
   "cell_type": "markdown",
   "metadata": {},
   "source": [
    "### Extracting information from the probability distribution\n",
    "\n",
    "Look again at the probability distribution. There is actually a lot of statistical information in a probability distribution. See how the peak is centered at a certain number that looks to be about 38?  That's typical of a gaussian distribution, which is symmetric about the mean.  The height of the probability distribution at any value of \"roll\" tells us the probability that we make that roll.  So, based on that, we have roughly a 5.5% chance of rolling the mean value of 38 exactly...and we have nearly 0% chance of rolling either a 13 or a 63. The breadth of the peak gives you an idea of the variance (square of standard deviation) in your event.\n",
    "\n",
    "### Mean value of the distribution\n",
    "\n",
    "We can calculate the mean and standard deviation of this event once we have the probability distribution. The mean value of the damage roll is given by the \"first moment\" of the probability distribution, which is the integral of (roll * probability * delta_roll) from the minimum value (13) to the maximum value (63):\n",
    "\n",
    "$$\\bar{r} = \\int_{13}^{63}rP(r)dr$$\n",
    "\n",
    "We can approxoimate that integral using the trapezoidal rule, which we've done a homebrew version of in the cell below (for educational purposes):\n",
    "\n",
    "You may also note that for a discrete probability distribution such as this one, you can also calculate the mean value from the following summation:\n",
    "\n",
    "$$\\bar{r} = \\sum_{i = 13}^{63} r_i P_i$$\n",
    "\n",
    "Whis is done in the cell below using a list comprehension, again for educational purposes. These will give roughly the same results here as long as we've done a reasonable number of simulations. We can print the result and see how close it is to the true mean (38)."
   ]
  },
  {
   "cell_type": "code",
   "execution_count": 11,
   "metadata": {},
   "outputs": [
    {
     "name": "stdout",
     "output_type": "stream",
     "text": [
      "37.994519989039965\n"
     ]
    },
    {
     "data": {
      "text/plain": [
       "37.994595989191986"
      ]
     },
     "execution_count": 11,
     "metadata": {},
     "output_type": "execute_result"
    }
   ],
   "source": [
    "mean = 0 #Initialize the mean.\n",
    "for j in range(0,len(roll)-1):\n",
    "    mean += (roll[j+1] + roll[j])/2*(prob[j] + prob[j+1])/2*(roll[j+1] - roll[j])\n",
    "print(mean)\n",
    "\n",
    "sum([rval*pval for rval, pval in zip(roll, prob)])\n"
   ]
  },
  {
   "cell_type": "markdown",
   "metadata": {},
   "source": [
    "### Variance and Standard Deviation\n",
    "\n",
    "Now that we have the mean, we can also calculate the variance ($\\sigma$<sup>2</sup>), which is given by the second moment of the probability distribution, i.e, the integral of ( (roll - mean_roll)<sup>2</sup> * (probability) * delta_roll) from 13 to 63:\n",
    "\n",
    "$$\\sigma^2 = \\int_{13}^{63}(r - \\bar{r})^2P(r)dr$$\n",
    "\n",
    "Using either the trapezoidal rule or, since it is a discrete distribution, you can calculate the variance with the following summation:\n",
    "\n",
    "$$\\sigma^2 = \\sum_{i = 13}^{63} (r_i - \\bar{r})^2 P_i$$\n",
    "\n",
    "Note that the standard deviation is given by the square root of variance."
   ]
  },
  {
   "cell_type": "code",
   "execution_count": 12,
   "metadata": {},
   "outputs": [
    {
     "name": "stdout",
     "output_type": "stream",
     "text": [
      "7.094560179116688\n",
      "7.07701096069296\n"
     ]
    }
   ],
   "source": [
    "var = 0 #Initialize the variance.\n",
    "for j in range(0,len(roll)-1):\n",
    "    var += ((roll[j+1] + roll[j])/2 - mean)**2 *(prob[j] + prob[j+1])/2*(roll[j+1] - roll[j])\n",
    "sigma = var**(1/2)\n",
    "print(sigma)\n",
    "\n",
    "var = sum([(rval - mean)**2*pval for rval, pval in zip(roll, prob)])\n",
    "print(var**(1/2))"
   ]
  },
  {
   "cell_type": "markdown",
   "metadata": {},
   "source": [
    "### Calculating the percent chance of success\n",
    "\n",
    "Finally, we can calculate our percent chance of success by integrating the probability distribution from the lowest successful roll, 28, to the maximum possible roll of 63."
   ]
  },
  {
   "cell_type": "code",
   "execution_count": 13,
   "metadata": {},
   "outputs": [],
   "source": [
    "success = 0 #Initialize the integrated area under the curve at 0.\n",
    "for j in range(0,len(roll)-1):\n",
    "    if roll[j] < 28:\n",
    "        pass               #pass just says \"do nothing\"\n",
    "    elif roll[j] >= 28:\n",
    "        success += (prob[j+1] + prob[j])/2*(roll[j+1] - roll[j])"
   ]
  },
  {
   "cell_type": "markdown",
   "metadata": {},
   "source": [
    "### Assessing the results\n",
    "\n",
    "Now that we've collected all of that information, let's display the results all in one place.  We'll check to see how your analysis of the probability distribution compares with the odds you calculated directly by counting wins and losses."
   ]
  },
  {
   "cell_type": "code",
   "execution_count": 14,
   "metadata": {},
   "outputs": [
    {
     "name": "stdout",
     "output_type": "stream",
     "text": [
      "By counting the wins and losses, the odds that we win the battle are  0.929\n",
      "The probability of success we calculated by integrating the probability distribution is  0.918\n",
      "The mean damage roll is  37.99\n",
      "The standard deviation on the damage roll is  7.08\n",
      "The total are under the curve for the probability distribution is  1.0\n"
     ]
    }
   ],
   "source": [
    "print('By counting the wins and losses, the odds that we win the battle are ', round(odds,3))\n",
    "print('The probability of success we calculated by integrating the probability distribution is ', round(success,3))\n",
    "print('The mean damage roll is ', round(mean,2))\n",
    "print('The standard deviation on the damage roll is ', round(var**(1/2),2))\n",
    "print('The total are under the curve for the probability distribution is ', round(norm,2))"
   ]
  },
  {
   "cell_type": "markdown",
   "metadata": {},
   "source": [
    "Now that you have a feel for what it takes to get the odds on a particular event, here are two problems you should solve independently by adapting the methods given above.\n",
    "\n",
    "## Wait a minute, this guy is a 1000 year old Lich-wizard with +7 INT.  There's no way his mage armor failed!\n",
    "\n",
    "Now we will make the problem a little more complex.  You are still a pretty boss berserker, and your battle axe still does 4d12+5 + 2d4+2 damage. ***If it hits Acererak***.\n",
    "\n",
    "Your eyes must have failed you in the darkness, or perhaps the old wizard had a few tricks up his sleeve yet.  Whatever the reason, just as you're about to swing the axe, a ghostly shield materializes out of thin air, and you see the ancient wizard's body framed in faint blue light. What that means in practice: The shield adds +2 to his armor, and the blue light is a shield spell that he just cast, adding +5 to his armor. That gives him a total AC of 21, and it makes your job just a little harder.  \n",
    "\n",
    "He still has only 28 hit points, but now you have to hit him before you can even make your damage roll. Now you're a pretty fierce warrior, so normally, you would get 1d20+11 as your attack roll, and contest that against Acererak's armor class. Unfortunately, you are attacking at a disadvantage because your comrades are all down, and you are just plain afraid of Acererak. You are trembling as you swing *Lichslayer III*. \n",
    "\n",
    "So here's how disadvantage works out in terms of dice rolls: To make your attack, you will roll 2d20 instead of 1d20, and you have to take the lower result as your attack roll. You still get to add 11 to it because you are a berserker. If that total is greater than or equal to 21, *you hit* Acererak, which is only the first part of this. \n",
    "\n",
    "If you hit Acererak, then you can roll your damage roll. The rules are the same as in the first problem. You roll 4d12+5 + 2d4+2.  If you get 28 or better, you win.\n",
    "\n",
    "***Except....***\n",
    "\n",
    "Acererak is a really, really bad dude. In the event that you do roll 28 or better - what is theoretically enough to win - He gets a saving throw. If he succeeds on his saving throw, he negates any damage done by your axe through sheer Lich. Now, to do this, *Acererak* makes a roll. He rolls 1d20 + 9.  If he rolls 25 or better, he shrugs off the damage and drops you with a something really lame, like magic missle, for the total party kill.\n",
    "\n",
    "Write a Monte carlo Simulation to figure out your chance for success in this scenario. You do not need to generate a probability distribution as we did above - that was a distribution for the damage roll alone.  Here you have 3 separate events that combine to determine a binary outcome (win or lose).  So your probability distribution here is just what fraction of times you win + what fraction of times you lose."
   ]
  },
  {
   "cell_type": "code",
   "execution_count": 15,
   "metadata": {},
   "outputs": [],
   "source": [
    "n = 1000000\n",
    "result = []\n",
    "\n",
    "for i in range(0,n,1):\n",
    "    \n",
    "    attack_roll = generator(20,2)\n",
    "    if attack_roll[0] < attack_roll[1]:\n",
    "        attack = attack_roll[0]\n",
    "    else:\n",
    "        attack = attack_roll[1]\n",
    "    attack     = attack + 11\n",
    "    \n",
    "    if attack < 21: #You don't hit Acererak; game over.\n",
    "        result.append('Total Party Kill!')\n",
    "    else: #You do hit Acererak, time to make a damage roll.\n",
    "        roll1 = generator(12,4)\n",
    "        roll2 = generator(4,2)\n",
    "        base  = sum(roll1) + 5\n",
    "        bonus = sum(roll2) + 2\n",
    "        total = base + bonus\n",
    "        if total < 28: #You don't drop Acererak; game over\n",
    "            result.append('Total Party Kill!')\n",
    "        else: #You do enough damage to drop Acererak, now he gets a saving throw.\n",
    "            roll3 = generator(20,1)\n",
    "            save  = sum(roll3) + 9\n",
    "            if save >= 25: #Acererak makes his save and ignores damage; game over\n",
    "                result.append('Total Party Kill!')\n",
    "            else: #Acererak fails his save; you win!\n",
    "                result.append('Acererak Has Fallen!')\n",
    "\n",
    "Wins = result.count('Acererak Has Fallen!')\n",
    "Losses = result.count('Total Party Kill!')"
   ]
  },
  {
   "cell_type": "code",
   "execution_count": 16,
   "metadata": {},
   "outputs": [
    {
     "name": "stdout",
     "output_type": "stream",
     "text": [
      "0.209986\n"
     ]
    }
   ],
   "source": [
    "odds = Wins/(Wins + Losses)\n",
    "print(odds)"
   ]
  },
  {
   "cell_type": "markdown",
   "metadata": {},
   "source": [
    "## I'll take what's behind door number....\n",
    "\n",
    "You are on a game show. The host presents you with a choice between 3 doors, and the choice you make will determine your fate in life. Behind one of the doors is your dream job, your dream life. If you pick that door, you get to work at something satisfying, rewarding, and well paid for as long as you want to. Behind the other two doors is misery. If you pick one of them, you get to be a college professor. (***I'm kidding***). Imagine the job in the world you'd hate doing the most - that is what's behind the other two doors...and once you pick it, you are obligated to do it until you are 95 because a) it has no retirement plan and b) once you take this job, you are ineligible for social security.\n",
    "\n",
    "What lies beyond each door is determined randomly.  No one, including the game show host knows what lies behind each one.  ***You steel your nerve and pick one of the three doors***, because even misery is better than being on a game show right?\n",
    "\n",
    "But ***just before you open the door that you picked***, the game show host stops you from opening it and says \"Wait wait, let's make this a little more interesting!\"\n",
    "\n",
    "The live studio audience roars.\n",
    "\n",
    "The game show host then ***opens one of the two doors that you didn't pick***. Behind it?  **Misery**.  Keep in mind, the game show host had no idea what was behind any of the doors.\n",
    "\n",
    "It looks like you dodged at least one bullet, yeah?  But then the game show host turns to you and says:\n",
    "\n",
    "***\"I'll give you one last chance, do you want to change your pick?\"***\n",
    "\n",
    "Write a Monte Carlo simulation to analyze the best course of action."
   ]
  },
  {
   "cell_type": "code",
   "execution_count": 17,
   "metadata": {
    "scrolled": true
   },
   "outputs": [
    {
     "name": "stdout",
     "output_type": "stream",
     "text": [
      "0.33398\n",
      "100000\n",
      "0\n",
      "100000\n",
      "If switch = no, you have a 33.40% chance of winning\n"
     ]
    }
   ],
   "source": [
    "n = 100000\n",
    "reject = 0\n",
    "result = []\n",
    "switch = 'no'\n",
    "for i in range(0,n,1):\n",
    "    \n",
    "    #What's behind the doors: 1 is good, 0 is bad.\n",
    "    D1 = random.randint(0,1)\n",
    "    if D1 == 1:\n",
    "        D2 = 0\n",
    "        D3 = 0\n",
    "    elif D1 == 0:\n",
    "        D2 = random.randint(0,1)\n",
    "        if D2 == 1:\n",
    "            D3 = 0\n",
    "        elif D2 == 0:\n",
    "            D3 = 1\n",
    "    D = [D1,D2,D3]\n",
    "    \n",
    "    #Make your pick\n",
    "    pick = random.randint(0,2)\n",
    "    outcome = D[pick]\n",
    "    if outcome == 1: #You picked the winner on your first try.  Deal with the other two doors.\n",
    "        host_outcome = 0\n",
    "        remaining_door = 0\n",
    "    elif outcome == 0: #You picked a loser on your first try, deal with the other two doors.\n",
    "        remaining_door = 1\n",
    "    \n",
    "    if remaining_door == 0 and switch == 'yes':\n",
    "        result.append('lose')\n",
    "    if remaining_door == 0 and switch == 'no':\n",
    "        result.append('win')\n",
    "    if remaining_door == 1 and switch == 'yes':\n",
    "        result.append('win')\n",
    "    if remaining_door == 1 and switch == 'no':\n",
    "        result.append('lose')\n",
    "\n",
    "wins   = result.count('win')\n",
    "losses = result.count('lose')\n",
    "odds   = wins/(wins + losses)\n",
    "print(odds)\n",
    "print(wins + losses)\n",
    "print(reject)\n",
    "print(n - reject)\n",
    "print(f'If switch = {switch:s}, you have a {odds*100:4.2f}% chance of winning')"
   ]
  },
  {
   "cell_type": "markdown",
   "metadata": {},
   "source": [
    "## Calories in, calories out\n",
    "\n",
    "For all of the above cases, we've been dealing with discrete random variables.  Again, that means that the values taken on by the variable are not a continuous function, they are discrete values.  In this case, a dice roll will always give you an integer between 1 and the number of sides on that die.\n",
    "\n",
    "Now we're going to take this up just a little in intensity and present you with a framework that is generally useful in doing something like a monte carlo simulation where the important factors in your model obey some type of known probability distribution?  Gaussian is one example, but you might also have log normal, Poisson, Voigt, or many, many other types of distributions.\n",
    "\n",
    "There are quite a lot of them, both discrete and continuous.\n",
    "\n",
    "https://en.wikipedia.org/wiki/List_of_probability_distributions\n",
    "\n",
    "Here's an illustration of a few of those distributions:"
   ]
  },
  {
   "cell_type": "code",
   "execution_count": 18,
   "metadata": {},
   "outputs": [
    {
     "data": {
      "image/png": "[encoded data removed]",
      "text/plain": [
       "<Figure size 432x360 with 1 Axes>"
      ]
     },
     "metadata": {
      "filenames": {
       "image/png": "C:\\Users\\jqbond\\Documents\\GitHub\\WebContent\\2022CEN587\\_build\\jupyter_execute\\Supplements\\Module 08 - Probability_36_0.png"
      },
      "needs_background": "light"
     },
     "output_type": "display_data"
    },
    {
     "data": {
      "image/png": "[encoded data removed]",
      "text/plain": [
       "<Figure size 432x360 with 1 Axes>"
      ]
     },
     "metadata": {
      "filenames": {
       "image/png": "C:\\Users\\jqbond\\Documents\\GitHub\\WebContent\\2022CEN587\\_build\\jupyter_execute\\Supplements\\Module 08 - Probability_36_1.png"
      },
      "needs_background": "light"
     },
     "output_type": "display_data"
    },
    {
     "data": {
      "image/png": "[encoded data removed]",
      "text/plain": [
       "<Figure size 432x360 with 1 Axes>"
      ]
     },
     "metadata": {
      "filenames": {
       "image/png": "C:\\Users\\jqbond\\Documents\\GitHub\\WebContent\\2022CEN587\\_build\\jupyter_execute\\Supplements\\Module 08 - Probability_36_2.png"
      },
      "needs_background": "light"
     },
     "output_type": "display_data"
    }
   ],
   "source": [
    "Gaussian   = [random.gauss(0,2) for i in range(0,100000)]\n",
    "Lognorm    = [random.lognormvariate(0,0.4) for i in range(0,100000)]\n",
    "Triangular = [random.triangular(-1,1) for i in range(0,100000)]\n",
    "\n",
    "values = [i/10 for i in range(-100,100)]\n",
    "\n",
    "#Create a histogram of data generated by these random generators for visualization\n",
    "countG = []\n",
    "countL = []\n",
    "countT = []\n",
    "for i in values:\n",
    "    lower = i - 0.05\n",
    "    upper = i + 0.05\n",
    "    tempG = []\n",
    "    tempL = []\n",
    "    tempT = []\n",
    "    for n in range(0,len(Gaussian)):\n",
    "        if lower <= Gaussian[n] <= upper:\n",
    "            tempG.append(Gaussian[n])\n",
    "        if lower <= Lognorm[n] <= upper:\n",
    "            tempL.append(Lognorm[n])\n",
    "        if lower <= Triangular[n] <= upper:\n",
    "            tempT.append(Triangular[n])\n",
    "    countG.append(len(tempG))\n",
    "    countL.append(len(tempL))\n",
    "    countT.append(len(tempT))\n",
    "    \n",
    "plt.figure(1, figsize = (6, 5))\n",
    "plt.bar(values, countG, color = 'black', edgecolor = 'black')\n",
    "plt.xlabel('n', fontsize = 12)\n",
    "plt.title(f'Histogram for a Gaussian Variable')\n",
    "plt.show()\n",
    "\n",
    "plt.figure(2, figsize = (6, 5))\n",
    "plt.bar(values, countL, color = 'black', edgecolor = 'black')\n",
    "plt.xlabel('n', fontsize = 12)\n",
    "plt.title(f'Histogram for a Lorgnorm Variable')\n",
    "plt.show()\n",
    "\n",
    "plt.figure(3, figsize = (6, 5))\n",
    "plt.bar(values, countT, color = 'black', edgecolor = 'black')\n",
    "plt.xlabel('n', fontsize = 12)\n",
    "plt.title(f'Histogram for a Triangular Variable')\n",
    "plt.show()"
   ]
  },
  {
   "cell_type": "markdown",
   "metadata": {},
   "source": [
    "The heart of Monte Carlo simulations is figuring out which of those distributions apply to the uncertain parameters in your model, and then drawing random numbers from that distribution weighted by the probability of that event occuring.\n",
    "\n",
    "Let's say I have a few things that determine my daily calorie balance on a day where I both have some type of training session AND I have access to unlimited donuts. Let's break this down because nothing is certain about any of these things. \n",
    "\n",
    "I have a reasonably steady average basal metabolic rate around 1800 kcal/day - this is roughly the number of calories I burn if I don't do anything too out of the ordinary.  It will vary up and down some.  Sitting on the couch is lower, maybe a day where I walk to work is higher, but on average, the variance is pretty small. This is a training day, so I'm probably either rowing or on the bike.  Let's say I generally hit 800 kcal in a session, but the variance is large.  Some days I feel great and go up to 1200 or 1400, other days, I bail pretty quick and might only do 200kcal. Let's pretend that my donut consumption is not correlated with my calorie burn.  If I have access, I will eat 7 donuts on average, but there is a bit of variance, and it tends to skew higher than 7.  Let's say on average each donut has 350kcal.\n",
    "\n",
    "We'll describe each of these variables using probability distributions.  On average, I probably come in close to the mean numbers above, but all of these things vary from day to day.  So we'll pull numbers from relevant probability distributions.\n",
    "\n",
    "Let's say my BMR is on average, 1600 kcal, and it is described by a normal (Gaussian) distribution with a standard deviation of 125 kcal.  I can draw a random number that obeys that distribution (most likely around 1600, less likely below 1400 or above 1800) using:\n",
    "\n",
    "```python\n",
    "BMR = random.gauss(1600,125) #kcal\n",
    "```\n",
    "\n",
    "Alright, so I usually eat 7 donuts, but who knows right?  Let's say it is Gaussian, but with constraints. First, I always eat at least 2, so a result less than 2 will be set to 2.  Second, I never eat a fraction of a donut, so I will round up whatever value the gaussian distribution returns.  There is no upper limit on the number of donuts I will eat. Standard deviation: 3 donuts.\n",
    "\n",
    "```python\n",
    "Donuts = ceil(random.gauss(7,3)) #donuts\n",
    "```\n",
    "\n",
    "I have a preference for things like apple fritters, so they have a lot of calories.  But I won't turn away anything.  Let's say that the calories in my typical donut follow a Gaussian distribution centered at 350 kcal, with a standard deviation of 140, but only upward.  The minimum calories I will consume in a single donut are 350 kcal. There is no upper limit.\n",
    "\n",
    "```python\n",
    "D_Cal  = random.gauss(350,140) #kcal\n",
    "```\n",
    "\n",
    "My workouts can be described with a triangular distribution centered at 800 calories, but going anywhere from 400 to 1200.\n",
    "\n",
    "```python\n",
    "Training = random.triangular(400,800) #kcal\n",
    "```\n",
    "\n",
    "Now, I have enough information to run a monte carlo simulation to figure out my typical net calories in a given day.  I would do this with a for loop that runs through maybe 10<sup>6</sup> iterations.  On each pass, I'll draw a random value for BMR, Donuts, D_Cal, and Training, then I'll add them up to get my net total.  Once that's done we can create a histogram from the data, which gives us a pretty good representation of our probability distribution my daily net calorie intake."
   ]
  },
  {
   "cell_type": "code",
   "execution_count": 19,
   "metadata": {},
   "outputs": [
    {
     "data": {
      "image/png": "[encoded data removed]",
      "text/plain": [
       "<Figure size 432x360 with 1 Axes>"
      ]
     },
     "metadata": {
      "filenames": {
       "image/png": "C:\\Users\\jqbond\\Documents\\GitHub\\WebContent\\2022CEN587\\_build\\jupyter_execute\\Supplements\\Module 08 - Probability_38_0.png"
      },
      "needs_background": "light"
     },
     "output_type": "display_data"
    }
   ],
   "source": [
    "BMR = random.gauss(1600,125) #kcal\n",
    "Donuts = math.ceil(random.gauss(7,3)) #donuts\n",
    "D_Cal  = random.gauss(350,140) #kcal\n",
    "Training = random.triangular(400,800) #kcal\n",
    "\n",
    "net = []\n",
    "for n in range(0,1000000):\n",
    "    BMR = random.gauss(1600,125) #kcal\n",
    "    Donuts = math.ceil(random.gauss(7,3)) #kcal\n",
    "    if Donuts < 2:\n",
    "        Donuts = 2\n",
    "    D_Cal  = random.gauss(350,140) #kcal\n",
    "    if D_Cal < 350:\n",
    "        D_Cal = 350\n",
    "    Training = random.triangular(400,800) #kcal\n",
    "    net.append(Donuts*D_Cal - BMR - Training)\n",
    "\n",
    "#Create a histogram   \n",
    "values = [i for i in range(-4000,8000,100)]\n",
    "count_cal = []\n",
    "for i in values:\n",
    "    lower = i - 50\n",
    "    upper = i + 50\n",
    "    temp  = []\n",
    "    for n in range(0,len(net)):\n",
    "        if lower <= net[n] <= upper:\n",
    "            temp.append(net[n])\n",
    "    count_cal.append(len(temp))\n",
    "\n",
    "#Convert to a probability distribution\n",
    "integral = 0\n",
    "for j in range(0,len(values)-1):\n",
    "    integral += (count_cal[j] + count_cal[j+1])/2*(values[j+1] - values[j])\n",
    "\n",
    "prob = [cals/integral for cals in count_cal]\n",
    "\n",
    "plt.figure(1, figsize = (6, 5))\n",
    "plt.plot(values, prob, color = 'black')\n",
    "plt.xlabel('Net Calorie Intake (kcal)', fontsize = 12)\n",
    "plt.ylabel('Probability', fontsize = 12)\n",
    "plt.title(f'Probability distribution of net calorie intake')\n",
    "plt.show()"
   ]
  }
 ],
 "metadata": {
  "kernelspec": {
   "display_name": "Python 3 (ipykernel)",
   "language": "python",
   "name": "python3"
  },
  "language_info": {
   "codemirror_mode": {
    "name": "ipython",
    "version": 3
   },
   "file_extension": ".py",
   "mimetype": "text/x-python",
   "name": "python",
   "nbconvert_exporter": "python",
   "pygments_lexer": "ipython3",
   "version": "3.9.13"
  }
 },
 "nbformat": 4,
 "nbformat_minor": 4
}