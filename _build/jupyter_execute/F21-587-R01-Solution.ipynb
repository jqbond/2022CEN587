{
 "cells": [
  {
   "cell_type": "markdown",
   "metadata": {},
   "source": [
    "# Recitation 01\n",
    "\n",
    "Everyone should have completed the review materials (Supplements 01 - 07) by this point. Today, we will be getting familiar with the Jupyter Environment and basic Python. Here is an overview of the topics:\n",
    "\n",
    "* Base Python vs. Numpy (lists vs. arrays)\n",
    "* 1D arrays, columns, rows, and matrices\n",
    "* Basic math operators in Python \n",
    "* Functions\n",
    "* For Loops, While Loops\n",
    "* Element-wise operations (broadcasting) vs. matrix operations\n",
    "* Logical values and conditional statements\n",
    "* Graphing\n",
    "\n",
    "We'll go through some some practice exercises in the cells below."
   ]
  },
  {
   "cell_type": "markdown",
   "metadata": {},
   "source": [
    "<span style=\"font-family:Times New Roman; font-size:1.5em;\">**Lists vs. Numpy Arrays**</span>\n",
    "\n",
    "If we're going to work in Python, we need to discuss the differences between lists and numpy arrays.  It is easy to confuse these two types of data structures since they look so similar and we create them in similar ways.  But they have important differences.  We will usually want to work with numpy arrays in this course, but I want to communicate why they are a bit more convenient.  To do that, we need to discuss lists first.\n",
    "\n",
    "When working with data, functions, and various types of analysis, we generally need to be able to store sets or collections of values instead of just scalars. In the base Python environment, the default type of collection is a list. If you are familiar with Matlab's environment, creating a list is very similar to creating an array in Matlab.  For example, if we wanted to create a list containing the integers 1 to 5, we would do so as follows:\n",
    "\n",
    "    L1 = [1, 2, 3, 4, 5]\n",
    "\n",
    "**Important:** Is everyone comfortable with indexing in Python to access specific elements?"
   ]
  },
  {
   "cell_type": "code",
   "execution_count": 1,
   "metadata": {},
   "outputs": [
    {
     "data": {
      "text/plain": [
       "1"
      ]
     },
     "execution_count": 1,
     "metadata": {},
     "output_type": "execute_result"
    }
   ],
   "source": [
    "L1 = [1, 2, 3, 4, 5]\n",
    "L1[0]"
   ]
  },
  {
   "cell_type": "markdown",
   "metadata": {},
   "source": [
    "We can display the contents of that list and the length of that list.  We'll also display the type.\n",
    "\n",
    "    print(L1)\n",
    "    print(len(L1))\n",
    "    print(type(L1))\n",
    "    \n",
    "**Important:** Python only displays the output of the last operation performed; if you want to see a value, you usually have to print it."
   ]
  },
  {
   "cell_type": "code",
   "execution_count": 2,
   "metadata": {},
   "outputs": [
    {
     "name": "stdout",
     "output_type": "stream",
     "text": [
      "[1, 2, 3, 4, 5]\n",
      "5\n",
      "<class 'list'>\n"
     ]
    }
   ],
   "source": [
    "print(L1)\n",
    "print(len(L1))\n",
    "print(type(L1))"
   ]
  },
  {
   "cell_type": "markdown",
   "metadata": {},
   "source": [
    "This *looks* like a row vector compared to what we are probably used to from Matlab, but it has very different properties.  Technically, it is a 1 dimensional object (it only has a length associated with it), whereas rows, columns, and matrices are 2D objects (they have both row and column dimensions).\n",
    "\n",
    "Let's say we wanted to store a \"2D\" set of information in lists; we would do so by constructing a list of lists:\n",
    "\n",
    "    L2 = [[1, 2, 3, 4, 5], [6, 7, 8, 9, 10]]"
   ]
  },
  {
   "cell_type": "code",
   "execution_count": 3,
   "metadata": {},
   "outputs": [],
   "source": [
    "L2 = [[1, 2, 3, 4, 5], [6, 7, 8, 9, 10]]"
   ]
  },
  {
   "cell_type": "markdown",
   "metadata": {},
   "source": [
    "If we print that list, we find it *looks* like a matrix:\n",
    "\n",
    "    print(L2)"
   ]
  },
  {
   "cell_type": "code",
   "execution_count": 4,
   "metadata": {},
   "outputs": [
    {
     "name": "stdout",
     "output_type": "stream",
     "text": [
      "[[1, 2, 3, 4, 5], [6, 7, 8, 9, 10]]\n"
     ]
    }
   ],
   "source": [
    "print(L2)"
   ]
  },
  {
   "cell_type": "markdown",
   "metadata": {},
   "source": [
    "However, if we ask for the length of that list, we find that it is only 2 elements long:\n",
    "\n",
    "    len(L2)"
   ]
  },
  {
   "cell_type": "code",
   "execution_count": 5,
   "metadata": {},
   "outputs": [
    {
     "data": {
      "text/plain": [
       "5"
      ]
     },
     "execution_count": 5,
     "metadata": {},
     "output_type": "execute_result"
    }
   ],
   "source": [
    "len(L2[0])"
   ]
  },
  {
   "cell_type": "markdown",
   "metadata": {},
   "source": [
    "It is **not** a 2x5 matrix, and if we tried to index it like a matrix (row, column), we get an error:\n",
    "\n",
    "    L2[1,1]"
   ]
  },
  {
   "cell_type": "code",
   "execution_count": 6,
   "metadata": {},
   "outputs": [
    {
     "data": {
      "text/plain": [
       "7"
      ]
     },
     "execution_count": 6,
     "metadata": {},
     "output_type": "execute_result"
    }
   ],
   "source": [
    "# L2[1,1]\n",
    "L2[1][1]"
   ]
  },
  {
   "cell_type": "markdown",
   "metadata": {},
   "source": [
    "If we wanted to access information in that list, we have to remember that it is not a matrix, but a list of lists...so if I wanted to recall the number 5, for example, from L2, that is not indexed as:\n",
    "\n",
    "    L2[0,4]  #5th column in first row of L2\n",
    "    \n",
    "As you might do in Matlab; rather, it is indexed as:\n",
    "\n",
    "    L2[0][4] #5th element in first list of L2"
   ]
  },
  {
   "cell_type": "code",
   "execution_count": 7,
   "metadata": {},
   "outputs": [
    {
     "ename": "TypeError",
     "evalue": "list indices must be integers or slices, not tuple",
     "output_type": "error",
     "traceback": [
      "\u001b[1;31m---------------------------------------------------------------------------\u001b[0m",
      "\u001b[1;31mTypeError\u001b[0m                                 Traceback (most recent call last)",
      "\u001b[1;32m~\\AppData\\Local\\Temp\\ipykernel_9964\\1858954505.py\u001b[0m in \u001b[0;36m<cell line: 1>\u001b[1;34m()\u001b[0m\n\u001b[1;32m----> 1\u001b[1;33m \u001b[0mL2\u001b[0m\u001b[1;33m[\u001b[0m\u001b[1;36m0\u001b[0m\u001b[1;33m,\u001b[0m\u001b[1;36m4\u001b[0m\u001b[1;33m]\u001b[0m\u001b[1;33m\u001b[0m\u001b[1;33m\u001b[0m\u001b[0m\n\u001b[0m",
      "\u001b[1;31mTypeError\u001b[0m: list indices must be integers or slices, not tuple"
     ]
    }
   ],
   "source": [
    "L2[0,4]"
   ]
  },
  {
   "cell_type": "markdown",
   "metadata": {},
   "source": [
    "**The moral of the story:**  Lists are not matrices, and they do not index or behave like matrices."
   ]
  },
  {
   "cell_type": "code",
   "execution_count": null,
   "metadata": {},
   "outputs": [],
   "source": []
  },
  {
   "cell_type": "markdown",
   "metadata": {},
   "source": [
    "<span style=\"font-family:Times New Roman; font-size:1.5em;\">**Numpy Arrays**</span>\n",
    "\n",
    "If we want a matrix like environment (and we'll see some reasons for this below), this is best handled in Python using numpy arrays.  This is not in base Pyton -- we have to import the numpy package to gain access to numpy arrays.\n",
    "\n",
    "    import numpy as np\n",
    "    \n",
    "**Important:** This imports the package \"numpy\" under the alias \"np.\"  So anywhere we'd normally call the package using \"numpy,\" we can replace that with \"np\" instead."
   ]
  },
  {
   "cell_type": "code",
   "execution_count": 15,
   "metadata": {},
   "outputs": [],
   "source": [
    "import numpy as np"
   ]
  },
  {
   "cell_type": "markdown",
   "metadata": {},
   "source": [
    "We create numpy arrays as in the following example.  Here, we create a 1D numpy array that contains the integers 1 to 5 (similar to the list above).\n",
    "\n",
    "    A1 = np.array([1, 2, 3, 4, 5])  #equivalent to np.array(L1)\n",
    "    \n",
    "In essence, we are passing a list into the array constructor.  We will need to remember this idea when we create 2D arrays (similar to a matrix) or higher dimensional arrays."
   ]
  },
  {
   "cell_type": "code",
   "execution_count": 16,
   "metadata": {},
   "outputs": [],
   "source": [
    "A1 = np.array([1, 2, 3, 4, 5])"
   ]
  },
  {
   "cell_type": "markdown",
   "metadata": {},
   "source": [
    "Let's print that array and check it's properties and dimensions:\n",
    "\n",
    "    print(A1)\n",
    "    print(len(A1))\n",
    "    print(type(A1))\n",
    "   "
   ]
  },
  {
   "cell_type": "code",
   "execution_count": 17,
   "metadata": {},
   "outputs": [
    {
     "name": "stdout",
     "output_type": "stream",
     "text": [
      "[1 2 3 4 5]\n",
      "5\n",
      "<class 'numpy.ndarray'>\n"
     ]
    }
   ],
   "source": [
    "print(A1)\n",
    "print(len(A1))\n",
    "print(type(A1))"
   ]
  },
  {
   "cell_type": "markdown",
   "metadata": {},
   "source": [
    "Numpy arrays have a few more attributes compared to a list:\n",
    "\n",
    "    print(A1.size)\n",
    "    print(A1.shape)\n",
    "    print(A1.ndim)"
   ]
  },
  {
   "cell_type": "code",
   "execution_count": 18,
   "metadata": {},
   "outputs": [
    {
     "name": "stdout",
     "output_type": "stream",
     "text": [
      "5\n",
      "(5,)\n",
      "1\n"
     ]
    }
   ],
   "source": [
    "print(A1.size)\n",
    "print(A1.shape)\n",
    "print(A1.ndim)"
   ]
  },
  {
   "cell_type": "markdown",
   "metadata": {},
   "source": [
    "With numpy arrays, we can actually create 2D or higher dimensional structures (3D, 4D, etc.)  We'll mostly stick with 1D and 2D.  For example, let's recreate that list of lists above as a numpy array using the array constructor.\n",
    "\n",
    "The key thing to remember when you are creating a 2D array is that you still use the basic np.array() constructor syntax:\n",
    "\n",
    "    np.array([])\n",
    "\n",
    "But **every row in the array should be entered into the np.array() constructor as a list**.\n",
    "\n",
    "    A2 = np.array([[1, 2, 3, 4, 5], [6, 7, 8, 9, 10]]) #equivalent to np.array(L2)\n",
    "    \n",
    "If you look closely at this, you'll see that the first \"element\" in that array is the list [1, 2, 3, 4, 5], and the second element is the list [6, 7, 8, 9, 10].  These \"elements\" in a numpy array correspond to rows in a matrix, so when you're creating a matrix, you enter each row as a separate list.  Each list should be separated by a comma."
   ]
  },
  {
   "cell_type": "code",
   "execution_count": 19,
   "metadata": {},
   "outputs": [],
   "source": [
    "A2 = np.array([[1, 2, 3, 4, 5], [6, 7, 8, 9, 10]])"
   ]
  },
  {
   "cell_type": "markdown",
   "metadata": {},
   "source": [
    "Now we'll look at that array and some of its associated properties and dimensions:\n",
    "\n",
    "    print(A1)\n",
    "    print(len(A1))\n",
    "    print(type(A1))\n",
    "    print(A1.size)\n",
    "    print(A1.shape)\n",
    "    print(A1.ndim)"
   ]
  },
  {
   "cell_type": "code",
   "execution_count": 20,
   "metadata": {},
   "outputs": [
    {
     "name": "stdout",
     "output_type": "stream",
     "text": [
      "[[ 1  2  3  4  5]\n",
      " [ 6  7  8  9 10]]\n",
      "2\n",
      "<class 'numpy.ndarray'>\n",
      "10\n",
      "(2, 5)\n",
      "2\n"
     ]
    }
   ],
   "source": [
    "print(A2)\n",
    "print(len(A2))\n",
    "print(type(A2))\n",
    "print(A2.size)\n",
    "print(A2.shape)\n",
    "print(A2.ndim)"
   ]
  },
  {
   "cell_type": "markdown",
   "metadata": {},
   "source": [
    "With a numpy array, we have the option of indexing it as we would a matrix using [row, column] indexing, so, with this numpy array, if I wanted to grab the fifth column in the first row, I can do so as:\n",
    "\n",
    "    A2[0,4]  #5th column in first row\n",
    "    \n",
    "or as I would with a list:\n",
    "\n",
    "    A2[0][4] #5th element in first element\n",
    "\n",
    "So: a numpy array has size, shape, and index options that are similar to what we are probably used to with Matlab matrices.  Lists do not translate directly to matrix format."
   ]
  },
  {
   "cell_type": "code",
   "execution_count": 21,
   "metadata": {},
   "outputs": [
    {
     "data": {
      "text/plain": [
       "5"
      ]
     },
     "execution_count": 21,
     "metadata": {},
     "output_type": "execute_result"
    }
   ],
   "source": [
    "A2[0,4]\n",
    "A2[0][4]"
   ]
  },
  {
   "cell_type": "markdown",
   "metadata": {},
   "source": [
    "<span style=\"font-family:Times New Roman; font-size:1.5em;\">**1D arrays vs. Rows and Columns**</span>\n",
    "\n",
    "If you are coming from a Matlab background, you are used to thinking of \"vectors\" of numbers or entries as either rows (horizontal set of values) or columns (vertical set of values).  It is important to remember that rows and columns are 2-dimensional structures -- they both have a length (number of rows) and width (number of columns) associated with them.\n",
    "\n",
    "Specifically, a column is n rows x 1 column...and a row is 1 row x m columns.  **These are 2D structures** and they have the corresponding shapes associated with them.\n",
    "\n",
    "Whereas Matlab creates rows and columns by default using brackets [], spaces, or semicolons, Python is slightly different.\n",
    "\n",
    "Let's go back to our original set of integers from 1 to 5.  If I create a numpy array as follows:\n",
    "\n",
    "    A1 = np.array([1, 2, 3, 4, 5])\n",
    "    \n",
    "And print its values as well as its dimensions and shape:\n",
    "\n",
    "    print(A1)\n",
    "    print(A1.ndim)\n",
    "    print(A1.shape)\n",
    "    \n",
    "We will find that it is a true 1 dimensional structure.  It is a \"line\" of values, and it is neither a row or column in that it has no horizontal or vertical orientation associated with it.  This is what the somewhat strange notation (5,) communicates to us.  There is no 2nd dimension."
   ]
  },
  {
   "cell_type": "code",
   "execution_count": 22,
   "metadata": {},
   "outputs": [
    {
     "name": "stdout",
     "output_type": "stream",
     "text": [
      "[1 2 3 4 5]\n",
      "1\n",
      "(5,)\n"
     ]
    }
   ],
   "source": [
    "A1 = np.array([1, 2, 3, 4, 5])\n",
    "print(A1)\n",
    "print(A1.ndim)\n",
    "print(A1.shape)"
   ]
  },
  {
   "cell_type": "markdown",
   "metadata": {},
   "source": [
    "Usually, we'll be fine working with 1D arrays.  They will typically behave either as a row or a column depending on context (if we need them to).  If we ever specifically need to create a row or a column, we have to deliberatly create a 2D array.  For example, recreating that 1D array as a row looks like this:\n",
    "\n",
    "    R1 = np.array([[1, 2, 3, 4, 5]])\n",
    "    \n",
    "Look at it closely and you'll see that I'm still passing a list into the np.array() constructor with [], and the first element in that list is another list enclosed in an additional set of [].  This is how you create 2D arrays in Python with numpy arrays."
   ]
  },
  {
   "cell_type": "code",
   "execution_count": 23,
   "metadata": {},
   "outputs": [
    {
     "data": {
      "text/plain": [
       "array([[1, 2, 3, 4, 5]])"
      ]
     },
     "execution_count": 23,
     "metadata": {},
     "output_type": "execute_result"
    }
   ],
   "source": [
    "R1 = np.array([[1, 2, 3, 4, 5]])\n",
    "R1"
   ]
  },
  {
   "cell_type": "markdown",
   "metadata": {},
   "source": [
    "And we'll print important aspects as usual:\n",
    "\n",
    "    print(R1)\n",
    "    print(R1.ndim)\n",
    "    print(R1.shape)\n",
    "    \n",
    "Now, you see that we have a true row of shape (1, 5), i.e., 1 row and 5 columns."
   ]
  },
  {
   "cell_type": "code",
   "execution_count": 24,
   "metadata": {},
   "outputs": [
    {
     "name": "stdout",
     "output_type": "stream",
     "text": [
      "[[1 2 3 4 5]]\n",
      "2\n",
      "(1, 5)\n"
     ]
    }
   ],
   "source": [
    "print(R1)\n",
    "print(R1.ndim)\n",
    "print(R1.shape)"
   ]
  },
  {
   "cell_type": "markdown",
   "metadata": {},
   "source": [
    "In contrast, if we really need a column, we would have to create it as follows (again, as a 2D array):\n",
    "\n",
    "    C1 = np.array([[1], [2], [3], [4], [5]])\n",
    "    \n",
    "Again, you'll notice that I'm passing a list into an np.array() constructor using a set of values enclosed in [].  In this case, each element in that list is also a separate list enclosed in brackets [], and I've created several rows by entering every value as its own list separated by commas.  With numpy arrays, each new \"list\" separated by commas creates a new row, so in this example, we've made a column with 5 rows."
   ]
  },
  {
   "cell_type": "code",
   "execution_count": 25,
   "metadata": {},
   "outputs": [],
   "source": [
    "C1 = np.array([[1], [2], [3], [4], [5]])"
   ]
  },
  {
   "cell_type": "markdown",
   "metadata": {},
   "source": [
    "And we display outputs:\n",
    "\n",
    "    print(C1)\n",
    "    print(C1.ndim)\n",
    "    print(C1.shape)\n",
    "    \n",
    "Which reveal that this is actually a column.  \n",
    "\n",
    "More often than not, we only need to work with 1D arrays and matrices, but it is important to understand what these shapes mean.  I found myself initially very confused by 1D arrays when I switched from Matlab to Python, so I thought the explanation was worthwhile.  If I run into an occasion where we actually need a row or a column, we'll discuss it.  Most of the time, 1D numpy arrays will suffice where we think we need a row or a column."
   ]
  },
  {
   "cell_type": "code",
   "execution_count": 26,
   "metadata": {},
   "outputs": [
    {
     "name": "stdout",
     "output_type": "stream",
     "text": [
      "[[1]\n",
      " [2]\n",
      " [3]\n",
      " [4]\n",
      " [5]]\n",
      "2\n",
      "(5, 1)\n"
     ]
    }
   ],
   "source": [
    "print(C1)\n",
    "print(C1.ndim)\n",
    "print(C1.shape)"
   ]
  },
  {
   "cell_type": "markdown",
   "metadata": {},
   "source": [
    "<span style=\"font-family:Times New Roman; font-size:1.5em;\">**Lists vs. Numpy arrays in practice**</span>\n",
    "\n",
    "Create a 1D numpy array, A, that has the numbers 1 through 50 in it.\n",
    "\n",
    "We can do this in at least three ways:\n",
    "\n",
    "Write out the integers 1 to 50 separated by commas in an np.array constructor (not recommended).\n",
    "\n",
    "    A = np.array([1, 2, 3, 4, 5, ... , 48, 49, 50])\n",
    "\n",
    "Use np.arange (good option, can be flaky with non-integer step sizes).\n",
    "\n",
    "    A = np.arange(start, stop, step size) #same as np.array(range(start, stop, step size) for int  \n",
    "  \n",
    "Use np.linspace to construct the array (returns floats; usually what we want; probably most useful option).\n",
    "\n",
    "    A = np.linspace(start, stop, number of elements in collection)"
   ]
  },
  {
   "cell_type": "code",
   "execution_count": 27,
   "metadata": {},
   "outputs": [],
   "source": [
    "A = np.linspace(1, 50, 50)"
   ]
  },
  {
   "cell_type": "markdown",
   "metadata": {},
   "source": [
    "For comparison, let's also create a list that contains the integers 1 to 50.\n",
    "\n",
    "    L = list(range(1, 51, 1))"
   ]
  },
  {
   "cell_type": "code",
   "execution_count": 28,
   "metadata": {},
   "outputs": [],
   "source": [
    "L = list(range(1, 51, 1))"
   ]
  },
  {
   "cell_type": "markdown",
   "metadata": {},
   "source": [
    "**Math on lists vs. arrays**\n",
    "\n",
    "As a simple demonstration, let's just try a few basic math operations on our 50 element array, A, and our 50 element list, L.\n",
    "\n",
    "    A + 5\n",
    "    L + 5\n",
    "    A*5\n",
    "    L*5\n",
    "    A**2  #A squared\n",
    "    L**2  #L squared"
   ]
  },
  {
   "cell_type": "code",
   "execution_count": null,
   "metadata": {},
   "outputs": [],
   "source": []
  },
  {
   "cell_type": "markdown",
   "metadata": {},
   "source": [
    "Now we'll create a second 1D array, B, that has the numbers 2 through 100 in increments of 2."
   ]
  },
  {
   "cell_type": "code",
   "execution_count": 29,
   "metadata": {},
   "outputs": [],
   "source": [
    "B = np.linspace(2, 100, 50)"
   ]
  },
  {
   "cell_type": "markdown",
   "metadata": {},
   "source": [
    "**Element-wise calculations are easy with arrays**\n",
    "\n",
    "Let's take advange of element-wise operations (broadcasting) in numpy arrays to:\n",
    "\n",
    "1. Multiply each element in A by each element in B \n",
    "2. Raise each element in A to the third power\n",
    "3. Find the exponential of the cube root of each element in A\n",
    "4. Divide each element in B by each element in A\n",
    "\n",
    "Each should give a 50 element vector (why?)"
   ]
  },
  {
   "cell_type": "code",
   "execution_count": 30,
   "metadata": {},
   "outputs": [
    {
     "data": {
      "text/plain": [
       "array([2., 2., 2., 2., 2., 2., 2., 2., 2., 2., 2., 2., 2., 2., 2., 2., 2.,\n",
       "       2., 2., 2., 2., 2., 2., 2., 2., 2., 2., 2., 2., 2., 2., 2., 2., 2.,\n",
       "       2., 2., 2., 2., 2., 2., 2., 2., 2., 2., 2., 2., 2., 2., 2., 2.])"
      ]
     },
     "execution_count": 30,
     "metadata": {},
     "output_type": "execute_result"
    }
   ],
   "source": [
    "B/A"
   ]
  },
  {
   "cell_type": "markdown",
   "metadata": {},
   "source": [
    "**Basic Matrix Operations**\n",
    "\n",
    "Now we'll get a look at Matrix operations in Python. To perform a matrix operation on something, we usually need a 2D array, so we'll use our rows and columns for this.\n",
    "\n",
    "1. Look at the difference between C1 and its transpose. #use np.transpose(C1) or C1.T\n",
    "2. Look at the difference between R1 and its transpose. #use np.transpose(R1) or R1.T\n",
    "3. Multiply C1 by C1$^T$ - this should give a 5x5 array (why?) #use C1\\@C.T\n",
    "4. Multiply R1 by R1$^T$ - this should give a 1x1 array (why?)       #use R1\\@R.T"
   ]
  },
  {
   "cell_type": "code",
   "execution_count": null,
   "metadata": {},
   "outputs": [],
   "source": []
  },
  {
   "cell_type": "markdown",
   "metadata": {},
   "source": [
    "**Introducing np.zeros**\n",
    "\n",
    "Create a 3x5 matrix of zeros, D; illustrate use of size to find rows and columns.\n",
    "\n",
    "    np.zeros(shape)"
   ]
  },
  {
   "cell_type": "code",
   "execution_count": 31,
   "metadata": {},
   "outputs": [
    {
     "name": "stdout",
     "output_type": "stream",
     "text": [
      "3\n",
      "5\n"
     ]
    }
   ],
   "source": [
    "D = np.zeros((3,5))\n",
    "rows = D.shape[0]\n",
    "cols = D.shape[1]\n",
    "print(rows)\n",
    "print(cols)"
   ]
  },
  {
   "cell_type": "markdown",
   "metadata": {},
   "source": [
    "**Some basic for loops**\n",
    "\n",
    "1. Use a for loop to print all of the values in C1\n",
    "2. Use a for loop to fill in the values of D such that each element in D is equal to the sum of it's (i,j) index pair."
   ]
  },
  {
   "cell_type": "code",
   "execution_count": 32,
   "metadata": {},
   "outputs": [
    {
     "name": "stdout",
     "output_type": "stream",
     "text": [
      "[1]\n",
      "[2]\n",
      "[3]\n",
      "[4]\n",
      "[5]\n"
     ]
    },
    {
     "data": {
      "text/plain": [
       "array([[0., 1., 2., 3., 4.],\n",
       "       [1., 2., 3., 4., 5.],\n",
       "       [2., 3., 4., 5., 6.]])"
      ]
     },
     "execution_count": 32,
     "metadata": {},
     "output_type": "execute_result"
    }
   ],
   "source": [
    "for values in C1:\n",
    "    print(values)\n",
    "    \n",
    "for i in range(0, rows):\n",
    "    for j in range(0, cols):\n",
    "        D[i, j] = i + j\n",
    "D"
   ]
  },
  {
   "cell_type": "markdown",
   "metadata": {},
   "source": [
    "**We can easily find the determinant (matrix must be square)**\n",
    "\n",
    "Find the determinant of:\n",
    "\n",
    "$$\n",
    "    E = \\begin{bmatrix}\n",
    "        1 & 7 & 9 \\\\\n",
    "        21 & -4 & 17 \\\\\n",
    "        -6 & 22 & 6\\\\\n",
    "        \\end{bmatrix}\n",
    "$$"
   ]
  },
  {
   "cell_type": "code",
   "execution_count": 41,
   "metadata": {},
   "outputs": [
    {
     "data": {
      "text/plain": [
       "1948.0"
      ]
     },
     "execution_count": 41,
     "metadata": {},
     "output_type": "execute_result"
    }
   ],
   "source": [
    "E = np.array([[1, 7, 9], [21, -4, 17], [-6, 22, 6]])\n",
    "np.linalg.det(E)"
   ]
  },
  {
   "cell_type": "markdown",
   "metadata": {},
   "source": [
    "**We can also easily find a matrix inverse**\n",
    "\n",
    "Find the inverse of $E$"
   ]
  },
  {
   "cell_type": "code",
   "execution_count": 42,
   "metadata": {},
   "outputs": [
    {
     "data": {
      "text/plain": [
       "array([[-0.20431211,  0.08008214,  0.07956879],\n",
       "       [-0.11704312,  0.03080082,  0.08829569],\n",
       "       [ 0.224846  , -0.03285421, -0.0775154 ]])"
      ]
     },
     "execution_count": 42,
     "metadata": {},
     "output_type": "execute_result"
    }
   ],
   "source": [
    "np.linalg.inv(E)"
   ]
  },
  {
   "cell_type": "markdown",
   "metadata": {},
   "source": [
    "**Some practice with functions and graphing**\n",
    "\n",
    "Let's create a function that accepts one input using a conventional function declaration.\n",
    "\n",
    "$$ y(x) = x^2$$\n",
    "\n",
    "Plot y(x) on the domain $x = [-10, 10]$; add labels for x and y axis."
   ]
  },
  {
   "cell_type": "code",
   "execution_count": 35,
   "metadata": {},
   "outputs": [],
   "source": [
    "def y(x):\n",
    "    y = x**2\n",
    "    return y"
   ]
  },
  {
   "cell_type": "code",
   "execution_count": 36,
   "metadata": {},
   "outputs": [
    {
     "data": {
      "text/plain": [
       "[<matplotlib.lines.Line2D at 0x1fc28dc5fa0>]"
      ]
     },
     "execution_count": 36,
     "metadata": {},
     "output_type": "execute_result"
    },
    {
     "data": {
      "image/png": "[encoded data removed]",
      "text/plain": [
       "<Figure size 432x288 with 1 Axes>"
      ]
     },
     "metadata": {
      "filenames": {
       "image/png": "C:\\Users\\jqbond\\Documents\\GitHub\\WebContent\\2022CEN587\\_build\\jupyter_execute\\F21-587-R01-Solution_63_1.png"
      },
      "needs_background": "light"
     },
     "output_type": "display_data"
    }
   ],
   "source": [
    "import matplotlib.pyplot as plt\n",
    "\n",
    "xvals = np.linspace(-10, 10, 100)\n",
    "plt.plot(xvals, y(xvals))"
   ]
  },
  {
   "cell_type": "markdown",
   "metadata": {},
   "source": [
    "**A multivariate function using a lambda function definition**\n",
    "\n",
    "Now we'll create a function that accepts two inputs; here, we'll use an inline or anonymous function syntax.\n",
    "\n",
    "$$ f(x,y) = sin(x) + cos(y) $$\n",
    "\n",
    "What is the value of f at x = 10, y = 7?\n"
   ]
  },
  {
   "cell_type": "code",
   "execution_count": 37,
   "metadata": {},
   "outputs": [
    {
     "data": {
      "text/plain": [
       "0.20988114345393483"
      ]
     },
     "execution_count": 37,
     "metadata": {},
     "output_type": "execute_result"
    }
   ],
   "source": [
    "f = lambda x,y: np.sin(x) + np.cos(y)\n",
    "f(10, 7)"
   ]
  },
  {
   "cell_type": "markdown",
   "metadata": {},
   "source": [
    "**3D plotting syntax**\n",
    "\n",
    "Create a 3D plot of the surface on the domain $x = [-10, 10]$ and $y = [-10,10]$; add labels and title.\n",
    "\n",
    "    fig, ax = plt.subplots(subplot_kw={\"projection\": \"3d\"})\n",
    "\n",
    "    #Data\n",
    "    x = np.linspace(-10, 10, 100)\n",
    "    y = np.linspace(-10, 10, 100)\n",
    "    X, Y = np.meshgrid(x, y) #we're making a surface plot, so we create a grid of (x,y) pairs\n",
    "    Z = f(X,Y)  #generate the Z data on the meshgrid (X,Y) by evaluating f at each XY pair.\n",
    "\n",
    "    #Plot the surface.\n",
    "    surf = ax.plot_surface(X, Y, Z)\n",
    "    plt.xlabel('X')\n",
    "    plt.ylabel('Y')\n",
    "    plt.title('Z values vs. X and Y')\n",
    "    plt.show()"
   ]
  },
  {
   "cell_type": "code",
   "execution_count": 38,
   "metadata": {},
   "outputs": [
    {
     "data": {
      "image/png": "[encoded data removed]",
      "text/plain": [
       "<Figure size 432x288 with 1 Axes>"
      ]
     },
     "metadata": {
      "filenames": {
       "image/png": "C:\\Users\\jqbond\\Documents\\GitHub\\WebContent\\2022CEN587\\_build\\jupyter_execute\\F21-587-R01-Solution_67_0.png"
      },
      "needs_background": "light"
     },
     "output_type": "display_data"
    }
   ],
   "source": [
    "fig, ax = plt.subplots(subplot_kw={\"projection\": \"3d\"})\n",
    "\n",
    "#Data\n",
    "x = np.linspace(-10, 10, 100)\n",
    "y = np.linspace(-10, 10, 100)\n",
    "X, Y = np.meshgrid(x, y) #we're making a surface plot, so we create a grid of (x,y) pairs\n",
    "Z = f(X,Y)  #generate the Z data on the meshgrid (X,Y) by evaluating f at each XY pair.\n",
    "\n",
    "#Plot the surface.\n",
    "surf = ax.plot_surface(X, Y, Z)\n",
    "plt.xlabel('X')\n",
    "plt.ylabel('Y')\n",
    "plt.title('Z values vs. X and Y')\n",
    "plt.show()"
   ]
  },
  {
   "cell_type": "markdown",
   "metadata": {},
   "source": [
    "**Multiple arguments, and multiple returns**\n",
    "\n",
    "Now, let's create a function, g(x,t) that accepts multiple inputs and returns multiple outputs - value(s) for y and values for z as a function of (x,t).  We can look at this as a system of functions\n",
    "\n",
    "$$ y(x,t) = x^2t \\\\\n",
    "   z(x,t) = xcos(t)$$\n",
    "   \n",
    "Calculate the values of y and z at x = 10, t = 7."
   ]
  },
  {
   "cell_type": "code",
   "execution_count": 39,
   "metadata": {},
   "outputs": [
    {
     "name": "stdout",
     "output_type": "stream",
     "text": [
      "700 7.539022543433046\n"
     ]
    }
   ],
   "source": [
    "def g(x, t):\n",
    "    y = x**2*t\n",
    "    z = x*np.cos(t)\n",
    "    return y, z\n",
    "\n",
    "y, z = g(10, 7)\n",
    "print(y, z)"
   ]
  },
  {
   "cell_type": "markdown",
   "metadata": {},
   "source": [
    "**How about a contour plot?**\n",
    "\n",
    "Use the function g(x,t) to generate values for both y and z on the domain $x = [0, 10]$ and $t = [0, 10]$; create a contour plot for y(x,t) and z(x,t).\n",
    "\n",
    "    x = np.linspace(1,10,50)\n",
    "    t = np.linspace(1,10,50)\n",
    "    [X, T] = np.meshgrid(x,t)\n",
    "    Y, Z = g(X,T)\n",
    "\n",
    "    plt.figure()\n",
    "    plt.contour(X, T, Z, levels = 25)\n",
    "    plt.colorbar()\n",
    "\n",
    "    plt.figure()\n",
    "    plt.contourf(X, T, Y, levels = 25)\n",
    "    plt.colorbar()\n",
    "\n",
    "    plt.show()"
   ]
  },
  {
   "cell_type": "code",
   "execution_count": 40,
   "metadata": {},
   "outputs": [
    {
     "data": {
      "image/png": "[encoded data removed]",
      "text/plain": [
       "<Figure size 432x288 with 2 Axes>"
      ]
     },
     "metadata": {
      "filenames": {
       "image/png": "C:\\Users\\jqbond\\Documents\\GitHub\\WebContent\\2022CEN587\\_build\\jupyter_execute\\F21-587-R01-Solution_71_0.png"
      },
      "needs_background": "light"
     },
     "output_type": "display_data"
    },
    {
     "data": {
      "image/png": "[encoded data removed]",
      "text/plain": [
       "<Figure size 432x288 with 2 Axes>"
      ]
     },
     "metadata": {
      "filenames": {
       "image/png": "C:\\Users\\jqbond\\Documents\\GitHub\\WebContent\\2022CEN587\\_build\\jupyter_execute\\F21-587-R01-Solution_71_1.png"
      },
      "needs_background": "light"
     },
     "output_type": "display_data"
    }
   ],
   "source": [
    "x = np.linspace(1,10,50)\n",
    "t = np.linspace(1,10,50)\n",
    "[X, T] = np.meshgrid(x,t)\n",
    "Y, Z = g(X,T)\n",
    "\n",
    "plt.figure()\n",
    "plt.contour(X, T, Z, levels = 25)\n",
    "plt.colorbar()\n",
    "\n",
    "plt.figure()\n",
    "plt.contourf(X, T, Y, levels = 25)\n",
    "plt.colorbar()\n",
    "\n",
    "plt.show()"
   ]
  },
  {
   "cell_type": "markdown",
   "metadata": {},
   "source": [
    "**You can actually get very complex with functions, their inputs, and their returns**\n",
    "\n",
    "Let's add some complexity to that same function g(x,t).  It still will take two inputs (x,t), but let's add to the outputs.  Let's have it return an 3x3 matrix of zeros; a 5x5 matrix of ones; and a character array that says IT'S A TRAP! \n",
    "\n",
    "Print the 5 outputs for the (x,t) input pair (1,1)."
   ]
  },
  {
   "cell_type": "code",
   "execution_count": 47,
   "metadata": {},
   "outputs": [
    {
     "name": "stdout",
     "output_type": "stream",
     "text": [
      "(1, 0.5403023058681398, array([[0., 0., 0.],\n",
      "       [0., 0., 0.],\n",
      "       [0., 0., 0.]]), array([[1., 1., 1., 1., 1.],\n",
      "       [1., 1., 1., 1., 1.],\n",
      "       [1., 1., 1., 1., 1.],\n",
      "       [1., 1., 1., 1., 1.],\n",
      "       [1., 1., 1., 1., 1.]]), \"IT'S A TRAP!\")\n",
      "\n",
      "\n",
      " 1 \n",
      "\n",
      " 0.5403023058681398 \n",
      "\n",
      " [[0. 0. 0.]\n",
      " [0. 0. 0.]\n",
      " [0. 0. 0.]] \n",
      "\n",
      " [[1. 1. 1. 1. 1.]\n",
      " [1. 1. 1. 1. 1.]\n",
      " [1. 1. 1. 1. 1.]\n",
      " [1. 1. 1. 1. 1.]\n",
      " [1. 1. 1. 1. 1.]] \n",
      "\n",
      " IT'S A TRAP!\n"
     ]
    }
   ],
   "source": [
    "def g2(x,t):\n",
    "    y = x**2*t\n",
    "    z = x*np.cos(t)\n",
    "    Zs = np.zeros((3,3))\n",
    "    Os = np.ones((5,5))\n",
    "    Ackbar = \"IT'S A TRAP!\"\n",
    "    return y, z, Zs, Os, Ackbar\n",
    "print(g2(1,1))\n",
    "\n",
    "y, z, Zs, Os, Ackbar = g2(1,1)\n",
    "print('\\n\\n', y, '\\n\\n', z, '\\n\\n', Zs, '\\n\\n', Os, '\\n\\n', Ackbar) #the '\\n' character says create a new line"
   ]
  }
 ],
 "metadata": {
  "kernelspec": {
   "display_name": "Python 3.9.13 ('base')",
   "language": "python",
   "name": "python3"
  },
  "language_info": {
   "codemirror_mode": {
    "name": "ipython",
    "version": 3
   },
   "file_extension": ".py",
   "mimetype": "text/x-python",
   "name": "python",
   "nbconvert_exporter": "python",
   "pygments_lexer": "ipython3",
   "version": "3.9.13"
  },
  "vscode": {
   "interpreter": {
    "hash": "58967a534847774d20c1b6d1cf74362ca3320ae6f2ed6a8b6fc1fa7701296555"
   }
  }
 },
 "nbformat": 4,
 "nbformat_minor": 4
}