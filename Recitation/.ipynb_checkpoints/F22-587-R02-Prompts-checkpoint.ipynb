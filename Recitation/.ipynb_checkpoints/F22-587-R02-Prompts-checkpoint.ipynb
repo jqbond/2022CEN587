{
 "cells": [
  {
   "cell_type": "markdown",
   "metadata": {},
   "source": [
    "# Recitation 02\n",
    "\n",
    "These exercises reinforce skills in the numerical solution of algebraic and differential equations.  Please reference course Supplements 08 - 13.\n",
    "\n",
    "## Topics Covered\n",
    "\n",
    "1. Scipy package; `scipy.optimize`; `scipy.integrate`\n",
    "2. Solution of algebraic equations with `optimize` or `optimize.root_scalar` (root finding for univariate functions).\n",
    "3. Solving systems of nonlinear algebraic equations with `optimize.root` (multivariate root finding).\n",
    "4. The importance of initial guesses; strategies for providing good initial guesses to Equations solvers.\n",
    "5. Graphing in 2D and 3D to visualize root locations."
   ]
  },
  {
   "cell_type": "markdown",
   "metadata": {},
   "source": [
    "## Problem 1\n",
    "\n",
    "Solve the following algebraic equation for the smallest positive root:\n",
    "\n",
    "$$x^3 - 10x + e^{-0.25x} = 35.75$$"
   ]
  },
  {
   "cell_type": "code",
   "execution_count": 1,
   "metadata": {},
   "outputs": [],
   "source": [
    "# import numpy as np\n",
    "# import matplotlib.pyplot as plt"
   ]
  },
  {
   "cell_type": "code",
   "execution_count": null,
   "metadata": {},
   "outputs": [],
   "source": [
    "# p1 = lambda x: x**3 - 10*x + np.exp(-0.25*x) - 35.75\n",
    "# xspan = np.linspace(-50, 50, 200)\n",
    "# plt.plot(xspan, p1(xspan))\n",
    "# plt.hlines(0, -50, 50, linestyle = 'dashed', color = 'black')\n",
    "# plt.xlim(-10, 10)\n",
    "# plt.xticks(range(-50, 51, 10))\n",
    "# plt.xticks(range(-10, 11, 1))\n",
    "# plt.xlabel('x', fontsize = 16)\n",
    "# plt.ylim(-100, 100)\n",
    "# plt.ylabel('f(x)', fontsize = 16)\n",
    "# plt.show()"
   ]
  },
  {
   "cell_type": "code",
   "execution_count": null,
   "metadata": {},
   "outputs": [],
   "source": [
    "# import scipy.optimize as opt\n",
    "# sol1 = opt.newton(p1, 4) #opt.newton needs our function name and an initial guess.\n",
    "# sol1, info = opt.newton(p1, 4, full_output = True)\n",
    "# print('', sol1, '\\n', info.converged, '\\n', p1(info.root), '\\n', info.flag)"
   ]
  },
  {
   "cell_type": "markdown",
   "metadata": {},
   "source": [
    "## Problem 2\n",
    "\n",
    "Find all roots for the following system of equations. Both x and y must be between -10 and 10:\n",
    "\n",
    "\\begin{align}\n",
    "     10 &= 5x^2y - y^3\\\\\n",
    "    -(15y+x) &= 2y^2 + \\textrm{tanh}(0.075x)\\\\\n",
    "\\end{align}"
   ]
  },
  {
   "cell_type": "code",
   "execution_count": null,
   "metadata": {},
   "outputs": [],
   "source": [
    "# f1 = lambda x,y: 5*x**2*y - y**3 - 10\n",
    "# f2 = lambda x,y: 2*y**2 + np.tanh(0.075*x) + 15*y + x"
   ]
  },
  {
   "cell_type": "code",
   "execution_count": null,
   "metadata": {},
   "outputs": [],
   "source": [
    "# x = np.linspace(-10,10,50)\n",
    "# y = np.linspace(-10,10,50)\n",
    "# [X, Y] = np.meshgrid(x,y)\n",
    "\n",
    "# Z1 = f1(X,Y) #values of the left-hand side of f1 for all X,Y pairs\n",
    "# Z2 = f2(X,Y) #values of the left-hand side of f2 for all X,Y pairs.\n",
    "\n",
    "# fig1, ax1 = plt.subplots(subplot_kw={\"projection\": \"3d\"})\n",
    "# ax1.plot_surface(X, Y, Z1)\n",
    "# plt.xlabel('X')\n",
    "# plt.ylabel('Y')\n",
    "# plt.title('f1(x,y)')\n",
    "\n",
    "# fig2, ax2 = plt.subplots(subplot_kw={\"projection\": \"3d\"})\n",
    "# ax2.plot_surface(X, Y, Z2)\n",
    "# plt.xlabel('X')\n",
    "# plt.ylabel('Y')\n",
    "# plt.title('f2(x,y)')"
   ]
  },
  {
   "cell_type": "code",
   "execution_count": null,
   "metadata": {},
   "outputs": [],
   "source": [
    "# fig1, ax1 = plt.subplots(subplot_kw={\"projection\": \"3d\"})\n",
    "# ax1.plot_surface(X, Y, Z1)\n",
    "# ax1.plot_surface(X, Y, Z2)\n",
    "# plt.xlabel('X')\n",
    "# plt.ylabel('Y')\n",
    "# plt.title('f1 and f2')"
   ]
  },
  {
   "cell_type": "code",
   "execution_count": null,
   "metadata": {},
   "outputs": [],
   "source": [
    "# plt.figure(1)\n",
    "# plt.contour(X, Y, Z1, levels = 50) #note, levels = scalar tells us how many contour lines to use.\n",
    "# plt.xlabel('X')\n",
    "# plt.ylabel('Y')\n",
    "# plt.colorbar()\n",
    "# plt.show(1)\n",
    "\n",
    "# plt.figure(2)\n",
    "# plt.contour(X, Y, Z2, levels = 50)\n",
    "# plt.xlabel('X')\n",
    "# plt.ylabel('Y')\n",
    "# plt.colorbar()\n",
    "# plt.show(2)"
   ]
  },
  {
   "cell_type": "code",
   "execution_count": null,
   "metadata": {},
   "outputs": [],
   "source": [
    "# plt.figure()\n",
    "# plt.contour(X, Y, Z1, levels = 50) #note, levels = scalar tells us how many contour lines to use.\n",
    "# plt.contour(X, Y, Z2, levels = 50)\n",
    "# plt.xlabel('X')\n",
    "# plt.ylabel('Y')\n",
    "# plt.colorbar()\n",
    "# plt.show()"
   ]
  },
  {
   "cell_type": "code",
   "execution_count": null,
   "metadata": {},
   "outputs": [],
   "source": [
    "# plt.figure()\n",
    "# plt.contour(X, Y, Z1, levels = [-0.01, 0.01], colors = 'red')  #function 1 in red\n",
    "# plt.contour(X, Y, Z2, levels = [-0.01, 0.01], colors = 'blue') #function 2 in blue\n",
    "# plt.colorbar()"
   ]
  },
  {
   "cell_type": "code",
   "execution_count": null,
   "metadata": {},
   "outputs": [],
   "source": [
    "# def P2(var):\n",
    "#     x = var[0]\n",
    "#     y = var[1]\n",
    "#     LHS1 = 10 - 5*x**2*y + y**3  #this is function 1, solution at LHS1 = 0\n",
    "#     LHS2 = 2*y**2 + np.tanh(0.075*x) + 15*y + x  #this is function 2, solution at LHS2 = 0\n",
    "#     return np.array([LHS1, LHS2]) #return the value of f1 and f2 at current (x,y) values."
   ]
  },
  {
   "cell_type": "code",
   "execution_count": null,
   "metadata": {},
   "outputs": [],
   "source": [
    "# var0 = np.array([-3, -7])\n",
    "# ans  = opt.root(P2, var0)\n",
    "# print('', ans.x, '\\n', ans.fun, '\\n', P2(ans.x), '\\n', ans.message)"
   ]
  },
  {
   "cell_type": "markdown",
   "metadata": {},
   "source": [
    "## Problem 3\n",
    "\n",
    "Solve the following system of nonlinear equations, where x, y, and z:\n",
    "\n",
    "\\begin{align}\n",
    "    0 &= x^2 - 10x - 25y + 17z^2\\\\\n",
    "    18.3 &= xz + \\textrm{ln}(yz)\\\\\n",
    "    145 - y^2 &= x^2 + 5z\\\\\n",
    "\\end{align}"
   ]
  },
  {
   "cell_type": "code",
   "execution_count": null,
   "metadata": {},
   "outputs": [],
   "source": [
    "# def P3(var):\n",
    "#     x = var[0]\n",
    "#     y = var[1]\n",
    "#     z = var[2]\n",
    "#     LHS1 = x**2 - 10*x - 25*y + 17*z**2\n",
    "#     LHS2 = x*z + np.log(y*z) - 18.3\n",
    "#     LHS3 = x**2 + 5*z + y**2 - 145\n",
    "#     return np.array([LHS1, LHS2, LHS3])\n",
    "\n",
    "# var0 = np.array([5, 5, 5])\n",
    "# sol = opt.root(P3, var0)\n",
    "# print('', sol.x, '\\n', sol.fun, '\\n', P2(sol.x), '\\n', sol.message)"
   ]
  },
  {
   "cell_type": "code",
   "execution_count": null,
   "metadata": {},
   "outputs": [],
   "source": [
    "# def P4(var):\n",
    "#     x = var[0]\n",
    "#     y = var[1]\n",
    "#     z = var[2]\n",
    "#     #print(f'current values in iteration are x = {x}, y = {y}, z = {z}')\n",
    "#     LHS1 = x**2 - 10*x - 25*y + 17*z**2\n",
    "#     LHS2 = x*z + np.log(y*z) - 18.3\n",
    "#     LHS3 = x**2 + 5*z + y**2 - 145\n",
    "#     return np.array([LHS1, LHS2, LHS3])\n",
    "\n",
    "# var0 = np.array([5, -5, -5])\n",
    "# sol = opt.root(P4, var0)\n",
    "# print('', sol.x, '\\n', sol.fun, '\\n', P4(sol.x), '\\n', sol.message)"
   ]
  }
 ],
 "metadata": {
  "kernelspec": {
   "display_name": "Python 3 (ipykernel)",
   "language": "python",
   "name": "python3"
  },
  "language_info": {
   "codemirror_mode": {
    "name": "ipython",
    "version": 3
   },
   "file_extension": ".py",
   "mimetype": "text/x-python",
   "name": "python",
   "nbconvert_exporter": "python",
   "pygments_lexer": "ipython3",
   "version": "3.9.13"
  }
 },
 "nbformat": 4,
 "nbformat_minor": 4
}
