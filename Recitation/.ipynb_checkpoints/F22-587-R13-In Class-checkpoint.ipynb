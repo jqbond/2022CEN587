{
 "cells": [
  {
   "cell_type": "markdown",
   "metadata": {},
   "source": [
    "# Recitation 13\n",
    "\n",
    "This week, we have a challenging task.  We want to determine how long it will take for a 175L constant volume batch reactor (constructed from relatively low-grade steel) to achieve 85% conversion of a substrate (S) in an enzyme catalyzed reaction which is ultimately irreversible and has the following overall stoichiometry:\n",
    "\n",
    "$$S\\longrightarrow P$$\n",
    "\n",
    "The initial concentration of substrate in the reactor is $C_{S0} = 8.6$ moles per liter.\n",
    "\n",
    "As far as we know, the enzyme catalyzed reaction follows a typical, Michaelis-Menten mechanism; however, the reaction appears to be inhibited by Chromium ions, which leach from the walls of the batch reactor over time. The rate of chromium leaching, in this system, is zero order and occurs with a ***rate constant of 0.0075 mol/L/s***.  We will use the symbol \"I\" to represent Chromium ions.  \n",
    "\n",
    "This means that our overall rate expression for substrate conversion most likely has the following functional dependence:\n",
    "\n",
    "$$r = f(C_S, C_I)$$\n",
    "\n",
    "That is, it is important for us to know both substrate concentration and chromium concentration in order to determine the rate of reaction. Though, at the outset, we do not know the rate law (reaction orders in substrate and Chromium ions), nor do we know any relevant kinetic parameters.  We will see if we can use our knowledge of enzyme catalyzed reactions along with experimental data to develop and parameterize a rate law so that we can solve our reactor design problem.\n",
    "\n",
    "We suspect that ***Chromium ions inhibit the reaction by binding directly with the enzyme***, which prevents it from binding substrate and ultimately slows down reaction kinetics.  We are always faced with some degree of Chromium leaching in this system, so it is important for us to account for the impact of chromium inhibition on the rate of reaction.\n",
    "\n",
    "From what we have speculated, the reaction mechanism should look something like this:\n",
    "\n",
    "\\begin{align}\n",
    "    E + S &\\longleftrightarrow ES \\\\\n",
    "    ES    &\\longrightarrow     E + P \\\\\n",
    "    E + I &\\longleftrightarrow EI \\\\\n",
    "\\end{align}\n",
    "\n",
    "In class, we determined that **IF** an enzyme catalyzed reaction follows this mechanism, with this specific mode of inhibition, we should observe an overall rate law of:\n",
    "\n",
    "$$r = \\frac{V_{max}[S]}{[S] + K_m\\left(1+K_3[I]\\right)}$$\n",
    "\n",
    "To assess whether this model accurately describes our system, we go into the lab and measure rates of reaction for various concentrations of the chromium ion inhibitor [I] (0.005M, 0.1M, 0.5M, and 1.25M). Data are attached separately in the EXP1 to EXP4 csv files."
   ]
  },
  {
   "cell_type": "markdown",
   "metadata": {},
   "source": [
    "## Example Problem 01\n",
    "\n",
    "1. Determine whether this mechanism accurately describes the data you have collected.\n",
    "2. If it does not describe the data, revise the mechanism accordingly.\n",
    "3. If it does describe the data, estimate the values of $V_{\\mathrm{max}}$, $K_M$, and $K_3$."
   ]
  },
  {
   "cell_type": "markdown",
   "metadata": {},
   "source": [
    "### Solution to Example Problem 01\n",
    "\n",
    "In the attached data, we have four separate experiments that measure the rate of reaction at various substrate concentrations for multiple inhibitor concentrations.  We'll load these in the cell below and plot the experiments to get a feel for the data.  Each EXP data file has two columns.  The first column is the substrate concentration (CS) in mol/L; the second concentration is the inhibitor concentration (CI) in mol/L; and the third column is the overall reaction rate (r) in units of mol/L/s."
   ]
  },
  {
   "cell_type": "code",
   "execution_count": null,
   "metadata": {},
   "outputs": [],
   "source": [
    "import csv\n",
    "import numpy as np\n",
    "import matplotlib.pyplot as plt\n",
    "import scipy.optimize as opt\n",
    "from scipy.integrate import solve_ivp\n",
    "import scipy.stats as stats\n",
    "from scipy.interpolate import interp1d"
   ]
  },
  {
   "cell_type": "markdown",
   "metadata": {},
   "source": [
    "#### Loading Experimental Data from .csv files"
   ]
  },
  {
   "cell_type": "code",
   "execution_count": null,
   "metadata": {},
   "outputs": [],
   "source": [
    "#Load Experimental Data; convert to numpy arrays\n",
    "\n",
    "#Experiment 1 with Chromium ion concentration at 0.1M\n",
    "file = open(\"EXP1.csv\")\n",
    "csvreader = csv.reader(file)\n",
    "rows = []\n",
    "for row in csvreader:\n",
    "     rows.append(row)\n",
    "file.close()\n",
    "EXP1 = np.array(rows, dtype = 'float')\n",
    "CS1  = EXP1[:,0]\n",
    "CI1  = EXP1[:,1]\n",
    "r1   = EXP1[:,2]\n",
    "\n",
    "#Experiment 2 with Chromium ion concentration at 0.5M\n",
    "file = open(\"EXP2.csv\")\n",
    "csvreader = csv.reader(file)\n",
    "rows = []\n",
    "for row in csvreader:\n",
    "     rows.append(row)\n",
    "file.close()\n",
    "EXP2 = np.array(rows, dtype = 'float')\n",
    "CS2  = EXP2[:,0]\n",
    "CI2  = EXP2[:,1]\n",
    "r2   = EXP2[:,2]\n",
    "\n",
    "#Experiment 3 with Chromium ion concentration at 0.005M\n",
    "file = open(\"EXP3.csv\")\n",
    "csvreader = csv.reader(file)\n",
    "rows = []\n",
    "for row in csvreader:\n",
    "     rows.append(row)\n",
    "file.close()\n",
    "EXP3 = np.array(rows, dtype = 'float')\n",
    "CS3  = EXP3[:,0]\n",
    "CI3  = EXP3[:,1]\n",
    "r3   = EXP3[:,2]\n",
    "\n",
    "#Experiment 4 with Chromium ion concentration at 1.25M\n",
    "file = open(\"EXP4.csv\")\n",
    "csvreader = csv.reader(file)\n",
    "rows = []\n",
    "for row in csvreader:\n",
    "     rows.append(row)\n",
    "file.close()\n",
    "EXP4 = np.array(rows, dtype = 'float')\n",
    "CS4  = EXP4[:,0]\n",
    "CI4  = EXP4[:,1]\n",
    "r4   = EXP4[:,2]"
   ]
  },
  {
   "cell_type": "markdown",
   "metadata": {},
   "source": [
    "#### Graphing Raw Data"
   ]
  },
  {
   "cell_type": "code",
   "execution_count": null,
   "metadata": {},
   "outputs": [],
   "source": [
    "plt.figure(1, figsize = (5, 5))\n",
    "plt.scatter(CS3, r3, marker = 'd', color = 'none', edgecolor = 'black', label = 'CI = 0.005M')\n",
    "plt.scatter(CS1, r1, marker = 'o', color = 'none', edgecolor = 'black', label = 'CI = 0.1M')\n",
    "plt.scatter(CS2, r2, marker = 's', color = 'none', edgecolor = 'black', label = 'CI = 0.5M')\n",
    "plt.scatter(CS4, r4, marker = 'x', color = 'black', label = 'CI = 1.25M')\n",
    "plt.xlim(0, 12)\n",
    "plt.ylim(0, 0.5)\n",
    "plt.title('Rates at various chromium ion concentrations')\n",
    "plt.xlabel('Substrate Concentration (M)', fontsize = 12)\n",
    "plt.ylabel('Reaction Rate (mol/L/s)', fontsize = 12)\n",
    "plt.legend()\n",
    "plt.show()"
   ]
  },
  {
   "cell_type": "markdown",
   "metadata": {},
   "source": [
    "#### Linearization of Model"
   ]
  },
  {
   "cell_type": "code",
   "execution_count": null,
   "metadata": {},
   "outputs": [],
   "source": [
    "plt.figure(1, figsize = (5, 5))\n",
    "plt.scatter(1/CS3, 1/r3, marker = 'd', color = 'none', edgecolor = 'black', label = 'CI = 0.005M')\n",
    "plt.scatter(1/CS1, 1/r1, marker = 'o', color = 'none', edgecolor = 'black', label = 'CI = 0.1M')\n",
    "plt.scatter(1/CS2, 1/r2, marker = 's', color = 'none', edgecolor = 'black', label = 'CI = 0.5M')\n",
    "plt.scatter(1/CS4, 1/r4, marker = 'x', color = 'black', label = 'CI = 1.25M')\n",
    "plt.title('LB plot for chromium ion concentrations')\n",
    "plt.xlabel('1/Substrate Concentration (L/mol)', fontsize = 12)\n",
    "plt.ylabel('1/Reaction Rate (L*s/mol)', fontsize = 12)\n",
    "plt.legend()\n",
    "plt.show()"
   ]
  },
  {
   "cell_type": "markdown",
   "metadata": {},
   "source": [
    "#### Linear Regression to Determine slopes and intercepts"
   ]
  },
  {
   "cell_type": "code",
   "execution_count": null,
   "metadata": {},
   "outputs": [],
   "source": [
    "coeffs1 = np.polyfit(1/CS1, 1/r1, 1)\n",
    "coeffs2 = np.polyfit(1/CS2, 1/r2, 1)\n",
    "coeffs3 = np.polyfit(1/CS3, 1/r3, 1)\n",
    "coeffs4 = np.polyfit(1/CS4, 1/r4, 1)"
   ]
  },
  {
   "cell_type": "code",
   "execution_count": null,
   "metadata": {},
   "outputs": [],
   "source": [
    "#Overlay regressed lines with data to visualize goodness of fit\n",
    "plt.figure(1, figsize = (5, 5))\n",
    "plt.scatter(1/CS3, 1/r3, marker = 'd', color = 'none', edgecolor = 'black', label = 'CI = 0.005M')\n",
    "plt.scatter(1/CS1, 1/r1, marker = 'o', color = 'none', edgecolor = 'black', label = 'CI = 0.1M')\n",
    "plt.scatter(1/CS2, 1/r2, marker = 's', color = 'none', edgecolor = 'black', label = 'CI = 0.5M')\n",
    "plt.scatter(1/CS4, 1/r4, marker = 'x', color = 'black', label = 'CI = 1.25M')\n",
    "plt.plot(1/CS1, np.polyval(coeffs1, 1/CS1), color = 'black', linestyle = 'dashed', linewidth = 1, label = None)\n",
    "plt.plot(1/CS2, np.polyval(coeffs2, 1/CS2), color = 'black', linestyle = 'dashed', linewidth = 1, label = None)\n",
    "plt.plot(1/CS3, np.polyval(coeffs3, 1/CS3), color = 'black', linestyle = 'dashed', linewidth = 1, label = None)\n",
    "plt.plot(1/CS4, np.polyval(coeffs4, 1/CS4), color = 'black', linestyle = 'dashed', linewidth = 1, label = None)\n",
    "plt.title('LB plot for chromium ion concentrations')\n",
    "plt.xlabel('1/Substrate Concentration (L/mol)', fontsize = 12)\n",
    "plt.ylabel('1/Reaction Rate (L*s/mol)', fontsize = 12)\n",
    "plt.legend()\n",
    "plt.show()"
   ]
  },
  {
   "cell_type": "markdown",
   "metadata": {},
   "source": [
    "#### Comparing Slopes and Intercepts"
   ]
  },
  {
   "cell_type": "code",
   "execution_count": null,
   "metadata": {},
   "outputs": [],
   "source": [
    "slopes = np.array([coeffs1[0], coeffs2[0], coeffs3[0], coeffs4[0]])\n",
    "yints  = np.array([coeffs1[1], coeffs2[1], coeffs3[1], coeffs4[1]])\n",
    "\n",
    "print(slopes, '\\n')\n",
    "print(yints)"
   ]
  },
  {
   "cell_type": "markdown",
   "metadata": {},
   "source": [
    "#### Estimating Vmax\n",
    "\n",
    "From that, we can see that we have a roughly constant slope with a y-intercept that varies with inhibitor concentration.  On average, we would use these values to estimate Vmax using the equation:\n",
    "\n",
    "$$V_{max} = \\frac{1}{\\bar{b}}$$\n",
    "\n",
    "Where $\\bar{b}$ is the average y-intercept regressed in all of our Lineweaver-Burk plots."
   ]
  },
  {
   "cell_type": "code",
   "execution_count": null,
   "metadata": {},
   "outputs": [],
   "source": [
    "Vmax_est = 1/np.mean(yints)\n",
    "print(f'A rough estimate of Vmax is {Vmax_est:4.3f} mol/L/s')"
   ]
  },
  {
   "cell_type": "markdown",
   "metadata": {},
   "source": [
    "#### Regressing the regression..."
   ]
  },
  {
   "cell_type": "code",
   "execution_count": null,
   "metadata": {},
   "outputs": [],
   "source": [
    "inhibitors = np.array([CI1[0], CI2[0], CI3[0], CI4[0]])\n",
    "slopecoeff = np.polyfit(inhibitors, slopes, 1)\n",
    "\n",
    "plt.figure(1, figsize = (5, 5))\n",
    "plt.scatter(inhibitors, slopes, color = 'none', edgecolor = 'black')\n",
    "plt.plot(np.array([min(inhibitors), max(inhibitors)]), np.polyval(slopecoeff, np.array([min(inhibitors), max(inhibitors)])), color = 'black', linestyle = 'dashed', linewidth = 1)\n",
    "plt.title('Variation in LB slopes with inhibitor concentration')\n",
    "plt.xlabel('Inhibitor concentration (mol/L)', fontsize = 12)\n",
    "plt.ylabel('LB slope', fontsize = 12)\n",
    "plt.xlim(0, 1.5)\n",
    "plt.ylim(0, 150)\n",
    "plt.xticks(np.arange(0, 1.51, 0.25))\n",
    "plt.yticks(np.arange(0, 151, 25))\n",
    "plt.show()"
   ]
  },
  {
   "cell_type": "markdown",
   "metadata": {},
   "source": [
    "#### Generating rough estimates of our parameters"
   ]
  },
  {
   "cell_type": "code",
   "execution_count": null,
   "metadata": {},
   "outputs": [],
   "source": [
    "Vmax_est = 1/np.mean(yints) #mol/L/s\n",
    "KM_est   = slopecoeff[1]*Vmax_est #mol/L\n",
    "K3_est   = slopecoeff[0]*Vmax_est #L/mol\n",
    "\n",
    "print(f'Rough estimates for Vmax, KM, and K3 are {Vmax_est:3.3f} mol/L/s, {KM_est:3.3f} mol/L, and {K3_est:3.3f} L/mol')"
   ]
  },
  {
   "cell_type": "markdown",
   "metadata": {},
   "source": [
    "#### Nonlinear Regression\n",
    "\n",
    "**Note:** We should remember how sensitive nonlinear regression is to our initial guesses for the parameter values.  I will use the rough approximations from above to get an idea for my initial guess, then I'll refine with nonlinear regression."
   ]
  },
  {
   "cell_type": "code",
   "execution_count": null,
   "metadata": {},
   "outputs": [],
   "source": [
    "print(f'Rough estimates for Vmax, KM, and K3 are {Vmax_est:3.3f} mol/L/s, {KM_est:3.3f} mol/L, and {K3_est:3.3f} L/mol')"
   ]
  },
  {
   "cell_type": "code",
   "execution_count": null,
   "metadata": {},
   "outputs": [],
   "source": [
    "DATA = np.vstack((EXP1, EXP2, EXP3, EXP4)) #arrange all experimental data as an m x 3 matrix.\n",
    "CS_exp = DATA[:,0] #first column is substrate concentration\n",
    "CI_exp = DATA[:,1] #second column is inhibitor concentration\n",
    "r_exp  = DATA[:,2] #third column is the rate measured at current CS, CI\n",
    "\n",
    "def temp2(par):\n",
    "    Vmax, KM, K3 = par\n",
    "    \n",
    "    r_mod  = Vmax*CS_exp/(CS_exp + KM*(1 + K3*CI_exp))\n",
    "    \n",
    "    resid  = r_exp - r_mod\n",
    "    SSE    = np.sum(resid**2)\n",
    "    return [SSE, r_exp, r_mod, resid]\n",
    "\n",
    "def obj2(par):\n",
    "    return temp2(par)[0]\n",
    "\n",
    "par0    = [Vmax_est, KM_est, K3_est]\n",
    "ans2    = opt.minimize(obj2, par0)\n",
    "Vmax_NL, KM_NL, K3_NL = ans2.x\n",
    "\n",
    "SSE, r_exp, r_mod, resid = temp2(par_opt)\n",
    "\n",
    "print(f'Nonlinear regression gives SSE = {SSE:3.3f}, Vmax = {Vmax_NL:3.3f} mol/L/s, KM = {KM_NL:3.3f} mol/L, K3 = {K3_NL:3.3f}L/mol')\n",
    "\n",
    "plt.figure(1, figsize = (5, 5))\n",
    "plt.loglog(r_exp, r_mod, marker = 'o', markerfacecolor = 'none', markeredgecolor = 'black', linestyle = 'none')\n",
    "plt.loglog([min(r_exp), max(r_exp)], [min(r_exp), max(r_exp)], color = 'blue', linestyle = 'dashed', linewidth = 1)\n",
    "plt.title('Parity Plot of all data after nonlinear regression of optimal parameters')\n",
    "plt.xlabel('Experimentally measured rate (mol/L/s)', fontsize = 12)\n",
    "plt.ylabel('Model predicted rate (mol/L/s)', fontsize = 12)\n",
    "plt.show()"
   ]
  },
  {
   "cell_type": "markdown",
   "metadata": {},
   "source": [
    "#### Multiple Linear Regression"
   ]
  },
  {
   "cell_type": "code",
   "execution_count": null,
   "metadata": {},
   "outputs": [],
   "source": [
    "X      = np.ones((len(r_exp),3))       #Design matrix X\n",
    "X[:,0] = 1/CS_exp\n",
    "X[:,1] = CI_exp/CS_exp\n",
    "Y      = 1/r_exp                 #Vector of observables, Y\n",
    "A      = np.linalg.solve(X.T@X, X.T@Y) #Solve for unknown coefficiens, ln(k), α, β\n",
    "SSE    = (Y - X@A).T@(Y-X@A)           #Residual sum of squares\n",
    "SST    = sum((Y - np.mean(Y))**2)      #Total sum of squares\n",
    "Ypred  = X@A\n",
    "R2     = 1 - SSE/SST                   #R2\n",
    "s2     = SSE/(len(Y) - len(A))         #Approximation for variance\n",
    "cov    = s2*np.linalg.inv((X.T@X))     #covariance matrix\n",
    "se     = np.sqrt(abs(cov))             #standard error matrix; diagonal elements are standard error for coeffs\n",
    "ci     = stats.t.ppf(0.975, len(Y) - len(A))*se #confidence intervals\n",
    "Ypred  = X@A   #predicted values of Y\n",
    "\n",
    "Vmax_lin = 1/A[2]\n",
    "KM_lin   = Vmax_lin*A[0]\n",
    "K3_lin   = Vmax_lin/KM_lin*A[1]\n",
    "\n",
    "print(A, '\\n')\n",
    "print(f'R2 = {R2:3.3f}')\n",
    "print(f'Vm = {Vmax_lin:3.3f} mol/L/s')\n",
    "print(f'KM = {KM_lin:3.3f} mol/L')\n",
    "print(f'K3 = {K3_lin:3.3f} L/mol')\n",
    "\n",
    "plt.figure(1, figsize = (5, 5))\n",
    "plt.scatter(Y, Ypred, marker = 'o', color = 'none', edgecolor = 'black', label = 'estimated rates')\n",
    "plt.plot([min(Y), max(Y)], [min(Y), max(Y)], color = 'blue', linestyle = 'dashed', linewidth = 1, label = 'linear fit')\n",
    "plt.xscale('log')\n",
    "plt.yscale('log')\n",
    "plt.xlabel('Measured ln(r)', fontsize = 12)\n",
    "plt.ylabel('Predicted ln(r)', fontsize = 12)\n",
    "plt.title('Parity Plot')\n",
    "plt.legend()\n",
    "plt.show()\n",
    "\n",
    "plt.figure(2, figsize = (5, 5))\n",
    "plt.scatter(np.arange(1, len(Y)+1, 1), (Y - Ypred), marker = 'o', color = 'none', edgecolor = 'black', label = 'residual error')\n",
    "plt.hlines(0, 1, len(Y), color = 'blue', linestyle = 'dashed', linewidth = 1, label = 'zero error')\n",
    "plt.xlabel('Experiment Number', fontsize = 12)\n",
    "plt.ylabel('Residual Error', fontsize = 12)\n",
    "plt.title('Residual Plot')\n",
    "plt.legend()\n",
    "plt.show()"
   ]
  },
  {
   "cell_type": "markdown",
   "metadata": {},
   "source": [
    "#### Comparing Parameter Estimates"
   ]
  },
  {
   "cell_type": "code",
   "execution_count": null,
   "metadata": {},
   "outputs": [],
   "source": [
    "print(f'NL regression gives Vmax = {par_opt[0]:3.3f} mol/L/s, KM = {par_opt[1]:3.3f} mol/L, K3 = {par_opt[2]:3.3f}L/mol')\n",
    "print(f'L  regression gives Vmax = {Vmax_lin:3.3f} mol/L/s, KM = {KM_lin:3.3f} mol/L, K3 = {K3_lin:3.3f}L/mol')"
   ]
  },
  {
   "cell_type": "markdown",
   "metadata": {},
   "source": [
    "## Example Problem 02\n",
    "\n",
    "Now that we have a workable rate law, how long does it take to achieve 85% conversion in the originally described 175L Constant volume batch reactor if we operate with an initial substrate concentration of 8.6M.  The reactor is initially clean, and the aqueous solution we start with has no chromium initially; however, we do not that chromium ions enter solution at a rate of 0.0075 mol/L/s."
   ]
  },
  {
   "cell_type": "markdown",
   "metadata": {},
   "source": [
    "### Solution to Example Problem 02"
   ]
  },
  {
   "cell_type": "code",
   "execution_count": null,
   "metadata": {},
   "outputs": [],
   "source": [
    "Vmax, KM, K3 = par_opt #using results from Nonlinear Regression\n",
    "\n",
    "def P3(t, var):\n",
    "    \n",
    "    CS = var[0]\n",
    "    CI = var[1]\n",
    "    \n",
    "    r1   = Vmax*CS/(CS + KM*(1+K3*CI)) #mol/L/s\n",
    "    r2   = 0.0075 #mol/L/s\n",
    "    \n",
    "    RS   = -r1\n",
    "    RI   =  r2\n",
    "    \n",
    "    D1 = RS\n",
    "    D2 = RI\n",
    "    return [D1, D2]\n",
    "\n",
    "tspan  = (0, 100) #seconds\n",
    "teval  = np.linspace(0, 100, 100)\n",
    "CS0    = 8.6 #mol/L\n",
    "CI0    = 0.0 #mol/L\n",
    "C0     = [CS0, CI0] #initial concentration of substrate and inhibitor\n",
    "ans3   = solve_ivp(P3, tspan, C0, atol = 1e-8, rtol = 1e-8, t_eval = teval)\n",
    "t      = ans3.t\n",
    "CS, CI = ans3.y\n",
    "XS     = (CS0 - CS)/CS0 #true for a constant volume batch reactor\n",
    "itp1   = interp1d(XS, t)\n",
    "\n",
    "print(f'Achieving 85% conversion in this system requires a time of {itp1(0.85):3.3f} seconds')\n",
    "\n",
    "plt.figure(1, figsize = (5, 5))\n",
    "plt.plot(t, CS, label = 'Substrate Concentration')\n",
    "plt.plot(t, CI, label = 'Inhibitor Concentration')\n",
    "plt.title('Substrate and inhibitor concentration with chromium leaching')\n",
    "plt.xlabel('time (s)', fontsize = 12)\n",
    "plt.ylabel('Concentration (mol/L)', fontsize = 12)\n",
    "plt.legend()\n",
    "plt.show()\n",
    "\n",
    "#Create a second plot with a secondary y axis\n",
    "fig2, ax1 = plt.subplots(figsize = (5, 5))\n",
    "ax2 = ax1.twinx()\n",
    "conversion, = ax1.plot(t, XS, color = 'black', label = 'Substrate Conversion')\n",
    "inhibitor,  = ax2.plot(t, CI, color = 'red', linestyle = 'dashed', label = 'Inhibitor Concentration')\n",
    "\n",
    "ax1.set_xlabel('time(s)', fontsize = 12)\n",
    "ax1.set_ylabel('Conversion', fontsize = 12)\n",
    "ax2.set_ylabel('Concentration (mol/L)', fontsize = 12)\n",
    "\n",
    "ax1.legend(loc = 'upper left')\n",
    "ax2.legend(loc = 'lower right')\n",
    "plt.title('Substrate conversion with chromium leaching')\n",
    "plt.show()"
   ]
  },
  {
   "cell_type": "markdown",
   "metadata": {},
   "source": [
    "## Example Problem 03\n",
    "\n",
    "How significant is the Chromium leaching anyway?  Let's figure out how long it would take to achieve 85% conversion of substrate if there was no chromiumm leaching in that reactor.\n",
    "\n",
    "### Solution to Example Problem 03"
   ]
  },
  {
   "cell_type": "code",
   "execution_count": null,
   "metadata": {},
   "outputs": [],
   "source": [
    "Vmax, KM, K3 = par_opt\n",
    "\n",
    "def P3(t, var):\n",
    "    \n",
    "    CS = var[0]\n",
    "    CI = var[1]\n",
    "    \n",
    "    r1   = Vmax*CS/(CS + KM*(1+K3*CI)) #mol/L/s\n",
    "    r2   = 0 #mol/L/s\n",
    "    \n",
    "    RS   = -r1\n",
    "    RI   =  r2\n",
    "    \n",
    "    D1 = RS\n",
    "    D2 = RI\n",
    "    return [D1, D2]\n",
    "\n",
    "tspan  = (0, 50) #seconds\n",
    "teval  = np.linspace(0, 50, 100)\n",
    "C0     = [8.6, 0.0] #initial concentration of substrate and inhibitor\n",
    "ans3   = solve_ivp(P3, tspan, C0, atol = 1e-8, rtol = 1e-8, t_eval = teval)\n",
    "t      = ans3.t\n",
    "CS, CI = ans3.y\n",
    "XS     = (8.6 - CS)/8.6\n",
    "itp1   = interp1d(XS, t)\n",
    "\n",
    "print(f'Achieving 85% conversion in this system requires a time of {itp1(0.85):3.3f} seconds')\n",
    "\n",
    "plt.figure(1, figsize = (5, 5))\n",
    "plt.plot(t, CS, label = 'Substrate Concentration')\n",
    "plt.plot(t, CI, label = 'Inhibitor Concentration')\n",
    "plt.title('Substrate and inhibitor concentration with chromium leaching')\n",
    "plt.xlabel('time (s)', fontsize = 12)\n",
    "plt.ylabel('Concentration (mol/L)', fontsize = 12)\n",
    "plt.legend()\n",
    "plt.show()\n",
    "\n",
    "#Create a second plot with a secondary y axis\n",
    "fig2, ax1 = plt.subplots(figsize = (5, 5))\n",
    "ax2 = ax1.twinx()\n",
    "conversion, = ax1.plot(t, XS, color = 'black', label = 'Substrate Conversion')\n",
    "inhibitor,  = ax2.plot(t, CI, color = 'red', linestyle = 'dashed', label = 'Inhibitor Concentration')\n",
    "\n",
    "ax1.set_xlabel('time(s)', fontsize = 12)\n",
    "ax1.set_ylabel('Conversion', fontsize = 12)\n",
    "ax2.set_ylabel('Concentration (mol/L)', fontsize = 12)\n",
    "\n",
    "ax1.legend(loc = 'upper left')\n",
    "ax2.legend(loc = 'lower right')\n",
    "plt.title('Substrate conversion with chromium leaching')\n",
    "plt.show()"
   ]
  },
  {
   "cell_type": "markdown",
   "metadata": {},
   "source": [
    "## Example Problem 04\n",
    "\n",
    "I wonder if glass would be a better choice for this reactor?"
   ]
  },
  {
   "cell_type": "markdown",
   "metadata": {},
   "source": [
    "### Solution to Example Problem 04\n"
   ]
  }
 ],
 "metadata": {
  "kernelspec": {
   "display_name": "Python 3 (ipykernel)",
   "language": "python",
   "name": "python3"
  },
  "language_info": {
   "codemirror_mode": {
    "name": "ipython",
    "version": 3
   },
   "file_extension": ".py",
   "mimetype": "text/x-python",
   "name": "python",
   "nbconvert_exporter": "python",
   "pygments_lexer": "ipython3",
   "version": "3.9.13"
  }
 },
 "nbformat": 4,
 "nbformat_minor": 4
}
