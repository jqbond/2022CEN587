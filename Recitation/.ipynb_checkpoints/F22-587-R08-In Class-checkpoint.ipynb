{
 "cells": [
  {
   "cell_type": "markdown",
   "metadata": {},
   "source": [
    "# Recitation 08\n",
    "\n",
    "An introduction to optimization in reactor design"
   ]
  },
  {
   "cell_type": "code",
   "execution_count": null,
   "metadata": {},
   "outputs": [],
   "source": [
    "import numpy as np\n",
    "import matplotlib.pyplot as plt\n",
    "import scipy.optimize as opt\n",
    "from scipy.integrate import trapezoid\n",
    "from math import ceil, floor\n",
    "import time"
   ]
  },
  {
   "cell_type": "markdown",
   "metadata": {},
   "source": [
    "## Review: Flow Reactors in Series\n"
   ]
  },
  {
   "cell_type": "code",
   "execution_count": null,
   "metadata": {},
   "outputs": [],
   "source": [
    "FAf = 1 #mol/min\n",
    "CAf = 1 #mol/L\n",
    "k   = 1 #1/min\n",
    "\n",
    "VCSTR = lambda X: FAf/k/CAf*X/(1 - X)\n",
    "VPFR  = lambda X: -FAf/k/CAf*np.log(1 - X)\n",
    "print(f'To achieve 90% conversion, we need a {VCSTR(0.9):3.2f}L CSTR or a {VPFR(0.9):3.2f}L PFR') \n",
    "VPFR(0.9)\n",
    "xspan = np.linspace(0, 0.9, 100)\n",
    "\n",
    "plt1 = plt.figure(1, figsize = (5, 5))\n",
    "plt.title('Comparison of PFR and CSTR volumes', fontsize = 14)\n",
    "plt.plot(xspan, VCSTR(xspan), color = 'black', linestyle = 'solid', label = 'CSTR')\n",
    "plt.plot(xspan, VPFR(xspan), color = 'black', linestyle = 'dashed', label = 'PFR')\n",
    "plt.xlim(0, 1.0)\n",
    "plt.ylim(0, 10.0)\n",
    "plt.xlabel('Fractional Conversion of A', fontsize = 14)\n",
    "plt.ylabel('Volume of Reactor (L)', fontsize = 14)\n",
    "plt.legend()\n",
    "plt.show()"
   ]
  },
  {
   "cell_type": "markdown",
   "metadata": {},
   "source": [
    "### A Levenspiel Plot for this system\n"
   ]
  },
  {
   "cell_type": "code",
   "execution_count": null,
   "metadata": {},
   "outputs": [],
   "source": [
    "LEV  = lambda X: FAf/k/CAf/(1 - X)\n",
    "VC   = LEV(0.9)*(0.9 - 0.0)\n",
    "VP   = trapezoid(LEV(xspan), xspan)\n",
    "print(f'To achieve 90% conversion, we need a {VC:3.2f}L CSTR or a {VP:3.2f}L PFR') \n",
    "\n",
    "plt2 = plt.figure(1, figsize = (5, 5))\n",
    "plt.plot(xspan, LEV(xspan))\n",
    "plt.hlines(LEV(0.9), 0, 0.9, linestyle = 'dashed', color = 'red', linewidth = 1)\n",
    "plt.vlines(0.9, 0, LEV(0.9), linestyle = 'dashed', color = 'red', linewidth = 1)\n",
    "plt.fill_between(xspan, LEV(xspan))\n",
    "plt.xlabel('Fractional Conversion of A', fontsize = 14)\n",
    "plt.ylabel('FAf/r, L', fontsize = 14)\n",
    "plt.title('Levenspiel Plot for 1st Order Reaction', fontsize = 14)\n",
    "plt.ylim(0, 12)\n",
    "plt.xlim(0, 1)\n",
    "plt.show()"
   ]
  },
  {
   "cell_type": "markdown",
   "metadata": {},
   "source": [
    "### If we use 2 CSTRs instead of 1 CSTR, the total volume required is lower...\n"
   ]
  },
  {
   "cell_type": "code",
   "execution_count": null,
   "metadata": {},
   "outputs": [],
   "source": [
    "XAset = np.linspace(0, 0.90, 100)\n",
    "XMAX = max(XAset)\n",
    "XMID  = 0.90\n",
    "\n",
    "plt3 = plt.figure(1, figsize = (5, 5))\n",
    "plt.title('Levenspiel Plot for 1st Order Reaction', fontsize = 14)\n",
    "plt.plot(XAset, LEV(XAset), color = 'black')\n",
    "plt.fill_between(XAset, LEV(XAset))\n",
    "plt.vlines(XMID, 0, LEV(XMAX), linestyle = 'dashed', color = 'red', linewidth = 1)\n",
    "plt.vlines(XMAX, 0, LEV(XMAX), linestyle = 'dashed', color = 'red', linewidth = 1)\n",
    "plt.hlines(LEV(XMAX), XMID, XMAX, linestyle = 'dashed', color = 'red', linewidth = 1)\n",
    "plt.hlines(LEV(XMID), 0, XMID, linestyle = 'dashed', color = 'red', linewidth = 1)\n",
    "plt.ylabel('FAf/r (L)', fontsize = 14)\n",
    "plt.xlabel('XA', fontsize = 14)\n",
    "plt.xlim(0,1)\n",
    "plt.ylim(0, 12)\n",
    "plt.xticks(np.linspace(0, 1, 11))\n",
    "plt.show()"
   ]
  },
  {
   "cell_type": "markdown",
   "metadata": {},
   "source": [
    "# Problem 1: What is the optimum intermediate conversion?\n",
    "\n",
    "Surely, there is a better choice of intermediate conversion of A that 0.45, right?  We can see from the Levenspiel plot that as I vary the exit conversion from the first reactor, I will change the size of both reactors...and it isn't immediately clear how I should operate this process so that I have the smallest total possible CSTR volume.\n",
    "\n",
    "### Optimizing the intermediate conversion: a graphical solution\n",
    "\n",
    "Let's solve that problem using a handful of methods.  First, let's return to the analytical solution for the total volume of two CSTRs in series:\n",
    "\n",
    "$$V = \\frac {F_{A_f} (x_{A_1} - x_{A_{0}} ) } {kC_{A_f}(1-x_{A_{1}})} + \\frac {F_{A_f} (x_{A_2} - x_{A_{1}} ) } {kC_{A_f}(1-x_{A_{2}})} $$\n",
    "\n",
    "Here, we know that $x_{A_0} = 0$ and that $x_{A_2} = 0.9$, but we'll leave $x_{A_1}$, which is the intermediate conversion, as an unknown. \n",
    "\n",
    "$$V = \\frac{F_{A_f}}{kC_{A_f}} \\left[ \\frac {x_{A_1}}{(1-x_{A_{1}})} + \\frac {(0.9 - x_{A_{1}} )} {0.1} \\right] $$\n",
    "\n",
    "Let's program that information into a function in the cell below, and we'll learn some ways to analyze it; the most intuitive way is a graphical method."
   ]
  },
  {
   "cell_type": "code",
   "execution_count": null,
   "metadata": {},
   "outputs": [],
   "source": [
    "# def f1(X):\n",
    "#     FAf = 1 #mol/min\n",
    "#     CAf = 1 #mol/L\n",
    "#     k   = 1 #1/min    \n",
    "#     V = FAf/k/CAf*(X/(1 - X) + (0.9 - X)/0.1)\n",
    "#     return V"
   ]
  },
  {
   "cell_type": "code",
   "execution_count": null,
   "metadata": {},
   "outputs": [],
   "source": [
    "# xspan = np.linspace(0, 0.9, 100)\n",
    "# V = f1(xspan)\n",
    "\n",
    "# plt4 = plt.figure(1, figsize = (5, 5))\n",
    "# plt.title('Total Volume for 2 CSTRs vs. Int. Conversion')\n",
    "# plt.plot(xspan, V, color = 'black')\n",
    "# plt.xlabel('Intermediate Conversion', fontsize = 12)\n",
    "# plt.ylabel('Total CSTR Volume (L)', fontsize = 12)\n",
    "# plt.xlim(0, 1)\n",
    "# plt.ylim(0, 10)\n",
    "# plt.show()"
   ]
  },
  {
   "cell_type": "markdown",
   "metadata": {},
   "source": [
    "### Optimizing the intermediate conversion: analytical solution"
   ]
  },
  {
   "cell_type": "code",
   "execution_count": null,
   "metadata": {},
   "outputs": [],
   "source": [
    "# der  = lambda X: 1/(1 - X)**2 - 10"
   ]
  },
  {
   "cell_type": "code",
   "execution_count": null,
   "metadata": {},
   "outputs": [],
   "source": [
    "# plt5 = plt.figure(1, figsize = (5, 5))\n",
    "# plt.title('Derivative of V with respect to XI')\n",
    "# plt.plot(xspan, der(xspan))\n",
    "# plt.hlines(0, 0, 0.9, linestyle = 'dashed', color = 'black', linewidth = 1)\n",
    "# plt.xlim(0.0, 1.0)\n",
    "# plt.xlabel('Intermediate Conversion', fontsize = 12)\n",
    "# plt.ylim(-10.0, 100.0)\n",
    "# plt.ylabel('dV/dXI (L)', fontsize = 12)\n",
    "# plt.show(1)"
   ]
  },
  {
   "cell_type": "code",
   "execution_count": null,
   "metadata": {},
   "outputs": [],
   "source": [
    "# Xopt = opt.newton(der, 0.5)\n",
    "# Vmin = f1(Xopt)\n",
    "# print(f'The optimum intermediate conversion is {Xopt:3.2f}, which gives a total volume of {Vmin:3.2f}L')"
   ]
  },
  {
   "cell_type": "markdown",
   "metadata": {},
   "source": [
    "### Optimizing the intermediate conversion: a numerical solution\n",
    "\n",
    "https://docs.scipy.org/doc/scipy/reference/generated/scipy.optimize.minimize_scalar.html\n"
   ]
  },
  {
   "cell_type": "code",
   "execution_count": null,
   "metadata": {},
   "outputs": [],
   "source": [
    "# def f2(X):\n",
    "#     #print(f'Current int. conversion is {X:0.2f}')\n",
    "#     FAf = 1 #mol/min\n",
    "#     CAf = 1 #mol/L\n",
    "#     k   = 1 #1/min\n",
    "#     V = FAf/k/CAf*(X/(1.0 - X) + (0.9 - X)/0.1)\n",
    "#     #print(f'Which gives a Total volume of {V:0.2f}L \\n')\n",
    "#     return V"
   ]
  },
  {
   "cell_type": "code",
   "execution_count": null,
   "metadata": {},
   "outputs": [],
   "source": [
    "#opt.minimize_scalar(f2)\n",
    "#opt.minimize_scalar(f2, method = 'Brent') #uses a default bracket of (0, 1)\n",
    "#opt.minimize_scalar(f2, method = 'Brent', bracket = (0.1, 0.9))\n",
    "#opt.minimize_scalar(f2, method = 'Bounded', bounds = (0.1, 0.9))\n",
    "#optset = {'disp' : True}\n",
    "#optset['disp']\n",
    "#optset = {'disp' : True, 'maxiter' : 100}\n",
    "#opt.minimize_scalar(f2, method = 'Brent', bracket = (0.1, 0.9), options = optset)\n",
    "#ans2 = opt.minimize_scalar(f2, method = 'Brent', bracket = (0.1, 0.9), options = optset)"
   ]
  },
  {
   "cell_type": "markdown",
   "metadata": {},
   "source": [
    "### Another numerical approach, the more general <code>opt.minimize()</code>\n",
    "\n",
    "https://docs.scipy.org/doc/scipy/reference/generated/scipy.optimize.minimize.html#scipy.optimize.minimize\n"
   ]
  },
  {
   "cell_type": "code",
   "execution_count": null,
   "metadata": {},
   "outputs": [],
   "source": [
    "# def f3(var):\n",
    "#     X = var[0]\n",
    "#     #print(f'Current int. conversion is {X:0.2f}')\n",
    "#     FAf = 1 #mol/min\n",
    "#     CAf = 1 #mol/L\n",
    "#     k   = 1 #1/min\n",
    "#     V = FAf/k/CAf*(X/(1.0 - X) + (0.9 - X)/0.1)\n",
    "#     #print(f'Which gives a Total volume of {V:0.2f}L \\n')\n",
    "#     return V"
   ]
  },
  {
   "cell_type": "code",
   "execution_count": null,
   "metadata": {},
   "outputs": [],
   "source": [
    "#opt.minimize(f3, 0.5)\n",
    "#opt.minimize(f3, 0.5, method = 'Nelder-Mead')\n",
    "#opt.minimize(f3, 0.5, method = 'Nelder-Mead', bounds = [(0.1, 0.9),])\n",
    "#opt.minimize(f3, 0.5, method = 'SLSQP', bounds = [(0.1, 0.9),])\n",
    "\n",
    "#optset = {'disp' : True, 'maxiter' : 50}\n",
    "#opt.minimize(f3, 0.5, method = 'SLSQP', bounds = [(0.1, 0.9),], options = optset)"
   ]
  },
  {
   "cell_type": "code",
   "execution_count": null,
   "metadata": {},
   "outputs": [],
   "source": [
    "# constraintfun1 = lambda X: 0.4 - X\n",
    "# constraint_dictionary = {'type' : 'ineq' , 'fun' : constraintfun1}\n",
    "# opt.minimize(f3, 0.01, method = 'SLSQP', constraints = (constraint_dictionary))"
   ]
  },
  {
   "cell_type": "markdown",
   "metadata": {},
   "source": [
    "# Problem 2\n",
    "\n",
    "Now let's solve a slightly different problem. The previous example minimized the Volume (capex) of 2 reactors by varying the intermediate conversion. But let's say that we want to minimize the total cost of our *process*, which needs to account for CapEx (increases with the size of a reactor) and OpEx (arguably, increases with the number of reactors).  Let's construct a very simple model for this.  We will say that the annualized total capital cost of our reactors is given by:\n",
    "\n",
    "$$\\textrm{CapEx} = 3.78V^{2.3} + 20$$\n",
    "\n",
    "Where V is volume of a reactor  in L and CapEx has units of M\\\\$ per year. OpEx will also have units of M\\\\$ per year and scale with the number of reactors that we have in the following way:\n",
    "\n",
    "$$\\textrm{OpEx} = 165.3N^\\frac{1}{3}$$\n",
    "\n",
    "And we'll say that, for this simple example, the total cost of the process is just CapEx plus OpEx.\n",
    "\n",
    "Our final assumption: Each reactor in the series will accomplish the same incremental change in fractional conversion of species A. For example, if we achieve 90% conversion in 2 reactors, each will achieve 45% conversion of $F_{A_f}$.  If we have 10 reactors, each will achieve 9% conversion of $F_{A_f}$, etc. \n",
    "\n",
    "That way, the change in fractional conversion (amount converted) across any reactor is constant, and our CSTR balance on reactor n becomes:\n",
    "\n",
    "$$V_n = \\frac{F_{A_f}\\Delta x_A}{kC_{A_f}(1 - x_{A_n})}$$\n",
    "\n",
    "We will keep the rest of the information about this problem the same as in Problem 1, i.e.,:\n",
    "\n",
    "\\begin{align}\n",
    "    r &= kC_A \\\\\n",
    "    k &= 1 \\ \\textrm{min}^{-1} \\\\\n",
    "    F_{A_f} &= 1 \\ \\textrm{mol} \\ \\textrm{min}^{-1} \\\\\n",
    "    C_{A_f} &= 1 \\ \\textrm{mol} \\ \\textrm{L}^{-1} \\\\\n",
    "\\end{align}\n",
    "\n",
    "How many reactors should we use in order to minimize the total cost of the process?"
   ]
  },
  {
   "cell_type": "code",
   "execution_count": null,
   "metadata": {},
   "outputs": [],
   "source": [
    "# def volcalcn(n):\n",
    "#     FAf = 1 #mol/min\n",
    "#     CAf = 1 #mol/L\n",
    "#     k   = 1 #1/min\n",
    "#     XA  = 0.90\n",
    "#     DX  = XA/n\n",
    "#     Vn  = FAf*DX/k/CAf/(1 - 0.9)\n",
    "#     return Vn\n",
    "# volcalcn(1)"
   ]
  },
  {
   "cell_type": "code",
   "execution_count": null,
   "metadata": {},
   "outputs": [],
   "source": [
    "# def volcalc(N):\n",
    "#     FAf = 1 #mol/min\n",
    "#     CAf = 1 #mol/L\n",
    "#     k   = 1 #1/min\n",
    "#     XA  = 0.9\n",
    "#     DX  = XA/N\n",
    "    \n",
    "#     reactorset = np.linspace(1, N, N)\n",
    "#     V   = np.zeros(N)\n",
    "    \n",
    "#     for index, n in enumerate(reactorset):\n",
    "#          V[index] = FAf/CAf/k*DX/(1 - n*DX)\n",
    "#     Vtot = sum(V)\n",
    "#     return [Vtot, V]\n",
    "# volcalc(1.0)"
   ]
  },
  {
   "cell_type": "code",
   "execution_count": null,
   "metadata": {},
   "outputs": [],
   "source": [
    "# def obj(N):\n",
    "#     Vtot, V = volcalc(N)\n",
    "#     CAPEX = 3.78*V**(2.3) + 20\n",
    "#     CAPEX = np.sum(CAPEX)\n",
    "#     OPEX  = 165.3*N**(1/3)\n",
    "#     COST  = CAPEX + OPEX\n",
    "#     return [CAPEX, OPEX, COST]"
   ]
  },
  {
   "cell_type": "code",
   "execution_count": null,
   "metadata": {},
   "outputs": [],
   "source": [
    "# CAPEX = np.zeros(20)\n",
    "# OPEX  = np.zeros(20)\n",
    "# COST  = np.zeros(20)\n",
    "\n",
    "# nreact = np.linspace(1, 20, 20)\n",
    "# for i, N in enumerate(nreact):\n",
    "#     CAPEX[i], OPEX[i], COST[i] = obj(N)"
   ]
  },
  {
   "cell_type": "code",
   "execution_count": null,
   "metadata": {},
   "outputs": [],
   "source": [
    "# plt.scatter(nreact, CAPEX, color = 'none', edgecolor = 'blue',  marker = 'o', label = 'CAPEX')\n",
    "# plt.scatter(nreact, OPEX,  color = 'none', edgecolor = 'red',   marker = 'o', label = 'OPEX')\n",
    "# plt.scatter(nreact, COST,  color = 'none', edgecolor = 'black', marker = 's', label = 'Cost')\n",
    "# plt.xlim(0, 20)\n",
    "# plt.ylim(0, 1000)\n",
    "# plt.xticks(np.linspace(0, 20, 21))\n",
    "# plt.xlabel('Number of Reactors')\n",
    "# plt.ylabel('Cost ($)')\n",
    "# plt.legend()\n",
    "# plt.show()"
   ]
  }
 ],
 "metadata": {
  "kernelspec": {
   "display_name": "Python 3 (ipykernel)",
   "language": "python",
   "name": "python3"
  },
  "language_info": {
   "codemirror_mode": {
    "name": "ipython",
    "version": 3
   },
   "file_extension": ".py",
   "mimetype": "text/x-python",
   "name": "python",
   "nbconvert_exporter": "python",
   "pygments_lexer": "ipython3",
   "version": "3.9.13"
  }
 },
 "nbformat": 4,
 "nbformat_minor": 4
}
