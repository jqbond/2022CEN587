{
 "cells": [
  {
   "cell_type": "markdown",
   "metadata": {},
   "source": [
    "# Recitation 07\n",
    "\n",
    "These exercises walk through some of the Python code I've been writing for class but not necessarily explaining in class.  We also cover some intermediate skills in developing functions, solving problems with them, etc.\n",
    "\n",
    "## Topics Covered\n",
    "\n",
    "1. Intermediate skills in Python\n",
    "2. Tips and Tricks\n",
    "3. List Comprehensions"
   ]
  },
  {
   "cell_type": "code",
   "execution_count": 1,
   "metadata": {},
   "outputs": [],
   "source": [
    "import numpy as np\n",
    "import scipy.optimize as opt\n",
    "from scipy.integrate import solve_ivp\n",
    "import matplotlib.pyplot as plt\n",
    "from scipy.interpolate import interp1d\n",
    "from scipy.integrate import quadrature\n",
    "from math import ceil, floor"
   ]
  },
  {
   "cell_type": "markdown",
   "metadata": {},
   "source": [
    "## Recap of topics from L20 (Levenspiel Plots)\n",
    "\n",
    "We've have been discussing sizing flow reactors (CSTRs and PFRs) for a very simple reaction:\n",
    "\n",
    "$$A \\longrightarrow B$$\n",
    "\n",
    "We have assumed the rate of reaction depends only on the concentration of A, and that the reaction order is unspecified. We have further assumed that the fluid density is constant in this system.  With these things in mind, we can develop the rate law below, which illustrates the functional dependence of rate on $C_A$ and, by extension $X_A$.\n",
    "\n",
    "$$r = k{C_A}^\\alpha = kC_{A,f}^\\alpha \\, (1 - X_A)^\\alpha$$\n",
    "\n",
    "In L20, we were focused on illustrating trends in CSTR and PFR sizes (volumes) as the reaction order, $\\alpha$, changes. The Notebook for L20 does this using some generic functions that solve for CSTR and PFR volumes giving arguments of fractional conversion ($X_A$) and reaction order ($\\alpha$).\n",
    "\n",
    "Just as a reminder, for this simple case where we are just wanting to illustrate concepts, we're assuming that any parameter in the problem (k, CAf, FAf, Q, etc.) is going to be equal to a numerical value of 1 in appropriate units just to keep things \"clean\" as we write these various cases.\n",
    "\n",
    "We developed the solution below, which gives the volumes of a CSTR to achieve a certain fractional conversion, where we note that reaction rate is a function of fractional conversion, i.e., $r = f(X_A)$:\n",
    "\n",
    "$$V_\\textrm{CSTR} = \\frac{F_{A,f}X_A}{r}$$\n",
    "\n",
    "We developed that function of fractional conversion during class; specifically $r = kC_{A,f}^\\alpha \\, (1 - X_A)^\\alpha$. Substituting that rate as a function of conversion into the material balance solution for Volume, we find:\n",
    "\n",
    "$$V_\\textrm{CSTR} = \\frac{F_{A,f}X_A}{kC_{A,f}^\\alpha \\, (1 - X_A)^\\alpha}$$\n",
    "\n",
    "### CSTR Volume for a single fractional conversion with a first order reaction"
   ]
  },
  {
   "cell_type": "code",
   "execution_count": 2,
   "metadata": {},
   "outputs": [],
   "source": [
    "# k     = 1\n",
    "# CAf   = 1\n",
    "# FAf   = 1\n",
    "# XA    = 0.5\n",
    "# alpha = 1\n",
    "# CA    = CAf*(1 - XA)\n",
    "# r     = k*CA**alpha\n",
    "# V     = FAf*XA/r\n",
    "# V"
   ]
  },
  {
   "cell_type": "code",
   "execution_count": 3,
   "metadata": {},
   "outputs": [
    {
     "name": "stdout",
     "output_type": "stream",
     "text": [
      "1.0\n"
     ]
    }
   ],
   "source": [
    "k     = 1\n",
    "CAf   = 1\n",
    "FAf   = 1\n",
    "conv  = 0.5\n",
    "alpha = 1\n",
    "\n",
    "CA = CAf*(1 - conv)\n",
    "r  = k*CA**alpha\n",
    "V  = FAf*conv/r\n",
    "print(V) #Liters"
   ]
  },
  {
   "cell_type": "markdown",
   "metadata": {},
   "source": [
    "### CSTR Volume for many fractional conversions with a first order reaction"
   ]
  },
  {
   "cell_type": "code",
   "execution_count": 4,
   "metadata": {},
   "outputs": [],
   "source": [
    "# k     = 1\n",
    "# CAf   = 1\n",
    "# FAf   = 1\n",
    "# XA    = np.array([0.0, 0.25, 0.5, 0.75, 0.9])\n",
    "# alpha = 1\n",
    "# CA    = CAf*(1 - XA)\n",
    "# r     = k*CA**alpha\n",
    "# V     = FAf*XA/r\n",
    "# print(V)"
   ]
  },
  {
   "cell_type": "code",
   "execution_count": 5,
   "metadata": {},
   "outputs": [
    {
     "name": "stdout",
     "output_type": "stream",
     "text": [
      "[0.         0.33333333 1.         3.         9.        ]\n"
     ]
    }
   ],
   "source": [
    "k     = 1\n",
    "CAf   = 1\n",
    "FAf   = 1\n",
    "alpha = 1\n",
    "#conv  = 0.5\n",
    "conv  = np.array([0.0, 0.25, 0.5, 0.75, 0.9])\n",
    "\n",
    "CA = CAf*(1 - conv)\n",
    "r  = k*CA**alpha\n",
    "V  = FAf*conv/r\n",
    "print(V) #Liters"
   ]
  },
  {
   "cell_type": "markdown",
   "metadata": {},
   "source": [
    "### Looping over multiple iterables with zip()\n",
    "\n",
    "<div class = \"alert alert-block alert-warning\">\n",
    "    <b>Caveat</b>: iterables used with <code>zip()</code> must be the same size.\n",
    "    </div>\n",
    "\n",
    "### Formatted string literals in Python\n",
    "\n",
    "You can do some fairly advanced formatting of your print output with string literals.  For more detail, see link below.  At a minimum for engineers, it is useful to know how to format numbers as floating point decimals (e.g., `{number:3.2f}`) and in exponential (scientific) notation (e.g., `{number:3.2E}` or `{number:3.2e}`).\n",
    "\n",
    "http://cissandbox.bentley.edu/sandbox/wp-content/uploads/2022-02-10-Documentation-on-f-strings-Updated.pdf"
   ]
  },
  {
   "cell_type": "code",
   "execution_count": 6,
   "metadata": {},
   "outputs": [],
   "source": [
    "# for conversion, volume in zip(XA, V):\n",
    "#     print(f'To achieve a conversion of {conversion:2.2f}, the required volume is {volume:3.2f}L')"
   ]
  },
  {
   "cell_type": "code",
   "execution_count": 7,
   "metadata": {},
   "outputs": [
    {
     "name": "stdout",
     "output_type": "stream",
     "text": [
      "To achieve a conversion of 0.00E+00, the CSTR volume must be 0.00e+00\n",
      "To achieve a conversion of 2.50E-01, the CSTR volume must be 3.33e-01\n",
      "To achieve a conversion of 5.00E-01, the CSTR volume must be 1.00e+00\n",
      "To achieve a conversion of 7.50E-01, the CSTR volume must be 3.00e+00\n",
      "To achieve a conversion of 9.00E-01, the CSTR volume must be 9.00e+00\n"
     ]
    }
   ],
   "source": [
    "for conversion, volume in zip(conv, V):\n",
    "    print(f'To achieve a conversion of {conversion:3.2E}, the CSTR volume must be {volume:3.2e}')"
   ]
  },
  {
   "cell_type": "markdown",
   "metadata": {},
   "source": [
    "### CSTR Volume for many conversions AND many reaction orders.\n"
   ]
  },
  {
   "cell_type": "code",
   "execution_count": 8,
   "metadata": {},
   "outputs": [],
   "source": [
    "# k     = 1\n",
    "# CAf   = 1\n",
    "# FAf   = 1\n",
    "# XA    = np.linspace(0.0, 0.9, 100) #Many fractional conversions\n",
    "# alpha = np.array([-2, -1, 0, 1, 2])#Many reaction orders\n",
    "# CA    = CAf*(1 - XA)\n",
    "# r     = k*CA**alpha\n",
    "# V     = FAf*XA/r"
   ]
  },
  {
   "cell_type": "code",
   "execution_count": 10,
   "metadata": {},
   "outputs": [],
   "source": [
    "# k     = 1\n",
    "# CAf   = 1\n",
    "# FAf   = 1\n",
    "# alpha = np.array([-2., -1., 0., 1., 2.])\n",
    "# #conv  = 0.5\n",
    "# conv  = np.linspace(0.0, 0.9, 100)\n",
    "\n",
    "# CA = CAf*(1 - conv)\n",
    "# r  = k*CA**alpha\n",
    "# V  = FAf*conv/r\n",
    "# print(V) #Liters"
   ]
  },
  {
   "cell_type": "markdown",
   "metadata": {},
   "source": [
    "### Handling complex operations efficiently with loops\n",
    "\n",
    "#### Defining a function to calculate CSTR volume for an arbitrary conversion and reaction order\n",
    "\n"
   ]
  },
  {
   "cell_type": "code",
   "execution_count": null,
   "metadata": {},
   "outputs": [],
   "source": [
    "# def VCSTR(XA, alpha):\n",
    "#     k     = 1\n",
    "#     CAf   = 1\n",
    "#     FAf   = 1\n",
    "#     CA    = CAf*(1 - XA) #Remember, the only relevant conversion in a CSTR is at the exit\n",
    "#     r     = k*CA**alpha\n",
    "#     V     = FAf*XA/r\n",
    "#     return V\n",
    "# VCSTR(0.5, 1)"
   ]
  },
  {
   "cell_type": "code",
   "execution_count": 11,
   "metadata": {},
   "outputs": [
    {
     "data": {
      "text/plain": [
       "0.4444444444444444"
      ]
     },
     "execution_count": 11,
     "metadata": {},
     "output_type": "execute_result"
    }
   ],
   "source": [
    "def VCSTR(XA, alpha):\n",
    "    k     = 1\n",
    "    CAf   = 1\n",
    "    FAf   = 1\n",
    "    \n",
    "    CA = CAf*(1 - XA)\n",
    "    r  = k*CA**alpha\n",
    "    V  = FAf*XA/r\n",
    "    return V\n",
    "VCSTR(0.25, 2)"
   ]
  },
  {
   "cell_type": "markdown",
   "metadata": {},
   "source": [
    "#### Passing a numpy array to the function (broadcasting) to evaluate V for many conversions\n"
   ]
  },
  {
   "cell_type": "code",
   "execution_count": null,
   "metadata": {},
   "outputs": [],
   "source": [
    "# XA    = np.linspace(0.0, 0.9, 100)\n",
    "# order = 1\n",
    "# V     = VCSTR(XA, order)\n",
    "# plt.figure(1, figsize = (5,5))\n",
    "# plt.plot(XA, V, color = 'red', label = 'CSTR Volume')\n",
    "# plt.xlim(0, 1)\n",
    "# plt.ylim(0, 10)\n",
    "# plt.xlabel('XA', fontsize = 14)\n",
    "# plt.ylabel('Volume (L)', fontsize = 14)\n",
    "# plt.legend(loc = 'upper left')\n",
    "# plt.show()"
   ]
  },
  {
   "cell_type": "code",
   "execution_count": 12,
   "metadata": {},
   "outputs": [
    {
     "data": {
      "image/png": "[encoded data removed]",
      "text/plain": [
       "<Figure size 360x360 with 1 Axes>"
      ]
     },
     "metadata": {
      "needs_background": "light"
     },
     "output_type": "display_data"
    }
   ],
   "source": [
    "XA    = np.linspace(0.0, 0.9, 100)\n",
    "order = 1\n",
    "V     = VCSTR(XA, order)\n",
    "plt.figure(1, figsize = (5,5))\n",
    "plt.plot(XA, V, color = 'red', label = 'CSTR Volume')\n",
    "plt.xlim(0, 1)\n",
    "plt.ylim(0, 10)\n",
    "plt.xlabel('XA', fontsize = 14)\n",
    "plt.ylabel('Volume (L)', fontsize = 14)\n",
    "plt.legend(loc = 'upper left')\n",
    "plt.show()"
   ]
  },
  {
   "cell_type": "markdown",
   "metadata": {},
   "source": [
    "#### Looping over multiple reaction orders\n",
    "\n",
    "In python, we can continue stacking plots in the following way:\n",
    "```python\n",
    "plt.plot(X1, Y1, label = 'Y1')\n",
    "plt.plot(X2, Y2, label = 'Y2')\n",
    "plt.plot(X3, Y3, label = 'Y3')\n",
    "```\n",
    "I automate that below in the for loop.  "
   ]
  },
  {
   "cell_type": "code",
   "execution_count": null,
   "metadata": {},
   "outputs": [],
   "source": [
    "# XA    = np.linspace(0, 0.9, 100)\n",
    "# avals = np.array([-2, -1, 0, 1, 2])\n",
    "\n",
    "# plt.figure(1, figsize = (5, 5))\n",
    "# for alpha in avals:\n",
    "#     V   = VCSTR(XA, alpha)\n",
    "#     plt.semilogy(XA, V, label = f'order is {alpha}')\n",
    "# plt.xlim(0,1)\n",
    "# plt.ylim(1e-3, 1e3)\n",
    "# plt.title('CSTR volumes for various reaction orders')\n",
    "# plt.xlabel('XA', fontsize = 14)\n",
    "# plt.ylabel('Reactor Volume (L)', fontsize = 14)\n",
    "# plt.legend()\n",
    "# plt.show()"
   ]
  },
  {
   "cell_type": "code",
   "execution_count": 13,
   "metadata": {},
   "outputs": [
    {
     "data": {
      "image/png": "[encoded data removed]",
      "text/plain": [
       "<Figure size 360x360 with 1 Axes>"
      ]
     },
     "metadata": {
      "needs_background": "light"
     },
     "output_type": "display_data"
    }
   ],
   "source": [
    "XA    = np.linspace(0.0, 0.9, 100)\n",
    "avals = np.array([-2.0, -1.0, 0.0, 1.0, 2.0])\n",
    "\n",
    "plt.figure(1, figsize = (5, 5))\n",
    "\n",
    "for alpha in avals:\n",
    "    V   = VCSTR(XA, alpha)\n",
    "    plt.semilogy(XA, V, label = f'order is {alpha}')\n",
    "\n",
    "plt.xlim(0,1)\n",
    "plt.ylim(1e-3, 1e3)\n",
    "plt.title('CSTR volumes for various reaction orders')\n",
    "plt.xlabel('XA', fontsize = 14)\n",
    "plt.ylabel('Reactor Volume (L)', fontsize = 14)\n",
    "plt.legend()\n",
    "plt.show()"
   ]
  },
  {
   "cell_type": "markdown",
   "metadata": {},
   "source": [
    "## Solving the PFR problem for many conversions and many reaction orders\n",
    "\n",
    "The PFR solution is actually a bit trickier.  Recall that the solution for the PFR volume for this simple case is:\n",
    "\n",
    "$$V_\\textrm{PFR} = \\int_0^{X_A}\\frac{F_{A,f} \\, dX_A}{r \\, (X_A)}$$\n",
    "\n",
    "In other words, I have to solve the definite integral by integrating the right hand side from the lower limit of zero conversion to the upper limit of conversion I'm trying to achieve in this reactor to solve for the PFR Volume.  If I know the rate law exactly, I can solve this analytically (we did this in the Unit 03 Assignments).  In this case, we don't know the rate law per se, we want a general solution for any rate law.  The easiest way for me to do that is to substitute our generic rate law into the above definite integral:\n",
    "\n",
    "$$V_\\textrm{PFR} = \\int_0^{X_A}\\frac{F_{A,f} \\, dX_A}{kC_{A,f}^\\alpha \\, (1 - X_A)^\\alpha}$$\n",
    "\n",
    "### Solving the PFR problem for a single conversion and single reaction order"
   ]
  },
  {
   "cell_type": "code",
   "execution_count": null,
   "metadata": {},
   "outputs": [],
   "source": [
    "# alpha = 1\n",
    "# FAf = 1 #mol/min\n",
    "# Qf  = 1 #mol/min\n",
    "# CAf = 1 #mol/L\n",
    "# k   = 1 #1/min\n",
    "# XA  = 0.5\n",
    "# CA  = lambda X: CAf*(1 - X)\n",
    "# r   = lambda X: k*CA(X)**alpha\n",
    "\n",
    "# intfun   = lambda X: FAf/r(X)\n",
    "# vol, err = quadrature(intfun, 0, XA)\n",
    "# print(f'To achieve a conversion of {XA:0.2}, the PFR Volume must be {vol:3.3}L')"
   ]
  },
  {
   "cell_type": "code",
   "execution_count": 14,
   "metadata": {},
   "outputs": [
    {
     "name": "stdout",
     "output_type": "stream",
     "text": [
      "0.6931471805400136\n"
     ]
    }
   ],
   "source": [
    "alpha = 1\n",
    "FAf   = 1 #mol/min\n",
    "Qf    = 1 #mol/min\n",
    "CAf   = 1 #mol/L\n",
    "k     = 1 #1/min\n",
    "XA    = 0.5\n",
    "\n",
    "CA    = lambda X: CAf*(1 - X)\n",
    "r     = lambda X: k*CA(X)**alpha\n",
    "\n",
    "integrand = lambda X: FAf/r(X)\n",
    "\n",
    "answer, error = quadrature(integrand, 0.0, 0.5)\n",
    "print(answer)"
   ]
  },
  {
   "cell_type": "markdown",
   "metadata": {},
   "source": [
    "### Embedding the solution of the definite integral inside of a function...\n"
   ]
  },
  {
   "cell_type": "code",
   "execution_count": null,
   "metadata": {},
   "outputs": [],
   "source": [
    "# def VPFR(XA, alpha):\n",
    "#     FAf = 1 #mol/min\n",
    "#     Qf  = 1 #mol/min\n",
    "#     CAf = 1 #mol/L\n",
    "#     k   = 1 #1/min\n",
    "#     intfun   = lambda X: FAf/k/CAf**alpha/(1-X)**alpha\n",
    "#     vol, err = quadrature(intfun, 0, XA)\n",
    "#     return vol\n",
    "# XA = 0.5\n",
    "# order = 1\n",
    "# print(f'{VPFR(XA, order):3.3f}L')"
   ]
  },
  {
   "cell_type": "code",
   "execution_count": 15,
   "metadata": {},
   "outputs": [
    {
     "data": {
      "text/plain": [
       "0.6931471805400136"
      ]
     },
     "execution_count": 15,
     "metadata": {},
     "output_type": "execute_result"
    }
   ],
   "source": [
    "def VPFR(XA, alpha):\n",
    "    FAf   = 1 #mol/min\n",
    "    Qf    = 1 #mol/min\n",
    "    CAf   = 1 #mol/L\n",
    "    k     = 1 #1/min\n",
    "\n",
    "    CA    = lambda X: CAf*(1 - X)\n",
    "    r     = lambda X: k*CA(X)**alpha\n",
    "    integrand = lambda X: FAf/r(X)\n",
    "\n",
    "    answer, error = quadrature(integrand, 0.0, XA)\n",
    "    return answer\n",
    "\n",
    "VPFR(0.5, 1)"
   ]
  },
  {
   "cell_type": "markdown",
   "metadata": {},
   "source": [
    "### We run into problems with broadcasting this function to many fractional conversions"
   ]
  },
  {
   "cell_type": "code",
   "execution_count": 16,
   "metadata": {},
   "outputs": [
    {
     "ename": "ValueError",
     "evalue": "The truth value of an array with more than one element is ambiguous. Use a.any() or a.all()",
     "output_type": "error",
     "traceback": [
      "\u001b[1;31m---------------------------------------------------------------------------\u001b[0m",
      "\u001b[1;31mValueError\u001b[0m                                Traceback (most recent call last)",
      "\u001b[1;32m~\\AppData\\Local\\Temp\\ipykernel_16584\\3825740130.py\u001b[0m in \u001b[0;36m<cell line: 3>\u001b[1;34m()\u001b[0m\n\u001b[0;32m      1\u001b[0m \u001b[0mXA\u001b[0m \u001b[1;33m=\u001b[0m \u001b[0mnp\u001b[0m\u001b[1;33m.\u001b[0m\u001b[0mlinspace\u001b[0m\u001b[1;33m(\u001b[0m\u001b[1;36m0.0\u001b[0m\u001b[1;33m,\u001b[0m \u001b[1;36m0.9\u001b[0m\u001b[1;33m,\u001b[0m \u001b[1;36m100\u001b[0m\u001b[1;33m)\u001b[0m\u001b[1;33m\u001b[0m\u001b[1;33m\u001b[0m\u001b[0m\n\u001b[0;32m      2\u001b[0m \u001b[0morder\u001b[0m \u001b[1;33m=\u001b[0m \u001b[1;36m1\u001b[0m\u001b[1;33m\u001b[0m\u001b[1;33m\u001b[0m\u001b[0m\n\u001b[1;32m----> 3\u001b[1;33m \u001b[0mprint\u001b[0m\u001b[1;33m(\u001b[0m\u001b[0mVPFR\u001b[0m\u001b[1;33m(\u001b[0m\u001b[0mXA\u001b[0m\u001b[1;33m,\u001b[0m \u001b[0morder\u001b[0m\u001b[1;33m)\u001b[0m\u001b[1;33m)\u001b[0m\u001b[1;33m\u001b[0m\u001b[1;33m\u001b[0m\u001b[0m\n\u001b[0m",
      "\u001b[1;32m~\\AppData\\Local\\Temp\\ipykernel_16584\\3590900833.py\u001b[0m in \u001b[0;36mVPFR\u001b[1;34m(XA, alpha)\u001b[0m\n\u001b[0;32m      9\u001b[0m     \u001b[0mintegrand\u001b[0m \u001b[1;33m=\u001b[0m \u001b[1;32mlambda\u001b[0m \u001b[0mX\u001b[0m\u001b[1;33m:\u001b[0m \u001b[0mFAf\u001b[0m\u001b[1;33m/\u001b[0m\u001b[0mr\u001b[0m\u001b[1;33m(\u001b[0m\u001b[0mX\u001b[0m\u001b[1;33m)\u001b[0m\u001b[1;33m\u001b[0m\u001b[1;33m\u001b[0m\u001b[0m\n\u001b[0;32m     10\u001b[0m \u001b[1;33m\u001b[0m\u001b[0m\n\u001b[1;32m---> 11\u001b[1;33m     \u001b[0manswer\u001b[0m\u001b[1;33m,\u001b[0m \u001b[0merror\u001b[0m \u001b[1;33m=\u001b[0m \u001b[0mquadrature\u001b[0m\u001b[1;33m(\u001b[0m\u001b[0mintegrand\u001b[0m\u001b[1;33m,\u001b[0m \u001b[1;36m0.0\u001b[0m\u001b[1;33m,\u001b[0m \u001b[0mXA\u001b[0m\u001b[1;33m)\u001b[0m\u001b[1;33m\u001b[0m\u001b[1;33m\u001b[0m\u001b[0m\n\u001b[0m\u001b[0;32m     12\u001b[0m     \u001b[1;32mreturn\u001b[0m \u001b[0manswer\u001b[0m\u001b[1;33m\u001b[0m\u001b[1;33m\u001b[0m\u001b[0m\n\u001b[0;32m     13\u001b[0m \u001b[1;33m\u001b[0m\u001b[0m\n",
      "\u001b[1;32m~\\anaconda3\\lib\\site-packages\\scipy\\integrate\\_quadrature.py\u001b[0m in \u001b[0;36mquadrature\u001b[1;34m(func, a, b, args, tol, rtol, maxiter, vec_func, miniter)\u001b[0m\n\u001b[0;32m    267\u001b[0m     \u001b[0mmaxiter\u001b[0m \u001b[1;33m=\u001b[0m \u001b[0mmax\u001b[0m\u001b[1;33m(\u001b[0m\u001b[0mminiter\u001b[0m\u001b[1;33m+\u001b[0m\u001b[1;36m1\u001b[0m\u001b[1;33m,\u001b[0m \u001b[0mmaxiter\u001b[0m\u001b[1;33m)\u001b[0m\u001b[1;33m\u001b[0m\u001b[1;33m\u001b[0m\u001b[0m\n\u001b[0;32m    268\u001b[0m     \u001b[1;32mfor\u001b[0m \u001b[0mn\u001b[0m \u001b[1;32min\u001b[0m \u001b[0mrange\u001b[0m\u001b[1;33m(\u001b[0m\u001b[0mminiter\u001b[0m\u001b[1;33m,\u001b[0m \u001b[0mmaxiter\u001b[0m\u001b[1;33m+\u001b[0m\u001b[1;36m1\u001b[0m\u001b[1;33m)\u001b[0m\u001b[1;33m:\u001b[0m\u001b[1;33m\u001b[0m\u001b[1;33m\u001b[0m\u001b[0m\n\u001b[1;32m--> 269\u001b[1;33m         \u001b[0mnewval\u001b[0m \u001b[1;33m=\u001b[0m \u001b[0mfixed_quad\u001b[0m\u001b[1;33m(\u001b[0m\u001b[0mvfunc\u001b[0m\u001b[1;33m,\u001b[0m \u001b[0ma\u001b[0m\u001b[1;33m,\u001b[0m \u001b[0mb\u001b[0m\u001b[1;33m,\u001b[0m \u001b[1;33m(\u001b[0m\u001b[1;33m)\u001b[0m\u001b[1;33m,\u001b[0m \u001b[0mn\u001b[0m\u001b[1;33m)\u001b[0m\u001b[1;33m[\u001b[0m\u001b[1;36m0\u001b[0m\u001b[1;33m]\u001b[0m\u001b[1;33m\u001b[0m\u001b[1;33m\u001b[0m\u001b[0m\n\u001b[0m\u001b[0;32m    270\u001b[0m         \u001b[0merr\u001b[0m \u001b[1;33m=\u001b[0m \u001b[0mabs\u001b[0m\u001b[1;33m(\u001b[0m\u001b[0mnewval\u001b[0m\u001b[1;33m-\u001b[0m\u001b[0mval\u001b[0m\u001b[1;33m)\u001b[0m\u001b[1;33m\u001b[0m\u001b[1;33m\u001b[0m\u001b[0m\n\u001b[0;32m    271\u001b[0m         \u001b[0mval\u001b[0m \u001b[1;33m=\u001b[0m \u001b[0mnewval\u001b[0m\u001b[1;33m\u001b[0m\u001b[1;33m\u001b[0m\u001b[0m\n",
      "\u001b[1;32m~\\anaconda3\\lib\\site-packages\\scipy\\integrate\\_quadrature.py\u001b[0m in \u001b[0;36mfixed_quad\u001b[1;34m(func, a, b, args, n)\u001b[0m\n\u001b[0;32m    144\u001b[0m     \u001b[0mx\u001b[0m\u001b[1;33m,\u001b[0m \u001b[0mw\u001b[0m \u001b[1;33m=\u001b[0m \u001b[0m_cached_roots_legendre\u001b[0m\u001b[1;33m(\u001b[0m\u001b[0mn\u001b[0m\u001b[1;33m)\u001b[0m\u001b[1;33m\u001b[0m\u001b[1;33m\u001b[0m\u001b[0m\n\u001b[0;32m    145\u001b[0m     \u001b[0mx\u001b[0m \u001b[1;33m=\u001b[0m \u001b[0mnp\u001b[0m\u001b[1;33m.\u001b[0m\u001b[0mreal\u001b[0m\u001b[1;33m(\u001b[0m\u001b[0mx\u001b[0m\u001b[1;33m)\u001b[0m\u001b[1;33m\u001b[0m\u001b[1;33m\u001b[0m\u001b[0m\n\u001b[1;32m--> 146\u001b[1;33m     \u001b[1;32mif\u001b[0m \u001b[0mnp\u001b[0m\u001b[1;33m.\u001b[0m\u001b[0misinf\u001b[0m\u001b[1;33m(\u001b[0m\u001b[0ma\u001b[0m\u001b[1;33m)\u001b[0m \u001b[1;32mor\u001b[0m \u001b[0mnp\u001b[0m\u001b[1;33m.\u001b[0m\u001b[0misinf\u001b[0m\u001b[1;33m(\u001b[0m\u001b[0mb\u001b[0m\u001b[1;33m)\u001b[0m\u001b[1;33m:\u001b[0m\u001b[1;33m\u001b[0m\u001b[1;33m\u001b[0m\u001b[0m\n\u001b[0m\u001b[0;32m    147\u001b[0m         raise ValueError(\"Gaussian quadrature is only available for \"\n\u001b[0;32m    148\u001b[0m                          \"finite limits.\")\n",
      "\u001b[1;31mValueError\u001b[0m: The truth value of an array with more than one element is ambiguous. Use a.any() or a.all()"
     ]
    }
   ],
   "source": [
    "XA = np.linspace(0.0, 0.9, 100)\n",
    "order = 1\n",
    "print(VPFR(XA, order))"
   ]
  },
  {
   "cell_type": "markdown",
   "metadata": {},
   "source": [
    "### Running a for loop over an iterator created using the range function"
   ]
  },
  {
   "cell_type": "code",
   "execution_count": null,
   "metadata": {},
   "outputs": [],
   "source": [
    "# XA = np.linspace(0, 0.9, 100)\n",
    "# V  = np.zeros(len(XA))\n",
    "\n",
    "# for i in range(0, len(XA), 1):\n",
    "#     V[i], err = quadrature(intfun, 0, XA[i]) \n",
    "\n",
    "# plt.figure(1, figsize = (5,5))\n",
    "# plt.plot(XA, V, color = 'blue', label = 'PFR Volume')\n",
    "# plt.xlim(0, 1)\n",
    "# plt.ylim(0, max(V)*1.1)\n",
    "# plt.xlabel('XA', fontsize = 14)\n",
    "# plt.ylabel('Volume (L)', fontsize = 14)\n",
    "# plt.legend(loc = 'upper left')\n",
    "# plt.show()"
   ]
  },
  {
   "cell_type": "code",
   "execution_count": 17,
   "metadata": {},
   "outputs": [
    {
     "data": {
      "image/png": "[encoded data removed]",
      "text/plain": [
       "<Figure size 360x360 with 1 Axes>"
      ]
     },
     "metadata": {
      "needs_background": "light"
     },
     "output_type": "display_data"
    }
   ],
   "source": [
    "XA = np.linspace(0.0, 0.9, 100)\n",
    "order = 1\n",
    "V = np.zeros(len(XA))\n",
    "#print(V)\n",
    "for i in range(0, len(XA), 1):\n",
    "    V[i] = VPFR(XA[i], order)\n",
    "\n",
    "plt.figure(1, figsize = (5,5))\n",
    "plt.plot(XA, V, color = 'blue', label = 'PFR Volume')\n",
    "plt.xlim(0, 1)\n",
    "plt.ylim(0, max(V)*1.1)\n",
    "plt.xlabel('XA', fontsize = 14)\n",
    "plt.ylabel('Volume (L)', fontsize = 14)\n",
    "plt.legend(loc = 'upper left')\n",
    "plt.show()"
   ]
  },
  {
   "cell_type": "markdown",
   "metadata": {},
   "source": [
    "### Running a for loop using the enumerate() function to create the iterator"
   ]
  },
  {
   "cell_type": "code",
   "execution_count": null,
   "metadata": {},
   "outputs": [],
   "source": [
    "# XA = np.linspace(0, 0.9, 100)\n",
    "# V  = np.zeros(len(XA))\n",
    "\n",
    "# for i, val in enumerate(XA):\n",
    "#     V[i], err = quadrature(intfun, 0, val) \n",
    "\n",
    "# plt.figure(1, figsize = (5,5))\n",
    "# plt.plot(XA, V, color = 'blue', label = 'PFR Volume')\n",
    "# plt.xlim(0, 1)\n",
    "# plt.ylim(0, max(V)*1.1)\n",
    "# plt.xlabel('XA', fontsize = 14)\n",
    "# plt.ylabel('Volume (L)', fontsize = 14)\n",
    "# plt.legend(loc = 'upper left')\n",
    "# plt.show()"
   ]
  },
  {
   "cell_type": "code",
   "execution_count": 18,
   "metadata": {},
   "outputs": [
    {
     "name": "stdout",
     "output_type": "stream",
     "text": [
      "[0.         0.00913248 0.01834914 0.02765153 0.03704127 0.04652002\n",
      " 0.05608947 0.06575138 0.07550755 0.08535985 0.09531018 0.10536052\n",
      " 0.11551289 0.12576939 0.13613217 0.14660347 0.15718558 0.16788087\n",
      " 0.17869179 0.18962086 0.2006707  0.211844   0.22314355 0.23457225\n",
      " 0.24613307 0.25782911 0.26966357 0.28163976 0.29376112 0.30603121\n",
      " 0.31845373 0.33103251 0.34377154 0.35667494 0.36974703 0.38299225\n",
      " 0.39641527 0.41002092 0.42381425 0.43780049 0.45198512 0.46637386\n",
      " 0.48097266 0.49578775 0.51082562 0.5260931  0.54159728 0.55734564\n",
      " 0.57334598 0.5896065  0.6061358  0.62294292 0.64003736 0.6574291\n",
      " 0.67512868 0.69314718 0.71149632 0.73018845 0.74923665 0.76865473\n",
      " 0.78845736 0.80866007 0.82927935 0.85033276 0.87183897 0.89381788\n",
      " 0.91629073 0.93928025 0.96281075 0.9869083  1.01160091 1.03691872\n",
      " 1.06289421 1.08956245 1.11696143 1.1451323  1.17411984 1.2039728\n",
      " 1.23474446 1.26649316 1.29928298 1.33318454 1.36827586 1.4046435\n",
      " 1.44238383 1.48160454 1.52242653 1.56498615 1.60943791 1.65595793\n",
      " 1.70474809 1.75604139 1.8101086  1.86726702 1.92789164 1.99243016\n",
      " 2.06142303 2.135531   2.21557371 2.30258508]\n"
     ]
    },
    {
     "data": {
      "image/png": "[encoded data removed]",
      "text/plain": [
       "<Figure size 360x360 with 1 Axes>"
      ]
     },
     "metadata": {
      "needs_background": "light"
     },
     "output_type": "display_data"
    }
   ],
   "source": [
    "XA = np.linspace(0.0, 0.9, 100)\n",
    "order = 1\n",
    "V = np.zeros(len(XA))\n",
    "\n",
    "for k, value in enumerate(XA):\n",
    "    V[k] = VPFR(value, order)\n",
    "print(V)\n",
    "plt.figure(1, figsize = (5,5))\n",
    "plt.plot(XA, V, color = 'blue', label = 'PFR Volume')\n",
    "plt.xlim(0, 1)\n",
    "plt.ylim(0, max(V)*1.1)\n",
    "plt.xlabel('XA', fontsize = 14)\n",
    "plt.ylabel('Volume (L)', fontsize = 14)\n",
    "plt.legend(loc = 'upper left')\n",
    "plt.show()"
   ]
  },
  {
   "cell_type": "markdown",
   "metadata": {},
   "source": [
    "### List comprehensions -- the most Python way of all"
   ]
  },
  {
   "cell_type": "code",
   "execution_count": null,
   "metadata": {},
   "outputs": [],
   "source": [
    "# x = list(range(1,11))\n",
    "# print(x)\n",
    "# x**2"
   ]
  },
  {
   "cell_type": "code",
   "execution_count": 19,
   "metadata": {},
   "outputs": [
    {
     "name": "stdout",
     "output_type": "stream",
     "text": [
      "[1, 2, 3, 4, 5, 6, 7, 8, 9, 10]\n"
     ]
    },
    {
     "ename": "TypeError",
     "evalue": "unsupported operand type(s) for ** or pow(): 'list' and 'int'",
     "output_type": "error",
     "traceback": [
      "\u001b[1;31m---------------------------------------------------------------------------\u001b[0m",
      "\u001b[1;31mTypeError\u001b[0m                                 Traceback (most recent call last)",
      "\u001b[1;32m~\\AppData\\Local\\Temp\\ipykernel_16584\\2784484194.py\u001b[0m in \u001b[0;36m<cell line: 3>\u001b[1;34m()\u001b[0m\n\u001b[0;32m      1\u001b[0m \u001b[0mx\u001b[0m \u001b[1;33m=\u001b[0m \u001b[0mlist\u001b[0m\u001b[1;33m(\u001b[0m\u001b[0mrange\u001b[0m\u001b[1;33m(\u001b[0m\u001b[1;36m1\u001b[0m\u001b[1;33m,\u001b[0m \u001b[1;36m11\u001b[0m\u001b[1;33m)\u001b[0m\u001b[1;33m)\u001b[0m\u001b[1;33m\u001b[0m\u001b[1;33m\u001b[0m\u001b[0m\n\u001b[0;32m      2\u001b[0m \u001b[0mprint\u001b[0m\u001b[1;33m(\u001b[0m\u001b[0mx\u001b[0m\u001b[1;33m)\u001b[0m\u001b[1;33m\u001b[0m\u001b[1;33m\u001b[0m\u001b[0m\n\u001b[1;32m----> 3\u001b[1;33m \u001b[0mx\u001b[0m\u001b[1;33m**\u001b[0m\u001b[1;36m2\u001b[0m\u001b[1;33m\u001b[0m\u001b[1;33m\u001b[0m\u001b[0m\n\u001b[0m",
      "\u001b[1;31mTypeError\u001b[0m: unsupported operand type(s) for ** or pow(): 'list' and 'int'"
     ]
    }
   ],
   "source": [
    "x = list(range(1, 11))\n",
    "print(x)\n",
    "x**2"
   ]
  },
  {
   "cell_type": "code",
   "execution_count": null,
   "metadata": {},
   "outputs": [],
   "source": [
    "# x = list(range(1,11))\n",
    "\n",
    "# squares = []\n",
    "\n",
    "# for value in x:\n",
    "#     squares.append(value**2) #this appends the current value of x^2 to the list \"squares\"\n",
    "\n",
    "# print(squares)\n",
    "# type(squares)"
   ]
  },
  {
   "cell_type": "code",
   "execution_count": 20,
   "metadata": {},
   "outputs": [
    {
     "name": "stdout",
     "output_type": "stream",
     "text": [
      "[1, 4, 9, 16, 25, 36, 49, 64, 81, 100]\n"
     ]
    },
    {
     "data": {
      "text/plain": [
       "list"
      ]
     },
     "execution_count": 20,
     "metadata": {},
     "output_type": "execute_result"
    }
   ],
   "source": [
    "x = list(range(1, 11))\n",
    "squares = []\n",
    "for value in x:\n",
    "    squares.append(value**2)\n",
    "print(squares)\n",
    "type(squares)"
   ]
  },
  {
   "cell_type": "code",
   "execution_count": null,
   "metadata": {},
   "outputs": [],
   "source": [
    "# x = list(range(1,11))\n",
    "# squares = [value**2 for value in x] \n",
    "# print(squares)\n",
    "# type(squares)  #Notice: a comprehension will always return a list."
   ]
  },
  {
   "cell_type": "code",
   "execution_count": 21,
   "metadata": {},
   "outputs": [
    {
     "name": "stdout",
     "output_type": "stream",
     "text": [
      "[1, 4, 9, 16, 25, 36, 49, 64, 81, 100]\n"
     ]
    }
   ],
   "source": [
    "x = list(range(1, 11))\n",
    "\n",
    "squares = [value**2 for value in x]\n",
    "print(squares)"
   ]
  },
  {
   "cell_type": "code",
   "execution_count": null,
   "metadata": {},
   "outputs": [],
   "source": []
  },
  {
   "cell_type": "markdown",
   "metadata": {},
   "source": [
    "### Using a list comprehension to \"broadcast\" the VPFR function"
   ]
  },
  {
   "cell_type": "code",
   "execution_count": null,
   "metadata": {},
   "outputs": [],
   "source": [
    "# XA = np.linspace(0, 0.9, 100)\n",
    "# order = 1\n",
    "\n",
    "# ##This is the list comprehension; I'm solving the PFR volume for every XA in XA above\n",
    "# V = [VPFR(value, order) for value in XA]\n",
    "# print(type(V))\n",
    "\n",
    "# ##Remember: a comprehension will always return a list of entries.  \n",
    "# ##I am partial to numpy arrays, so I convert the list to a numpy array below\n",
    "# V = np.array(V)\n",
    "# print(type(V))\n",
    "\n",
    "# plt.figure(1, figsize = (5,5))\n",
    "# plt.plot(XA, V, color = 'blue', label = 'PFR Volume')\n",
    "# plt.xlim(0, 1)\n",
    "# plt.ylim(0, max(V)*1.1)\n",
    "# plt.xlabel('XA', fontsize = 14)\n",
    "# plt.ylabel('Volume (L)', fontsize = 14)\n",
    "# plt.legend(loc = 'upper left')\n",
    "# plt.show()"
   ]
  },
  {
   "cell_type": "code",
   "execution_count": 23,
   "metadata": {},
   "outputs": [
    {
     "data": {
      "image/png": "[encoded data removed]",
      "text/plain": [
       "<Figure size 360x360 with 1 Axes>"
      ]
     },
     "metadata": {
      "needs_background": "light"
     },
     "output_type": "display_data"
    }
   ],
   "source": [
    "XA = np.linspace(0, 0.9, 100)\n",
    "order = 1\n",
    "\n",
    "V = [VPFR(value, order) for value in XA]\n",
    "VP = np.array(V)\n",
    "\n",
    "plt.figure(1, figsize = (5,5))\n",
    "plt.plot(XA, V, color = 'blue', label = 'PFR Volume')\n",
    "plt.xlim(0, 1)\n",
    "plt.ylim(0, max(V)*1.1)\n",
    "plt.xlabel('XA', fontsize = 14)\n",
    "plt.ylabel('Volume (L)', fontsize = 14)\n",
    "plt.legend(loc = 'upper left')\n",
    "plt.show()"
   ]
  },
  {
   "cell_type": "markdown",
   "metadata": {},
   "source": [
    "### Evaluating the PFR Volume for many fractional conversions and many reaction orders"
   ]
  },
  {
   "cell_type": "code",
   "execution_count": null,
   "metadata": {},
   "outputs": [],
   "source": [
    "# XA    = np.linspace(0, 0.9, 100)\n",
    "# avals = [-2, -1, 0, 1, 2]\n",
    "\n",
    "# plt.figure(1, figsize = (5,5))\n",
    "# for alpha in avals:\n",
    "#     temp   = [VPFR(value, alpha) for value in XA]\n",
    "#     V      = np.array(temp)\n",
    "#     plt.semilogy(XA, V, label = f'order is {alpha}')\n",
    "\n",
    "# plt.xlim(0,1)\n",
    "# plt.ylim(1e-2, 1e2)\n",
    "# plt.title('PFR volumes for various reaction orders')\n",
    "# plt.xlabel('XA', fontsize = 14)\n",
    "# plt.ylabel('Volume (L)', fontsize = 14)\n",
    "# plt.legend(loc = 'upper left')\n",
    "# plt.show()"
   ]
  },
  {
   "cell_type": "code",
   "execution_count": 33,
   "metadata": {},
   "outputs": [
    {
     "data": {
      "image/png": "[encoded data removed]",
      "text/plain": [
       "<Figure size 360x360 with 1 Axes>"
      ]
     },
     "metadata": {
      "needs_background": "light"
     },
     "output_type": "display_data"
    }
   ],
   "source": [
    "XA = np.linspace(0, 0.9, 100)\n",
    "order = np.array([-2.0, -1.0, 0.0, 1.0, 2.0])\n",
    "\n",
    "plt.figure(1, figsize = (5,5))\n",
    "\n",
    "for alpha_val in order:\n",
    "    V = [VPFR(value, alpha_val) for value in XA]\n",
    "    VP = np.array(V)\n",
    "    plt.semilogy(XA, VP, label = f'order is {alpha_val}')\n",
    "\n",
    "plt.xlim(0,1)\n",
    "plt.ylim(1e-2, 1e2)\n",
    "plt.title('PFR volumes for various reaction orders')\n",
    "plt.xlabel('XA', fontsize = 14)\n",
    "plt.ylabel('Volume (L)', fontsize = 14)\n",
    "plt.legend(loc = 'upper left')\n",
    "plt.show()"
   ]
  },
  {
   "cell_type": "markdown",
   "metadata": {},
   "source": [
    "### Overlaying CSTR and PFR volumes in a single plot"
   ]
  },
  {
   "cell_type": "code",
   "execution_count": 34,
   "metadata": {},
   "outputs": [
    {
     "data": {
      "image/png": "[encoded data removed]",
      "text/plain": [
       "<Figure size 360x360 with 1 Axes>"
      ]
     },
     "metadata": {
      "needs_background": "light"
     },
     "output_type": "display_data"
    }
   ],
   "source": [
    "XA    = np.linspace(0, 0.9, 100)\n",
    "avals = np.array([-2., -1., 0., 1., 2.])\n",
    "colorset = ['black', 'blue', 'red', 'green', 'magenta']\n",
    "\n",
    "plt.figure(1, figsize = (5, 5))\n",
    "\n",
    "for i, alpha in enumerate(avals):\n",
    "    VC     = VCSTR(XA, alpha)\n",
    "    temp   = [VPFR(value, alpha) for value in XA]\n",
    "    VP     = np.array(temp)\n",
    "    plt.semilogy(XA, VC, linestyle = 'dashed', color = colorset[i])\n",
    "    plt.semilogy(XA, VP, linestyle = 'solid', linewidth = 0.75, label = f'order is {alpha}', color = colorset[i])\n",
    "\n",
    "plt.xlim(0,1)\n",
    "plt.ylim(1e-2, 1e3)\n",
    "plt.title('Comparison of CSTR and PFR volumes')\n",
    "plt.xlabel('XA', fontsize = 14)\n",
    "plt.ylabel('Reactor Volume (L)', fontsize = 14)\n",
    "plt.legend(loc = 'upper left')\n",
    "plt.show()"
   ]
  }
 ],
 "metadata": {
  "kernelspec": {
   "display_name": "Python 3 (ipykernel)",
   "language": "python",
   "name": "python3"
  },
  "language_info": {
   "codemirror_mode": {
    "name": "ipython",
    "version": 3
   },
   "file_extension": ".py",
   "mimetype": "text/x-python",
   "name": "python",
   "nbconvert_exporter": "python",
   "pygments_lexer": "ipython3",
   "version": "3.9.13"
  }
 },
 "nbformat": 4,
 "nbformat_minor": 4
}
