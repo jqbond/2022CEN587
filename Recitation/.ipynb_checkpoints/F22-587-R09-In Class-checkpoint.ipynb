{
 "cells": [
  {
   "cell_type": "markdown",
   "metadata": {},
   "source": [
    "# Recitation 10\n",
    "\n",
    "During L26, we considered the idea that a reactor-with-recycle process could be used to attain high overall (process-level) conversion for reactions that are somehow limited to low single pass (once through the reactor) conversion.  The scenario we considered in class was an equilibrium-limited reaction (propane dehydrogenation), but reactor-with-recycle schemes can also be used to improve overall yields when dealing with sequential reactions.  Specifically, it allows one to operate the reactor at relatively low single-pass conversion to avoid secondary reactions, but it recycles the remainder to allow a high overall conversion."
   ]
  },
  {
   "cell_type": "code",
   "execution_count": 1,
   "metadata": {},
   "outputs": [],
   "source": [
    "import numpy as np\n",
    "import matplotlib.pyplot as plt\n",
    "import scipy.optimize as opt\n",
    "from scipy.integrate import solve_ivp\n",
    "from scipy.interpolate import interp1d"
   ]
  },
  {
   "cell_type": "markdown",
   "metadata": {},
   "source": [
    "## Problem 01: A Recap of the Propane Dehydrogenation Example\n",
    "\n",
    "Returning to the the schematic we worked with in class (Note that flowrates are relabelled with numbers 0 to 5 instead of letters):\n",
    "\n",
    "<img src=\"PFRRecycle.jpg\" width=\"700\" height=\"500\" />\n",
    "\n",
    "We will  operate the PFR at 8.2 atm and 500K, and we are feeding propane into the *process* at 10 moles per minute.  Under these conditions, we know that:\n",
    "\n",
    "\\begin{align*}\n",
    "    k_f  &= 0.7  \\ \\textrm{min}^{-1} \\\\\n",
    "    K_C &= 0.05 \\ \\textrm{mol} \\ \\textrm{L}^{-1}\\\\\t\n",
    "\\end{align*}\t\n",
    "\n",
    "1. Determine the minimum recycle ratio required to achieve an overall propylene yield of 95% during propane dehydrogenation.\n",
    "2. For this recycle ratio, determine the size of PFR required to achieve an overall propylene yield of 95%."
   ]
  },
  {
   "cell_type": "code",
   "execution_count": 1,
   "metadata": {},
   "outputs": [],
   "source": [
    "# α   = 0.96\n",
    "# XOV = 0.95\n",
    "# FA0 = 10 #mol/min\n",
    "# FA4 = FA0*(1 - XOV)\n",
    "# FA3 = FA4/(1 - α)\n",
    "# FA2 = FA3\n",
    "# FA5 = α*FA3\n",
    "# FA1 = FA0 + FA5\n",
    "# XSP = (FA1 - FA2)/FA1\n",
    "\n",
    "# labels = ['α', 'FA0', 'FA1', 'FA2', 'FA3', 'FA4', 'FA5', 'XSP', 'XOV']\n",
    "# values = [α, FA0, FA1, FA2, FA3, FA4, FA5, XSP, XOV]\n",
    "\n",
    "# for label, value in zip(labels, values):\n",
    "#     if label != 'XSP' and label != 'XOV':\n",
    "#         print(f'{label:3s} = {value:5.2f} mol/min')\n",
    "#     else:\n",
    "#         print(f'{label:s} = {value:5.4f}')"
   ]
  },
  {
   "cell_type": "markdown",
   "metadata": {},
   "source": [
    "#### Solve the PFR Balance"
   ]
  },
  {
   "cell_type": "code",
   "execution_count": 8,
   "metadata": {},
   "outputs": [],
   "source": [
    "# kf = 0.7  #1/min\n",
    "# KC = 0.05 #mol/L\n",
    "# kr = kf/KC #L/mol/min\n",
    "# T  = 500 #K\n",
    "# P  = 8.2 #atm\n",
    "# R  = 0.08206 #L*atm/mol/K"
   ]
  },
  {
   "cell_type": "code",
   "execution_count": 2,
   "metadata": {},
   "outputs": [],
   "source": [
    "# def P01(V, var, par):\n",
    "#     FA, FB, FC = var\n",
    "#     kf, kr, T, P, R = par\n",
    "    \n",
    "#     FT = FA + FB + FC\n",
    "    \n",
    "#     Q  = FT*R*T/P\n",
    "    \n",
    "#     CA = FA/Q\n",
    "#     CB = FB/Q\n",
    "#     CC = FC/Q\n",
    "    \n",
    "#     r  = kf*CA - kr*CB*CC\n",
    "    \n",
    "#     RA = -r\n",
    "#     RB =  r\n",
    "#     RC =  r\n",
    "    \n",
    "#     dA = RA\n",
    "#     dB = RB\n",
    "#     dC = RC\n",
    "    \n",
    "#     return [dA, dB, dC]"
   ]
  },
  {
   "cell_type": "code",
   "execution_count": 3,
   "metadata": {},
   "outputs": [],
   "source": [
    "# FAf = FA1 #mol/min\n",
    "# FBf = 0.0\n",
    "# FCf = 0.0\n",
    "# Vspan = (0.0, 300.0)\n",
    "# var0  = (FAf, FBf, FCf)\n",
    "# par0  = (kf, kr, T, P, R)\n",
    "# ans2  = solve_ivp(P01, Vspan, var0, args = (par0, ), atol = 1e-8, rtol =  1e-8)\n",
    "\n",
    "# V     = ans2.t\n",
    "# FA    = ans2.y[0, :]\n",
    "# FB    = ans2.y[1, :]\n",
    "# FC    = ans2.y[2, :]\n",
    "\n",
    "# XA    = (FAf - FA)/FAf\n",
    "\n",
    "# plt.figure(1, figsize = (5, 5))\n",
    "# plt.plot(V, XA)\n",
    "# plt.xlim(0.0, max(Vspan))\n",
    "# plt.xticks(fontsize = 11)\n",
    "# plt.xlabel('Volume (L)', fontsize = 14)\n",
    "# plt.ylim(0.0, 1.0)\n",
    "# plt.yticks(fontsize = 11)\n",
    "# plt.ylabel('Conversion of A', fontsize = 14)\n",
    "# plt.show(1)\n",
    "\n",
    "# itp1 = interp1d(XA, V)\n",
    "# print(f'The Volume required for a PFR single pass conversion of XA = {XSP:0.4f} is {itp1(XSP):0.0f}L')"
   ]
  },
  {
   "cell_type": "markdown",
   "metadata": {},
   "source": [
    "### This was an easy problem...\n"
   ]
  },
  {
   "cell_type": "markdown",
   "metadata": {},
   "source": [
    "## Problem 02\n",
    "\n",
    "We will use the same, very simple, very perfect recycle scheme illustrated above for this problem, but for now, we'll replace the PFR with a CSTR. \n",
    "\n",
    "<img src=\"CSTR Recycle.jpg\" width=\"700\" height=\"500\" />\n",
    "\n",
    "In order to facilitate a relatively straightforward solution, we going to run a much simpler reaction--the irreversible conversion of A into B:\n",
    "\n",
    "$$A \\longrightarrow B$$\n",
    "\n",
    "This reaction occurs in the gas phase, it has a rate constant $k = 10 \\ \\textrm{s}^{-1}$ and we run it without a diluent, i.e., we feed Pure species A into the process at a rate of 100 moles per second.  The entire process is carried out at T = 573K and P = 1.0 atm.  If the volume of the CSTR is 400L, and we recycle 50% of the unreacted species A, calculate the single pass and overall conversion of A achieved in this process.\n",
    "\n",
    "The challenge here is that we cannot easily calculate the flowrates of A coming out of the splitter, so we end up needing to solve a large system of equations simultaneously..."
   ]
  },
  {
   "cell_type": "code",
   "execution_count": 4,
   "metadata": {},
   "outputs": [],
   "source": [
    "# FA0 = 100     #moles per second\n",
    "# k   = 10      #1/sec\n",
    "# T   = 573     #K\n",
    "# P   = 1.0     #atm\n",
    "# R   = 0.08206 #L*atm/mol/K\n",
    "# V   = 400     #L\n",
    "# α   = 0.5"
   ]
  },
  {
   "cell_type": "code",
   "execution_count": 5,
   "metadata": {},
   "outputs": [],
   "source": [
    "# def P02(var, par):\n",
    "#     FA1, FA2, FA3, FA4, FA5 = var\n",
    "#     FA0, k, T, P, R, V, α = par\n",
    "        \n",
    "#     Q1  = FA1*R*T/P #volumetric flowrate into CSTR\n",
    "#     Q2  = Q1        #A --> B so Q1 = Q2\n",
    "#     CA2 = FA2/Q2    #Concentration of A in CSTR\n",
    "#     r   = k*CA2;    #rate of reaction in CSTR\n",
    "#     RA2 = -r        #Production rate of A in CSTR\n",
    "    \n",
    "#     LHS1 = FA0 + FA5 - FA1\n",
    "#     LHS2 = FA1 - FA2 + RA2*V\n",
    "#     LHS3 = FA2 - FA3\n",
    "#     LHS4 = FA3 - FA5 - FA4\n",
    "#     LHS5 = FA5 - α*FA3\n",
    "#     return [LHS1, LHS2, LHS3, LHS4, LHS5]\n",
    "\n",
    "# var_guess = (150, 50, 50, 50, 50)\n",
    "# par0 = (FA0, k, T, P, R, V, α)\n",
    "# ans2 = opt.root(P02, var_guess, args = (par0, ))\n",
    "# FA1, FA2, FA3, FA4, FA5 = ans2.x\n",
    "\n",
    "# XSP    = (FA1 - FA2)/FA1\n",
    "# XOV    = (FA0  - FA4)/FA0\n",
    "# alpha  = FA5/FA3\n",
    "# print(f'XSP = {XSP:0.3f}, XOV = {XOV:0.3f}, and α = {α:0.2f}')"
   ]
  },
  {
   "cell_type": "markdown",
   "metadata": {},
   "source": [
    "## Problem 03\n",
    "\n",
    "Now let's swap the CSTR out for a Plug Flow reactor and work through how that changes the problem.\n",
    "\n",
    "<img src=\"PFRRecycle.jpg\" width=\"700\" height=\"500\" />\n",
    "\n",
    "We'll continue with the simple reaction above:\n",
    "\n",
    "$$A \\longrightarrow B$$\n",
    "\n",
    "This problem has identicial specifications to Problem 1 otherwise. The reaction has a rate constant $k = 10 \\ \\textrm{s}^{-1}$, and we run it without a diluent. For this process, we are feeding species A in at a rate of 100 moles per second.  The entire process is carried out at T = 573K and P = 1.0 atm. If the volume of the PFR is 400L, and we recycle 50% of the unreacted species A, calculate the single pass and overall conversion of A achieved in this process.\n",
    "\n",
    "The approach is very similar to the one above in that we have a system of equations.  The additional twist from working with a PFR is that we now have to solve a differential equation in one of our unit balances..."
   ]
  },
  {
   "cell_type": "code",
   "execution_count": 15,
   "metadata": {},
   "outputs": [
    {
     "name": "stdout",
     "output_type": "stream",
     "text": [
      "XSP = 0.463, XOV = 0.633, and α = 0.50\n"
     ]
    }
   ],
   "source": [
    "# def P03(var, par):\n",
    "#     FA1, FA2, FA3, FA4, FA5 = var\n",
    "#     FA0, k, T, P, R, V, α = par\n",
    "    \n",
    "#     Q1  = FA1*R*T/P;\n",
    "       \n",
    "#     LHS1 = FA0 + FA5 - FA1\n",
    "#     LHS2 = FA2 - FA1*np.exp(-k/Q1*V)\n",
    "#     LHS3 = FA2 - FA3\n",
    "#     LHS4 = FA3 - FA5 - FA4\n",
    "#     LHS5 = FA5 - α*FA3\n",
    "#     return [LHS1, LHS2, LHS3, LHS4, LHS5]\n",
    "\n",
    "# var_guess = (150, 50, 50, 50, 50)\n",
    "# par0 = (FA0, k, T, P, R, V, α)\n",
    "# ans3 = opt.root(P03, var_guess, args = (par0, ))\n",
    "# FA1, FA2, FA3, FA4, FA5 = ans3.x\n",
    "\n",
    "# XSP    = (FA1 - FA2)/FA1\n",
    "# XOV    = (FA0  - FA4)/FA0\n",
    "# alpha  = FA5/FA3\n",
    "# print(f'XSP = {XSP:0.3f}, XOV = {XOV:0.3f}, and α = {α:0.2f}')"
   ]
  },
  {
   "cell_type": "markdown",
   "metadata": {},
   "source": [
    "## Problem 04\n",
    "\n",
    "For the above case, things aren't so bad because we have first order kinetics and a constant volumetric flowrate, which means that we can solve the differential equation (balance on the PFR) analytically and just replace the algebraic equation from our CSTR system with one that describes the PFR.\n",
    "\n",
    "What happens if we have to deal with more difficult kinetics?  For this example, we'll stick with the simple reaction:\n",
    "\n",
    "$$A \\longrightarrow B$$\n",
    "\n",
    "But we'll say that it has the rate law below:\n",
    "\n",
    "$$r = \\frac{kC_A}{1+KC_A}$$\n",
    "\n",
    "Where $k = 10 \\ \\textrm{s}^{-1}$ as before and $K = 17.5 \\ \\textrm{mol} \\ \\textrm{L}^{-1}$.  Otherwise, the problem is identical. For this process, we are feeding species A in at a rate of 100 moles per second.  The entire process is carried out at T = 573K and P = 1.0 atm. If the volume of the PFR is 400L, and we recycle 50% of the unreacted species A, calculate the single pass and overall conversion of A achieved in this process.\n",
    "\n",
    "We still need to solve a system of algebraic equations as above, but the catch now is that the differential equation that describes the PFR balance is much more difficult to solve.  In fact, I don't know an analytical solution offhand, so we have to use numerical methods to integrate it.  For this solution, we'll use `solve_ivp()` because it is relatively easy to implement a Runge-Kutta method here since we know the upper limit of integration (V = 400L). \n",
    "\n",
    "<br>\n",
    "<br>\n",
    "<br>\n",
    "<center><div style=\"font-size: 75px;\"> &#129327;</div></center> \n",
    "<br>\n",
    "<br>"
   ]
  },
  {
   "cell_type": "code",
   "execution_count": 6,
   "metadata": {},
   "outputs": [],
   "source": [
    "# FA0 = 100     #moles per second\n",
    "# k   = 10      #1/sec\n",
    "# T   = 573     #K\n",
    "# P   = 1.0     #atm\n",
    "# R   = 0.08206 #L*atm/mol/K\n",
    "# V   = 400     #L\n",
    "# α   = 0.5\n",
    "# K   = 17.5    #mol/L"
   ]
  },
  {
   "cell_type": "code",
   "execution_count": 8,
   "metadata": {},
   "outputs": [],
   "source": [
    "# def P04(var, par):\n",
    "#     FA1, FA2, FA3, FA4, FA5 = var\n",
    "#     FA0, k, T, P, R, V, α, K = par\n",
    "    \n",
    "#     Q1  = FA1*R*T/P\n",
    "    \n",
    "#     vspan = (0, V)\n",
    "#     var0  = FA1\n",
    "#     par0  = (k, K, Q1)\n",
    "#     ans   = solve_ivp(odemodel, vspan, [var0], args = (par0, ))\n",
    "#     FPFR  = ans.y[0,-1]\n",
    "      \n",
    "#     LHS1 = FA0 + FA5 - FA1\n",
    "#     LHS2 = FA2 - FPFR\n",
    "#     LHS3 = FA2 - FA3\n",
    "#     LHS4 = FA3 - FA5 - FA4\n",
    "#     LHS5 = FA5 - α*FA3\n",
    "#     return [LHS1, LHS2, LHS3, LHS4, LHS5]\n",
    "\n",
    "# def odemodel(vol, var, par):\n",
    "#     FA = var\n",
    "#     k, K, Q1 = par\n",
    "#     CA = FA/Q1\n",
    "#     D   = -k*CA/(1 + K*CA)\n",
    "#     return D\n",
    "\n",
    "# var_guess = (150, 50, 50, 50, 50)\n",
    "# par0 = (FA0, k, T, P, R, V, α, K)\n",
    "# ans4 = opt.root(P04, var_guess, args = (par0, ))\n",
    "# FA1, FA2, FA3, FA4, FA5 = ans4.x\n",
    "\n",
    "# XSP    = (FA1 - FA2)/FA1\n",
    "# XOV    = (FA0  - FA4)/FA0\n",
    "# alpha  = FA5/FA3\n",
    "# print(f'XSP = {XSP:0.3f}, XOV = {XOV:0.3f}, and α = {α:0.2f}')"
   ]
  }
 ],
 "metadata": {
  "kernelspec": {
   "display_name": "Python 3 (ipykernel)",
   "language": "python",
   "name": "python3"
  },
  "language_info": {
   "codemirror_mode": {
    "name": "ipython",
    "version": 3
   },
   "file_extension": ".py",
   "mimetype": "text/x-python",
   "name": "python",
   "nbconvert_exporter": "python",
   "pygments_lexer": "ipython3",
   "version": "3.9.13"
  }
 },
 "nbformat": 4,
 "nbformat_minor": 4
}
