{
 "cells": [
  {
   "cell_type": "markdown",
   "metadata": {},
   "source": [
    "# Recitation 11\n",
    "\n",
    "Relatively advanced problems in optimization...nonlinear regression"
   ]
  },
  {
   "cell_type": "code",
   "execution_count": 1,
   "metadata": {},
   "outputs": [],
   "source": [
    "import numpy as np\n",
    "import matplotlib.pyplot as plt\n",
    "import scipy.optimize as opt\n",
    "from scipy.integrate import solve_ivp"
   ]
  },
  {
   "cell_type": "markdown",
   "metadata": {},
   "source": [
    "## Nonlinear Least Squares Recap:\n",
    "\n",
    "We should have a feel for how useful least squares analysis can be at this point.  We've done this quite a bit using both linear and nonlinear least squares to find rate laws and/or kinetic parameters (rate constants, activation barriers, etc.).\n",
    "\n",
    "The main problem with kinetic analysis is that, although we usually have a single equation that describes the performance of our reactor, like the solution below for a first order reaction in a constant volume batch reactor:\n",
    "\n",
    "$$C_A = C_{A0}e^{-kt}$$\n",
    "\n",
    "We always have 10 or 20 or 50 data points to work with.  That means we would like to satisfy the above equation at all of those data points...but we can't!  Experimental errors mean that there is no unique solution to this problem.  Instead, we have to find the *best* values of the parameters of interest.  In our context, the *best* value is the one that minimizes the total sum of square errors between our measurement and our model's prediction.\n",
    "\n",
    "$$SSE = \\sum_k(y_k - \\hat{y}_k)^2$$\n",
    "\n",
    "Knowing how to solve least squares problems is extremely useful.  This is basically how we approach trying to find the \"best\" value of a variable parameter in all sorts of models.  No matter what problem you are trying to solve, the method behind nonlinear least squares is always the same:\n",
    "\n",
    "1. Propose a model that includes your variable parameters (e.g., a rate constant or reaction order)\n",
    "2. Use that model to calculate the value of your measurable quantity at each experimental condition (e.g., a concentration at a specific time)\n",
    "3. Calculate the square error between your measurement and the value predicted by your model\n",
    "4. Sum the square errors for each data point.\n",
    "5. Use an iterative solver to vary the parameters of interest until the sum of square errors is at a minimum.\n",
    "\n",
    "Learn these principles, and learn how to apply them.  You will find them useful in numerous situations.  We'll apply them to kinetic analysis today, but they are extremely, extremely useful!!!\n",
    "\n",
    "<div class = \"alert alert-block alert-info\">\n",
    "**Note**: Although Linear regression methods are extremely useful and often preferential, sometimes it is not possible to linearize a problem, so we will get some extra practice with nonlinear regression today and avoid using linear algebra solutions or LINEST."
   ]
  },
  {
   "cell_type": "markdown",
   "metadata": {},
   "source": [
    "<span style=\"font-family:Times New Roman; font-size:1.5em;\">**Problem 1**</span>\n",
    "\n",
    "We'll refresh  with a problem we've solved before class, which is finding the rate constant for the following reaction:\n",
    "\n",
    "$$A \\longrightarrow B$$\n",
    "\n",
    "For this experiment, we use a constant volume batch reactor, and we know a few things about the reaction.  First, the rate of reaction is first order in species A.  Second, the rate is independent of the concentration of B. Based on the above, we write the following rate law:\n",
    "\n",
    "$$r = kC_A$$\n",
    "\n",
    "Finally, the concentration of A at the start of the experiment was quantified very precisely.  We know that it is equal to 15 moles per liter.  Then:\n",
    "\n",
    "$$C_{A0} = 15 \\ \\textrm{mol} \\ \\textrm{L}^{-1}$$\n",
    "\n",
    "Otherwise, the only information that we have is that we measured the concentration of the reactant (A) as it disappears over time in the reactor.  The data is compiled in a separate CSV files, t1 and C1, which we will learn how to load and convert to a numpy array in the cell below."
   ]
  },
  {
   "cell_type": "code",
   "execution_count": 144,
   "metadata": {},
   "outputs": [],
   "source": [
    "# import csv\n",
    "\n",
    "# #Load Experimental Times; convert to 1D numpy array\n",
    "# file = open(\"t1.csv\")\n",
    "# csvreader = csv.reader(file)\n",
    "# rows = []\n",
    "# for row in csvreader:\n",
    "#      rows.append(row)\n",
    "# file.close()\n",
    "# t1 = np.array(rows, dtype = 'float').reshape(len(rows),)\n",
    "\n",
    "# #Load Experimental Concentrations; convert to 1D numpy array\n",
    "# file = open(\"C1.csv\")\n",
    "# csvreader = csv.reader(file)\n",
    "# rows = []\n",
    "# for row in csvreader:\n",
    "#      rows.append(row)\n",
    "# file.close()\n",
    "# C1 = np.array(rows, dtype = 'float').reshape(len(rows),)"
   ]
  },
  {
   "cell_type": "code",
   "execution_count": 143,
   "metadata": {},
   "outputs": [],
   "source": [
    "# #Plot Data\n",
    "# plt.scatter(t1, C1, label = 'Experimental CA')\n",
    "# plt.xlabel('time (min)')\n",
    "# plt.ylabel('CA (mol/L)')\n",
    "# plt.xlim(0, 70)\n",
    "# plt.ylim(0, 15)\n",
    "# plt.legend()\n",
    "# plt.show()"
   ]
  },
  {
   "cell_type": "markdown",
   "metadata": {},
   "source": [
    "We know that this is a first order reaction in a constant volume batch reactor.  An appropriate material balance to model this system is:\n",
    "\n",
    "$$\\frac{dC_A}{dt} = -kC_A$$\n",
    "\n",
    "And we know how to solve this analytically to get:\n",
    "\n",
    "$$C_A = C_{A0}\\exp(-kt)$$\n",
    "\n",
    "So we have a nonlinear model.  We can overlay that model with a guess at the rate constant and see how well it agrees with our data."
   ]
  },
  {
   "cell_type": "code",
   "execution_count": 142,
   "metadata": {},
   "outputs": [],
   "source": [
    "# CA0   = 15.0  #mol/L\n",
    "# k     = 0.03  #1/min\n",
    "# tmod  = np.linspace(0, max(t1), 100)\n",
    "# CAmod = CA0*np.exp(-k*tmod) \n",
    "# plt.scatter(t1, C1, label = 'Experimental CA')\n",
    "# plt.plot(tmod, CAmod, label = 'Model Pred. for CA', color = 'black', linestyle = 'dashed')\n",
    "# plt.xlabel('time (min)')\n",
    "# plt.ylabel('CA (mol/L)')\n",
    "# plt.xlim(0, 70)\n",
    "# plt.ylim(0, 15)\n",
    "# plt.legend()\n",
    "# plt.show()"
   ]
  },
  {
   "cell_type": "markdown",
   "metadata": {},
   "source": [
    "**Using an optimization routine**\n",
    "\n",
    "As usual, we can do much better by creating an objective function and minimizing it with an optimization routine.  Here, we'll create an objective function that calculates our sum of squares as a function of our variable parameter (the rate constant), and we'll use opt.minimize_scaler to find the \"best\" value of the rate constant, i.e., the one that minimizes the error between our model predictions and our measurments."
   ]
  },
  {
   "cell_type": "code",
   "execution_count": 141,
   "metadata": {},
   "outputs": [],
   "source": [
    "# def obj1(par):\n",
    "#     k     = par \n",
    "#     texp  = t1 \n",
    "#     CAexp = C1 \n",
    "    \n",
    "#     CA0   = 15.0  #mol/L\n",
    "#     CAmod = CA0*np.exp(-k*texp)  #mol/L\n",
    "    \n",
    "#     SSE = np.sum(((CAexp - CAmod)/CAexp)**2) \n",
    "#     return SSE\n",
    "\n",
    "# ans1  = opt.minimize_scalar(obj1, method = 'Brent', bracket = [0.001, 1])\n",
    "# k_opt = ans1.x\n",
    "# SSE   = ans1.fun\n",
    "# print(ans1, '\\n')\n",
    "# print(f'The optimum rate constant is {k_opt:3.3f} 1/min with a SSE value of {SSE}')"
   ]
  },
  {
   "cell_type": "markdown",
   "metadata": {},
   "source": [
    "Now that we know the optimum value of the rate constant, we can overlay the model with our measurments and see how well it does.  It is good to get in the habit of looking at the raw residual error as it gives you an idea of whether your measurements are randomly scattered about the best fit line, or if there is systematic deviation.  We'll calculate that quanity and plot it as a function of each measurement's concentration."
   ]
  },
  {
   "cell_type": "code",
   "execution_count": 140,
   "metadata": {},
   "outputs": [],
   "source": [
    "# CA0   = 15.0  #mol/L\n",
    "# k     = 1  #1/min\n",
    "# tmod  = np.linspace(0, max(t1), 100)\n",
    "# CAmod = CA0*np.exp(-k_opt*tmod)\n",
    "# resid = CA0*np.exp(-k_opt*t1) - C1\n",
    "\n",
    "# #overlay best fit model with measurements\n",
    "# plt.figure(1)\n",
    "# plt.scatter(t1, C1, label = 'Experimental CA')\n",
    "# plt.plot(tmod, CAmod, label = 'Model Pred. for CA', color = 'black', linestyle = 'dashed')\n",
    "# plt.xlabel('time (min)')\n",
    "# plt.ylabel('CA (mol/L)')\n",
    "# plt.xlim(0, 70)\n",
    "# plt.ylim(0, 15)\n",
    "# plt.legend()\n",
    "\n",
    "# #plot residual errors\n",
    "# plt.figure(2)\n",
    "# plt.scatter(C1, resid)\n",
    "# plt.xlabel('Concentration (mol/L)')\n",
    "# plt.ylabel('residual error')\n",
    "# plt.show()"
   ]
  },
  {
   "cell_type": "markdown",
   "metadata": {},
   "source": [
    "<span style=\"font-family:Times New Roman; font-size:1.5em;\">**Problem 2**</span>\n",
    "\n",
    "The two following reactions occur in a constant volume batch reactor:\n",
    "\n",
    "\\begin{align}\n",
    "    2A + B \\longrightarrow C \\\\\n",
    "    B  + 2C \\longrightarrow D \\\\\n",
    "\\end{align}\n",
    "\n",
    "Both reactions follow an elementary rate law; however, we do not know either of the rate constants (k$_1$ and k$_2$), so we attempt to estimate them from data collected in our constant volume batch reactor.  The data (time in minutes and concentrations of A, B, C, and D in moles per liter) are included in the CSV files t2 and C2.\n",
    "\n",
    "The initial concentrations of species A and B are 25 and 20 moles per liter, respectively.  The initial concentrations of C and D are both zero."
   ]
  },
  {
   "cell_type": "code",
   "execution_count": 139,
   "metadata": {},
   "outputs": [],
   "source": [
    "# #Load Experimental Times; convert to 1D numpy array\n",
    "# file = open(\"t2.csv\")\n",
    "# csvreader = csv.reader(file)\n",
    "# rows = []\n",
    "# for row in csvreader:\n",
    "#      rows.append(row)\n",
    "# file.close()\n",
    "# t2 = np.array(rows, dtype = 'float').reshape(len(rows),)\n",
    "\n",
    "# #Load Experimental Concentrations; convert to 1D numpy array\n",
    "# file = open(\"C2.csv\")\n",
    "# csvreader = csv.reader(file)\n",
    "# rows = []\n",
    "# for row in csvreader:\n",
    "#      rows.append(row)\n",
    "# file.close()\n",
    "# C2 = np.array(rows, dtype = 'float')"
   ]
  },
  {
   "cell_type": "markdown",
   "metadata": {},
   "source": [
    "Plot the data to get a feel for what we're working with."
   ]
  },
  {
   "cell_type": "code",
   "execution_count": 138,
   "metadata": {},
   "outputs": [],
   "source": [
    "# plt.plot(t2, C2, marker = 'o', markerfacecolor = 'none', linestyle = 'none')\n",
    "# plt.xlabel('time (min)')\n",
    "# plt.ylabel('Concentration (mol/L)')\n",
    "# plt.xlim(0, 70)\n",
    "# plt.ylim(0, 30)\n",
    "# plt.legend(['CA', 'CB', 'CC', 'CD'])\n",
    "# plt.show()"
   ]
  },
  {
   "cell_type": "markdown",
   "metadata": {},
   "source": [
    "When we move toward the least squares analysis, we run into an issue: we can't solve this reactor model analytically as we would with a normal \"integral analysis\" method.  We have to integrate it numerically.  This gets a little more tricky in terms of the code.  First, let's just remember how we would solve this problem in general by solving a constant volume batch reactor for values of k1 and k2 that we will just guess."
   ]
  },
  {
   "cell_type": "code",
   "execution_count": 137,
   "metadata": {},
   "outputs": [],
   "source": [
    "# def P2a(t, var):\n",
    "#     CA = var[0]\n",
    "#     CB = var[1]\n",
    "#     CC = var[2]\n",
    "#     CD = var[3]\n",
    "    \n",
    "#     k1 = 0.05\n",
    "#     k2 = 0.05\n",
    "    \n",
    "#     r1 = k1*CA**2*CB\n",
    "#     r2 = k2*CB*CC**2\n",
    "    \n",
    "#     RA = -2*r1\n",
    "#     RB = -1*r1 - 1*r2\n",
    "#     RC =  1*r1 - 2*r2\n",
    "#     RD =  0*r1 + 1*r2\n",
    "    \n",
    "#     D1 = RA\n",
    "#     D2 = RB\n",
    "#     D3 = RC\n",
    "#     D4 = RD\n",
    "#     return [D1, D2, D3, D4]\n",
    "\n",
    "# C0     = [25, 20, 0, 0] #mol/L\n",
    "# tspan  = (0, max(t2))\n",
    "# ans2a  = solve_ivp(P2a, tspan, C0, atol = 1e-8, rtol = 1e-8)\n",
    "\n",
    "# plt.plot(t2, C2, marker = 'o', markerfacecolor = 'none', linestyle = 'none')\n",
    "# plt.plot(ans2a.t, ans2a.y.T, color = 'black', linestyle = 'dashed', linewidth = 1)\n",
    "# # plt.semilogx(t2, C2, marker = 'o', markerfacecolor = 'none', linestyle = 'none')\n",
    "# # plt.semilogx(ans2a.t, ans2a.y.T, color = 'black', linestyle = 'dashed', linewidth = 1)\n",
    "# plt.xlabel('time (min)')\n",
    "# plt.ylabel('Concentration (mol/L)')\n",
    "# plt.xlim(0, 70)\n",
    "# plt.ylim(0, 30)\n",
    "# plt.legend(['CA', 'CB', 'CC', 'CD'])\n",
    "# plt.show()"
   ]
  },
  {
   "cell_type": "markdown",
   "metadata": {},
   "source": [
    "But we have to be thinking more flexibly.  We need to not be setting the rate constants ourselves, but allowing an optimization routine to iteratively vary them.  We'll work through this in a couple of steps.  First, let's convert our ODE system for the batch reactor so that it will accept parameters as arguments; this will make it much easier for us to set their values to try new combinations."
   ]
  },
  {
   "cell_type": "code",
   "execution_count": 136,
   "metadata": {},
   "outputs": [],
   "source": [
    "# def P2b(t, var, par):\n",
    "#     CA = var[0]\n",
    "#     CB = var[1]\n",
    "#     CC = var[2]\n",
    "#     CD = var[3]\n",
    "    \n",
    "#     k1 = par[0]\n",
    "#     k2 = par[1]\n",
    "    \n",
    "#     r1 = k1*CA**2*CB\n",
    "#     r2 = k2*CB*CC**2\n",
    "    \n",
    "#     RA = -2*r1\n",
    "#     RB = -1*r1 - 1*r2\n",
    "#     RC =  1*r1 - 2*r2\n",
    "#     RD =  0*r1 + 1*r2\n",
    "    \n",
    "#     D1 = RA\n",
    "#     D2 = RB\n",
    "#     D3 = RC\n",
    "#     D4 = RD\n",
    "#     return [D1, D2, D3, D4]\n",
    "\n",
    "# C0     = [25, 20, 0, 0] #mol/L\n",
    "# tspan  = (0, max(t2))\n",
    "# par    = [0.05, 0.05]\n",
    "# dfun   = lambda t, var: P2b(t, var, par)\n",
    "# ans2b  = solve_ivp(dfun, tspan, C0, atol = 1e-8, rtol = 1e-8)\n",
    "\n",
    "# plt.plot(t2, C2, marker = 'o', markerfacecolor = 'none', linestyle = 'none')\n",
    "# plt.plot(ans2b.t, ans2b.y.T, color = 'black', linestyle = 'dashed', linewidth = 1)\n",
    "# # plt.semilogx(t2, C2, marker = 'o', markerfacecolor = 'none', linestyle = 'none')\n",
    "# # plt.semilogx(ans2b.t, ans2b.y.T, color = 'black', linestyle = 'dashed', linewidth = 1)\n",
    "# plt.xlabel('time (min)')\n",
    "# plt.ylabel('Concentration (mol/L)')\n",
    "# plt.xlim(0, 70)\n",
    "# plt.ylim(0, 30)\n",
    "# plt.legend(['CA', 'CB', 'CC', 'CD'])\n",
    "# plt.show()"
   ]
  },
  {
   "cell_type": "markdown",
   "metadata": {},
   "source": [
    "Now, we can use that model along with the ODE solver to calculate the residual sum of squares between the model and measurments.  We'll do this first as a demo, and then we'll convert it into an objective function"
   ]
  },
  {
   "cell_type": "code",
   "execution_count": 135,
   "metadata": {},
   "outputs": [],
   "source": [
    "# texp   = t2\n",
    "# Cexp   = C2\n",
    "# C0     = [25, 20, 0, 0] #mol/L\n",
    "# tspan  = (0, max(t2))\n",
    "\n",
    "# par0    = [0.05, 0.05]\n",
    "# dfun    = lambda t, var: P2b(t, var, par0)\n",
    "# ans2c   = solve_ivp(dfun, tspan, C0, atol = 1e-8, rtol = 1e-8, t_eval = texp)\n",
    "# Cmod    = ans2c.y.T\n",
    "# # print(Cexp)\n",
    "# # print(Cmod)\n",
    "\n",
    "# SQERROR = ((Cexp[1:] - Cmod[1:]))**2\n",
    "# # print(SQERROR.shape)\n",
    "# # print(SQERROR.flatten().shape)\n",
    "# SSE     = np.sum(SQERROR.flatten())\n",
    "# print(SSE)"
   ]
  },
  {
   "cell_type": "markdown",
   "metadata": {},
   "source": [
    "Now that we have an understanding of how we could use a numerical solution to generate model predictions at various experimental times, we can embed this in an objective function."
   ]
  },
  {
   "cell_type": "code",
   "execution_count": 134,
   "metadata": {},
   "outputs": [],
   "source": [
    "# def obj2(par):\n",
    "#     texp   = t2\n",
    "#     Cexp   = C2\n",
    "#     C0     = [25, 20, 0, 0] #mol/L\n",
    "#     tspan  = (0, max(t2))\n",
    "\n",
    "#     dfun    = lambda t, var: P2b(t, var, par)\n",
    "#     ans2    = solve_ivp(dfun, tspan, C0, atol = 1e-8, rtol = 1e-8, t_eval = texp)\n",
    "#     Cmod    = ans2.y.T\n",
    "    \n",
    "#     SQERROR = ((Cexp[1:] - Cmod[1:]))**2 \n",
    "#     SSE     = np.sum(SQERROR.flatten())\n",
    "#     return SSE\n",
    "\n",
    "# par0  = [0.05, 0.05]\n",
    "# #ans2d = opt.minimize(obj2, par0)\n",
    "# bnds  = ((0, None), (0, None))\n",
    "# ans2d = opt.minimize(obj2, par0, method = 'L-BFGS-B', bounds = bnds)\n",
    "# print(ans2d, '\\n')\n",
    "# k1_opt, k2_opt = ans2d.x\n",
    "# par_opt = ans2d.x\n",
    "# SSE   = ans2d.fun\n",
    "# print(f'The optimum rates constant are k1 = {k1_opt:3.3E} and k2 = {k2_opt:3.3E} giving an SSE value of {SSE:3.3f}')"
   ]
  },
  {
   "cell_type": "code",
   "execution_count": 132,
   "metadata": {},
   "outputs": [],
   "source": [
    "# dfun   = lambda t, var: P2b(t, var, par_opt)\n",
    "# ans2e  = solve_ivp(dfun, tspan, C0, atol = 1e-8, rtol = 1e-8, t_eval = t2)\n",
    "# resid  = (C2 - ans2e.y.T)\n",
    "# nexp   = len(t2)\n",
    "# expn   = np.linspace(0, nexp, nexp)\n",
    "\n",
    "# plt.figure(1)\n",
    "# plt.plot(t2, C2, marker = 'o', markerfacecolor = 'none', linestyle = 'none')\n",
    "# plt.plot(ans2e.t, ans2e.y.T, color = 'black', linestyle = 'dashed', linewidth = 1)\n",
    "# #plt.semilogx(t2, C2, marker = 'o', markerfacecolor = 'none', linestyle = 'none')\n",
    "# #plt.semilogx(ans2e.t, ans2e.y.T, color = 'black', linestyle = 'dashed', linewidth = 1)\n",
    "# plt.xlabel('time (min)')\n",
    "# plt.ylabel('Concentration (mol/L)')\n",
    "# plt.xlim(0, 70)\n",
    "# plt.ylim(0, 30)\n",
    "# plt.legend(['CA', 'CB', 'CC', 'CD'])\n",
    "\n",
    "# plt.figure(2)\n",
    "# plt.plot(expn, resid, marker = 'o', markerfacecolor = 'none', linestyle = 'none')\n",
    "# plt.xlabel('Measurement Number')\n",
    "# plt.ylabel('residual error')\n",
    "# plt.legend(['error in CA', 'error in CB', 'error in CC', 'error in CD'], loc = 'lower right')\n",
    "# plt.show()"
   ]
  },
  {
   "cell_type": "code",
   "execution_count": 133,
   "metadata": {},
   "outputs": [],
   "source": [
    "# parity = [1e-7, 30]\n",
    "# plt.plot(C2, ans2e.y.T, marker = 'o', markerfacecolor = 'none', linestyle = 'none')\n",
    "# plt.plot(parity, parity, color = 'black', linestyle = 'dashed', linewidth = 1)\n",
    "# #plt.loglog(C2, ans2e.y.T, marker = 'o', markerfacecolor = 'none', linestyle = 'none')\n",
    "# #plt.loglog(parity, parity, color = 'black', linestyle = 'dashed', linewidth = 1)"
   ]
  },
  {
   "cell_type": "markdown",
   "metadata": {},
   "source": [
    "<span style=\"font-family:Times New Roman; font-size:1.5em;\">**Problem 3**</span>\n",
    "\n",
    "Now for an analysis that is actually representative of the type of work we do in our research group.  We will start with a reaction:\n",
    "\n",
    "$$A + B\\longrightarrow C$$\n",
    "\n",
    "For which we have collected a lot of kinetic data.  Specifically, we have estimated rates of reaction by measuring the effluent flowrate of species C in a differential plug flow reactor having a volume of 1.0L.  For this case study, we measured rates of reaction at various concentrations of A, concentrations of B, and reaction temperature. Eventually, we'll consider the full data set, but for right now, let's just look at data collected at 573K.  This is saved in the DATA1 file included with this worksheet.\n",
    "\n",
    "Load the rate data obtained at 573K. In this data set, concentrations of A (Column 1) and B (Column 2) are in moles per liter, temperature (Column 3) is in Kelvin, and the rate of reaction (Column 4) is in moles per liter per minute.\n",
    "\n",
    "Analyze to determine the reaction orders in A and B; propose a rate law that is consistent with this behavior.\n"
   ]
  },
  {
   "cell_type": "code",
   "execution_count": 130,
   "metadata": {},
   "outputs": [],
   "source": [
    "# #Load Experimental Times; convert to 1D numpy array\n",
    "# file = open(\"DATA1.csv\")\n",
    "# csvreader = csv.reader(file)\n",
    "# rows = []\n",
    "# for row in csvreader:\n",
    "#      rows.append(row)\n",
    "# file.close()\n",
    "# DATA1 = np.array(rows, dtype = 'float')\n",
    "# print(DATA1)\n",
    "# EXP1  = DATA1[0:17, :]\n",
    "# EXP2  = DATA1[17:,:]\n",
    "\n",
    "# CA1  = EXP1[:,0]\n",
    "# CB1  = EXP1[:,1]\n",
    "# T1   = EXP1[:,2]\n",
    "# r1   = EXP1[:,3]\n",
    "\n",
    "# CA2  = EXP2[:,0]\n",
    "# CB2  = EXP2[:,1]\n",
    "# T2   = EXP2[:,2]\n",
    "# r2   = EXP2[:,3]"
   ]
  },
  {
   "cell_type": "code",
   "execution_count": 129,
   "metadata": {},
   "outputs": [],
   "source": [
    "# plt.figure(1)\n",
    "# plt.loglog(CA1, r1, marker = 'o', markerfacecolor = 'none', linestyle = 'none')\n",
    "# plt.title('Rate of reaction vs. CA')\n",
    "# plt.xlabel('Concentration of A (mol/L)')\n",
    "# plt.ylabel('Rate of Reaction (mol/L/min)')\n",
    "# plt.show()\n",
    "\n",
    "# plt.figure(2)\n",
    "# plt.loglog(CB2, r2, marker = 'o', markerfacecolor = 'none', linestyle = 'none')\n",
    "# plt.title('Rate of reaction vs. CB')\n",
    "# plt.xlabel('Concentration of A (mol/L)')\n",
    "# plt.ylabel('Rate of Reaction (mol/L/min)')\n",
    "# plt.show()"
   ]
  },
  {
   "cell_type": "code",
   "execution_count": 128,
   "metadata": {},
   "outputs": [],
   "source": [
    "# coeffs1low  = np.polyfit(np.log(CA1[0:3]), np.log(r1[0:3]), 1)\n",
    "# coeffs2low  = np.polyfit(np.log(CB2[0:3]), np.log(r2[0:3]), 1)\n",
    "# coeffs1high = np.polyfit(np.log(CA1[-4:]), np.log(r1[-4:]), 1)\n",
    "# coeffs2high = np.polyfit(np.log(CB2[-4:]), np.log(r2[-4:]), 1)\n",
    "\n",
    "# a_low  = coeffs1low[0]\n",
    "# a_high = coeffs1high[0]\n",
    "# b_low  = coeffs2low[0]\n",
    "# b_high = coeffs2high[0]\n",
    "\n",
    "# print(a_low, a_high, '\\n')\n",
    "# print(b_low, b_high)"
   ]
  },
  {
   "cell_type": "markdown",
   "metadata": {},
   "source": [
    "<span style=\"font-family:Times New Roman; font-size:1.5em;\">**Problem 4**</span>\n",
    "\n",
    "We propose this rate law describes the kinetcs observed:\n",
    "\n",
    "$$r = \\frac{kC_A{C_B}^2}{(1 + K_AC_A + K_BC_B)^2}$$\n",
    "\n",
    "Now that we've established a plausible rate law that describes these kinetics, we can try to regress our parameters using least squares.  Our steps, as always:\n",
    "\n",
    "1. We propose a model\n",
    "2. We use that model to calculate a prediction at every experimental condition\n",
    "3. We calculate the error (residual, square error) between prediction and measurement\n",
    "4. We make a good guess as to the initial values of our parameters\n",
    "5. We use an iterative algorithm to minimize the sum of square error by varying those parameters.\n",
    "\n",
    "To help stabilize our parameter estimation, we will assume we know the Arrhenius pre-exponential factor:\n",
    "\n",
    "$$A = 1\\times 10^{18} \\ \\textrm{L}^{2} \\ \\textrm{mol}^{-2} \\ \\textrm{min}^{-1}$$\n",
    "\n",
    "We will use this pre-factor to calculate a rate constant:\n",
    "\n",
    "$$k = Ae^{\\frac{-EA}{RT}}$$\n",
    "\n",
    "Let's start just by building the model and using a set of parameter values that we guess and see how it compares to our experimental measurements.  Once we do that, we can use that model to construct an objective function, and then we'll estimate all three parameters that we need to solve this rate law."
   ]
  },
  {
   "cell_type": "code",
   "execution_count": 127,
   "metadata": {},
   "outputs": [],
   "source": [
    "# def temp4(par):\n",
    "\n",
    "#     EXPDATA = DATA1\n",
    "#     CA   = EXPDATA[:,0]\n",
    "#     CB   = EXPDATA[:,1]\n",
    "#     T    = EXPDATA[:,2]\n",
    "#     rexp = EXPDATA[:,3]\n",
    "    \n",
    "#     EA = par[0]\n",
    "#     k  = 1e18*np.exp(-EA/8.314/T);\n",
    "#     KA = par[1]\n",
    "#     KB = par[2]\n",
    "    \n",
    "#     rmod  = k*CA*CB**2/(1 + KA*CA + KB*CB)**2\n",
    "#     resid = (rexp - rmod)/rexp\n",
    "#     SSE   = sum(resid**2)\n",
    "#     return [SSE, rmod, rexp, resid]"
   ]
  },
  {
   "cell_type": "code",
   "execution_count": 126,
   "metadata": {},
   "outputs": [],
   "source": [
    "# par0 = [100000, 10000, 30000] \n",
    "# obj4 = lambda par: temp4(par)[0]\n",
    "# ans4 = opt.minimize(obj4, par0)\n",
    "# EA, KA, KB = ans4.x\n",
    "# SSE, rmod, rexp, resid = temp4(ans4.x)\n",
    "\n",
    "# print(f'EA = {EA:5.0f} J/mol, KA = {KA:5.0f} L/mol, KB = {KB:5.0f} L/mol')\n",
    "\n",
    "# plt.figure(1)\n",
    "# plt.loglog(rexp, rmod, marker = 'o', markerfacecolor = 'none', linestyle = 'none')\n",
    "# plt.loglog([min(rexp), max(rexp)], [min(rexp), max(rexp)], color = 'black', linestyle = 'dashed', linewidth = 1)\n",
    "# plt.xlabel('experimental rates (mol/L/min)')\n",
    "# plt.ylabel('model predicted rates (mol/L/min)')\n",
    "# plt.show()\n",
    "\n",
    "# plt.figure(2)\n",
    "# plt.scatter(np.linspace(1, len(rexp), len(rexp)), resid, marker = 'o', color = 'none', edgecolor = 'black')\n",
    "# plt.xlabel('experiment number')\n",
    "# plt.ylabel('residual error')\n",
    "# plt.show()"
   ]
  },
  {
   "cell_type": "markdown",
   "metadata": {},
   "source": [
    "<span style=\"font-family:Times New Roman; font-size:1.5em;\">**Problem 5**</span>\n",
    "\n",
    "Now let's see if we can do this for the whole data set, where temperatures are actually changing.  We know that equilibrium constants change with temperature, so we cannot use a single, fixed value for KA and KB anymore.  Instead, we have to use a model to describe how they change with temperature.  Here, I'll use a van't Hoff equation, where their values are referenced to the equilibrium constant calculated at the mean reaction temperature.\n",
    "\n",
    "$$K_i = K_{im}e^{\\frac{-\\Delta H_i}{RT}\\left(\\frac{1}{T}-\\frac{1}{T_m}\\right)}$$"
   ]
  },
  {
   "cell_type": "code",
   "execution_count": 125,
   "metadata": {},
   "outputs": [],
   "source": [
    "# #Load Experimental Times; convert to 1D numpy array\n",
    "# file = open(\"DATA2.csv\")\n",
    "# csvreader = csv.reader(file)\n",
    "# rows = []\n",
    "# for row in csvreader:\n",
    "#      rows.append(row)\n",
    "# file.close()\n",
    "# DATA2 = np.array(rows, dtype = 'float')\n",
    "# DATA2"
   ]
  },
  {
   "cell_type": "code",
   "execution_count": 124,
   "metadata": {},
   "outputs": [],
   "source": [
    "# def temp5(par):\n",
    "\n",
    "#     EXPDATA = DATA2\n",
    "#     CA   = EXPDATA[:,0]\n",
    "#     CB   = EXPDATA[:,1]\n",
    "#     T    = EXPDATA[:,2]\n",
    "#     rexp = EXPDATA[:,3]\n",
    "    \n",
    "#     A   = 1e18\n",
    "#     EA  = par[0]\n",
    "#     KA0 = par[1]\n",
    "#     DHA = par[2]\n",
    "#     KB0 = par[3]\n",
    "#     DHB = par[4]\n",
    "#     Tm  = np.mean(T)\n",
    "#     R   = 8.314\n",
    "    \n",
    "#     k   = A*np.exp(-EA/R/T)\n",
    "#     KA  = KA0*np.exp(-DHA/R*(1/T - 1/Tm))\n",
    "#     KB  = KB0*np.exp(-DHB/R*(1/T - 1/Tm))\n",
    "#     rmod   = k*CA*CB**2/(1 + KA*CA + KB*CB)**2\n",
    "#     resid = (rmod - rexp)/rexp\n",
    "#     SSE   = sum(resid**2);\n",
    "#     return [SSE, rmod, rexp, resid]"
   ]
  },
  {
   "cell_type": "code",
   "execution_count": 123,
   "metadata": {},
   "outputs": [],
   "source": [
    "# par0 = [100000, 1000, -100000, 1000, -100000]\n",
    "# obj5 = lambda par: temp5(par)[0]\n",
    "# ans5 = opt.minimize(obj5, par0)\n",
    "# EA, KA0, DHA, KB0, DHB = ans5.x\n",
    "# SSE, rmod, rexp, resid = temp5(ans5.x)\n",
    "\n",
    "# print(f'EA = {EA:5.0f} J/mol, KA0 = {KA0:5.0f} L/mol, DHA = {DHA:5.0f} J/mol, KB0 = {KB0:5.0f} L/mol, DHB = {DHB:5.0f} J/mol')\n",
    "\n",
    "# plt.figure(1)\n",
    "# plt.loglog(rexp, rmod, marker = 'o', markerfacecolor = 'none', linestyle = 'none')\n",
    "# plt.loglog([min(rexp), max(rexp)], [min(rexp), max(rexp)], color = 'black', linestyle = 'dashed', linewidth = 1)\n",
    "# plt.xlabel('experimental rates (mol/L/min)')\n",
    "# plt.ylabel('model predicted rates (mol/L/min)')\n",
    "# plt.show()\n",
    "\n",
    "# plt.figure(2)\n",
    "# plt.scatter(np.linspace(1, len(rexp), len(rexp)), resid, marker = 'o', color = 'none', edgecolor = 'black')\n",
    "# plt.xlabel('experiment number')\n",
    "# plt.ylabel('residual error')\n",
    "# plt.show()"
   ]
  }
 ],
 "metadata": {
  "kernelspec": {
   "display_name": "Python 3 (ipykernel)",
   "language": "python",
   "name": "python3"
  },
  "language_info": {
   "codemirror_mode": {
    "name": "ipython",
    "version": 3
   },
   "file_extension": ".py",
   "mimetype": "text/x-python",
   "name": "python",
   "nbconvert_exporter": "python",
   "pygments_lexer": "ipython3",
   "version": "3.9.13"
  }
 },
 "nbformat": 4,
 "nbformat_minor": 4
}
