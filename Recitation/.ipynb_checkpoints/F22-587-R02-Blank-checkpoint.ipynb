{
 "cells": [
  {
   "cell_type": "markdown",
   "metadata": {},
   "source": [
    "# Recitation 02\n",
    "\n",
    "These exercises reinforce skills in the numerical solution of algebraic and differential equations.  Please reference course Supplements 08 - 13.\n",
    "\n",
    "## Topics Covered\n",
    "\n",
    "1. Scipy package; `scipy.optimize`; `scipy.integrate`\n",
    "2. Solution of algebraic equations with `optimize` or `optimize.root_scalar` (root finding for univariate functions).\n",
    "3. Solving systems of nonlinear algebraic equations with `optimize.root` (multivariate root finding).\n",
    "4. The importance of initial guesses; strategies for providing good initial guesses to Equations solvers.\n",
    "5. Graphing in 2D and 3D to visualize root locations."
   ]
  },
  {
   "cell_type": "markdown",
   "metadata": {},
   "source": [
    "## Problem 1\n",
    "\n",
    "Solve the following algebraic equation for the smallest positive root:\n",
    "\n",
    "$$x^3 - 10x + e^{-0.25x} = 35.75$$"
   ]
  },
  {
   "cell_type": "markdown",
   "metadata": {},
   "source": [
    "## Problem 2\n",
    "\n",
    "Find all roots for the following system of equations. Both x and y must be between -10 and 10:\n",
    "\n",
    "\\begin{align}\n",
    "     10 &= 5x^2y - y^3\\\\\n",
    "    -(15y+x) &= 2y^2 + \\textrm{tanh}(0.075x)\\\\\n",
    "\\end{align}"
   ]
  },
  {
   "cell_type": "markdown",
   "metadata": {},
   "source": [
    "## Problem 3\n",
    "\n",
    "Solve the following system of nonlinear equations, where x, y, and z:\n",
    "\n",
    "\\begin{align}\n",
    "    0 &= x^2 - 10x - 25y + 17z^2\\\\\n",
    "    18.3 &= xz + \\textrm{ln}(yz)\\\\\n",
    "    145 - y^2 &= x^2 + 5z\\\\\n",
    "\\end{align}"
   ]
  }
 ],
 "metadata": {
  "kernelspec": {
   "display_name": "Python 3 (ipykernel)",
   "language": "python",
   "name": "python3"
  },
  "language_info": {
   "codemirror_mode": {
    "name": "ipython",
    "version": 3
   },
   "file_extension": ".py",
   "mimetype": "text/x-python",
   "name": "python",
   "nbconvert_exporter": "python",
   "pygments_lexer": "ipython3",
   "version": "3.9.13"
  }
 },
 "nbformat": 4,
 "nbformat_minor": 4
}
