{
 "cells": [
  {
   "cell_type": "markdown",
   "metadata": {},
   "source": [
    "# Lecture 33\n",
    "\n",
    "This lecture covers the analysis differential tubular reactors (plug flow or packed bed reactors). We also introduce a demonstration of \"non-elementary\" or non-power law kinetics observed during Azomethane decomposition."
   ]
  },
  {
   "cell_type": "code",
   "execution_count": null,
   "metadata": {},
   "outputs": [],
   "source": [
    "import numpy as np\n",
    "import matplotlib.pyplot as plt\n",
    "import scipy.optimize as opt\n",
    "import scipy.stats as stats\n",
    "from math import ceil"
   ]
  },
  {
   "cell_type": "markdown",
   "metadata": {},
   "source": [
    "## Example Problem 01\n",
    "\n",
    "The decomposition of Azomethane is carried out in a 50 mL Plug Flow Reactor operating under differential conditions at steady state. The reaction is given below:\n",
    "\n",
    "$$C_2H_6N_2 \\longrightarrow C_2H_6 + N_2$$\n",
    "\n",
    "Azomethane is thermodynamically very favorable, so you can assume the reaction is irreversible.  For convenience, we will just relabel everything as:\n",
    "\n",
    "$$A \\longrightarrow B + C$$\n",
    "\n",
    "For this experiment, you vary the feed concentration while maintaining a very high volumetric flowrate (your space time approaches zero). This ensures the fractional conversion of A stays well below 1\\% for all experiments. At each unique feed concentration, you measure the concentration of species B in the reactor effluent and use it to determine the effluent molar flowrate of species B. The collected data are compiled in the table below. \n",
    "\n",
    "|**C$_{Af}$   (mmol/L)**  | **F$_B$ (mmol/min)**     | \n",
    "|:-----------------------:|:-----------------------:|\n",
    "|0.001                    | 2.45 $\\times$ 10$^{-9}$ |\n",
    "|0.002                    | 9.08 $\\times$ 10$^{-9}$ |\n",
    "|0.005                    | 6.29 $\\times$ 10$^{-8}$ |\n",
    "|0.010                    | 2.27 $\\times$ 10$^{-7}$ |\n",
    "|0.020                    | 9.50 $\\times$ 10$^{-7}$ |\n",
    "|0.050                    | 5.39 $\\times$ 10$^{-6}$ |\n",
    "|0.100                    | 2.05 $\\times$ 10$^{-5}$ |\n",
    "|0.200                    | 5.72 $\\times$ 10$^{-5}$ |\n",
    "|0.500                    | 2.43 $\\times$ 10$^{-4}$ |\n",
    "|1.000                    | 6.71 $\\times$ 10$^{-4}$ |\n",
    "|2.000                    | 1.56 $\\times$ 10$^{-3}$ |\n",
    "|5.000                    | 4.25 $\\times$ 10$^{-3}$ |\n",
    "|10.00                    | 7.43 $\\times$ 10$^{-3}$ |\n",
    "|20.00                    | 1.70 $\\times$ 10$^{-2}$ |\n",
    "|50.00                    | 3.98 $\\times$ 10$^{-2}$ |\n",
    "|100.0                    | 7.99 $\\times$ 10$^{-2}$ |\n",
    "\n",
    "Assuming the reaction rate is described by power law kinetics,\n",
    "\n",
    "$$r = k{C_A}^{\\alpha}$$ \n",
    "\n",
    "where $\\alpha$ is an integer, use the measured concentrations of A in the reactor effluent to determine the reaction order in A and the rate constant for this reaction."
   ]
  },
  {
   "cell_type": "code",
   "execution_count": null,
   "metadata": {},
   "outputs": [],
   "source": [
    "V  = 0.050 #L\n",
    "CA_exp = np.array([0.001, 0.002, 0.005, 0.01, 0.02, 0.05, 0.1, 0.2, 0.5, 1, 2, 5, 10, 20, 50, 100]) #mmol/L\n",
    "FB_exp = np.array([2.01E-09, 1.09E-08, 5.98E-08, 2.53E-07, 9.75E-07, 5.84E-06, 1.82E-05, 6.89E-05, 2.03E-04, 5.23E-04, 1.60E-03, 3.75E-03, 8.40E-03, 1.49E-02, 4.52E-02, 7.10E-02]) #mmol/min"
   ]
  },
  {
   "cell_type": "code",
   "execution_count": null,
   "metadata": {},
   "outputs": [],
   "source": [
    "r_exp = FB_exp/V #mol/L/min\n",
    "\n",
    "plt.figure(1, figsize = (5, 5))\n",
    "plt.scatter(CA_exp, r_exp, color = 'none', edgecolor = 'black', marker = 'o', label = 'experimental data')\n",
    "plt.xlabel('CA (mmol/L)', fontsize = 12)\n",
    "plt.ylabel('rate (mmol/L/min)', fontsize = 12)\n",
    "plt.xlim(0, 100)\n",
    "plt.ylim(0, 1.5)\n",
    "plt.yticks(np.arange(0, 1.6, 0.25))\n",
    "plt.legend(loc = 'upper left')\n",
    "plt.show()"
   ]
  },
  {
   "cell_type": "code",
   "execution_count": null,
   "metadata": {},
   "outputs": [],
   "source": [
    "plt.figure(1, figsize = (5, 5))\n",
    "plt.scatter(np.log(CA_exp), np.log(r_exp), color = 'none', edgecolor = 'black', marker = 'o', label = 'experimental data')\n",
    "plt.xlabel('ln(CA) (mmol/L)', fontsize = 12)\n",
    "plt.ylabel('ln(rate) (mmol/L/min)', fontsize = 12)\n",
    "plt.xlim(-8, 6)\n",
    "plt.ylim(-18, 2)\n",
    "plt.yticks(np.arange(-18, 3, 2))\n",
    "plt.legend(loc = 'upper left')\n",
    "plt.show()"
   ]
  },
  {
   "cell_type": "code",
   "execution_count": null,
   "metadata": {},
   "outputs": [],
   "source": [
    "Y      = np.log(r_exp)\n",
    "X      = np.vander(np.log(CA_exp), 2)\n",
    "A      = np.linalg.solve(X.T@X, X.T@Y) #Solve for unknown coefficiens, ln(k), α\n",
    "SSE    = (Y - X@A).T@(Y-X@A)           #Residual sum of squares\n",
    "SST    = sum((Y - np.mean(Y))**2)      #Total sum of squares\n",
    "Ypred  = X@A\n",
    "R2     = 1 - SSE/SST                   #R2\n",
    "s2     = SSE/(len(Y) - len(A))         #Approximation for variance\n",
    "cov    = s2*np.linalg.inv((X.T@X))     #covariance matrix\n",
    "se     = np.sqrt(abs(cov))             #standard error matrix; diagonal elements are standard error for coeffs\n",
    "ci     = stats.t.ppf(0.975, len(Y) - len(A))*se #confidence intervals\n",
    "\n",
    "print(A, '\\n')\n",
    "print(f'R2 = {R2:3.3f}')\n",
    "print(f'α = {A[0]:3.3f} plus/minus {ci[0,0]:3.3f}')\n",
    "print(f'ln(k) = {A[1]:3.3f} plus/minus {ci[1,1]:3.4f}')\n",
    "print(f'k ~ {np.exp(A[1]):3.2E}')\n",
    "\n",
    "plt.figure(1, figsize = (5, 5))\n",
    "plt.scatter(X[:, 0], Y, marker = 'o', color = 'none', edgecolor = 'black', label = 'experimental rates')\n",
    "plt.plot(X[:, 0], Ypred, color = 'blue', linestyle = 'dashed', linewidth = 1, label = 'linear fit')\n",
    "plt.xlabel('ln(CA) mmol/L', fontsize = 12)\n",
    "plt.ylabel('ln(r) mmol/L/min', fontsize = 12)\n",
    "plt.xlim(-8, 6)\n",
    "plt.ylim(-18, 2)\n",
    "plt.yticks(np.arange(-18, 3, 2))\n",
    "plt.legend()\n",
    "plt.show()\n",
    "\n",
    "plt.figure(2, figsize = (5, 5))\n",
    "plt.scatter(X[:, 0], (Y - Ypred), marker = 'o', color = 'none', edgecolor = 'black', label = 'residual error')\n",
    "plt.hlines(0, -8, 6, color = 'blue', linestyle = 'dashed', linewidth = 1, label = 'zero error')\n",
    "plt.xlabel('ln (CA) mmol/L', fontsize = 12)\n",
    "plt.ylabel('Residual Error in ln (r) (mmol/L/min)', fontsize = 12)\n",
    "plt.title('Residual Plot')\n",
    "plt.xlim(-8, 6)\n",
    "#plt.ylim(-2.0, 2.0)\n",
    "plt.legend(loc = 'lower center')\n",
    "plt.show()\n"
   ]
  },
  {
   "cell_type": "code",
   "execution_count": null,
   "metadata": {},
   "outputs": [],
   "source": [
    "Y      = np.log(r_exp)\n",
    "X      = np.vander(np.log(CA_exp), 2)\n",
    "Alow  = np.linalg.solve(X[0:3,:].T@X[0:3,:], X[0:3,:].T@Y[0:3]) #regression coefficients, slope and intercept\n",
    "Ahigh = np.linalg.solve(X[-4:,:].T@X[-4:,:], X[-4:,:].T@Y[-4:]) #regression coefficients, slope and intercept\n",
    "Yplow = X@Alow\n",
    "Yphigh = X@Ahigh\n",
    "\n",
    "print(f'The regressed order at low CA is {Alow[0]:3.3f}')\n",
    "print(f'The regressed order at high CA is {Ahigh[0]:3.3f}')\n",
    "plt.figure(1, figsize = (5, 5))\n",
    "plt.scatter(X[:, 0], Y, marker = 'o', color = 'none', edgecolor = 'black', label = 'experimental rates')\n",
    "plt.plot(np.log(CA_exp), Yplow, color = 'black', linestyle = 'dashed', linewidth = 1, label = 'second order kinetics')\n",
    "plt.plot(np.log(CA_exp), Yphigh, color = 'red', linestyle = 'dashed', linewidth = 1, label = 'first order kinetics')\n",
    "plt.xlabel('ln(CA) mmol/L', fontsize = 12)\n",
    "plt.ylabel('ln(r) mmol/L/min', fontsize = 12)\n",
    "plt.xlim(-8, 6)\n",
    "plt.ylim(-18, 2)\n",
    "plt.yticks(np.arange(-18, 3, 2))\n",
    "plt.legend()\n",
    "plt.show()"
   ]
  },
  {
   "cell_type": "code",
   "execution_count": null,
   "metadata": {},
   "outputs": [],
   "source": [
    "V  = 0.050 #L\n",
    "CA_exp = np.array([0.001, 0.002, 0.005, 0.01, 0.02, 0.05, 0.1, 0.2, 0.5, 1, 2, 5, 10, 20, 50, 100]) #mol/L\n",
    "FB_exp = np.array([2.01E-09, 1.09E-08, 5.98E-08, 2.53E-07, 9.75E-07, 5.84E-06, 1.82E-05, 6.89E-05, 2.03E-04, 5.23E-04, 1.60E-03, 3.75E-03, 8.40E-03, 1.49E-02, 4.52E-02, 7.10E-02]) #mol/min\n",
    "r_exp  = FB_exp/V #mol/L/min\n",
    "\n",
    "def OBJ(par):\n",
    "    #experimental data\n",
    "    CA_exp = np.array([0.001, 0.002, 0.005, 0.01, 0.02, 0.05, 0.1, 0.2, 0.5, 1, 2, 5, 10, 20, 50, 100]) #mol/L\n",
    "    FB_exp = np.array([2.01E-09, 1.09E-08, 5.98E-08, 2.53E-07, 9.75E-07, 5.84E-06, 1.82E-05, 6.89E-05, 2.03E-04, 5.23E-04, 1.60E-03, 3.75E-03, 8.40E-03, 1.49E-02, 4.52E-02, 7.10E-02]) #mol/min\n",
    "    r_exp  = FB_exp/V #mol/L/min\n",
    "\n",
    "    #parameter values\n",
    "    k1, Kprime = par\n",
    "    \n",
    "    #model prediction\n",
    "    r_mod = k1*CA_exp**2/(1 + Kprime*CA_exp)\n",
    "    \n",
    "    #SSE\n",
    "    SSE = np.sum(((r_exp - r_mod)/r_exp)**2)\n",
    "    \n",
    "    return SSE\n",
    "\n",
    "par0  = [1, 10]\n",
    "ansNL = opt.minimize(OBJ, par0)#, method = 'Nelder-Mead',tol = 1e-6, options = {'maxiter': 5000})\n",
    "k1_opt = ansNL.x[0]\n",
    "Kprime_opt = ansNL.x[1]\n",
    "print(f'The regressed k1 is {k1_opt:3.3f} L/mmol/min')\n",
    "print(f'The regressed Kprime {Kprime_opt:3.3f} L/mmol')"
   ]
  },
  {
   "cell_type": "code",
   "execution_count": null,
   "metadata": {},
   "outputs": [],
   "source": [
    "def r_mod(k1, Kprime, CA):\n",
    "    return k1*CA**2/(1 + Kprime*CA)\n",
    "\n",
    "plt.figure(1, figsize = (5, 5))\n",
    "plt.loglog(CA_exp, r_exp, marker = 'o', markeredgecolor = 'black', markerfacecolor = 'none', linestyle = 'none', label = 'Experimental Data')\n",
    "plt.loglog(CA_exp, r_mod(k1_opt, Kprime_opt, CA_exp), color = 'blue', linestyle = 'dashed', linewidth = 1, label = 'Lindemann-Christensen Mechanism')\n",
    "plt.xlabel('CA (mmol/L)', fontsize = 12)\n",
    "plt.ylabel('r mmol/L/min', fontsize = 12)\n",
    "plt.legend(loc = 'lower right')\n",
    "plt.show()"
   ]
  }
 ],
 "metadata": {
  "colab": {
   "authorship_tag": "ABX9TyP0ZJPj0jWZ7tx7s+T6+2CS",
   "name": "P14.ipynb",
   "provenance": []
  },
  "kernelspec": {
   "display_name": "Python 3 (ipykernel)",
   "language": "python",
   "name": "python3"
  },
  "language_info": {
   "codemirror_mode": {
    "name": "ipython",
    "version": 3
   },
   "file_extension": ".py",
   "mimetype": "text/x-python",
   "name": "python",
   "nbconvert_exporter": "python",
   "pygments_lexer": "ipython3",
   "version": "3.9.13"
  }
 },
 "nbformat": 4,
 "nbformat_minor": 1
}
