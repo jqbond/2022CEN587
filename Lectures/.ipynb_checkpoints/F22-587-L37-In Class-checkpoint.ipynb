{
 "cells": [
  {
   "cell_type": "markdown",
   "metadata": {},
   "source": [
    "# Lecture 37\n",
    "\n",
    "This lecture considers the analysis of surface reactions (heterogeneous catalysis).  We introduce the reaction equilibrium assumption and develop the Langmuir-adsorption model, which has wide usage in catalysis and adsorption phenomena."
   ]
  },
  {
   "cell_type": "code",
   "execution_count": null,
   "metadata": {},
   "outputs": [],
   "source": [
    "import matplotlib.pyplot as plt\n",
    "import numpy as np\n",
    "import scipy.optimize as opt"
   ]
  },
  {
   "cell_type": "code",
   "execution_count": null,
   "metadata": {},
   "outputs": [],
   "source": [
    "CM_exp     = np.array([0.0001, 0.0002, 0.0005, 0.001, 0.002, 0.005, 0.01, 0.02, 0.05, 0.1]) #mol/L\n",
    "thetaM_exp = np.array([0.01231471, 0.02450419, 0.05662556, 0.11536265, 0.19374295, 0.37952173, 0.56262205, 0.69767484, 0.84451735, 0.90949091])\n",
    "\n",
    "plt.figure(1, figsize = (5, 5))\n",
    "plt.scatter(CM_exp, thetaM_exp, color = 'none', edgecolor = 'black')\n",
    "plt.xlim(0, 0.1)\n",
    "plt.ylim(0, 1)\n",
    "plt.title('Experimental Coverage of species M')\n",
    "plt.xlabel('Bulk conentration of M (mol/L)')\n",
    "plt.ylabel('Fractional coverage of M')\n",
    "plt.show()"
   ]
  },
  {
   "cell_type": "code",
   "execution_count": null,
   "metadata": {},
   "outputs": [],
   "source": [
    "def obj_molecular(par):\n",
    "    KM = par\n",
    "    CM = CM_exp\n",
    "    \n",
    "    thetaM_mod = KM*CM/(1 + KM*CM)\n",
    "    \n",
    "    SSE = np.sum((thetaM_exp - thetaM_mod)**2)\n",
    "    return SSE\n",
    "\n",
    "def obj_dissociative(par):\n",
    "    KM = par\n",
    "    CM = CM_exp\n",
    "    \n",
    "    thetaM_mod = (KM*CM)**(1/2)/(1 + (KM*CM)**(1/2))\n",
    "    \n",
    "    SSE = np.sum((thetaM_exp - thetaM_mod)**2)\n",
    "    return SSE\n",
    "\n",
    "ans_mol = opt.minimize_scalar(obj_molecular)\n",
    "ans_dis = opt.minimize_scalar(obj_dissociative)\n",
    "\n",
    "KM_mol = ans_mol.x\n",
    "KM_dis = ans_dis.x\n",
    "\n",
    "SSE_mol = ans_mol.fun\n",
    "SSE_dis = ans_dis.fun\n",
    "\n",
    "SST     = np.sum((thetaM_exp - np.mean(thetaM_exp))**2)\n",
    "\n",
    "R2_mol  = 1 - SSE_mol/SST\n",
    "R2_dis  = 1 - SSE_dis/SST"
   ]
  },
  {
   "cell_type": "code",
   "execution_count": null,
   "metadata": {},
   "outputs": [],
   "source": [
    "CMfine     = np.linspace(0, 0.1, 100)\n",
    "thetaM_mol = lambda CM: (KM_mol*CM)/(1 + KM_mol*CM)\n",
    "thetaM_dis = lambda CM: (KM_dis*CM)**(1/2)/(1 + (KM_dis*CM)**(1/2))\n",
    "\n",
    "print(f'For a molecular adsorption model, we get KM = {KM_mol:3.0f} L/mol, a minimum SSE of {SSE_mol:3.2E}, and an R2 of {R2_mol:3.3f}')\n",
    "print(f'For a dissociative adsorption model, we get KM = {KM_dis:3.0f} L/mol, a minimum SSE of {SSE_dis:3.2E}, and an R2 of {R2_dis:3.3f}')\n",
    "\n",
    "plt.figure(1, figsize = (5, 5))\n",
    "plt.scatter(CM_exp, thetaM_exp, color = 'none', edgecolor = 'black', label = 'experimental data')\n",
    "plt.plot(CMfine, thetaM_mol(CMfine), color = 'black', linestyle = 'dashed', linewidth = 1, label = 'Molecular Adsorption Model')\n",
    "plt.plot(CMfine, thetaM_dis(CMfine), color = 'red', linestyle = 'dashed', linewidth = 1, label = 'Dissociative Adsorption Model')\n",
    "plt.xlim(0, 0.1)\n",
    "plt.ylim(0, 1)\n",
    "plt.title('Experimental Coverage of species M')\n",
    "plt.xlabel('Bulk conentration of M (mol/L)')\n",
    "plt.ylabel('Fractional coverage of M')\n",
    "plt.show()"
   ]
  },
  {
   "cell_type": "code",
   "execution_count": null,
   "metadata": {},
   "outputs": [],
   "source": [
    "fig, ax1     = plt.subplots()\n",
    "ax2          = ax1.twiny()\n",
    "molecular    = ax1.scatter(1/CM_exp, 1/thetaM_exp, marker = 'o', color = 'none', edgecolor = 'black', label = 'Molecular Adsorption')\n",
    "dissociative = ax2.scatter(1/CM_exp**(1/2), 1/thetaM_exp, marker = 's', color = 'none', edgecolor = 'red', label = 'Dissociative Adsorption')\n",
    "\n",
    "ax1.set_xlabel('1/CM^(1/2)')\n",
    "ax2.set_xlabel('1/CM')\n",
    "ax2.set_ylabel('1/thetaM')\n",
    "\n",
    "ax1.legend(loc = 'upper left')\n",
    "ax2.legend(loc = 'lower right')\n",
    "plt.show()"
   ]
  }
 ],
 "metadata": {
  "colab": {
   "authorship_tag": "ABX9TyP0ZJPj0jWZ7tx7s+T6+2CS",
   "name": "P14.ipynb",
   "provenance": []
  },
  "kernelspec": {
   "display_name": "Python 3 (ipykernel)",
   "language": "python",
   "name": "python3"
  },
  "language_info": {
   "codemirror_mode": {
    "name": "ipython",
    "version": 3
   },
   "file_extension": ".py",
   "mimetype": "text/x-python",
   "name": "python",
   "nbconvert_exporter": "python",
   "pygments_lexer": "ipython3",
   "version": "3.9.13"
  }
 },
 "nbformat": 4,
 "nbformat_minor": 1
}
