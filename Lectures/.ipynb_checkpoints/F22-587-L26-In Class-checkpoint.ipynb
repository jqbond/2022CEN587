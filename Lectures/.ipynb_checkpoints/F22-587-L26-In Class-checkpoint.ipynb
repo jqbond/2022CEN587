{
 "cells": [
  {
   "cell_type": "markdown",
   "metadata": {},
   "source": [
    "# Lecture 26\n",
    "\n",
    "This lecture solves reactor design problems involving semi-batch reactors; membrane reactors; recycle reactors, and packed beds with pressure drops."
   ]
  },
  {
   "cell_type": "code",
   "execution_count": null,
   "metadata": {
    "executionInfo": {
     "elapsed": 126,
     "status": "ok",
     "timestamp": 1633700692097,
     "user": {
      "displayName": "Bowei Liu",
      "photoUrl": "https://lh3.googleusercontent.com/a/default-user=s64",
      "userId": "09481582047933696573"
     },
     "user_tz": 240
    },
    "id": "h9UTaC1vBEif"
   },
   "outputs": [],
   "source": [
    "import numpy as np\n",
    "import matplotlib.pyplot as plt\n",
    "import scipy.optimize as opt\n",
    "from scipy.integrate import solve_ivp\n",
    "from scipy.interpolate import interp1d"
   ]
  },
  {
   "cell_type": "markdown",
   "metadata": {},
   "source": [
    "## Example Problem 01\n",
    "\n",
    "The synthesis of Methyl Bromide is carried out in the liquid phase using a well-mixed tank reactor. \n",
    "\t\t\t\n",
    "$$C\\!N\\!Br + C\\!H_3N\\!H_2 \\longrightarrow C\\!H_3Br + N\\!C\\!N\\!H_2$$\n",
    "\n",
    "The tank is initially filled with 5L of a solvent solution containing Bromine Cyanide (A) at a concentration of 0.05M.  At time zero, you turn on the feed to the reactor, which is a solvent solution containing methylamine (B) at 0.025M; the feed enters the reactor at a total volumetric flowrate of 0.05 L s$^{-1}$. This reaction is first order in A and first order in B, and we are given a rate constant of:\n",
    "\n",
    "$$k = 2.2 \\ \\textrm{L} \\ \\textrm{mol}^{-1} \\ \\textrm{s}^{-1}$$\n",
    "\n",
    "All species are dissolved in an inert solvent and present at relatively low concentrations, so we can assume that the density of all fluid in the system is approximately equal to the density of the solvent. Plot the concentrations of all species in the reactor as well as the rate of reaction as a function of time."
   ]
  },
  {
   "cell_type": "code",
   "execution_count": null,
   "metadata": {},
   "outputs": [],
   "source": [
    "# V0  = 5.0 #L\n",
    "# CA0 = 0.05 #mol/L\n",
    "# Qf  = 0.05 #L/s\n",
    "# CBf = 0.025 #mol/L\n",
    "# FBf = CBf*Qf\n",
    "\n",
    "# NA0 = CA0*V0\n",
    "# NB0 = 0.0\n",
    "# NC0 = 0.0\n",
    "# ND0 = 0.0\n",
    "# k   = 2.2  #L/mol/s"
   ]
  },
  {
   "cell_type": "code",
   "execution_count": null,
   "metadata": {},
   "outputs": [],
   "source": [
    "# def P01(t, var, par):\n",
    "    \n",
    "#     NA, NB, NC, ND, V = var\n",
    "#     k, Qf = par\n",
    "    \n",
    "#     CA = NA/V\n",
    "#     CB = NB/V\n",
    "    \n",
    "#     r  = k*CA*CB\n",
    "    \n",
    "#     RA = -r\n",
    "#     RB = -r\n",
    "#     RC =  r\n",
    "#     RD =  r\n",
    "    \n",
    "#     D1 =       RA*V\n",
    "#     D2 = FBf + RB*V\n",
    "#     D3 =       RC*V\n",
    "#     D4 =       RD*V\n",
    "#     D5 = Qf\n",
    "    \n",
    "#     return [D1, D2, D3, D4, D5]"
   ]
  },
  {
   "cell_type": "code",
   "execution_count": null,
   "metadata": {},
   "outputs": [],
   "source": [
    "# tspan = (0.0, 5000.0)\n",
    "# var0  = (NA0, NB0, NC0, ND0, V0)\n",
    "# par0  = (k, Qf)\n",
    "# ans1  = solve_ivp(P01, tspan, var0, args = (par0, ), atol = 1e-8, rtol = 1e-8)\n",
    "\n",
    "# t     = ans1.t\n",
    "# NA    = ans1.y[0, :]\n",
    "# NB    = ans1.y[1, :]\n",
    "# NC    = ans1.y[2, :]\n",
    "# ND    = ans1.y[3, :]\n",
    "# V     = ans1.y[4, :]\n",
    "\n",
    "# CA    = NA/V\n",
    "# CB    = NB/V\n",
    "# CC    = NC/V\n",
    "# CD    = ND/V\n",
    "# r     = k*CA*CB\n",
    "\n",
    "# plt.figure(1, figsize = (5, 5))\n",
    "# plt.plot(t, CA, label = 'CA')\n",
    "# plt.plot(t, CB, label = 'CB')\n",
    "# plt.plot(t, CC, marker = 'o', label = 'CC')\n",
    "# plt.plot(t, CD, label = 'CD')\n",
    "# plt.xlim(0.0, max(tspan))\n",
    "# plt.xticks(fontsize = 11)\n",
    "# plt.xlabel('time (s)', fontsize = 14)\n",
    "# plt.ylim(0.0, 0.06)\n",
    "# plt.yticks(fontsize = 11)\n",
    "# plt.ylabel('Concentration (mol/L)', fontsize = 14)\n",
    "# plt.legend()\n",
    "# plt.show(1)\n",
    "\n",
    "# plt.figure(2, figsize = (5, 5))\n",
    "# plt.plot(t, r)\n",
    "# plt.xlim(0.0, max(tspan))\n",
    "# plt.xticks(fontsize = 11)\n",
    "# plt.xlabel('time (s)', fontsize = 14)\n",
    "# #plt.ylim(0.0, 0.06)\n",
    "# plt.yticks(fontsize = 11)\n",
    "# plt.ylabel('Reaction Rate (mol/L/s)', fontsize = 14)\n",
    "# plt.show(2)\n",
    "\n",
    "\n",
    "# plt.figure(3, figsize = (5, 5))\n",
    "# plt.plot(t, V)\n",
    "# plt.xlim(0.0, max(tspan))\n",
    "# plt.xticks(fontsize = 11)\n",
    "# plt.xlabel('time (s)', fontsize = 14)\n",
    "# #plt.ylim(0.0, 10)\n",
    "# plt.yticks(fontsize = 11)\n",
    "# plt.ylabel('Reactor Volume (L)', fontsize = 14)\n",
    "# plt.show(3)"
   ]
  },
  {
   "cell_type": "markdown",
   "metadata": {},
   "source": [
    "## Example Problem 02\n",
    "\n",
    "You are designing a flow reactor in order to perform gas-phase propane dehydrogenation.  The purpose of this reaction is \"on purpose\" generation of propylene, which has historically been produced as a side product of ethylene synthesis via naptha cracking. One of the consequences of the shale gas boom is that it greatly expanded the supply of ethane (and thus decrease the cost of ethane).  Accordingly, the majority of our ethylene production has shifted to ethane pyrolysis, which does not produce significant quantities of propylene.  Hence your interest in an on-purpose synthesis of propylene!\n",
    "\t\t\t\n",
    "$$C_3H_8 \\longleftrightarrow C_3H_6 + H_2$$\n",
    "\n",
    "The reaction has an elementary rate law, and it is performed at 500K and 8.2atm.  At this temperature, you find that the forward rate constant and the concentration-based equilibrium constant are:\n",
    "\n",
    "\\begin{align*}\n",
    "    k_f  = 0.7  \\ \\textrm{min}^{-1} \\\\\n",
    "    K_C = 0.05 \\ \\textrm{mol} \\ \\textrm{L}^{-1}\t\t\t\t\n",
    "\\end{align*}\t\t\t\n",
    "\n",
    "If the feed rate of propane to the reactor is 10 moles per minute, find the PFR volume required to achieve 95\\% conversion."
   ]
  },
  {
   "cell_type": "code",
   "execution_count": null,
   "metadata": {},
   "outputs": [],
   "source": [
    "# kf = 0.7  #1/min\n",
    "# KC = 0.05 #mol/L\n",
    "# kr = kf/KC #L/mol/min\n",
    "# T  = 500 #K\n",
    "# P  = 8.2 #atm\n",
    "# R  = 0.08206 #L*atm/mol/K\n",
    "# FAf = 10.0 #mol/min\n",
    "# FBf = 0.0\n",
    "# FCf = 0.0\n",
    "# XA_target = 0.95"
   ]
  },
  {
   "cell_type": "code",
   "execution_count": null,
   "metadata": {},
   "outputs": [],
   "source": [
    "# def P02(V, var, par):\n",
    "#     FA, FB, FC = var\n",
    "#     kf, kr, T, P, R = par\n",
    "    \n",
    "#     FT = FA + FB + FC\n",
    "    \n",
    "#     Q  = FT*R*T/P\n",
    "    \n",
    "#     CA = FA/Q\n",
    "#     CB = FB/Q\n",
    "#     CC = FC/Q\n",
    "    \n",
    "#     r  = kf*CA - kr*CB*CC\n",
    "    \n",
    "#     RA = -r\n",
    "#     RB =  r\n",
    "#     RC =  r\n",
    "    \n",
    "#     dA = RA\n",
    "#     dB = RB\n",
    "#     dC = RC\n",
    "    \n",
    "#     return [dA, dB, dC]"
   ]
  },
  {
   "cell_type": "code",
   "execution_count": null,
   "metadata": {},
   "outputs": [],
   "source": [
    "# Vspan = (0.0, 100.0)\n",
    "# var0  = (FAf, FBf, FCf)\n",
    "# par0  = (kf, kr, T, P, R)\n",
    "# ans2  = solve_ivp(P02, Vspan, var0, args = (par0, ), atol = 1e-8, rtol =  1e-8)\n",
    "\n",
    "# V     = ans2.t\n",
    "# FA    = ans2.y[0, :]\n",
    "# FB    = ans2.y[1, :]\n",
    "# FC    = ans2.y[2, :]\n",
    "\n",
    "# XA    = (FAf - FA)/FAf\n",
    "\n",
    "# plt.figure(1, figsize = (5, 5))\n",
    "# plt.plot(V, XA)\n",
    "# plt.xlim(0.0, max(Vspan))\n",
    "# plt.xticks(fontsize = 11)\n",
    "# plt.xlabel('Volume (L)', fontsize = 14)\n",
    "# plt.ylim(0.0, 1.0)\n",
    "# plt.yticks(fontsize = 11)\n",
    "# plt.ylabel('Conversion of A', fontsize = 14)\n",
    "# plt.show(1)"
   ]
  },
  {
   "cell_type": "code",
   "execution_count": null,
   "metadata": {},
   "outputs": [],
   "source": [
    "# itp1 = interp1d(XA, V)\n",
    "# itp1(XA_target)"
   ]
  },
  {
   "cell_type": "markdown",
   "metadata": {},
   "source": [
    "#### Consider the Equilibrium Limit"
   ]
  },
  {
   "cell_type": "code",
   "execution_count": null,
   "metadata": {},
   "outputs": [],
   "source": [
    "# def eqns2a(XA, par):\n",
    "    \n",
    "#     KC, T, P, R, FAf, FBf, FCf = par\n",
    "    \n",
    "#     FA = FAf - FAf*XA\n",
    "#     FB = FBf + FAf*XA\n",
    "#     FC = FCf + FAf*XA\n",
    "#     FT = FA + FB + FC\n",
    "    \n",
    "#     Q  = FT*R*T/P\n",
    "    \n",
    "#     CA = FA/Q\n",
    "#     CB = FB/Q\n",
    "#     CC = FC/Q\n",
    "        \n",
    "#     KC_comp = CC*CB/CA\n",
    "    \n",
    "#     eqn1    = KC_comp - KC\n",
    "#     return eqn1"
   ]
  },
  {
   "cell_type": "code",
   "execution_count": null,
   "metadata": {},
   "outputs": [],
   "source": [
    "# XAguess = 0.7\n",
    "# par0    = KC, T, P, R, FAf, FBf, FCf\n",
    "# ans3    = opt.newton(eqns2a, XAguess, args = (par0, ))\n",
    "# ans3"
   ]
  },
  {
   "cell_type": "markdown",
   "metadata": {},
   "source": [
    "#### Increasing Attainable Conversion"
   ]
  },
  {
   "cell_type": "code",
   "execution_count": null,
   "metadata": {},
   "outputs": [],
   "source": [
    "# def eqns2b(XA, par):\n",
    "    \n",
    "#     KC, T, P, R, FAf, FBf, FCf, FIf = par\n",
    "    \n",
    "#     FA = FAf - FAf*XA\n",
    "#     FB = FBf + FAf*XA\n",
    "#     FC = FCf + FAf*XA\n",
    "#     FI = FIf\n",
    "#     FT = FA + FB + FC + FI\n",
    "    \n",
    "#     Q  = FT*R*T/P\n",
    "    \n",
    "#     CA = FA/Q\n",
    "#     CB = FB/Q\n",
    "#     CC = FC/Q\n",
    "        \n",
    "#     KC_comp = CC*CB/CA\n",
    "    \n",
    "#     eqn1    = KC_comp - KC\n",
    "#     return eqn1"
   ]
  },
  {
   "cell_type": "code",
   "execution_count": null,
   "metadata": {},
   "outputs": [],
   "source": [
    "# Pb  = 8.2 #atm\n",
    "# R  = 0.08206 #L*atm/mol/K\n",
    "# FAfb = 10.0 #mol/min\n",
    "# FBfb = 0.0\n",
    "# FCfb = 0.0\n",
    "# FIfb = 0.0 #mol/min\n",
    "# XA_target = 0.95"
   ]
  },
  {
   "cell_type": "code",
   "execution_count": null,
   "metadata": {},
   "outputs": [],
   "source": [
    "# XAguess = 0.95\n",
    "# par0    = KC, T, Pb, R, FAfb, FBfb, FCfb, FIfb\n",
    "# ans3    = opt.newton(eqns2b, XAguess, args = (par0, ))\n",
    "# ans3"
   ]
  },
  {
   "cell_type": "markdown",
   "metadata": {},
   "source": [
    "#### Returning to the material balances under conditions where we can reach 95% conversion"
   ]
  },
  {
   "cell_type": "code",
   "execution_count": null,
   "metadata": {},
   "outputs": [],
   "source": [
    "# def P02b(V, var, par):\n",
    "#     FA, FB, FC = var\n",
    "#     kf, kr, T, P, R, FIf = par\n",
    "#     FI = FIf\n",
    "    \n",
    "#     FT = FA + FB + FC + FI\n",
    "    \n",
    "#     Q  = FT*R*T/P\n",
    "    \n",
    "#     CA = FA/Q\n",
    "#     CB = FB/Q\n",
    "#     CC = FC/Q\n",
    "    \n",
    "#     r  = kf*CA - kr*CB*CC\n",
    "    \n",
    "#     RA = -r\n",
    "#     RB =  r\n",
    "#     RC =  r\n",
    "    \n",
    "#     dA = RA\n",
    "#     dB = RB\n",
    "#     dC = RC\n",
    "    \n",
    "#     return [dA, dB, dC]"
   ]
  },
  {
   "cell_type": "code",
   "execution_count": null,
   "metadata": {},
   "outputs": [],
   "source": [
    "# Vspan = (0.0, 30000.0)\n",
    "# var0  = (FAfb, FBfb, FCfb)\n",
    "# par0  = (kf, kr, T, Pb, R, FIfb)\n",
    "# ans2  = solve_ivp(P02b, Vspan, var0, args = (par0, ), atol = 1e-8, rtol =  1e-8)\n",
    "\n",
    "# V     = ans2.t\n",
    "# FA    = ans2.y[0, :]\n",
    "# FB    = ans2.y[1, :]\n",
    "# FC    = ans2.y[2, :]\n",
    "\n",
    "# XA    = (FAf - FA)/FAf\n",
    "\n",
    "# plt.figure(1, figsize = (5, 5))\n",
    "# plt.plot(V, XA)\n",
    "# plt.xlim(0.0, max(Vspan))\n",
    "# plt.xticks(fontsize = 11)\n",
    "# plt.xlabel('Volume (L)', fontsize = 14)\n",
    "# plt.ylim(0.0, 1.0)\n",
    "# plt.yticks(fontsize = 11)\n",
    "# plt.ylabel('Conversion of A', fontsize = 14)\n",
    "# plt.show(1)\n",
    "\n",
    "# itp1 = interp1d(XA, V, kind = 'cubic')\n",
    "# Vopt = itp1(XA_target)\n",
    "# print(f'The Volume required for XA = {XA_target:0.2f} is {Vopt:0.0f}L')"
   ]
  },
  {
   "attachments": {
    "Recycle.jpg": {
     "image/jpeg": "[encoded data removed]"
    }
   },
   "cell_type": "markdown",
   "metadata": {},
   "source": [
    "## Example Problem 03\n",
    "\n",
    "**Propylene Dehydrogenation with separation and recycle**\n",
    "\n",
    "An alternative approach is to use a recycle strategy.  Specifically, we will operate the reactor at a relatively low single pass conversion, but we will recycle a fraction of the unreacted propane back to the reactor inlet.  This allows us to achieve a higher overall conversion in the process even though we have a relatively low limit on the single pass conversion through the reactor. \n",
    "\n",
    "We will assume a very simple PFD here:  The propane feed into the process is combined with the recycle stream in a mixer; the combined feed goes into a PFR, where it is partially converted to H$_2$ and propylene; the effluent from the reactor goes into a separator, where we assume propane is perfectly separated from H$_2$ and propylene; and, finally, the unreacted propane enters a splitter, where a fraction of it $(\\alpha)$ is recycled back to the mixer, and the remaining quantity exits the process.  This is illustrated below:\n",
    "\n",
    "![Recycle.jpg](attachment:Recycle.jpg)\n",
    "\n",
    "Rate and equilibrium constants remain the same because we haven't changed the temperature, and the propane feed to the entire process remains 10 moles per minute. \n",
    "\n",
    "\\begin{align*}\n",
    "k_f  &= 0.7  \\ \\textrm{min}^{-1} \\\\\n",
    "K_C &= 0.05 \\ \\textrm{mol} \\ \\textrm{L}^{-1}\\\\\t\n",
    "\\end{align*}\t\t\t\n",
    "\n",
    "1. Find the minimum recycle ratio required to achieve an overall conversion of 95\\% in the process described above\n",
    "2. For that recycle ratio, calculate the reactor volume required to achieve an overall conversion of 95\\% in this process"
   ]
  },
  {
   "cell_type": "code",
   "execution_count": null,
   "metadata": {},
   "outputs": [],
   "source": [
    "# α   = 0.0\n",
    "# XOV = 0.95\n",
    "# FAF = 10 #mol/min\n",
    "# FA3 = FAF*(1 - XA_target)\n",
    "# FA2 = FA3/(1 - α)\n",
    "# FA1 = FA2\n",
    "# FAR = α*FA2\n",
    "# FA0 = FAF + FAR\n",
    "# XSP = (FA0 - FA1)/FA0\n",
    "\n",
    "# labels = ['α', 'FAF', 'FA0', 'FA1', 'FA2', 'FA3', 'FAR', 'XSP', 'XOV']\n",
    "# values = [α, FAF, FA0, FA1, FA2, FA3, FAR, XSP, XOV]\n",
    "\n",
    "# for label, value in zip(labels, values):\n",
    "#     if label != 'XSP' and label != 'XOV':\n",
    "#         print(f'{label:3s} = {value:5.2f} mol/min')\n",
    "#     else:\n",
    "#         print(f'{label:s} = {value:5.2f}')"
   ]
  },
  {
   "cell_type": "markdown",
   "metadata": {},
   "source": [
    "#### Solve the Material Balance for a lower target single pass conversion and recycled feed"
   ]
  },
  {
   "cell_type": "code",
   "execution_count": null,
   "metadata": {},
   "outputs": [],
   "source": [
    "# def P02(V, var, par):\n",
    "#     FA, FB, FC = var\n",
    "#     kf, kr, T, P, R = par\n",
    "    \n",
    "#     FT = FA + FB + FC\n",
    "    \n",
    "#     Q  = FT*R*T/P\n",
    "    \n",
    "#     CA = FA/Q\n",
    "#     CB = FB/Q\n",
    "#     CC = FC/Q\n",
    "    \n",
    "#     r  = kf*CA - kr*CB*CC\n",
    "    \n",
    "#     RA = -r\n",
    "#     RB =  r\n",
    "#     RC =  r\n",
    "    \n",
    "#     dA = RA\n",
    "#     dB = RB\n",
    "#     dC = RC\n",
    "    \n",
    "#     return [dA, dB, dC]"
   ]
  },
  {
   "cell_type": "code",
   "execution_count": null,
   "metadata": {},
   "outputs": [],
   "source": [
    "# P   = 8.2 #atm\n",
    "# R   = 0.08206 #L*atm/mol/K\n",
    "# FAf = FA0 #mol/min\n",
    "# FBf = 0.0\n",
    "# FCf = 0.0\n",
    "# Vspan = (0.0, 300.0)\n",
    "# var0  = (FAf, FBf, FCf)\n",
    "# par0  = (kf, kr, T, P, R)\n",
    "# ans2  = solve_ivp(P02, Vspan, var0, args = (par0, ), atol = 1e-8, rtol =  1e-8)\n",
    "\n",
    "# V     = ans2.t\n",
    "# FA    = ans2.y[0, :]\n",
    "# FB    = ans2.y[1, :]\n",
    "# FC    = ans2.y[2, :]\n",
    "\n",
    "# XA    = (FAf - FA)/FAf\n",
    "\n",
    "# plt.figure(1, figsize = (5, 5))\n",
    "# plt.plot(V, XA)\n",
    "# plt.xlim(0.0, max(Vspan))\n",
    "# plt.xticks(fontsize = 11)\n",
    "# plt.xlabel('Volume (L)', fontsize = 14)\n",
    "# plt.ylim(0.0, 1.0)\n",
    "# plt.yticks(fontsize = 11)\n",
    "# plt.ylabel('Conversion of A', fontsize = 14)\n",
    "# plt.show(1)"
   ]
  },
  {
   "cell_type": "code",
   "execution_count": null,
   "metadata": {},
   "outputs": [],
   "source": [
    "# itp1 = interp1d(XA, V)\n",
    "# itp1(XSP)"
   ]
  }
 ],
 "metadata": {
  "colab": {
   "authorship_tag": "ABX9TyP0ZJPj0jWZ7tx7s+T6+2CS",
   "name": "P14.ipynb",
   "provenance": []
  },
  "kernelspec": {
   "display_name": "Python 3 (ipykernel)",
   "language": "python",
   "name": "python3"
  },
  "language_info": {
   "codemirror_mode": {
    "name": "ipython",
    "version": 3
   },
   "file_extension": ".py",
   "mimetype": "text/x-python",
   "name": "python",
   "nbconvert_exporter": "python",
   "pygments_lexer": "ipython3",
   "version": "3.9.13"
  }
 },
 "nbformat": 4,
 "nbformat_minor": 1
}
