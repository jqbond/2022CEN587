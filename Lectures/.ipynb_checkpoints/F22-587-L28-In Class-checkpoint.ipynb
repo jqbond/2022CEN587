{
 "cells": [
  {
   "cell_type": "markdown",
   "metadata": {},
   "source": [
    "# Lecture 28\n",
    "\n",
    "Here, we will get into kinetic analysis.  This lecture covers differential analysis of data collected in a constant volume batch reactor."
   ]
  },
  {
   "cell_type": "code",
   "execution_count": null,
   "metadata": {},
   "outputs": [],
   "source": [
    "import numpy as np\n",
    "import matplotlib.pyplot as plt"
   ]
  },
  {
   "cell_type": "markdown",
   "metadata": {},
   "source": [
    "## Example Problem 01\n",
    "\n",
    "Analysis of Data Collected in a Constant Volume Batch Reactor.\n",
    "\n",
    "The following reaction is carried out in a well-mixed, constant volume batch reactor. The concentration of species A in the tank is initially 10M, and the fluid inside of the reactor has constant density. \n",
    "\t\t\t\n",
    "$$A \\longrightarrow B$$\n",
    "\t\t\t\n",
    "You measure the concentration of species A in this reactor, monitoring how it changes with time.  The data you collect are given in the table below. \n",
    "\n",
    "|**time (min)**| **C$_A$ (mol/L)** | **time (min)** | **C$_A$ (mol/L)**      |\n",
    "|:------------:|:-----------------:|:--------------:|:----------------------:|\n",
    "|0             | 10.0              | 10             | 3.68                   |\n",
    "|1             | 9.05              | 12             | 3.01                   |\n",
    "|2             | 8.19              | 15             | 2.23                   |\n",
    "|3             | 7.41              | 20             | 1.35                   |\n",
    "|4             | 6.70              | 25             | 0.821                  | \n",
    "|5             | 6.07              | 30             | 0.498                  |\n",
    "|6             | 5.49              | 45             | 0.111                  |\n",
    "|7             | 4.97              | 60             | 0.0248                 |\n",
    "|8             | 4.49              | 90             | 0.00123                |\n",
    "|9             | 4.07              | 120            | 6.14 $\\times$ 10$^{-5}$|\n",
    "\n",
    "\n",
    "Assuming the rate law is described by power law kinetics,\n",
    "\n",
    "$$r = kC_A^{\\alpha}$$ \n",
    "\n",
    "where $\\alpha$ is an integer, determine the reaction order in A and the rate constant for this reaction.\n",
    "\n",
    "In the cell below, we compile this set of measurements.  In this type of system, it is common to start the system with a known quantity of total moles and a known concentration of reacting species.  Then we allow time to proceed, and we measure the concentrations of reactants and products as a function of time.\n",
    "\n",
    "\n",
    "We know the following:\n",
    "\n",
    "\\begin{align}\n",
    "    C_{A0} &= 10 \\ \\textrm{mol} \\ \\textrm{L}^{-1} \\\\\n",
    "    C_{B0} &= 0 \\ \\textrm{mol} \\ \\textrm{L}^{-1} \\\\\n",
    "    T &= \\textrm{constant}\n",
    "\\end{align}\n",
    "\n",
    "Usually, when we have batch data, we're looking at something like this...where we've monitored the concentration of A in the reactor as time progresses:"
   ]
  },
  {
   "cell_type": "code",
   "execution_count": null,
   "metadata": {},
   "outputs": [],
   "source": [
    "t = np.array([0, 1, 2, 3, 4, 5, 6, 7, 8, 9, 10, 12, 15, 20, 25, 30, 45, 60, 90, 120]) #time in minutes\n",
    "CA = np.array([10, 9.05, 8.19, 7.41, 6.70, 6.07, 5.49, 4.97, 4.49, 4.07, 3.68, 3.01, 2.23, 1.35, 0.821, 0.498, 0.111, 0.0248, 1.23E-3, 6.14E-05])\n",
    "#Concentrations in moles per liter\n",
    "\n",
    "plt.figure(1, figsize = (5, 5))\n",
    "plt.scatter(t, CA, edgecolor = 'black', color = 'none', label = 'CA')\n",
    "plt.xlabel('time (min)', fontsize = 12)\n",
    "plt.ylabel('CA (M)', fontsize = 12)\n",
    "plt.xlim(0, 120)\n",
    "plt.ylim(0, 12)\n",
    "plt.legend()\n",
    "plt.show()"
   ]
  },
  {
   "cell_type": "markdown",
   "metadata": {},
   "source": [
    "Determine the rate law and kinetic parameters (k, $\\alpha$) for this reaction."
   ]
  },
  {
   "cell_type": "code",
   "execution_count": null,
   "metadata": {},
   "outputs": [],
   "source": [
    "DCA = np.diff(CA)\n",
    "Dt  = np.diff(t)\n",
    "DCADT = DCA/Dt\n",
    "r = -1*DCADT\n",
    "display(r)\n",
    "len(r)"
   ]
  },
  {
   "cell_type": "code",
   "execution_count": null,
   "metadata": {},
   "outputs": [],
   "source": [
    "Cmod = CA[:-1] #keep all but last CA entry\n",
    "\n",
    "plt.figure(1, figsize = (5, 5))\n",
    "plt.scatter(Cmod, r, edgecolor = 'black', color = 'none')\n",
    "plt.xlabel('CA (M)', fontsize = 12)\n",
    "plt.ylabel('rate (mol/L/min)', fontsize = 12)\n",
    "plt.xlim(0, 10)\n",
    "plt.ylim(0, 1)\n",
    "plt.show()"
   ]
  },
  {
   "cell_type": "code",
   "execution_count": null,
   "metadata": {},
   "outputs": [],
   "source": [
    "plt.figure(1, figsize = (5, 5))\n",
    "plt.scatter(Cmod, r, edgecolor = 'black', color = 'none')\n",
    "plt.yscale('log')\n",
    "plt.xscale('log')\n",
    "plt.xlabel('CA(M)', fontsize = 12)\n",
    "plt.ylabel('rate (mol/L/min)', fontsize = 12)\n",
    "plt.show()"
   ]
  },
  {
   "cell_type": "code",
   "execution_count": null,
   "metadata": {},
   "outputs": [],
   "source": [
    "ydata = np.log(r)\n",
    "xdata = np.log(Cmod)\n",
    "#X = np.vander(xdata, 2) #Vandermonde for first order regression\n",
    "#Y = ydata\n",
    "#A1 = np.linalg.solve(X.T@X, X.T@Y)\n",
    "A2 = np.polyfit(xdata, ydata, 1)\n",
    "print(A2)\n",
    "#A3, SSE, COV, SING = np.linalg.lstsq(X, Y, rcond = None)\n",
    "#print(A1, A2, A3)"
   ]
  },
  {
   "cell_type": "code",
   "execution_count": null,
   "metadata": {},
   "outputs": [],
   "source": [
    "np.polyval(A2, 0)"
   ]
  },
  {
   "cell_type": "code",
   "execution_count": null,
   "metadata": {},
   "outputs": [],
   "source": [
    "plt.figure(1, figsize = (5, 5))\n",
    "plt.scatter(xdata, ydata, edgecolor = 'black', color = 'none', label = 'experiment')\n",
    "plt.plot(xdata, np.polyval(A2, xdata), color = 'black', linestyle = 'dashed', linewidth = 0.75, label = 'regressed model')\n",
    "plt.xlabel('ln(CA(M))', fontsize = 12)\n",
    "plt.ylabel('ln(rate (mol/L/min))', fontsize = 12)\n",
    "plt.legend(fontsize = 9)\n",
    "plt.show()"
   ]
  },
  {
   "cell_type": "code",
   "execution_count": null,
   "metadata": {},
   "outputs": [],
   "source": [
    "order = A2[0]\n",
    "lnk   = A2[1]\n",
    "k     = np.exp(lnk)\n",
    "\n",
    "print(order, k)"
   ]
  },
  {
   "cell_type": "code",
   "execution_count": null,
   "metadata": {},
   "outputs": [],
   "source": [
    "plt.figure(1, figsize = (5, 5))\n",
    "plt.scatter(t, CA, edgecolor = 'black', color = 'none', label = 'CA')\n",
    "plt.xlabel('time (min)', fontsize = 12)\n",
    "plt.ylabel('CA (M)', fontsize = 12)\n",
    "plt.xlim(0, 125)\n",
    "plt.ylim(0, 12)\n",
    "plt.legend()\n",
    "plt.show()"
   ]
  },
  {
   "cell_type": "code",
   "execution_count": null,
   "metadata": {},
   "outputs": [],
   "source": [
    "plt.figure(1, figsize = (5, 5))\n",
    "plt.scatter(xdata, ydata, edgecolor = 'black', color = 'none', label = 'experiment')\n",
    "plt.plot(xdata, np.polyval(A2, xdata), color = 'black', linestyle = 'dashed', label = 'regressed model')\n",
    "plt.xlabel('ln(CA)')\n",
    "plt.ylabel('ln(r)')\n",
    "plt.legend(fontsize = 9)\n",
    "plt.show()"
   ]
  },
  {
   "cell_type": "code",
   "execution_count": null,
   "metadata": {},
   "outputs": [],
   "source": [
    "changes = np.diff(CA)/(Cmod)\n",
    "plt.figure(1, figsize = (5, 5))\n",
    "plt.scatter(t[:-1], changes, edgecolor = 'black', color = 'none')\n",
    "plt.xticks(np.linspace(0, 90, 10))\n",
    "plt.xlabel('time (min)')\n",
    "plt.ylabel('ΔCA (M)')\n",
    "plt.show()"
   ]
  },
  {
   "cell_type": "code",
   "execution_count": null,
   "metadata": {},
   "outputs": [],
   "source": [
    "tnew  = t[0:10] \n",
    "CAnew = CA[0:10]\n",
    "print(np.array([tnew, CAnew]).T)"
   ]
  },
  {
   "cell_type": "code",
   "execution_count": null,
   "metadata": {},
   "outputs": [],
   "source": [
    "xdata2 = np.log(CA[0:10])\n",
    "ydata2 = np.log(r[0:10])\n",
    "A4 = np.polyfit(xdata2, ydata2, 1)\n",
    "print(A4)\n",
    "order = A4[0]\n",
    "k     = np.exp(A4[1])\n",
    "print(order, k)"
   ]
  },
  {
   "cell_type": "code",
   "execution_count": null,
   "metadata": {},
   "outputs": [],
   "source": [
    "plt.figure(1, figsize = (5, 5))\n",
    "plt.scatter(xdata2, ydata2, edgecolor = 'black', color = 'none', label = 'experiment')\n",
    "plt.plot(xdata2, np.polyval(A4, xdata2), color = 'black', linestyle = 'dashed', linewidth = 0.75, label = 'regressed model')\n",
    "plt.xlabel('ln(CA(M))', fontsize = 12)\n",
    "plt.ylabel('ln(rate (mol/L/min))', fontsize = 12)\n",
    "plt.legend(fontsize = 9)\n",
    "plt.show()"
   ]
  }
 ],
 "metadata": {
  "colab": {
   "authorship_tag": "ABX9TyP0ZJPj0jWZ7tx7s+T6+2CS",
   "name": "P14.ipynb",
   "provenance": []
  },
  "kernelspec": {
   "display_name": "Python 3 (ipykernel)",
   "language": "python",
   "name": "python3"
  },
  "language_info": {
   "codemirror_mode": {
    "name": "ipython",
    "version": 3
   },
   "file_extension": ".py",
   "mimetype": "text/x-python",
   "name": "python",
   "nbconvert_exporter": "python",
   "pygments_lexer": "ipython3",
   "version": "3.9.13"
  }
 },
 "nbformat": 4,
 "nbformat_minor": 1
}
