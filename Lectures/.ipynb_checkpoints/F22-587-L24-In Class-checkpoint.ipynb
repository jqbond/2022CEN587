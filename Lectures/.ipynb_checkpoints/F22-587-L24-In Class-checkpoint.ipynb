{
 "cells": [
  {
   "cell_type": "markdown",
   "metadata": {},
   "source": [
    "# Lecture 24\n",
    "\n",
    "This lecture continues with a discussion of yield, selectivity, and optimization."
   ]
  },
  {
   "cell_type": "code",
   "execution_count": null,
   "metadata": {
    "executionInfo": {
     "elapsed": 126,
     "status": "ok",
     "timestamp": 1633700692097,
     "user": {
      "displayName": "Bowei Liu",
      "photoUrl": "https://lh3.googleusercontent.com/a/default-user=s64",
      "userId": "09481582047933696573"
     },
     "user_tz": 240
    },
    "id": "h9UTaC1vBEif"
   },
   "outputs": [],
   "source": [
    "import numpy as np\n",
    "import matplotlib.pyplot as plt\n",
    "import scipy.optimize as opt\n",
    "from scipy.integrate import solve_ivp\n",
    "from scipy.interpolate import interp1d"
   ]
  },
  {
   "cell_type": "markdown",
   "metadata": {},
   "source": [
    "## Example Problem 01\n",
    "\n",
    "**This is a slightly modified version of Example 8.4 from Fogler**\n",
    "\n",
    "The following pair of liquid-phase reactions occur in series. Each reaction is first order in its reactant.\n",
    "\n",
    "\\begin{align}\n",
    "    A &\\longrightarrow B\\\\\n",
    "    B &\\longrightarrow C \\\\\n",
    "\\end{align}\n",
    "\n",
    "By \"series\" or \"sequential\" reactions we mean that a product of the first reaction is a reactant in a second reaction, and so on. These are very common systems in Chemical Reaction Engineering -- especially in the petrochemical industry, where we often make reactive things from inert alkanes.  Quite often, the reactive things we make then react away to form things we don't want.  Selectivity control in series reactions requires careful attention to operating conditions and reaction times (space times for flow reactors).\n",
    "\n",
    "You carry out these reactions in a CSTR operating at steady state.  You may assume the density of the fluid does not change with reaction and so the inlet volumetric flowrate is equal to the outlet volumetric flowrate.  You have the following data available:\n",
    "\n",
    "\\begin{align}\n",
    "    k_1 &= 0.5 \\ \\textrm{h}^{-1} \\\\\n",
    "    k_2 &= 0.2 \\ \\textrm{h}^{-1} \\\\\n",
    "    C_{Af} &= 20 \\ \\textrm{mol} \\ \\textrm{L}^{-1}\n",
    "\\end{align} \n",
    "\n",
    "Find the space time required to maximize the **yield** of B (with respect to A) in this CSTR."
   ]
  },
  {
   "cell_type": "code",
   "execution_count": null,
   "metadata": {},
   "outputs": [],
   "source": [
    "# k1 = 0.5 #1/h\n",
    "# k2 = 0.2 #1/h\n",
    "# CAf = 20 #mol/L\n",
    "\n",
    "# CA = lambda tau: CAf/(1 + k1*tau)\n",
    "# CB = lambda tau: k1*CAf*tau/(1+k1*tau)/(1+k2*tau)\n",
    "# CC = lambda tau: k1*k2*CAf*tau**2/(1+k1*tau)/(1+k2*tau)"
   ]
  },
  {
   "cell_type": "code",
   "execution_count": null,
   "metadata": {},
   "outputs": [],
   "source": [
    "# tauset = np.linspace(0, 30, 200)\n",
    "# plt.plot(tauset, CA(tauset), label = 'CA')\n",
    "# plt.plot(tauset, CB(tauset), label = 'CB')\n",
    "# plt.plot(tauset, CC(tauset), label = 'CC')\n",
    "# plt.title('Species concentration vs. CSTR space time', fontsize = 14)\n",
    "# plt.xlabel('tau (h)', fontsize = 14)\n",
    "# plt.ylabel('Concentration (mol/L)', fontsize = 14)\n",
    "# plt.xlim(0, max(tauset))\n",
    "# plt.ylim(0, 20)\n",
    "# plt.legend()\n",
    "# plt.show()"
   ]
  },
  {
   "cell_type": "code",
   "execution_count": null,
   "metadata": {},
   "outputs": [],
   "source": [
    "# YB = lambda tau: CB(tau)/CAf\n",
    "# YC = lambda tau: CC(tau)/CAf\n",
    "# SB = lambda tau: CB(tau)/(CAf - CA(tau))\n",
    "# SC = lambda tau: CC(tau)/(CAf - CA(tau))\n",
    "# XA = lambda tau: (CAf - CA(tau))/CAf"
   ]
  },
  {
   "cell_type": "code",
   "execution_count": null,
   "metadata": {},
   "outputs": [],
   "source": [
    "#This just prints out the first few selectivities to show the NAN (\"not a number\") error\n",
    "#print(np.array([SB(tauset)[0:5], SC(tauset)[0:5]]).T) \n",
    "\n",
    "# plt.figure(1)\n",
    "# plt.plot(tauset, XA(tauset), label = 'Conversion of A')\n",
    "# plt.plot(tauset, SB(tauset), label = 'Selectivity to B')\n",
    "# plt.plot(tauset, SC(tauset), label = 'Selectivity to C')\n",
    "# plt.xlabel('Space time (h)', fontsize = 14)\n",
    "# plt.ylabel('Conversion/Selectivity', fontsize = 14)\n",
    "# plt.xlim(0,30)\n",
    "# plt.xticks(fontsize = 11)\n",
    "# plt.ylim(0,1)\n",
    "# plt.yticks(fontsize = 11)\n",
    "# plt.legend()\n",
    "# plt.show(1)\n",
    "\n",
    "# plt.figure(2)\n",
    "# plt.plot(tauset, XA(tauset), label = 'Conversion of A')\n",
    "# plt.plot(tauset, YB(tauset), label = 'Yield to B')\n",
    "# plt.plot(tauset, YC(tauset), label = 'Yield to C')\n",
    "# plt.xlabel('Space time (h)', fontsize = 14)\n",
    "# plt.ylabel('Conversion/Yield', fontsize = 14)\n",
    "# plt.xlim(0,30)\n",
    "# plt.xticks(fontsize = 11)\n",
    "# plt.ylim(0,1)\n",
    "# plt.yticks(fontsize = 11)\n",
    "# plt.legend()\n",
    "# plt.show(2)"
   ]
  },
  {
   "cell_type": "code",
   "execution_count": null,
   "metadata": {},
   "outputs": [],
   "source": [
    "# obj    = lambda tau: -1*YB(tau) #this objective function returns -1*YB for a given value of tau\n",
    "# optsol = opt.minimize_scalar(obj) #this varies tau until we hit minimum value of -1*YB\n",
    "# print(optsol, '\\n')\n",
    "\n",
    "# print(f'The maximum yield to species B is {-1*optsol.fun:3.2f} which occurs at a space time of {optsol.x:3.2f} hours')"
   ]
  },
  {
   "cell_type": "markdown",
   "metadata": {},
   "source": [
    "## Example Problem 02\n",
    "\n",
    "**This is a slightly modified version of Example 8.5 from Fogler**\n",
    "\t\t\t\n",
    "The gas-phase reactions given below are carried out in an isobaric (constant pressure) Packed Bed Reactor\n",
    "\n",
    "\\begin{align}\n",
    "    A + 2B &\\longrightarrow C\\\\\n",
    "    2A + 3C &\\longrightarrow D\n",
    "\\end{align}\n",
    "\n",
    "Both reactions follow elementary rate laws (though neither reaction is truly an elementary reaction). \n",
    "\n",
    "We have the following data available:\n",
    "\n",
    "\\begin{align}\n",
    "    k_1 &= 100 \\ \\textrm{L}^{3} \\ \\textrm{mol}^{-2} \\ \\textrm{kg}^{-1} \\ \\textrm{min}^{-1} \\\\\n",
    "    k_2 &= 500 \\ \\textrm{L}^{5} \\ \\textrm{mol}^{-4} \\ \\textrm{kg}^{-1} \\ \\textrm{min}^{-1} \\\\\n",
    "    C_{T,f} &= 0.2 \\ \\textrm{mol} \\ \\textrm{L}^{-1}\\\\\n",
    "    T &= 573 \\ \\textrm{K}\\\\\n",
    "    F_{Af} &= 10 \\ \\textrm{mol} \\ \\textrm{min}^{-1}\\\\\n",
    "    F_{Bf} &= 10 \\ \\textrm{mol} \\ \\textrm{min}^{-1}\\\\\n",
    "\\end{align} \n",
    "\n",
    "1. plot $X_A$, $Y_{C/A}$, $Y_{D/A}$, $S_{C/A}$, and $S_{D/A}$ as a function of catalyst mass (up to 1000kg of catalyst).\n",
    "\n",
    "2. what catalyst mass would you recommend in order to maximize the *selectivity* toward C in this reactor?  \n",
    "\n",
    "3. what catalyst mass would you recommend in order to maximize the *yield* of C in this reactor?"
   ]
  },
  {
   "cell_type": "code",
   "execution_count": null,
   "metadata": {},
   "outputs": [],
   "source": [
    "# def P02(W, var):\n",
    "#     FA, FB, FC, FD = var\n",
    "#     FT = FA + FB + FC + FD\n",
    "    \n",
    "#     k1  = 100 #L^3/mol^2/kg/min\n",
    "#     k2  = 500 #L^5/mol^4/kg/min    \n",
    "#     CAf = 0.2 #mol/L\n",
    "#     T   = 573 #K\n",
    "#     R   = 0.08206 #L*atm/mol/K\n",
    "#     P   = CAf*R*T\n",
    "#     Q   = FT*R*T/P\n",
    "    \n",
    "#     CA  = FA/Q\n",
    "#     CB  = FB/Q\n",
    "#     CC  = FC/Q\n",
    "    \n",
    "#     r1  = k1*CA*CB**2\n",
    "#     r2  = k2*CA**2*CC**3\n",
    "    \n",
    "#     RA  = -r1 -2*r2\n",
    "#     RB  = -2*r1\n",
    "#     RC  = r1 - 3*r2\n",
    "#     RD  = r2\n",
    "    \n",
    "#     return [RA, RB, RC, RD]    "
   ]
  },
  {
   "cell_type": "code",
   "execution_count": null,
   "metadata": {},
   "outputs": [],
   "source": [
    "# FAf = 10 #mol/min\n",
    "# FBf = 10 #mol/min\n",
    "# FCf = 0  #mol/min\n",
    "# FDf = 0  #mol/min\n",
    "\n",
    "# var0 = [FAf, FBf, FCf, FDf]\n",
    "\n",
    "# Wspan = (0, 1000) #kg catalyst\n",
    "\n",
    "# answer = solve_ivp(P02, Wspan, var0, atol = 1e-10, rtol = 1e-10)\n",
    "\n",
    "# W  = answer.t\n",
    "# FA = answer.y[0]\n",
    "# FB = answer.y[1]\n",
    "# FC = answer.y[2]\n",
    "# FD = answer.y[3]\n",
    "\n",
    "# XA  = (FAf - FA)/FAf\n",
    "\n",
    "# SCA = FC/(FAf - FA)\n",
    "# SDA = 5*FD/(FAf - FA)\n",
    "\n",
    "# YCA = FC/FAf\n",
    "# YDA = 5*FD/FAf"
   ]
  },
  {
   "cell_type": "code",
   "execution_count": null,
   "metadata": {},
   "outputs": [],
   "source": [
    "\n",
    "# plt.figure(1)\n",
    "# plt.plot(W, XA, label = 'Conversion of A')\n",
    "# plt.xlim(0, 1000)\n",
    "# plt.ylim(0, 1)\n",
    "# plt.xlabel('Mass of Catalyst (kg)', fontsize = 14)\n",
    "# plt.xticks(fontsize = 11)\n",
    "# plt.ylabel('Conversion', fontsize = 14)\n",
    "# plt.yticks(fontsize = 11)\n",
    "# plt.legend()\n",
    "\n",
    "# plt.figure(2)\n",
    "# plt.plot(W, SCA, label = 'Selectivity to C')\n",
    "# plt.plot(W, SDA, label = 'Selectivity to D')\n",
    "# plt.xlim(0, 1000)\n",
    "# plt.ylim(0, 1)\n",
    "# plt.xlabel('Mass of Catalyst (kg)', fontsize = 14)\n",
    "# plt.xticks(fontsize = 11)\n",
    "# plt.ylabel('Selectivity', fontsize = 14)\n",
    "# plt.yticks(fontsize = 11)\n",
    "# plt.legend()\n",
    "\n",
    "# plt.figure(3)\n",
    "# plt.plot(W, YCA, label = 'Yield to C')\n",
    "# plt.plot(W, YDA, label = 'Yield to D')\n",
    "# plt.xlim(0, 1000)\n",
    "# plt.ylim(0, 1)\n",
    "# plt.xlabel('Mass of Catalyst (kg)', fontsize = 14)\n",
    "# plt.xticks(fontsize = 11)\n",
    "# plt.ylabel('Yield', fontsize = 14)\n",
    "# plt.yticks(fontsize = 11)\n",
    "# plt.legend()\n",
    "# plt.show()"
   ]
  },
  {
   "cell_type": "code",
   "execution_count": null,
   "metadata": {},
   "outputs": [],
   "source": [
    "# YIELD   = interp1d(W, YCA)  #This gives me yield as a continuous function of W\n",
    "# OBJ     = lambda W: YIELD(W)*-1  #I want to minimize negative yield.\n",
    "# answer2 = opt.minimize_scalar(OBJ)\n",
    "# W_opt   = answer2.x\n",
    "\n",
    "# print(f'The maximum yield of C is {YIELD(W_opt):0.2f} at a catalyst loading of {W_opt:0.0f}kg')"
   ]
  }
 ],
 "metadata": {
  "colab": {
   "authorship_tag": "ABX9TyP0ZJPj0jWZ7tx7s+T6+2CS",
   "name": "P14.ipynb",
   "provenance": []
  },
  "kernelspec": {
   "display_name": "Python 3 (ipykernel)",
   "language": "python",
   "name": "python3"
  },
  "language_info": {
   "codemirror_mode": {
    "name": "ipython",
    "version": 3
   },
   "file_extension": ".py",
   "mimetype": "text/x-python",
   "name": "python",
   "nbconvert_exporter": "python",
   "pygments_lexer": "ipython3",
   "version": "3.9.13"
  }
 },
 "nbformat": 4,
 "nbformat_minor": 1
}
